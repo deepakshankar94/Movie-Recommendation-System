{
 "cells": [
  {
   "cell_type": "code",
   "execution_count": 223,
   "metadata": {},
   "outputs": [],
   "source": [
    "import pandas as pd\n",
    "import numpy as np\n",
    "import torch\n",
    "\n",
    "from collections import namedtuple\n",
    "from itertools import chain\n",
    "from sklearn.preprocessing import StandardScaler\n",
    "from sklearn.model_selection import train_test_split\n",
    "from sklearn.metrics import mean_absolute_error, mean_squared_error\n",
    "\n",
    "import torch.autograd as autograd\n",
    "import torch.nn as nn\n",
    "import torch.nn.functional as F\n",
    "import torch.optim as optim\n",
    "from torch.autograd import Variable\n",
    "from torch.utils.data import Dataset, DataLoader\n",
    "\n",
    "import matplotlib.pyplot as plt\n",
    "%matplotlib inline"
   ]
  },
  {
   "cell_type": "code",
   "execution_count": 172,
   "metadata": {},
   "outputs": [],
   "source": [
    "#Load data\n",
    "path = \"../data/\"\n",
    "\n",
    "#Ratings\n",
    "ratings = pd.read_csv(path+'ratings.dat', sep='::', header=None, engine='python')\n",
    "ratings.columns = ['userId','movieId','rating','timestamp']\n",
    "\n",
    "\n",
    "#Movies\n",
    "movies = pd.read_csv(path+'movies.dat', sep='::', header=None, engine='python')\n",
    "movies.columns = ['movieId','title','genres']\n",
    "\n",
    "#Users\n",
    "users = pd.read_csv(path+'users.dat', sep='::', header=None, engine='python')\n",
    "users.columns = ['userId','gender','age','occupation','zipCode']"
   ]
  },
  {
   "cell_type": "code",
   "execution_count": 173,
   "metadata": {},
   "outputs": [
    {
     "name": "stdout",
     "output_type": "stream",
     "text": [
      "Duplicated rows in ratings file: 0\n",
      "Number of users: 6040\n",
      "Number of movies: 3706\n",
      "Sparsity: 4.468%\n"
     ]
    }
   ],
   "source": [
    "#Data quality\n",
    "print('Duplicated rows in ratings file: ' + str(ratings.duplicated().sum()))\n",
    "\n",
    "n_users = ratings.userId.unique().shape[0]\n",
    "n_movies = ratings.movieId.unique().shape[0]\n",
    "\n",
    "print('Number of users: {}'.format(n_users))\n",
    "print('Number of movies: {}'.format(n_movies))\n",
    "print('Sparsity: {:4.3f}%'.format(float(ratings.shape[0]) / float(n_users*n_movies) * 100))"
   ]
  },
  {
   "cell_type": "markdown",
   "metadata": {},
   "source": [
    "## preprocessing to get the data ready"
   ]
  },
  {
   "cell_type": "code",
   "execution_count": 174,
   "metadata": {},
   "outputs": [],
   "source": [
    "#drop the timestamp\n",
    "ratings = ratings.drop('timestamp', axis=1)"
   ]
  },
  {
   "cell_type": "code",
   "execution_count": 175,
   "metadata": {},
   "outputs": [],
   "source": [
    "movies['genres'] = movies.apply(lambda row : row['genres'].split(\"|\")[0],axis=1)"
   ]
  },
  {
   "cell_type": "code",
   "execution_count": 176,
   "metadata": {},
   "outputs": [],
   "source": [
    "#create a movie year column\n",
    "movies['movie_year'] = movies.apply(lambda row : int(row['title'].split(\"(\")[-1][:-1]),axis=1)"
   ]
  },
  {
   "cell_type": "code",
   "execution_count": 177,
   "metadata": {},
   "outputs": [],
   "source": [
    "#drop the title column\n",
    "movies.drop(['title'],axis=1,inplace=True)"
   ]
  },
  {
   "cell_type": "code",
   "execution_count": 178,
   "metadata": {},
   "outputs": [],
   "source": [
    "rating_movie = pd.merge(ratings,movies,how='left',on=\"movieId\")"
   ]
  },
  {
   "cell_type": "code",
   "execution_count": 179,
   "metadata": {},
   "outputs": [],
   "source": [
    "#replace gender values with 0,1\n",
    "users['gender'].replace({'F':0,'M':1},inplace=True)"
   ]
  },
  {
   "cell_type": "code",
   "execution_count": 180,
   "metadata": {},
   "outputs": [],
   "source": [
    "#replace age with an ordered list for the age\n",
    "users['age'].replace({1:0,18:1, 25:2, 35:3, 45:4, 50:5, 56:6 },inplace=True)"
   ]
  },
  {
   "cell_type": "code",
   "execution_count": 181,
   "metadata": {},
   "outputs": [],
   "source": [
    "#one got encode the zipcode column \n",
    "#users = pd.get_dummies(users,prefix=['zipcode'],columns=[\"zipCode\"],drop_first=True)\n",
    "users.drop(['zipCode'],axis=1,inplace=True)"
   ]
  },
  {
   "cell_type": "code",
   "execution_count": 182,
   "metadata": {},
   "outputs": [],
   "source": [
    "final_df = pd.merge(rating_movie,users,how='left',on='userId')"
   ]
  },
  {
   "cell_type": "code",
   "execution_count": 183,
   "metadata": {},
   "outputs": [
    {
     "data": {
      "text/html": [
       "<div>\n",
       "<style scoped>\n",
       "    .dataframe tbody tr th:only-of-type {\n",
       "        vertical-align: middle;\n",
       "    }\n",
       "\n",
       "    .dataframe tbody tr th {\n",
       "        vertical-align: top;\n",
       "    }\n",
       "\n",
       "    .dataframe thead th {\n",
       "        text-align: right;\n",
       "    }\n",
       "</style>\n",
       "<table border=\"1\" class=\"dataframe\">\n",
       "  <thead>\n",
       "    <tr style=\"text-align: right;\">\n",
       "      <th></th>\n",
       "      <th>userId</th>\n",
       "      <th>movieId</th>\n",
       "      <th>rating</th>\n",
       "      <th>genres</th>\n",
       "      <th>movie_year</th>\n",
       "      <th>gender</th>\n",
       "      <th>age</th>\n",
       "      <th>occupation</th>\n",
       "    </tr>\n",
       "  </thead>\n",
       "  <tbody>\n",
       "    <tr>\n",
       "      <th>0</th>\n",
       "      <td>1</td>\n",
       "      <td>1193</td>\n",
       "      <td>5</td>\n",
       "      <td>Drama</td>\n",
       "      <td>1975</td>\n",
       "      <td>0</td>\n",
       "      <td>0</td>\n",
       "      <td>10</td>\n",
       "    </tr>\n",
       "    <tr>\n",
       "      <th>1</th>\n",
       "      <td>1</td>\n",
       "      <td>661</td>\n",
       "      <td>3</td>\n",
       "      <td>Animation</td>\n",
       "      <td>1996</td>\n",
       "      <td>0</td>\n",
       "      <td>0</td>\n",
       "      <td>10</td>\n",
       "    </tr>\n",
       "    <tr>\n",
       "      <th>2</th>\n",
       "      <td>1</td>\n",
       "      <td>914</td>\n",
       "      <td>3</td>\n",
       "      <td>Musical</td>\n",
       "      <td>1964</td>\n",
       "      <td>0</td>\n",
       "      <td>0</td>\n",
       "      <td>10</td>\n",
       "    </tr>\n",
       "    <tr>\n",
       "      <th>3</th>\n",
       "      <td>1</td>\n",
       "      <td>3408</td>\n",
       "      <td>4</td>\n",
       "      <td>Drama</td>\n",
       "      <td>2000</td>\n",
       "      <td>0</td>\n",
       "      <td>0</td>\n",
       "      <td>10</td>\n",
       "    </tr>\n",
       "    <tr>\n",
       "      <th>4</th>\n",
       "      <td>1</td>\n",
       "      <td>2355</td>\n",
       "      <td>5</td>\n",
       "      <td>Animation</td>\n",
       "      <td>1998</td>\n",
       "      <td>0</td>\n",
       "      <td>0</td>\n",
       "      <td>10</td>\n",
       "    </tr>\n",
       "  </tbody>\n",
       "</table>\n",
       "</div>"
      ],
      "text/plain": [
       "   userId  movieId  rating     genres  movie_year  gender  age  occupation\n",
       "0       1     1193       5      Drama        1975       0    0          10\n",
       "1       1      661       3  Animation        1996       0    0          10\n",
       "2       1      914       3    Musical        1964       0    0          10\n",
       "3       1     3408       4      Drama        2000       0    0          10\n",
       "4       1     2355       5  Animation        1998       0    0          10"
      ]
     },
     "execution_count": 183,
     "metadata": {},
     "output_type": "execute_result"
    }
   ],
   "source": [
    "final_df.head()"
   ]
  },
  {
   "cell_type": "code",
   "execution_count": 184,
   "metadata": {},
   "outputs": [],
   "source": [
    "def encoder(df, cols=None):\n",
    "    if cols == None:\n",
    "        cols = list(df.select_dtypes(include=['object']).columns)\n",
    "\n",
    "    val_types = dict()\n",
    "    for c in cols:\n",
    "        val_types[c] = df[c].unique()\n",
    "\n",
    "    val_to_idx = dict()\n",
    "    for k, v in val_types.items():\n",
    "        val_to_idx[k] = {o: i for i, o in enumerate(val_types[k])}\n",
    "\n",
    "    for k, v in val_to_idx.items():\n",
    "        df[k] = df[k].apply(lambda x: v[x])\n",
    "\n",
    "    return val_to_idx, df"
   ]
  },
  {
   "cell_type": "code",
   "execution_count": 185,
   "metadata": {},
   "outputs": [],
   "source": [
    "#function used to break the data into test and train sets and make embedding of the data\n",
    "def data_processing(df, wide_cols, embeddings_cols, continuous_cols, target,\n",
    "    scale=False, def_dim=8):\n",
    "\n",
    "\n",
    "    if type(embeddings_cols[0]) is tuple:\n",
    "        emb_dim = dict(embeddings_cols)\n",
    "        embeddings_cols = [emb[0] for emb in embeddings_cols]\n",
    "    else:\n",
    "        emb_dim = {e:def_dim for e in embeddings_cols}\n",
    "    deep_cols = embeddings_cols+continuous_cols\n",
    "\n",
    "    # Extract the target and copy the dataframe so we don't mutate it\n",
    "    # internally.\n",
    "    Y = np.array(df[target])\n",
    "    all_columns = list(set(wide_cols + deep_cols ))\n",
    "    df_tmp = df.copy()[all_columns]\n",
    "\n",
    "\n",
    "    # Extract the categorical column names that can be one hot encoded later\n",
    "    categorical_columns = list(df_tmp.select_dtypes(include=['object']).columns)\n",
    "\n",
    "    \n",
    "    encoding_dict,df_tmp = encoder(df_tmp)\n",
    "    encoding_dict = {k:encoding_dict[k] for k in encoding_dict if k in deep_cols}\n",
    "    embeddings_input = []\n",
    "    for k,v in encoding_dict.items():\n",
    "        embeddings_input.append((k, len(v), emb_dim[k]))\n",
    "\n",
    "    df_deep = df_tmp[deep_cols]\n",
    "    deep_column_idx = {k:v for v,k in enumerate(df_deep.columns)}\n",
    "\n",
    "\n",
    "    if scale:\n",
    "        scaler = StandardScaler()\n",
    "        for cc in continuous_cols:\n",
    "            df_deep[cc]  = scaler.fit_transform(df_deep[cc].values.reshape(-1,1))\n",
    "\n",
    "    df_wide = df_tmp[wide_cols]\n",
    "    del(df_tmp)\n",
    "    dummy_cols = [c for c in wide_cols if c in categorical_columns]\n",
    "    df_wide = pd.get_dummies(df_wide, columns=dummy_cols)\n",
    "\n",
    "    X_train_deep, X_test_deep = train_test_split(df_deep.values, test_size=0.3, random_state=1463)\n",
    "    X_train_wide, X_test_wide = train_test_split(df_wide.values, test_size=0.3, random_state=1463)\n",
    "    y_train, y_test = train_test_split(Y, test_size=0.3, random_state=1981)\n",
    "\n",
    "    group_dataset = dict()\n",
    "    train_dataset = namedtuple('train_dataset', 'wide, deep, labels')\n",
    "    test_dataset  = namedtuple('test_dataset' , 'wide, deep, labels')\n",
    "    group_dataset['train_dataset'] = train_dataset(X_train_wide, X_train_deep, y_train)\n",
    "    group_dataset['test_dataset']  = test_dataset(X_test_wide, X_test_deep, y_test)\n",
    "    group_dataset['embeddings_input']  = embeddings_input\n",
    "    group_dataset['deep_column_idx'] = deep_column_idx\n",
    "    group_dataset['encoding_dict'] = encoding_dict\n",
    "\n",
    "    return group_dataset\n"
   ]
  },
  {
   "cell_type": "code",
   "execution_count": 189,
   "metadata": {},
   "outputs": [],
   "source": [
    "#settings for the data\n",
    "wide_cols = ['movie_year','gender','age', 'occupation','genres','userId','movieId']\n",
    "embeddings_cols = [('genres',20), ('userId',100), ('movieId',100)]\n",
    "crossed_cols = ()\n",
    "continuous_cols = [\"movie_year\",\"gender\",\"age\",\"occupation\"]\n",
    "target = 'rating'"
   ]
  },
  {
   "cell_type": "code",
   "execution_count": 190,
   "metadata": {},
   "outputs": [
    {
     "name": "stderr",
     "output_type": "stream",
     "text": [
      "/home/roxor/bin/anaconda3/lib/python3.6/site-packages/sklearn/utils/validation.py:475: DataConversionWarning: Data with input dtype int64 was converted to float64 by StandardScaler.\n",
      "  warnings.warn(msg, DataConversionWarning)\n"
     ]
    }
   ],
   "source": [
    "#split the data and generate the embeddings\n",
    "data_processed = data_processing(\n",
    "        final_df, wide_cols,\n",
    "        embeddings_cols,\n",
    "        continuous_cols,\n",
    "        target,\n",
    "        scale=True)"
   ]
  },
  {
   "cell_type": "code",
   "execution_count": 192,
   "metadata": {},
   "outputs": [],
   "source": [
    "use_cuda = torch.cuda.is_available()\n",
    "\n",
    "#Loadthe dataset\n",
    "class DatasetLoader(Dataset):\n",
    "    def __init__(self, data):\n",
    "\n",
    "        self.X_wide = data.wide\n",
    "        self.X_deep = data.deep\n",
    "        self.Y = data.labels\n",
    "\n",
    "    def __getitem__(self, idx):\n",
    "\n",
    "        xw = self.X_wide[idx]\n",
    "        xd = self.X_deep[idx]\n",
    "        y  = self.Y[idx]\n",
    "\n",
    "        return xw, xd, y\n",
    "\n",
    "    def __len__(self):\n",
    "        return len(self.Y)\n"
   ]
  },
  {
   "cell_type": "code",
   "execution_count": 211,
   "metadata": {},
   "outputs": [],
   "source": [
    "\n",
    "#class defining the wide and deep neural network\n",
    "class NeuralNet(nn.Module):\n",
    "\n",
    "    def __init__(self,\n",
    "                 wide_dim,\n",
    "                 embeddings_input,\n",
    "                 continuous_cols,\n",
    "                 deep_column_idx,\n",
    "                 hidden_layers,\n",
    "                 dropout,\n",
    "                 encoding_dict,\n",
    "                 n_class):\n",
    "\n",
    "        super(NeuralNet, self).__init__()\n",
    "        self.wide_dim = wide_dim\n",
    "        self.deep_column_idx = deep_column_idx\n",
    "        self.embeddings_input = embeddings_input\n",
    "        self.continuous_cols = continuous_cols\n",
    "        self.hidden_layers = hidden_layers\n",
    "        self.dropout = dropout\n",
    "        self.encoding_dict = encoding_dict\n",
    "        self.n_class = n_class\n",
    "        self.loss_values=[]\n",
    "\n",
    "        # Build the embedding layers to be passed through the deep-side\n",
    "        for col,val,dim in self.embeddings_input:\n",
    "            setattr(self, 'emb_layer_'+col, nn.Embedding(val, dim))\n",
    "\n",
    "        # Build the deep-side hidden layers with dropout if specified\n",
    "        input_emb_dim = np.sum([emb[2] for emb in self.embeddings_input])\n",
    "        self.linear_1 = nn.Linear(input_emb_dim+len(continuous_cols), self.hidden_layers[0])\n",
    "        if self.dropout:\n",
    "            self.linear_1_drop = nn.Dropout(self.dropout[0])\n",
    "        for i,h in enumerate(self.hidden_layers[1:],1):\n",
    "            setattr(self, 'linear_'+str(i+1), nn.Linear( self.hidden_layers[i-1], self.hidden_layers[i] ))\n",
    "            if self.dropout:\n",
    "                setattr(self, 'linear_'+str(i+1)+'_drop', nn.Dropout(self.dropout[i]))\n",
    "\n",
    "        # Connect the wide- and dee-side of the model to the output neuron(s)\n",
    "        self.output = nn.Linear(self.hidden_layers[-1]+self.wide_dim, self.n_class)\n",
    "\n",
    "\n",
    "    def compile(self, optimizer=\"Adam\", learning_rate=0.001, momentum=0.0):\n",
    "        \n",
    "        self.activation, self.criterion = None, F.mse_loss\n",
    "\n",
    "        if optimizer == \"Adam\":\n",
    "            self.optimizer = torch.optim.Adam(self.parameters(), lr=learning_rate)\n",
    "        if optimizer == \"RMSprop\":\n",
    "            self.optimizer = torch.optim.RMSprop(self.parameters(), lr=learning_rate)\n",
    "        if optimizer == \"SGD\":\n",
    "            self.optimizer = torch.optim.SGD(self.parameters(), lr=learning_rate, momentum=momentum)\n",
    "\n",
    "        self.method = 'regression'\n",
    "\n",
    "\n",
    "    def forward(self, X_w, X_d):\n",
    "\n",
    "        # Deep Side\n",
    "        emb = [getattr(self, 'emb_layer_'+col)(X_d[:,self.deep_column_idx[col]].long())\n",
    "               for col,_,_ in self.embeddings_input]\n",
    "        if self.continuous_cols:\n",
    "            cont_idx = [self.deep_column_idx[col] for col in self.continuous_cols]\n",
    "            cont = [X_d[:, cont_idx].float()]\n",
    "            deep_inp = torch.cat(emb+cont, 1)\n",
    "        else:\n",
    "            deep_inp = torch.cat(emb, 1)\n",
    "\n",
    "        x_deep = F.relu(self.linear_1(deep_inp))\n",
    "        if self.dropout:\n",
    "            x_deep = self.linear_1_drop(x_deep)\n",
    "        for i in range(1,len(self.hidden_layers)):\n",
    "            x_deep = F.relu( getattr(self, 'linear_'+str(i+1))(x_deep) )\n",
    "            if self.dropout:\n",
    "                x_deep = getattr(self, 'linear_'+str(i+1)+'_drop')(x_deep)\n",
    "\n",
    "        # Deep + Wide sides\n",
    "        wide_deep_input = torch.cat([x_deep, X_w.float()], 1)\n",
    "\n",
    "        if not self.activation:\n",
    "            out = self.output(wide_deep_input)\n",
    "        else:\n",
    "            out = self.activation(self.output(wide_deep_input))\n",
    "\n",
    "        return out\n",
    "\n",
    "\n",
    "    def fit(self, dataset, n_epochs, batch_size):\n",
    "\n",
    "        widedeep_dataset = DatasetLoader(dataset)\n",
    "        train_loader = torch.utils.data.DataLoader(dataset=widedeep_dataset,\n",
    "                                                   batch_size=batch_size,\n",
    "                                                   shuffle=True)\n",
    "\n",
    "        # set the model in training mode\n",
    "        net = self.train()\n",
    "        for epoch in range(n_epochs):\n",
    "            total=0\n",
    "            correct=0\n",
    "            for i, (X_wide, X_deep, target) in enumerate(train_loader):\n",
    "                X_w = Variable(X_wide)\n",
    "                X_d = Variable(X_deep)\n",
    "                y = (Variable(target).float() if self.method != 'multiclass' else Variable(target))\n",
    "\n",
    "                if use_cuda:\n",
    "                    X_w, X_d, y = X_w.cuda(), X_d.cuda(), y.cuda()\n",
    "\n",
    "                self.optimizer.zero_grad()\n",
    "                y_pred =  net(X_w, X_d)\n",
    "                y_pred = torch.squeeze(y_pred)\n",
    "                loss = self.criterion(y_pred, y)\n",
    "                loss.backward()\n",
    "                self.optimizer.step()\n",
    "\n",
    "                if self.method != \"regression\":\n",
    "                    total+= y.size(0)\n",
    "                    if self.method == 'logistic':\n",
    "                        y_pred_cat = (y_pred > 0.5).squeeze(1).float()\n",
    "                    if self.method == \"multiclass\":\n",
    "                        _, y_pred_cat = torch.max(y_pred, 1)\n",
    "                    correct+= float((y_pred_cat == y).sum().data[0])\n",
    "            self.loss_values.append(loss.item())\n",
    "            print ('Epoch {} of {}, Loss: {}'.format(epoch+1, n_epochs,\n",
    "                    round(loss.item(),3)))\n",
    "\n",
    "\n",
    "    def predict(self, dataset):\n",
    "\n",
    "\n",
    "        X_w = Variable(torch.from_numpy(dataset.wide)).float()\n",
    "        X_d = Variable(torch.from_numpy(dataset.deep))\n",
    "\n",
    "        if use_cuda:\n",
    "            X_w, X_d = X_w.cuda(), X_d.cuda()\n",
    "\n",
    "        # set the model in evaluation mode so dropout is not applied\n",
    "        net = self.eval()\n",
    "        pred = net(X_w,X_d).cpu()\n",
    "        if self.method == \"regression\":\n",
    "            return pred.squeeze(1).data.numpy()\n",
    "        if self.method == \"logistic\":\n",
    "            return (pred > 0.5).squeeze(1).data.numpy()\n",
    "        if self.method == \"multiclass\":\n",
    "            _, pred_cat = torch.max(pred, 1)\n",
    "            return pred_cat.data.numpy()\n",
    "\n",
    "\n",
    " \n",
    "\n",
    "    def get_embeddings(self, col_name):\n",
    "        params = list(self.named_parameters())\n",
    "        emb_layers = [p for p in params if 'emb_layer' in p[0]]\n",
    "        emb_layer  = [layer for layer in emb_layers if col_name in layer[0]][0]\n",
    "        embeddings = emb_layer[1].cpu().data.numpy()\n",
    "        col_label_encoding = self.encoding_dict[col_name]\n",
    "        inv_dict = {v:k for k,v in col_label_encoding.items()}\n",
    "        embeddings_dict = {}\n",
    "        for idx,value in inv_dict.items():\n",
    "            embeddings_dict[value] = embeddings[idx]\n",
    "\n",
    "        return embeddings_dict"
   ]
  },
  {
   "cell_type": "code",
   "execution_count": 212,
   "metadata": {},
   "outputs": [],
   "source": [
    "# Network set up\n",
    "wide_dim = data_processed['train_dataset'].wide.shape[1]\n",
    "n_unique = len(np.unique(data_processed['train_dataset'].labels))\n",
    "n_class = 1\n",
    "\n",
    "deep_column_idx = data_processed['deep_column_idx']\n",
    "embeddings_input= data_processed['embeddings_input']\n",
    "encoding_dict   = data_processed['encoding_dict']\n",
    "hidden_layers = [100,50]\n",
    "dropout = [0.5,0.2]\n"
   ]
  },
  {
   "cell_type": "code",
   "execution_count": 213,
   "metadata": {},
   "outputs": [],
   "source": [
    "use_cuda = torch.cuda.is_available()\n",
    "\n",
    "model = NeuralNet(\n",
    "    wide_dim,\n",
    "    embeddings_input,\n",
    "    continuous_cols,\n",
    "    deep_column_idx,\n",
    "    hidden_layers,\n",
    "    dropout,\n",
    "    encoding_dict,\n",
    "    n_class)\n",
    "model.compile(optimizer='Adam')\n",
    "if use_cuda:\n",
    "    model = model.cuda()"
   ]
  },
  {
   "cell_type": "code",
   "execution_count": 214,
   "metadata": {},
   "outputs": [
    {
     "name": "stdout",
     "output_type": "stream",
     "text": [
      "Epoch 1 of 5, Loss: 1.025\n",
      "Epoch 2 of 5, Loss: 3.416\n",
      "Epoch 3 of 5, Loss: 0.428\n",
      "Epoch 4 of 5, Loss: 1.753\n",
      "Epoch 5 of 5, Loss: 1.596\n"
     ]
    }
   ],
   "source": [
    "#train the model\n",
    "train_dataset = data_processed['train_dataset']\n",
    "model.fit(dataset=train_dataset, n_epochs=5, batch_size=60)"
   ]
  },
  {
   "cell_type": "code",
   "execution_count": 215,
   "metadata": {},
   "outputs": [],
   "source": [
    "test_dataset  = data_processed['test_dataset']"
   ]
  },
  {
   "cell_type": "code",
   "execution_count": 216,
   "metadata": {},
   "outputs": [],
   "source": [
    "y_pred = model.predict(dataset=test_dataset)"
   ]
  },
  {
   "cell_type": "code",
   "execution_count": 217,
   "metadata": {},
   "outputs": [],
   "source": [
    "y = test_dataset.labels"
   ]
  },
  {
   "cell_type": "code",
   "execution_count": 219,
   "metadata": {},
   "outputs": [
    {
     "data": {
      "text/plain": [
       "2.433546222449907"
      ]
     },
     "execution_count": 219,
     "metadata": {},
     "output_type": "execute_result"
    }
   ],
   "source": [
    "#get the test MSE\n",
    "mean_squared_error(y_pred,y)"
   ]
  },
  {
   "cell_type": "code",
   "execution_count": 220,
   "metadata": {},
   "outputs": [
    {
     "data": {
      "text/plain": [
       "1.2152028025234123"
      ]
     },
     "execution_count": 220,
     "metadata": {},
     "output_type": "execute_result"
    }
   ],
   "source": [
    "#get the test MAE\n",
    "mean_absolute_error(y_pred,y)"
   ]
  },
  {
   "cell_type": "code",
   "execution_count": 226,
   "metadata": {},
   "outputs": [
    {
     "data": {
      "image/png": "[encoded data removed]",
      "text/plain": [
       "<Figure size 432x288 with 1 Axes>"
      ]
     },
     "metadata": {},
     "output_type": "display_data"
    }
   ],
   "source": [
    "#plt the train error of model\n",
    "plt.plot(model.loss_values)\n",
    "plt.ylabel('Train Error')\n",
    "plt.xlabel('epoch')\n",
    "plt.title(\"Train error for models initial settings\")\n",
    "plt.show()"
   ]
  },
  {
   "cell_type": "markdown",
   "metadata": {},
   "source": [
    "## hyperparameter tuning"
   ]
  },
  {
   "cell_type": "markdown",
   "metadata": {},
   "source": [
    "### for the gradient descent algorithm"
   ]
  },
  {
   "cell_type": "code",
   "execution_count": 227,
   "metadata": {},
   "outputs": [],
   "source": [
    "models = []\n",
    "methods = [\"Adam\",\"RMSprop\"]"
   ]
  },
  {
   "cell_type": "code",
   "execution_count": 228,
   "metadata": {},
   "outputs": [
    {
     "name": "stdout",
     "output_type": "stream",
     "text": [
      "Epoch 1 of 5, Loss: 0.715\n",
      "Epoch 2 of 5, Loss: 1.09\n",
      "Epoch 3 of 5, Loss: 0.877\n",
      "Epoch 4 of 5, Loss: 1.614\n",
      "Epoch 5 of 5, Loss: 1.835\n",
      "Epoch 1 of 5, Loss: 10.65\n",
      "Epoch 2 of 5, Loss: 2.685\n",
      "Epoch 3 of 5, Loss: 7.214\n",
      "Epoch 4 of 5, Loss: 8.189\n",
      "Epoch 5 of 5, Loss: 8.036\n"
     ]
    }
   ],
   "source": [
    "for method in methods:\n",
    "    model = NeuralNet(\n",
    "        wide_dim,\n",
    "        embeddings_input,\n",
    "        continuous_cols,\n",
    "        deep_column_idx,\n",
    "        hidden_layers,\n",
    "        dropout,\n",
    "        encoding_dict,\n",
    "        n_class)\n",
    "    model.compile(optimizer=method)\n",
    "    if use_cuda:\n",
    "        model = model.cuda()\n",
    "    model.fit(dataset=train_dataset, n_epochs=5, batch_size=60)\n",
    "    models.append(model)"
   ]
  },
  {
   "cell_type": "code",
   "execution_count": 230,
   "metadata": {},
   "outputs": [
    {
     "data": {
      "image/png": "[encoded data removed]",
      "text/plain": [
       "<Figure size 432x288 with 1 Axes>"
      ]
     },
     "metadata": {},
     "output_type": "display_data"
    }
   ],
   "source": [
    "for model in models:\n",
    "    plt.plot(np.arange(5),model.loss_values)\n",
    "plt.ylabel('Train Error')\n",
    "plt.xlabel('epoch')\n",
    "\n",
    "plt.legend(methods, loc='upper left')\n",
    "plt.title(\"Train error for different GD algorithms\")\n",
    "plt.show()"
   ]
  },
  {
   "cell_type": "code",
   "execution_count": 234,
   "metadata": {},
   "outputs": [
    {
     "name": "stdout",
     "output_type": "stream",
     "text": [
      "for Adam (\n",
      "Parameter Group 0\n",
      "    amsgrad: False\n",
      "    betas: (0.9, 0.999)\n",
      "    eps: 1e-08\n",
      "    lr: 0.001\n",
      "    weight_decay: 0\n",
      ")\n",
      "test mean squared error: 3.8304705756688953\n",
      "test mean absolute error: 1.6774666215667928\n",
      "for RMSprop (\n",
      "Parameter Group 0\n",
      "    alpha: 0.99\n",
      "    centered: False\n",
      "    eps: 1e-08\n",
      "    lr: 0.001\n",
      "    momentum: 0\n",
      "    weight_decay: 0\n",
      ")\n",
      "test mean squared error: 14.301679812034216\n",
      "test mean absolute error: 3.4415117375038946\n"
     ]
    }
   ],
   "source": [
    "for model in models:\n",
    "    print(\"for \"+ str(model.optimizer))\n",
    "    y_pred = model.predict(dataset=test_dataset)\n",
    "    y = test_dataset.labels\n",
    "    print(\"test mean squared error: \"+str(mean_squared_error(y_pred,y)))\n",
    "    print(\"test mean absolute error: \"+ str(mean_absolute_error(y_pred,y)))"
   ]
  },
  {
   "cell_type": "markdown",
   "metadata": {},
   "source": [
    "### optimizing dropout values"
   ]
  },
  {
   "cell_type": "code",
   "execution_count": 239,
   "metadata": {},
   "outputs": [],
   "source": [
    "droupouts = [0,0.1,0.5]\n",
    "models_dropout=[]"
   ]
  },
  {
   "cell_type": "code",
   "execution_count": 240,
   "metadata": {},
   "outputs": [
    {
     "name": "stdout",
     "output_type": "stream",
     "text": [
      "Epoch 1 of 3, Loss: 0.686\n",
      "Epoch 2 of 3, Loss: 3.3\n",
      "Epoch 3 of 3, Loss: 1.797\n",
      "Epoch 1 of 3, Loss: 2.098\n",
      "Epoch 2 of 3, Loss: 0.771\n",
      "Epoch 3 of 3, Loss: 4.375\n",
      "Epoch 1 of 3, Loss: 1.159\n",
      "Epoch 2 of 3, Loss: 0.724\n",
      "Epoch 3 of 3, Loss: 1.163\n"
     ]
    }
   ],
   "source": [
    "for droupout in droupouts:\n",
    "    dropout = [droupout,droupout]\n",
    "    model = NeuralNet(\n",
    "        wide_dim,\n",
    "        embeddings_input,\n",
    "        continuous_cols,\n",
    "        deep_column_idx,\n",
    "        hidden_layers,\n",
    "        dropout,\n",
    "        encoding_dict,\n",
    "        n_class)\n",
    "    model.compile(optimizer=\"Adam\")\n",
    "    if use_cuda:\n",
    "        model = model.cuda()\n",
    "    model.fit(dataset=train_dataset, n_epochs=3, batch_size=60)\n",
    "    models_dropout.append(model)"
   ]
  },
  {
   "cell_type": "code",
   "execution_count": 246,
   "metadata": {},
   "outputs": [
    {
     "data": {
      "image/png": "[encoded data removed]",
      "text/plain": [
       "<Figure size 432x288 with 1 Axes>"
      ]
     },
     "metadata": {},
     "output_type": "display_data"
    }
   ],
   "source": [
    "for model in models_dropout:\n",
    "    plt.plot(np.arange(3),model.loss_values)\n",
    "plt.ylabel('Train Error')\n",
    "plt.xlabel('epoch')\n",
    "\n",
    "plt.legend(droupouts, loc='upper left')\n",
    "plt.title(\"Train error for different dropouts\")\n",
    "plt.show()"
   ]
  },
  {
   "cell_type": "code",
   "execution_count": 249,
   "metadata": {},
   "outputs": [
    {
     "name": "stdout",
     "output_type": "stream",
     "text": [
      "for drououts: [0, 0]\n",
      "test mean squared error: 1.327298705029263\n",
      "test mean absolute error: 0.9674445709737696\n",
      "for drououts: [0.1, 0.1]\n",
      "test mean squared error: 1.4589379506428217\n",
      "test mean absolute error: 1.003326960903818\n",
      "for drououts: [0.5, 0.5]\n",
      "test mean squared error: 1.3582297251538353\n",
      "test mean absolute error: 0.9704529255707942\n"
     ]
    }
   ],
   "source": [
    "for model in models_dropout:\n",
    "    print(\"for drououts: \"+ str(model.dropout))\n",
    "    y_pred = model.predict(dataset=test_dataset)\n",
    "    y = test_dataset.labels\n",
    "    print(\"test mean squared error: \"+str(mean_squared_error(y_pred,y)))\n",
    "    print(\"test mean absolute error: \"+ str(mean_absolute_error(y_pred,y)))"
   ]
  },
  {
   "cell_type": "markdown",
   "metadata": {},
   "source": [
    "## Evaluating the model with optimal hyperparameters"
   ]
  },
  {
   "cell_type": "code",
   "execution_count": 253,
   "metadata": {},
   "outputs": [
    {
     "name": "stdout",
     "output_type": "stream",
     "text": [
      "Epoch 1 of 10, Loss: 2.669\n",
      "Epoch 2 of 10, Loss: 0.893\n",
      "Epoch 3 of 10, Loss: 2.157\n",
      "Epoch 4 of 10, Loss: 1.586\n",
      "Epoch 5 of 10, Loss: 1.628\n",
      "Epoch 6 of 10, Loss: 1.359\n",
      "Epoch 7 of 10, Loss: 0.64\n",
      "Epoch 8 of 10, Loss: 2.361\n",
      "Epoch 9 of 10, Loss: 1.098\n",
      "Epoch 10 of 10, Loss: 2.597\n"
     ]
    }
   ],
   "source": [
    "dropout = [0.5,0.5]\n",
    "model = NeuralNet(\n",
    "    wide_dim,\n",
    "    embeddings_input,\n",
    "    continuous_cols,\n",
    "    deep_column_idx,\n",
    "    hidden_layers,\n",
    "    dropout,\n",
    "    encoding_dict,\n",
    "    n_class)\n",
    "model.compile(optimizer=\"Adam\")\n",
    "if use_cuda:\n",
    "    model = model.cuda()\n",
    "model.fit(dataset=train_dataset, n_epochs=10, batch_size=60)"
   ]
  },
  {
   "cell_type": "code",
   "execution_count": 257,
   "metadata": {},
   "outputs": [
    {
     "data": {
      "image/png": "[encoded data removed]",
      "text/plain": [
       "<Figure size 432x288 with 1 Axes>"
      ]
     },
     "metadata": {},
     "output_type": "display_data"
    }
   ],
   "source": [
    "plt.plot(np.arange(10),model.loss_values)\n",
    "plt.ylabel('Train Error')\n",
    "plt.xlabel('epoch')\n",
    "\n",
    "plt.title(\"Train error for optimal model\")\n",
    "plt.show()"
   ]
  },
  {
   "cell_type": "code",
   "execution_count": 258,
   "metadata": {},
   "outputs": [
    {
     "name": "stdout",
     "output_type": "stream",
     "text": [
      "test mean squared error: 1.3538917806265323\n",
      "test mean absolute error: 0.9229052796107362\n"
     ]
    }
   ],
   "source": [
    "y_pred = model.predict(dataset=test_dataset)\n",
    "y = test_dataset.labels\n",
    "print(\"test mean squared error: \"+str(mean_squared_error(y_pred,y)))\n",
    "print(\"test mean absolute error: \"+ str(mean_absolute_error(y_pred,y)))"
   ]
  },
  {
   "cell_type": "markdown",
   "metadata": {},
   "source": [
    "### calcualte the time to run the model for different subsets"
   ]
  },
  {
   "cell_type": "code",
   "execution_count": 282,
   "metadata": {},
   "outputs": [],
   "source": [
    "unique_users = final_df['userId'].unique()\n",
    "user_quantiles = np.arange(0.1,1,0.1)\n",
    "runtimes = []"
   ]
  },
  {
   "cell_type": "code",
   "execution_count": 283,
   "metadata": {},
   "outputs": [
    {
     "name": "stderr",
     "output_type": "stream",
     "text": [
      "/home/roxor/bin/anaconda3/lib/python3.6/site-packages/sklearn/utils/validation.py:475: DataConversionWarning: Data with input dtype int64 was converted to float64 by StandardScaler.\n",
      "  warnings.warn(msg, DataConversionWarning)\n"
     ]
    },
    {
     "name": "stdout",
     "output_type": "stream",
     "text": [
      "Epoch 1 of 1, Loss: 0.329\n",
      "total time:2.0968427658081055\n",
      "Epoch 1 of 1, Loss: 0.713\n",
      "total time:4.748933792114258\n",
      "Epoch 1 of 1, Loss: 0.85\n",
      "total time:6.54540753364563\n",
      "Epoch 1 of 1, Loss: 1.187\n",
      "total time:9.715687036514282\n",
      "Epoch 1 of 1, Loss: 1.218\n",
      "total time:11.353285074234009\n",
      "Epoch 1 of 1, Loss: 0.659\n",
      "total time:13.029703378677368\n",
      "Epoch 1 of 1, Loss: 0.407\n",
      "total time:15.628254652023315\n",
      "Epoch 1 of 1, Loss: 1.535\n",
      "total time:17.98717498779297\n",
      "Epoch 1 of 1, Loss: 2.209\n",
      "total time:20.148995876312256\n"
     ]
    }
   ],
   "source": [
    "import time\n",
    "for quantile in user_quantiles:\n",
    "    start_time = time.time()\n",
    "    subset_users = unique_users[:int(len(unique_users)*quantile)]\n",
    "    subset_df = final_df.loc[final_df['userId'].isin(subset_users)]\n",
    "    data_processed = data_processing(\n",
    "        subset_df, wide_cols,\n",
    "        embeddings_cols,\n",
    "        continuous_cols,\n",
    "        target,\n",
    "        scale=True)\n",
    "    model = NeuralNet(\n",
    "        wide_dim,\n",
    "        embeddings_input,\n",
    "        continuous_cols,\n",
    "        deep_column_idx,\n",
    "        hidden_layers,\n",
    "        dropout,\n",
    "        encoding_dict,\n",
    "        n_class)\n",
    "    model.compile(optimizer='Adam')\n",
    "    if use_cuda:\n",
    "        model = model.cuda()\n",
    "    train_dataset = data_processed['train_dataset']\n",
    "    model.fit(dataset=train_dataset, n_epochs=1, batch_size=60)\n",
    "    end_time = time.time()\n",
    "    total_time = end_time- start_time\n",
    "    print(\"total time:\" + str(total_time))\n",
    "    runtimes.append(total_time)\n",
    "    "
   ]
  },
  {
   "cell_type": "code",
   "execution_count": 284,
   "metadata": {},
   "outputs": [
    {
     "data": {
      "image/png": "[encoded data removed]",
      "text/plain": [
       "<Figure size 432x288 with 1 Axes>"
      ]
     },
     "metadata": {},
     "output_type": "display_data"
    }
   ],
   "source": [
    "plt.plot(user_quantiles,runtimes)\n",
    "plt.ylabel('Runtime')\n",
    "plt.xlabel('quantile size')\n",
    "\n",
    "plt.title(\"Runtime for optimal model for different subset size\")\n",
    "plt.show()"
   ]
  }
 ],
 "metadata": {
  "kernelspec": {
   "display_name": "Python [conda env:anaconda3]",
   "language": "python",
   "name": "conda-env-anaconda3-py"
  },
  "language_info": {
   "codemirror_mode": {
    "name": "ipython",
    "version": 3
   },
   "file_extension": ".py",
   "mimetype": "text/x-python",
   "name": "python",
   "nbconvert_exporter": "python",
   "pygments_lexer": "ipython3",
   "version": "3.6.5"
  }
 },
 "nbformat": 4,
 "nbformat_minor": 2
}
