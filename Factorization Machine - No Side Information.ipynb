{
 "cells": [
  {
   "cell_type": "markdown",
   "metadata": {},
   "source": [
    "### Loading Library"
   ]
  },
  {
   "cell_type": "code",
   "execution_count": 1,
   "metadata": {},
   "outputs": [],
   "source": [
    "#Load library\n",
    "import numpy as np\n",
    "import pandas as pd\n",
    "import scipy.sparse as sparse\n",
    "import time\n",
    "from math import sqrt\n",
    "import random\n",
    "import matplotlib as matplt\n",
    "import matplotlib.pyplot as plt\n",
    "import seaborn as sns\n",
    "\n",
    "from sklearn.feature_extraction import DictVectorizer\n",
    "from sklearn.model_selection import train_test_split, GridSearchCV\n",
    "from sklearn.preprocessing import OneHotEncoder, normalize\n",
    "from fastFM import als\n",
    "from sklearn.metrics import mean_absolute_error, mean_squared_error\n",
    "\n",
    "from surprise import KNNBasic\n",
    "from surprise import Dataset\n",
    "from surprise.model_selection import cross_validate"
   ]
  },
  {
   "cell_type": "markdown",
   "metadata": {},
   "source": [
    "### Loading Data"
   ]
  },
  {
   "cell_type": "code",
   "execution_count": 2,
   "metadata": {},
   "outputs": [],
   "source": [
    "#Load data\n",
    "path = \"/Users/yh3093/Desktop/Personalization/Final Project/Data/\"\n",
    "\n",
    "#Ratings\n",
    "ratings = pd.read_csv(path+'ratings.dat', sep='::', header=None, engine='python')\n",
    "ratings.columns = ['userId','movieId','rating','timestamp']\n",
    "ratings = ratings.drop('timestamp', axis=1)\n",
    "\n",
    "#Movies\n",
    "movies = pd.read_csv(path+'movies.dat', sep='::', header=None, engine='python')\n",
    "movies.columns = ['MovieID','Title','Genres']\n",
    "\n",
    "#Users\n",
    "users = pd.read_csv(path+'users.dat', sep='::', header=None, engine='python')\n",
    "users.columns = ['UserID','Gender','Age','Occupation','Zip-code']"
   ]
  },
  {
   "cell_type": "markdown",
   "metadata": {},
   "source": [
    "### Data Quality"
   ]
  },
  {
   "cell_type": "code",
   "execution_count": 3,
   "metadata": {},
   "outputs": [
    {
     "name": "stdout",
     "output_type": "stream",
     "text": [
      "Duplicated rows in ratings file: 0\n",
      "Number of users: 6040\n",
      "Number of movies: 3706\n",
      "Sparsity: 4.468%\n"
     ]
    }
   ],
   "source": [
    "#Data quality\n",
    "print('Duplicated rows in ratings file: ' + str(ratings.duplicated().sum()))\n",
    "\n",
    "n_users = ratings.userId.unique().shape[0]\n",
    "n_movies = ratings.movieId.unique().shape[0]\n",
    "\n",
    "print('Number of users: {}'.format(n_users))\n",
    "print('Number of movies: {}'.format(n_movies))\n",
    "print('Sparsity: {:4.3f}%'.format(float(ratings.shape[0]) / float(n_users*n_movies) * 100))"
   ]
  },
  {
   "cell_type": "markdown",
   "metadata": {},
   "source": [
    "### Functions used in the factorization machine training"
   ]
  },
  {
   "cell_type": "code",
   "execution_count": 4,
   "metadata": {},
   "outputs": [],
   "source": [
    "#subset data\n",
    "def subsetdata(data, by, subset_quantile):\n",
    "    filter_standard = data.groupby([by]).size().reset_index(name='counts').counts.quantile(subset_quantile)\n",
    "    subset_data = data.groupby(by).filter(lambda x: len(x) >= filter_standard)\n",
    "    \n",
    "    return filter_standard, subset_data"
   ]
  },
  {
   "cell_type": "code",
   "execution_count": 5,
   "metadata": {},
   "outputs": [],
   "source": [
    "#split train and test data\n",
    "def split_testtrain(ratings, fraction):\n",
    "    #Transform data in matrix format\n",
    "    colnames = ratings.columns.values\n",
    "    new_colnames = [\"1_user\", \"2_movie\", \"0_rating\"]\n",
    "    ratings = ratings.rename(index=str, columns=dict(zip(colnames, new_colnames)))\n",
    "    \n",
    "    ratings_df = ratings.to_dict(orient=\"records\")\n",
    "    \n",
    "    dv = DictVectorizer()\n",
    "    ratings_mat = dv.fit_transform(ratings_df).toarray()\n",
    "    \n",
    "    #Split data\n",
    "    x_train, x_test, y_train, y_test = train_test_split(ratings_mat[:,1:], ratings_mat[:,:1], test_size=fraction)\n",
    "    \n",
    "    return x_train, x_test, y_train.T[0], y_test.T[0]"
   ]
  },
  {
   "cell_type": "code",
   "execution_count": 6,
   "metadata": {},
   "outputs": [],
   "source": [
    "#One hot encoding\n",
    "def OneHotEncoding(train,test):\n",
    "    encoder = OneHotEncoder(handle_unknown='ignore').fit(train)\n",
    "    train = encoder.transform(train)\n",
    "    test = encoder.transform(test)\n",
    "    return train, test"
   ]
  },
  {
   "cell_type": "code",
   "execution_count": 7,
   "metadata": {},
   "outputs": [],
   "source": [
    "#Gridsearch for the optimal parameter\n",
    "def param_selection(X, y, n_folds):\n",
    "    start = time.time()\n",
    "    grid_param = {  \n",
    "    'n_iter' : np.arange(0,120,25)[1:],\n",
    "    'rank' :  np.arange(2,12,4),\n",
    "    }\n",
    "    grid_search = GridSearchCV(als.FMRegression(l2_reg_w=0.1,l2_reg_V=0.1), cv=n_folds, param_grid=grid_param, verbose=10)\n",
    "    grid_search.fit(X, y)\n",
    "    grid_search.best_params_\n",
    "    print(time.time()-start)\n",
    "    return grid_search.best_params_"
   ]
  },
  {
   "cell_type": "code",
   "execution_count": 8,
   "metadata": {},
   "outputs": [],
   "source": [
    "def rec_coverage(x_test, y_test, prediction, rec_num):\n",
    "    ratings = pd.DataFrame()\n",
    "    ratings['user'] = x_test[:,0]\n",
    "    ratings['movie'] = x_test[:,1]\n",
    "    ratings['rating'] = y_test\n",
    "    \n",
    "    pred = ratings.copy()\n",
    "    pred['rating'] = prediction\n",
    "    \n",
    "    rating_table = pd.pivot_table(ratings, index='user', columns = 'movie', values = 'rating')\n",
    "    pred_table = pd.pivot_table(pred, index='user', columns = 'movie', values = 'rating')\n",
    "    \n",
    "    rec_movies = []\n",
    "    rec = pred_table - rating_table\n",
    "    for user in rec.index:\n",
    "            rec_item = pred_table.loc[user,:].sort_values(ascending = False).head(rec_num).index.tolist()\n",
    "            rec_movies += rec_item\n",
    "    n_rec = len(set(rec_movies))\n",
    "    n_movies = pred_table.shape[1]\n",
    "    coverage = round(float(n_rec)/n_movies,2)\n",
    "    \n",
    "    return coverage"
   ]
  },
  {
   "cell_type": "code",
   "execution_count": 9,
   "metadata": {},
   "outputs": [],
   "source": [
    "def create_plot(x1, x2, x3, y1, y2, y3, kind):\n",
    "    pal = sns.color_palette(\"Set2\")\n",
    "    \n",
    "    matplt.figure.Figure(figsize=(5000,5000))\n",
    "    plt.plot(x1, y1, c=pal[0], label=\"Filter-User\", linewidth=3)\n",
    "    plt.plot(x2, y2, c=pal[1], label=\"Filter-Movie\", linewidth=3)\n",
    "    plt.plot(x3, y3, c=pal[2], label=\"Filter-Both\", linewidth=3)\n",
    "    plt.legend(loc='best', fontsize=12)\n",
    "    plt.xticks(fontsize=12);\n",
    "    plt.yticks(fontsize=12);\n",
    "    plt.xlabel(\"Sampled Data Size\", fontsize=14);\n",
    "    plt.ylabel(kind, fontsize=14);\n",
    "    plt.title(kind, loc='center', fontsize=16);\n",
    "    plt.show()"
   ]
  },
  {
   "cell_type": "markdown",
   "metadata": {},
   "source": [
    "### Factorization Machine"
   ]
  },
  {
   "cell_type": "code",
   "execution_count": 1,
   "metadata": {},
   "outputs": [],
   "source": [
    "def FactorizationMachine(ratings, subset_by, subset_quantile):\n",
    "    #Initialize output\n",
    "    final_output = pd.DataFrame()\n",
    "    result_dict = []\n",
    "    n_iteration = 1 \n",
    "    last_RMSE = 100\n",
    "    threshold = 0\n",
    "    \n",
    "    for quantile in subset_quantile:\n",
    "        print(\"---Running iteration \" + str(n_iteration) + \" ---\")\n",
    "        print(\"---Subsetting Original Data---\")\n",
    "        #subset original data\n",
    "        if subset_by == \"user\":\n",
    "            filter_standard, subset_ratings = subsetdata(ratings, \"userId\", quantile)\n",
    "        elif subset_by == \"movie\":\n",
    "            filter_standard, subset_ratings = subsetdata(ratings, \"movieId\", quantile)\n",
    "        else:\n",
    "            f1, subset_u = subsetdata(ratings, \"userId\", quantile)\n",
    "            f2, subset_ratings = subsetdata(subset_u, \"movieId\", quantile)\n",
    "            filter_standard = \"(\"+str(f1)+\",\"+str(f2)+\")\"\n",
    "            \n",
    "        n_users = subset_ratings.userId.unique().shape[0]\n",
    "        n_movies = subset_ratings.movieId.unique().shape[0]\n",
    "        n_size = subset_ratings.shape[0]*subset_ratings.shape[1]\n",
    "        \n",
    "        sparsity = round(float(subset_ratings.shape[0]) / float(n_users*n_movies),2)\n",
    "        \n",
    "        print(\"---Spliting Test and Train Data---\")\n",
    "        #split test and train data\n",
    "        xtrain, xtest, ytrain, ytest = split_testtrain(subset_ratings, 0.2)\n",
    "\n",
    "        print(\"---Encoding Data---\")\n",
    "        #encode data\n",
    "        xtrain_enc, xtest_enc = OneHotEncoding(xtrain, xtest)\n",
    "\n",
    "        print(\"---Hyperparameter Tuning---\")\n",
    "        #Find the optimal parameter by hyperparameter tuning\n",
    "        start = time.time()\n",
    "        params = param_selection(xtrain_enc, ytrain, 3)\n",
    "        op_iter = params['n_iter']\n",
    "        op_rank = params['rank']\n",
    "        \n",
    "        print(\"---Factorization Machine---\")\n",
    "        #Factorization machine\n",
    "        fm = als.FMRegression(n_iter=op_iter, rank=op_rank, l2_reg_w=0.1, l2_reg_V=0.1)\n",
    "        fm.fit(xtrain_enc, ytrain)\n",
    "        predictions = fm.predict(xtest_enc)\n",
    "        spent_time = time.time() - start\n",
    "        #Evaluation metrics\n",
    "        rmse = sqrt(mean_squared_error(ytest,predictions))\n",
    "        mae = mean_absolute_error(ytest,predictions)\n",
    "        coverage = rec_coverage(xtest, ytest, predictions, 10)\n",
    "        \n",
    "        if rmse < last_RMSE:\n",
    "            last_RMSE = rmse\n",
    "            threshold = filter_standard\n",
    "            out = pd.DataFrame()\n",
    "            out['user'] = xtest[:,0]\n",
    "            out['movie'] = xtest[:,1]\n",
    "            out['rating'] = ytest\n",
    "            out['prediction'] = predictions\n",
    "            \n",
    "            final_output = out.copy()\n",
    "            \n",
    "        result_dict.append([quantile, filter_standard, n_size, n_users, n_movies, sparsity, op_iter, op_rank, spent_time, mae, rmse, coverage])\n",
    "        n_iteration += 1\n",
    "    \n",
    "    results = pd.DataFrame(result_dict)\n",
    "    results.columns = [\"Quantile\", \"Threshold\", \"Size\", \"Num_Users\", \"Num_Movies\", \"Sparsity\", \"OP_Iter\", \"OP_Rank\", \"Running Time\", \"MAE\", \"RMSE\", \"Coverage\"]\n",
    "    \n",
    "    final_output.to_csv(\"FM_Output_\"+subset_by+\"_\"+str(threshold)+\".csv\", sep=',', encoding='utf-8', index=False)\n",
    "    \n",
    "    return results"
   ]
  },
  {
   "cell_type": "code",
   "execution_count": 11,
   "metadata": {},
   "outputs": [],
   "source": [
    "quantile_list = np.arange(0.1,1,0.1)"
   ]
  },
  {
   "cell_type": "markdown",
   "metadata": {},
   "source": [
    "### Subset method 1 - Subset data from less prolific users to prolific users"
   ]
  },
  {
   "cell_type": "code",
   "execution_count": 12,
   "metadata": {
    "collapsed": true
   },
   "outputs": [
    {
     "name": "stdout",
     "output_type": "stream",
     "text": [
      "---Running iteration 1 ---\n",
      "---Subsetting Original Data---\n",
      "---Spliting Test and Train Data---\n",
      "---Encoding Data---\n",
      "---Hyperparameter Tuning---\n",
      "Fitting 3 folds for each of 12 candidates, totalling 36 fits\n",
      "[CV] n_iter=25, rank=2 ...............................................\n"
     ]
    },
    {
     "name": "stderr",
     "output_type": "stream",
     "text": [
      "[Parallel(n_jobs=1)]: Using backend SequentialBackend with 1 concurrent workers.\n"
     ]
    },
    {
     "name": "stdout",
     "output_type": "stream",
     "text": [
      "[CV] .......... n_iter=25, rank=2, score=0.357911252637, total=   3.7s\n",
      "[CV] n_iter=25, rank=2 ...............................................\n"
     ]
    },
    {
     "name": "stderr",
     "output_type": "stream",
     "text": [
      "[Parallel(n_jobs=1)]: Done   1 out of   1 | elapsed:    3.8s remaining:    0.0s\n"
     ]
    },
    {
     "name": "stdout",
     "output_type": "stream",
     "text": [
      "[CV] .......... n_iter=25, rank=2, score=0.363724745515, total=   3.7s\n",
      "[CV] n_iter=25, rank=2 ...............................................\n"
     ]
    },
    {
     "name": "stderr",
     "output_type": "stream",
     "text": [
      "[Parallel(n_jobs=1)]: Done   2 out of   2 | elapsed:    7.6s remaining:    0.0s\n"
     ]
    },
    {
     "name": "stdout",
     "output_type": "stream",
     "text": [
      "[CV] .......... n_iter=25, rank=2, score=0.366071744973, total=   3.9s\n",
      "[CV] n_iter=25, rank=6 ...............................................\n"
     ]
    },
    {
     "name": "stderr",
     "output_type": "stream",
     "text": [
      "[Parallel(n_jobs=1)]: Done   3 out of   3 | elapsed:   11.7s remaining:    0.0s\n"
     ]
    },
    {
     "name": "stdout",
     "output_type": "stream",
     "text": [
      "[CV] .......... n_iter=25, rank=6, score=0.296017178742, total=   7.8s\n",
      "[CV] n_iter=25, rank=6 ...............................................\n"
     ]
    },
    {
     "name": "stderr",
     "output_type": "stream",
     "text": [
      "[Parallel(n_jobs=1)]: Done   4 out of   4 | elapsed:   19.6s remaining:    0.0s\n"
     ]
    },
    {
     "name": "stdout",
     "output_type": "stream",
     "text": [
      "[CV] .......... n_iter=25, rank=6, score=0.283853833908, total=   7.8s\n",
      "[CV] n_iter=25, rank=6 ...............................................\n"
     ]
    },
    {
     "name": "stderr",
     "output_type": "stream",
     "text": [
      "[Parallel(n_jobs=1)]: Done   5 out of   5 | elapsed:   27.5s remaining:    0.0s\n"
     ]
    },
    {
     "name": "stdout",
     "output_type": "stream",
     "text": [
      "[CV] .......... n_iter=25, rank=6, score=0.291677769519, total=   7.8s\n",
      "[CV] n_iter=25, rank=10 ..............................................\n"
     ]
    },
    {
     "name": "stderr",
     "output_type": "stream",
     "text": [
      "[Parallel(n_jobs=1)]: Done   6 out of   6 | elapsed:   35.5s remaining:    0.0s\n"
     ]
    },
    {
     "name": "stdout",
     "output_type": "stream",
     "text": [
      "[CV] ......... n_iter=25, rank=10, score=0.173349848557, total=  12.0s\n",
      "[CV] n_iter=25, rank=10 ..............................................\n"
     ]
    },
    {
     "name": "stderr",
     "output_type": "stream",
     "text": [
      "[Parallel(n_jobs=1)]: Done   7 out of   7 | elapsed:   47.6s remaining:    0.0s\n"
     ]
    },
    {
     "name": "stdout",
     "output_type": "stream",
     "text": [
      "[CV] .......... n_iter=25, rank=10, score=0.17016387111, total=  11.9s\n",
      "[CV] n_iter=25, rank=10 ..............................................\n"
     ]
    },
    {
     "name": "stderr",
     "output_type": "stream",
     "text": [
      "[Parallel(n_jobs=1)]: Done   8 out of   8 | elapsed:   59.6s remaining:    0.0s\n"
     ]
    },
    {
     "name": "stdout",
     "output_type": "stream",
     "text": [
      "[CV] ......... n_iter=25, rank=10, score=0.178657003858, total=  11.8s\n",
      "[CV] n_iter=50, rank=2 ...............................................\n"
     ]
    },
    {
     "name": "stderr",
     "output_type": "stream",
     "text": [
      "[Parallel(n_jobs=1)]: Done   9 out of   9 | elapsed:  1.2min remaining:    0.0s\n"
     ]
    },
    {
     "name": "stdout",
     "output_type": "stream",
     "text": [
      "[CV] .......... n_iter=50, rank=2, score=0.365380822777, total=   7.5s\n",
      "[CV] n_iter=50, rank=2 ...............................................\n",
      "[CV] .......... n_iter=50, rank=2, score=0.364296006787, total=   7.2s\n",
      "[CV] n_iter=50, rank=2 ...............................................\n",
      "[CV] .......... n_iter=50, rank=2, score=0.366545889367, total=   7.2s\n",
      "[CV] n_iter=50, rank=6 ...............................................\n",
      "[CV] .......... n_iter=50, rank=6, score=0.300270444697, total=  15.3s\n",
      "[CV] n_iter=50, rank=6 ...............................................\n",
      "[CV] .......... n_iter=50, rank=6, score=0.292715799499, total=  15.3s\n",
      "[CV] n_iter=50, rank=6 ...............................................\n",
      "[CV] .......... n_iter=50, rank=6, score=0.292466303991, total=  15.3s\n",
      "[CV] n_iter=50, rank=10 ..............................................\n",
      "[CV] ......... n_iter=50, rank=10, score=0.151696733877, total=  23.6s\n",
      "[CV] n_iter=50, rank=10 ..............................................\n",
      "[CV] ......... n_iter=50, rank=10, score=0.150192734142, total=  23.5s\n",
      "[CV] n_iter=50, rank=10 ..............................................\n",
      "[CV] ......... n_iter=50, rank=10, score=0.158650029073, total=  23.5s\n",
      "[CV] n_iter=75, rank=2 ...............................................\n",
      "[CV] .......... n_iter=75, rank=2, score=0.365010728357, total=  10.7s\n",
      "[CV] n_iter=75, rank=2 ...............................................\n",
      "[CV] ........... n_iter=75, rank=2, score=0.36485812833, total=  10.6s\n",
      "[CV] n_iter=75, rank=2 ...............................................\n",
      "[CV] .......... n_iter=75, rank=2, score=0.366622050066, total=  10.7s\n",
      "[CV] n_iter=75, rank=6 ...............................................\n",
      "[CV] ........... n_iter=75, rank=6, score=0.29982143772, total=  23.0s\n",
      "[CV] n_iter=75, rank=6 ...............................................\n",
      "[CV] .......... n_iter=75, rank=6, score=0.293613034357, total=  23.3s\n",
      "[CV] n_iter=75, rank=6 ...............................................\n",
      "[CV] .......... n_iter=75, rank=6, score=0.292411381709, total=  23.0s\n",
      "[CV] n_iter=75, rank=10 ..............................................\n",
      "[CV] ......... n_iter=75, rank=10, score=0.143558205669, total=  35.2s\n",
      "[CV] n_iter=75, rank=10 ..............................................\n",
      "[CV] ......... n_iter=75, rank=10, score=0.142663042513, total=  35.1s\n",
      "[CV] n_iter=75, rank=10 ..............................................\n",
      "[CV] ......... n_iter=75, rank=10, score=0.146147076344, total=  35.1s\n",
      "[CV] n_iter=100, rank=2 ..............................................\n",
      "[CV] ......... n_iter=100, rank=2, score=0.365085288522, total=  14.4s\n",
      "[CV] n_iter=100, rank=2 ..............................................\n",
      "[CV] ......... n_iter=100, rank=2, score=0.365333687123, total=  14.2s\n",
      "[CV] n_iter=100, rank=2 ..............................................\n",
      "[CV] ......... n_iter=100, rank=2, score=0.366786210437, total=  14.3s\n",
      "[CV] n_iter=100, rank=6 ..............................................\n",
      "[CV] ......... n_iter=100, rank=6, score=0.298984024225, total=  30.7s\n",
      "[CV] n_iter=100, rank=6 ..............................................\n",
      "[CV] ......... n_iter=100, rank=6, score=0.292722415327, total=  30.6s\n",
      "[CV] n_iter=100, rank=6 ..............................................\n",
      "[CV] ......... n_iter=100, rank=6, score=0.291402756801, total=  30.5s\n",
      "[CV] n_iter=100, rank=10 .............................................\n",
      "[CV] ........ n_iter=100, rank=10, score=0.142084314224, total=  47.0s\n",
      "[CV] n_iter=100, rank=10 .............................................\n",
      "[CV] ......... n_iter=100, rank=10, score=0.14412083889, total=  47.1s\n",
      "[CV] n_iter=100, rank=10 .............................................\n",
      "[CV] ........ n_iter=100, rank=10, score=0.140006078957, total=  47.2s\n"
     ]
    },
    {
     "name": "stderr",
     "output_type": "stream",
     "text": [
      "[Parallel(n_jobs=1)]: Done  36 out of  36 | elapsed: 11.6min finished\n"
     ]
    },
    {
     "name": "stdout",
     "output_type": "stream",
     "text": [
      "722.787038088\n",
      "---Factorization Machine---\n",
      "---Running iteration 2 ---\n",
      "---Subsetting Original Data---\n",
      "---Spliting Test and Train Data---\n",
      "---Encoding Data---\n",
      "---Hyperparameter Tuning---\n",
      "Fitting 3 folds for each of 12 candidates, totalling 36 fits\n",
      "[CV] n_iter=25, rank=2 ...............................................\n"
     ]
    },
    {
     "name": "stderr",
     "output_type": "stream",
     "text": [
      "[Parallel(n_jobs=1)]: Using backend SequentialBackend with 1 concurrent workers.\n"
     ]
    },
    {
     "name": "stdout",
     "output_type": "stream",
     "text": [
      "[CV] .......... n_iter=25, rank=2, score=0.370760370338, total=   3.6s\n",
      "[CV] n_iter=25, rank=2 ...............................................\n"
     ]
    },
    {
     "name": "stderr",
     "output_type": "stream",
     "text": [
      "[Parallel(n_jobs=1)]: Done   1 out of   1 | elapsed:    3.7s remaining:    0.0s\n"
     ]
    },
    {
     "name": "stdout",
     "output_type": "stream",
     "text": [
      "[CV] .......... n_iter=25, rank=2, score=0.366921092798, total=   3.6s\n",
      "[CV] n_iter=25, rank=2 ...............................................\n"
     ]
    },
    {
     "name": "stderr",
     "output_type": "stream",
     "text": [
      "[Parallel(n_jobs=1)]: Done   2 out of   2 | elapsed:    7.4s remaining:    0.0s\n"
     ]
    },
    {
     "name": "stdout",
     "output_type": "stream",
     "text": [
      "[CV] .......... n_iter=25, rank=2, score=0.369699288332, total=   3.6s\n",
      "[CV] n_iter=25, rank=6 ...............................................\n"
     ]
    },
    {
     "name": "stderr",
     "output_type": "stream",
     "text": [
      "[Parallel(n_jobs=1)]: Done   3 out of   3 | elapsed:   11.1s remaining:    0.0s\n"
     ]
    },
    {
     "name": "stdout",
     "output_type": "stream",
     "text": [
      "[CV] .......... n_iter=25, rank=6, score=0.307391304508, total=   7.5s\n",
      "[CV] n_iter=25, rank=6 ...............................................\n"
     ]
    },
    {
     "name": "stderr",
     "output_type": "stream",
     "text": [
      "[Parallel(n_jobs=1)]: Done   4 out of   4 | elapsed:   18.7s remaining:    0.0s\n"
     ]
    },
    {
     "name": "stdout",
     "output_type": "stream",
     "text": [
      "[CV] .......... n_iter=25, rank=6, score=0.291801655297, total=   7.5s\n",
      "[CV] n_iter=25, rank=6 ...............................................\n"
     ]
    },
    {
     "name": "stderr",
     "output_type": "stream",
     "text": [
      "[Parallel(n_jobs=1)]: Done   5 out of   5 | elapsed:   26.3s remaining:    0.0s\n"
     ]
    },
    {
     "name": "stdout",
     "output_type": "stream",
     "text": [
      "[CV] .......... n_iter=25, rank=6, score=0.308937819294, total=   7.5s\n",
      "[CV] n_iter=25, rank=10 ..............................................\n"
     ]
    },
    {
     "name": "stderr",
     "output_type": "stream",
     "text": [
      "[Parallel(n_jobs=1)]: Done   6 out of   6 | elapsed:   33.9s remaining:    0.0s\n"
     ]
    },
    {
     "name": "stdout",
     "output_type": "stream",
     "text": [
      "[CV] ......... n_iter=25, rank=10, score=0.203078514909, total=  11.7s\n",
      "[CV] n_iter=25, rank=10 ..............................................\n"
     ]
    },
    {
     "name": "stderr",
     "output_type": "stream",
     "text": [
      "[Parallel(n_jobs=1)]: Done   7 out of   7 | elapsed:   45.7s remaining:    0.0s\n"
     ]
    },
    {
     "name": "stdout",
     "output_type": "stream",
     "text": [
      "[CV] ......... n_iter=25, rank=10, score=0.188458385721, total=  11.5s\n",
      "[CV] n_iter=25, rank=10 ..............................................\n"
     ]
    },
    {
     "name": "stderr",
     "output_type": "stream",
     "text": [
      "[Parallel(n_jobs=1)]: Done   8 out of   8 | elapsed:   57.4s remaining:    0.0s\n"
     ]
    },
    {
     "name": "stdout",
     "output_type": "stream",
     "text": [
      "[CV] ......... n_iter=25, rank=10, score=0.191697511533, total=  11.5s\n",
      "[CV] n_iter=50, rank=2 ...............................................\n"
     ]
    },
    {
     "name": "stderr",
     "output_type": "stream",
     "text": [
      "[Parallel(n_jobs=1)]: Done   9 out of   9 | elapsed:  1.1min remaining:    0.0s\n"
     ]
    },
    {
     "name": "stdout",
     "output_type": "stream",
     "text": [
      "[CV] .......... n_iter=50, rank=2, score=0.371265168997, total=   7.0s\n",
      "[CV] n_iter=50, rank=2 ...............................................\n",
      "[CV] .......... n_iter=50, rank=2, score=0.368344662299, total=   7.0s\n",
      "[CV] n_iter=50, rank=2 ...............................................\n",
      "[CV] ............ n_iter=50, rank=2, score=0.3695914474, total=   7.2s\n",
      "[CV] n_iter=50, rank=6 ...............................................\n",
      "[CV] .......... n_iter=50, rank=6, score=0.307770293736, total=  14.8s\n",
      "[CV] n_iter=50, rank=6 ...............................................\n",
      "[CV] .......... n_iter=50, rank=6, score=0.290890508263, total=  14.9s\n",
      "[CV] n_iter=50, rank=6 ...............................................\n",
      "[CV] .......... n_iter=50, rank=6, score=0.308374172857, total=  14.8s\n",
      "[CV] n_iter=50, rank=10 ..............................................\n",
      "[CV] ......... n_iter=50, rank=10, score=0.190395187501, total=  22.6s\n",
      "[CV] n_iter=50, rank=10 ..............................................\n",
      "[CV] ......... n_iter=50, rank=10, score=0.174720743749, total=  22.8s\n",
      "[CV] n_iter=50, rank=10 ..............................................\n",
      "[CV] ......... n_iter=50, rank=10, score=0.177166624191, total=  23.3s\n",
      "[CV] n_iter=75, rank=2 ...............................................\n",
      "[CV] .......... n_iter=75, rank=2, score=0.371335759987, total=  10.3s\n",
      "[CV] n_iter=75, rank=2 ...............................................\n",
      "[CV] .......... n_iter=75, rank=2, score=0.368328586282, total=  10.5s\n",
      "[CV] n_iter=75, rank=2 ...............................................\n",
      "[CV] .......... n_iter=75, rank=2, score=0.369571423038, total=  10.3s\n",
      "[CV] n_iter=75, rank=6 ...............................................\n",
      "[CV] .......... n_iter=75, rank=6, score=0.308454753273, total=  22.1s\n",
      "[CV] n_iter=75, rank=6 ...............................................\n",
      "[CV] .......... n_iter=75, rank=6, score=0.290269094695, total=  22.0s\n",
      "[CV] n_iter=75, rank=6 ...............................................\n",
      "[CV] .......... n_iter=75, rank=6, score=0.308592525762, total=  22.2s\n",
      "[CV] n_iter=75, rank=10 ..............................................\n",
      "[CV] ......... n_iter=75, rank=10, score=0.183296648645, total=  34.0s\n",
      "[CV] n_iter=75, rank=10 ..............................................\n",
      "[CV] ......... n_iter=75, rank=10, score=0.166512572619, total=  33.8s\n",
      "[CV] n_iter=75, rank=10 ..............................................\n",
      "[CV] ......... n_iter=75, rank=10, score=0.172290701272, total=  33.9s\n",
      "[CV] n_iter=100, rank=2 ..............................................\n",
      "[CV] ......... n_iter=100, rank=2, score=0.371504687564, total=  13.9s\n",
      "[CV] n_iter=100, rank=2 ..............................................\n",
      "[CV] ......... n_iter=100, rank=2, score=0.368393581011, total=  13.7s\n",
      "[CV] n_iter=100, rank=2 ..............................................\n",
      "[CV] ......... n_iter=100, rank=2, score=0.369699161727, total=  14.0s\n",
      "[CV] n_iter=100, rank=6 ..............................................\n",
      "[CV] ......... n_iter=100, rank=6, score=0.309661038998, total=  29.6s\n",
      "[CV] n_iter=100, rank=6 ..............................................\n",
      "[CV] ......... n_iter=100, rank=6, score=0.290533852505, total=  29.6s\n",
      "[CV] n_iter=100, rank=6 ..............................................\n",
      "[CV] ......... n_iter=100, rank=6, score=0.308576582232, total=  29.6s\n",
      "[CV] n_iter=100, rank=10 .............................................\n",
      "[CV] ........ n_iter=100, rank=10, score=0.179787454423, total=  45.4s\n",
      "[CV] n_iter=100, rank=10 .............................................\n",
      "[CV] ........ n_iter=100, rank=10, score=0.162840291112, total=  45.4s\n",
      "[CV] n_iter=100, rank=10 .............................................\n",
      "[CV] ........ n_iter=100, rank=10, score=0.169009997309, total=  47.5s\n"
     ]
    },
    {
     "name": "stderr",
     "output_type": "stream",
     "text": [
      "[Parallel(n_jobs=1)]: Done  36 out of  36 | elapsed: 11.2min finished\n"
     ]
    },
    {
     "name": "stdout",
     "output_type": "stream",
     "text": [
      "700.479765892\n",
      "---Factorization Machine---\n",
      "---Running iteration 3 ---\n",
      "---Subsetting Original Data---\n",
      "---Spliting Test and Train Data---\n",
      "---Encoding Data---\n",
      "---Hyperparameter Tuning---\n",
      "Fitting 3 folds for each of 12 candidates, totalling 36 fits\n",
      "[CV] n_iter=25, rank=2 ...............................................\n"
     ]
    },
    {
     "name": "stderr",
     "output_type": "stream",
     "text": [
      "[Parallel(n_jobs=1)]: Using backend SequentialBackend with 1 concurrent workers.\n"
     ]
    },
    {
     "name": "stdout",
     "output_type": "stream",
     "text": [
      "[CV] .......... n_iter=25, rank=2, score=0.372606625322, total=   3.4s\n",
      "[CV] n_iter=25, rank=2 ...............................................\n"
     ]
    },
    {
     "name": "stderr",
     "output_type": "stream",
     "text": [
      "[Parallel(n_jobs=1)]: Done   1 out of   1 | elapsed:    3.5s remaining:    0.0s\n"
     ]
    },
    {
     "name": "stdout",
     "output_type": "stream",
     "text": [
      "[CV] .......... n_iter=25, rank=2, score=0.372949620884, total=   3.4s\n",
      "[CV] n_iter=25, rank=2 ...............................................\n"
     ]
    },
    {
     "name": "stderr",
     "output_type": "stream",
     "text": [
      "[Parallel(n_jobs=1)]: Done   2 out of   2 | elapsed:    7.0s remaining:    0.0s\n"
     ]
    },
    {
     "name": "stdout",
     "output_type": "stream",
     "text": [
      "[CV] .......... n_iter=25, rank=2, score=0.371064507152, total=   3.4s\n",
      "[CV] n_iter=25, rank=6 ...............................................\n"
     ]
    },
    {
     "name": "stderr",
     "output_type": "stream",
     "text": [
      "[Parallel(n_jobs=1)]: Done   3 out of   3 | elapsed:   10.6s remaining:    0.0s\n"
     ]
    },
    {
     "name": "stdout",
     "output_type": "stream",
     "text": [
      "[CV] .......... n_iter=25, rank=6, score=0.308240951221, total=   7.2s\n",
      "[CV] n_iter=25, rank=6 ...............................................\n"
     ]
    },
    {
     "name": "stderr",
     "output_type": "stream",
     "text": [
      "[Parallel(n_jobs=1)]: Done   4 out of   4 | elapsed:   17.9s remaining:    0.0s\n"
     ]
    },
    {
     "name": "stdout",
     "output_type": "stream",
     "text": [
      "[CV] .......... n_iter=25, rank=6, score=0.310622820192, total=   7.3s\n",
      "[CV] n_iter=25, rank=6 ...............................................\n"
     ]
    },
    {
     "name": "stderr",
     "output_type": "stream",
     "text": [
      "[Parallel(n_jobs=1)]: Done   5 out of   5 | elapsed:   25.3s remaining:    0.0s\n"
     ]
    },
    {
     "name": "stdout",
     "output_type": "stream",
     "text": [
      "[CV] .......... n_iter=25, rank=6, score=0.317141108069, total=   7.3s\n",
      "[CV] n_iter=25, rank=10 ..............................................\n"
     ]
    },
    {
     "name": "stderr",
     "output_type": "stream",
     "text": [
      "[Parallel(n_jobs=1)]: Done   6 out of   6 | elapsed:   32.6s remaining:    0.0s\n"
     ]
    },
    {
     "name": "stdout",
     "output_type": "stream",
     "text": [
      "[CV] .......... n_iter=25, rank=10, score=0.19664445828, total=  11.0s\n",
      "[CV] n_iter=25, rank=10 ..............................................\n"
     ]
    },
    {
     "name": "stderr",
     "output_type": "stream",
     "text": [
      "[Parallel(n_jobs=1)]: Done   7 out of   7 | elapsed:   43.8s remaining:    0.0s\n"
     ]
    },
    {
     "name": "stdout",
     "output_type": "stream",
     "text": [
      "[CV] ......... n_iter=25, rank=10, score=0.206724490078, total=  11.0s\n",
      "[CV] n_iter=25, rank=10 ..............................................\n"
     ]
    },
    {
     "name": "stderr",
     "output_type": "stream",
     "text": [
      "[Parallel(n_jobs=1)]: Done   8 out of   8 | elapsed:   54.9s remaining:    0.0s\n"
     ]
    },
    {
     "name": "stdout",
     "output_type": "stream",
     "text": [
      "[CV] ......... n_iter=25, rank=10, score=0.207260032327, total=  11.1s\n",
      "[CV] n_iter=50, rank=2 ...............................................\n"
     ]
    },
    {
     "name": "stderr",
     "output_type": "stream",
     "text": [
      "[Parallel(n_jobs=1)]: Done   9 out of   9 | elapsed:  1.1min remaining:    0.0s\n"
     ]
    },
    {
     "name": "stdout",
     "output_type": "stream",
     "text": [
      "[CV] .......... n_iter=50, rank=2, score=0.372598225489, total=   6.8s\n",
      "[CV] n_iter=50, rank=2 ...............................................\n",
      "[CV] .......... n_iter=50, rank=2, score=0.372899124834, total=   6.6s\n",
      "[CV] n_iter=50, rank=2 ...............................................\n",
      "[CV] .......... n_iter=50, rank=2, score=0.372629980975, total=   6.7s\n",
      "[CV] n_iter=50, rank=6 ...............................................\n",
      "[CV] .......... n_iter=50, rank=6, score=0.314477880283, total=  14.5s\n",
      "[CV] n_iter=50, rank=6 ...............................................\n",
      "[CV] .......... n_iter=50, rank=6, score=0.315456071285, total=  14.3s\n",
      "[CV] n_iter=50, rank=6 ...............................................\n",
      "[CV] ........... n_iter=50, rank=6, score=0.32287437169, total=  14.3s\n",
      "[CV] n_iter=50, rank=10 ..............................................\n",
      "[CV] ......... n_iter=50, rank=10, score=0.178849264082, total=  21.9s\n",
      "[CV] n_iter=50, rank=10 ..............................................\n",
      "[CV] ......... n_iter=50, rank=10, score=0.194645925478, total=  22.0s\n",
      "[CV] n_iter=50, rank=10 ..............................................\n",
      "[CV] ......... n_iter=50, rank=10, score=0.194436230237, total=  21.9s\n",
      "[CV] n_iter=75, rank=2 ...............................................\n",
      "[CV] .......... n_iter=75, rank=2, score=0.373178008334, total=   9.9s\n",
      "[CV] n_iter=75, rank=2 ...............................................\n",
      "[CV] .......... n_iter=75, rank=2, score=0.373296041972, total=   9.9s\n",
      "[CV] n_iter=75, rank=2 ...............................................\n",
      "[CV] .......... n_iter=75, rank=2, score=0.372471201325, total=   9.9s\n",
      "[CV] n_iter=75, rank=6 ...............................................\n",
      "[CV] .......... n_iter=75, rank=6, score=0.318145159973, total=  21.3s\n",
      "[CV] n_iter=75, rank=6 ...............................................\n",
      "[CV] .......... n_iter=75, rank=6, score=0.315555281637, total=  21.4s\n",
      "[CV] n_iter=75, rank=6 ...............................................\n",
      "[CV] .......... n_iter=75, rank=6, score=0.322645617788, total=  21.5s\n",
      "[CV] n_iter=75, rank=10 ..............................................\n",
      "[CV] ......... n_iter=75, rank=10, score=0.173255042289, total=  32.7s\n",
      "[CV] n_iter=75, rank=10 ..............................................\n",
      "[CV] ......... n_iter=75, rank=10, score=0.194673356646, total=  32.8s\n",
      "[CV] n_iter=75, rank=10 ..............................................\n",
      "[CV] ......... n_iter=75, rank=10, score=0.191374358416, total=  32.8s\n",
      "[CV] n_iter=100, rank=2 ..............................................\n",
      "[CV] ......... n_iter=100, rank=2, score=0.373412678069, total=  13.3s\n",
      "[CV] n_iter=100, rank=2 ..............................................\n",
      "[CV] ......... n_iter=100, rank=2, score=0.373539656345, total=  13.2s\n",
      "[CV] n_iter=100, rank=2 ..............................................\n",
      "[CV] ......... n_iter=100, rank=2, score=0.372707790632, total=  13.2s\n",
      "[CV] n_iter=100, rank=6 ..............................................\n",
      "[CV] ......... n_iter=100, rank=6, score=0.319514079821, total=  28.3s\n",
      "[CV] n_iter=100, rank=6 ..............................................\n",
      "[CV] ......... n_iter=100, rank=6, score=0.315473052463, total=  28.4s\n",
      "[CV] n_iter=100, rank=6 ..............................................\n",
      "[CV] ......... n_iter=100, rank=6, score=0.321513230597, total=  28.5s\n",
      "[CV] n_iter=100, rank=10 .............................................\n",
      "[CV] ........ n_iter=100, rank=10, score=0.172615863345, total=  43.5s\n",
      "[CV] n_iter=100, rank=10 .............................................\n",
      "[CV] ........ n_iter=100, rank=10, score=0.193710856396, total=  43.7s\n",
      "[CV] n_iter=100, rank=10 .............................................\n",
      "[CV] ........ n_iter=100, rank=10, score=0.190248096277, total=  43.6s\n"
     ]
    },
    {
     "name": "stderr",
     "output_type": "stream",
     "text": [
      "[Parallel(n_jobs=1)]: Done  36 out of  36 | elapsed: 10.8min finished\n"
     ]
    },
    {
     "name": "stdout",
     "output_type": "stream",
     "text": [
      "670.61405611\n",
      "---Factorization Machine---\n",
      "---Running iteration 4 ---\n",
      "---Subsetting Original Data---\n",
      "---Spliting Test and Train Data---\n",
      "---Encoding Data---\n",
      "---Hyperparameter Tuning---\n",
      "Fitting 3 folds for each of 12 candidates, totalling 36 fits\n",
      "[CV] n_iter=25, rank=2 ...............................................\n"
     ]
    },
    {
     "name": "stderr",
     "output_type": "stream",
     "text": [
      "[Parallel(n_jobs=1)]: Using backend SequentialBackend with 1 concurrent workers.\n"
     ]
    },
    {
     "name": "stdout",
     "output_type": "stream",
     "text": [
      "[CV] .......... n_iter=25, rank=2, score=0.374608140648, total=   3.2s\n",
      "[CV] n_iter=25, rank=2 ...............................................\n"
     ]
    },
    {
     "name": "stderr",
     "output_type": "stream",
     "text": [
      "[Parallel(n_jobs=1)]: Done   1 out of   1 | elapsed:    3.3s remaining:    0.0s\n"
     ]
    },
    {
     "name": "stdout",
     "output_type": "stream",
     "text": [
      "[CV] .......... n_iter=25, rank=2, score=0.378240285009, total=   3.2s\n",
      "[CV] n_iter=25, rank=2 ...............................................\n"
     ]
    },
    {
     "name": "stderr",
     "output_type": "stream",
     "text": [
      "[Parallel(n_jobs=1)]: Done   2 out of   2 | elapsed:    6.6s remaining:    0.0s\n"
     ]
    },
    {
     "name": "stdout",
     "output_type": "stream",
     "text": [
      "[CV] .......... n_iter=25, rank=2, score=0.375673608949, total=   3.3s\n",
      "[CV] n_iter=25, rank=6 ...............................................\n"
     ]
    },
    {
     "name": "stderr",
     "output_type": "stream",
     "text": [
      "[Parallel(n_jobs=1)]: Done   3 out of   3 | elapsed:   10.0s remaining:    0.0s\n"
     ]
    },
    {
     "name": "stdout",
     "output_type": "stream",
     "text": [
      "[CV] .......... n_iter=25, rank=6, score=0.315041796877, total=   6.9s\n",
      "[CV] n_iter=25, rank=6 ...............................................\n"
     ]
    },
    {
     "name": "stderr",
     "output_type": "stream",
     "text": [
      "[Parallel(n_jobs=1)]: Done   4 out of   4 | elapsed:   17.0s remaining:    0.0s\n"
     ]
    },
    {
     "name": "stdout",
     "output_type": "stream",
     "text": [
      "[CV] .......... n_iter=25, rank=6, score=0.322078262787, total=   6.8s\n",
      "[CV] n_iter=25, rank=6 ...............................................\n"
     ]
    },
    {
     "name": "stderr",
     "output_type": "stream",
     "text": [
      "[Parallel(n_jobs=1)]: Done   5 out of   5 | elapsed:   23.9s remaining:    0.0s\n"
     ]
    },
    {
     "name": "stdout",
     "output_type": "stream",
     "text": [
      "[CV] .......... n_iter=25, rank=6, score=0.315863675846, total=   6.7s\n",
      "[CV] n_iter=25, rank=10 ..............................................\n"
     ]
    },
    {
     "name": "stderr",
     "output_type": "stream",
     "text": [
      "[Parallel(n_jobs=1)]: Done   6 out of   6 | elapsed:   30.7s remaining:    0.0s\n"
     ]
    },
    {
     "name": "stdout",
     "output_type": "stream",
     "text": [
      "[CV] ......... n_iter=25, rank=10, score=0.226370094643, total=  10.3s\n",
      "[CV] n_iter=25, rank=10 ..............................................\n"
     ]
    },
    {
     "name": "stderr",
     "output_type": "stream",
     "text": [
      "[Parallel(n_jobs=1)]: Done   7 out of   7 | elapsed:   41.2s remaining:    0.0s\n"
     ]
    },
    {
     "name": "stdout",
     "output_type": "stream",
     "text": [
      "[CV] ......... n_iter=25, rank=10, score=0.226757706982, total=  10.3s\n",
      "[CV] n_iter=25, rank=10 ..............................................\n"
     ]
    },
    {
     "name": "stderr",
     "output_type": "stream",
     "text": [
      "[Parallel(n_jobs=1)]: Done   8 out of   8 | elapsed:   51.6s remaining:    0.0s\n"
     ]
    },
    {
     "name": "stdout",
     "output_type": "stream",
     "text": [
      "[CV] ......... n_iter=25, rank=10, score=0.223684584492, total=  10.3s\n",
      "[CV] n_iter=50, rank=2 ...............................................\n"
     ]
    },
    {
     "name": "stderr",
     "output_type": "stream",
     "text": [
      "[Parallel(n_jobs=1)]: Done   9 out of   9 | elapsed:  1.0min remaining:    0.0s\n"
     ]
    },
    {
     "name": "stdout",
     "output_type": "stream",
     "text": [
      "[CV] ........... n_iter=50, rank=2, score=0.37487126011, total=   6.1s\n",
      "[CV] n_iter=50, rank=2 ...............................................\n",
      "[CV] .......... n_iter=50, rank=2, score=0.378004806288, total=   6.2s\n",
      "[CV] n_iter=50, rank=2 ...............................................\n",
      "[CV] .......... n_iter=50, rank=2, score=0.375371308177, total=   6.2s\n",
      "[CV] n_iter=50, rank=6 ...............................................\n",
      "[CV] .......... n_iter=50, rank=6, score=0.318917731412, total=  13.5s\n",
      "[CV] n_iter=50, rank=6 ...............................................\n",
      "[CV] ........... n_iter=50, rank=6, score=0.32440729893, total=  13.4s\n",
      "[CV] n_iter=50, rank=6 ...............................................\n",
      "[CV] ........... n_iter=50, rank=6, score=0.32197482371, total=  13.4s\n",
      "[CV] n_iter=50, rank=10 ..............................................\n",
      "[CV] ......... n_iter=50, rank=10, score=0.213670211828, total=  20.7s\n",
      "[CV] n_iter=50, rank=10 ..............................................\n",
      "[CV] ......... n_iter=50, rank=10, score=0.212934726894, total=  20.5s\n",
      "[CV] n_iter=50, rank=10 ..............................................\n",
      "[CV] ......... n_iter=50, rank=10, score=0.203029269642, total=  20.4s\n",
      "[CV] n_iter=75, rank=2 ...............................................\n",
      "[CV] .......... n_iter=75, rank=2, score=0.375141632719, total=   9.2s\n",
      "[CV] n_iter=75, rank=2 ...............................................\n",
      "[CV] .......... n_iter=75, rank=2, score=0.378247359069, total=   9.1s\n",
      "[CV] n_iter=75, rank=2 ...............................................\n",
      "[CV] .......... n_iter=75, rank=2, score=0.375515759205, total=   9.3s\n",
      "[CV] n_iter=75, rank=6 ...............................................\n",
      "[CV] ........... n_iter=75, rank=6, score=0.32268755622, total=  20.1s\n",
      "[CV] n_iter=75, rank=6 ...............................................\n",
      "[CV] .......... n_iter=75, rank=6, score=0.325400093436, total=  19.9s\n",
      "[CV] n_iter=75, rank=6 ...............................................\n",
      "[CV] .......... n_iter=75, rank=6, score=0.329320231674, total=  19.8s\n",
      "[CV] n_iter=75, rank=10 ..............................................\n",
      "[CV] ......... n_iter=75, rank=10, score=0.206422461603, total=  31.0s\n",
      "[CV] n_iter=75, rank=10 ..............................................\n",
      "[CV] ......... n_iter=75, rank=10, score=0.209449090897, total=  30.8s\n",
      "[CV] n_iter=75, rank=10 ..............................................\n",
      "[CV] ......... n_iter=75, rank=10, score=0.195678892314, total=  30.6s\n",
      "[CV] n_iter=100, rank=2 ..............................................\n",
      "[CV] ......... n_iter=100, rank=2, score=0.375352091477, total=  12.2s\n",
      "[CV] n_iter=100, rank=2 ..............................................\n",
      "[CV] ......... n_iter=100, rank=2, score=0.378424373362, total=  12.3s\n",
      "[CV] n_iter=100, rank=2 ..............................................\n",
      "[CV] ......... n_iter=100, rank=2, score=0.375685129515, total=  12.7s\n",
      "[CV] n_iter=100, rank=6 ..............................................\n",
      "[CV] ......... n_iter=100, rank=6, score=0.324502486864, total=  26.9s\n",
      "[CV] n_iter=100, rank=6 ..............................................\n",
      "[CV] ......... n_iter=100, rank=6, score=0.327984134037, total=  26.4s\n",
      "[CV] n_iter=100, rank=6 ..............................................\n",
      "[CV] ......... n_iter=100, rank=6, score=0.328550838437, total=  26.4s\n",
      "[CV] n_iter=100, rank=10 .............................................\n",
      "[CV] ......... n_iter=100, rank=10, score=0.20625004181, total=  40.9s\n",
      "[CV] n_iter=100, rank=10 .............................................\n",
      "[CV] ........ n_iter=100, rank=10, score=0.209103818342, total=  40.7s\n",
      "[CV] n_iter=100, rank=10 .............................................\n",
      "[CV] ........ n_iter=100, rank=10, score=0.194865603072, total=  40.7s\n"
     ]
    },
    {
     "name": "stderr",
     "output_type": "stream",
     "text": [
      "[Parallel(n_jobs=1)]: Done  36 out of  36 | elapsed: 10.1min finished\n"
     ]
    },
    {
     "name": "stdout",
     "output_type": "stream",
     "text": [
      "627.629582167\n",
      "---Factorization Machine---\n",
      "---Running iteration 5 ---\n",
      "---Subsetting Original Data---\n",
      "---Spliting Test and Train Data---\n",
      "---Encoding Data---\n",
      "---Hyperparameter Tuning---\n",
      "Fitting 3 folds for each of 12 candidates, totalling 36 fits\n",
      "[CV] n_iter=25, rank=2 ...............................................\n"
     ]
    },
    {
     "name": "stderr",
     "output_type": "stream",
     "text": [
      "[Parallel(n_jobs=1)]: Using backend SequentialBackend with 1 concurrent workers.\n"
     ]
    },
    {
     "name": "stdout",
     "output_type": "stream",
     "text": [
      "[CV] .......... n_iter=25, rank=2, score=0.377468961455, total=   3.0s\n",
      "[CV] n_iter=25, rank=2 ...............................................\n"
     ]
    },
    {
     "name": "stderr",
     "output_type": "stream",
     "text": [
      "[Parallel(n_jobs=1)]: Done   1 out of   1 | elapsed:    3.1s remaining:    0.0s\n"
     ]
    },
    {
     "name": "stdout",
     "output_type": "stream",
     "text": [
      "[CV] ........... n_iter=25, rank=2, score=0.37120511298, total=   2.9s\n",
      "[CV] n_iter=25, rank=2 ...............................................\n"
     ]
    },
    {
     "name": "stderr",
     "output_type": "stream",
     "text": [
      "[Parallel(n_jobs=1)]: Done   2 out of   2 | elapsed:    6.1s remaining:    0.0s\n"
     ]
    },
    {
     "name": "stdout",
     "output_type": "stream",
     "text": [
      "[CV] .......... n_iter=25, rank=2, score=0.376797884602, total=   2.9s\n",
      "[CV] n_iter=25, rank=6 ...............................................\n"
     ]
    },
    {
     "name": "stderr",
     "output_type": "stream",
     "text": [
      "[Parallel(n_jobs=1)]: Done   3 out of   3 | elapsed:    9.1s remaining:    0.0s\n"
     ]
    },
    {
     "name": "stdout",
     "output_type": "stream",
     "text": [
      "[CV] .......... n_iter=25, rank=6, score=0.328036028895, total=   6.2s\n",
      "[CV] n_iter=25, rank=6 ...............................................\n"
     ]
    },
    {
     "name": "stderr",
     "output_type": "stream",
     "text": [
      "[Parallel(n_jobs=1)]: Done   4 out of   4 | elapsed:   15.5s remaining:    0.0s\n"
     ]
    },
    {
     "name": "stdout",
     "output_type": "stream",
     "text": [
      "[CV] .......... n_iter=25, rank=6, score=0.331021544056, total=   6.2s\n",
      "[CV] n_iter=25, rank=6 ...............................................\n"
     ]
    },
    {
     "name": "stderr",
     "output_type": "stream",
     "text": [
      "[Parallel(n_jobs=1)]: Done   5 out of   5 | elapsed:   21.8s remaining:    0.0s\n"
     ]
    },
    {
     "name": "stdout",
     "output_type": "stream",
     "text": [
      "[CV] .......... n_iter=25, rank=6, score=0.324097091416, total=   6.3s\n",
      "[CV] n_iter=25, rank=10 ..............................................\n"
     ]
    },
    {
     "name": "stderr",
     "output_type": "stream",
     "text": [
      "[Parallel(n_jobs=1)]: Done   6 out of   6 | elapsed:   28.2s remaining:    0.0s\n"
     ]
    },
    {
     "name": "stdout",
     "output_type": "stream",
     "text": [
      "[CV] ......... n_iter=25, rank=10, score=0.234232421085, total=   9.5s\n",
      "[CV] n_iter=25, rank=10 ..............................................\n"
     ]
    },
    {
     "name": "stderr",
     "output_type": "stream",
     "text": [
      "[Parallel(n_jobs=1)]: Done   7 out of   7 | elapsed:   37.8s remaining:    0.0s\n"
     ]
    },
    {
     "name": "stdout",
     "output_type": "stream",
     "text": [
      "[CV] ......... n_iter=25, rank=10, score=0.235247601109, total=   9.5s\n",
      "[CV] n_iter=25, rank=10 ..............................................\n"
     ]
    },
    {
     "name": "stderr",
     "output_type": "stream",
     "text": [
      "[Parallel(n_jobs=1)]: Done   8 out of   8 | elapsed:   47.4s remaining:    0.0s\n"
     ]
    },
    {
     "name": "stdout",
     "output_type": "stream",
     "text": [
      "[CV] ......... n_iter=25, rank=10, score=0.245538351803, total=   9.6s\n",
      "[CV] n_iter=50, rank=2 ...............................................\n"
     ]
    },
    {
     "name": "stderr",
     "output_type": "stream",
     "text": [
      "[Parallel(n_jobs=1)]: Done   9 out of   9 | elapsed:   57.1s remaining:    0.0s\n"
     ]
    },
    {
     "name": "stdout",
     "output_type": "stream",
     "text": [
      "[CV] .......... n_iter=50, rank=2, score=0.379859825333, total=   5.7s\n",
      "[CV] n_iter=50, rank=2 ...............................................\n",
      "[CV] .......... n_iter=50, rank=2, score=0.376202314392, total=   5.7s\n",
      "[CV] n_iter=50, rank=2 ...............................................\n",
      "[CV] .......... n_iter=50, rank=2, score=0.378369039185, total=   5.7s\n",
      "[CV] n_iter=50, rank=6 ...............................................\n",
      "[CV] .......... n_iter=50, rank=6, score=0.330787629072, total=  12.3s\n",
      "[CV] n_iter=50, rank=6 ...............................................\n",
      "[CV] .......... n_iter=50, rank=6, score=0.333346232527, total=  12.5s\n",
      "[CV] n_iter=50, rank=6 ...............................................\n",
      "[CV] .......... n_iter=50, rank=6, score=0.328330219906, total=  12.4s\n",
      "[CV] n_iter=50, rank=10 ..............................................\n",
      "[CV] ......... n_iter=50, rank=10, score=0.221713602985, total=  18.8s\n",
      "[CV] n_iter=50, rank=10 ..............................................\n",
      "[CV] ......... n_iter=50, rank=10, score=0.220177190692, total=  18.8s\n",
      "[CV] n_iter=50, rank=10 ..............................................\n",
      "[CV] ......... n_iter=50, rank=10, score=0.230513294011, total=  18.9s\n",
      "[CV] n_iter=75, rank=2 ...............................................\n",
      "[CV] .......... n_iter=75, rank=2, score=0.379821835362, total=   8.6s\n",
      "[CV] n_iter=75, rank=2 ...............................................\n",
      "[CV] .......... n_iter=75, rank=2, score=0.376646514167, total=   8.5s\n",
      "[CV] n_iter=75, rank=2 ...............................................\n",
      "[CV] .......... n_iter=75, rank=2, score=0.378900685649, total=   8.5s\n",
      "[CV] n_iter=75, rank=6 ...............................................\n",
      "[CV] .......... n_iter=75, rank=6, score=0.333425291324, total=  18.5s\n",
      "[CV] n_iter=75, rank=6 ...............................................\n",
      "[CV] .......... n_iter=75, rank=6, score=0.337828084344, total=  18.3s\n",
      "[CV] n_iter=75, rank=6 ...............................................\n",
      "[CV] ........... n_iter=75, rank=6, score=0.33693939962, total=  18.4s\n",
      "[CV] n_iter=75, rank=10 ..............................................\n",
      "[CV] ......... n_iter=75, rank=10, score=0.220710664755, total=  28.2s\n",
      "[CV] n_iter=75, rank=10 ..............................................\n",
      "[CV] .......... n_iter=75, rank=10, score=0.21986422555, total=  28.1s\n",
      "[CV] n_iter=75, rank=10 ..............................................\n",
      "[CV] ......... n_iter=75, rank=10, score=0.224779163241, total=  28.2s\n",
      "[CV] n_iter=100, rank=2 ..............................................\n",
      "[CV] ......... n_iter=100, rank=2, score=0.380140054794, total=  11.3s\n",
      "[CV] n_iter=100, rank=2 ..............................................\n",
      "[CV] ......... n_iter=100, rank=2, score=0.376962254977, total=  11.3s\n",
      "[CV] n_iter=100, rank=2 ..............................................\n",
      "[CV] ......... n_iter=100, rank=2, score=0.379120063208, total=  11.3s\n",
      "[CV] n_iter=100, rank=6 ..............................................\n",
      "[CV] ......... n_iter=100, rank=6, score=0.335049949728, total=  24.4s\n",
      "[CV] n_iter=100, rank=6 ..............................................\n",
      "[CV] ......... n_iter=100, rank=6, score=0.340195617024, total=  24.3s\n",
      "[CV] n_iter=100, rank=6 ..............................................\n",
      "[CV] .......... n_iter=100, rank=6, score=0.34047792723, total=  24.6s\n",
      "[CV] n_iter=100, rank=10 .............................................\n",
      "[CV] ........ n_iter=100, rank=10, score=0.221589315237, total=  37.5s\n",
      "[CV] n_iter=100, rank=10 .............................................\n",
      "[CV] ........ n_iter=100, rank=10, score=0.219946074277, total=  37.4s\n",
      "[CV] n_iter=100, rank=10 .............................................\n",
      "[CV] ........ n_iter=100, rank=10, score=0.223185645267, total=  37.8s\n"
     ]
    },
    {
     "name": "stderr",
     "output_type": "stream",
     "text": [
      "[Parallel(n_jobs=1)]: Done  36 out of  36 | elapsed:  9.3min finished\n"
     ]
    },
    {
     "name": "stdout",
     "output_type": "stream",
     "text": [
      "578.295459986\n",
      "---Factorization Machine---\n",
      "---Running iteration 6 ---\n",
      "---Subsetting Original Data---\n",
      "---Spliting Test and Train Data---\n",
      "---Encoding Data---\n",
      "---Hyperparameter Tuning---\n",
      "Fitting 3 folds for each of 12 candidates, totalling 36 fits\n",
      "[CV] n_iter=25, rank=2 ...............................................\n"
     ]
    },
    {
     "name": "stderr",
     "output_type": "stream",
     "text": [
      "[Parallel(n_jobs=1)]: Using backend SequentialBackend with 1 concurrent workers.\n"
     ]
    },
    {
     "name": "stdout",
     "output_type": "stream",
     "text": [
      "[CV] .......... n_iter=25, rank=2, score=0.372131365485, total=   2.6s\n",
      "[CV] n_iter=25, rank=2 ...............................................\n"
     ]
    },
    {
     "name": "stderr",
     "output_type": "stream",
     "text": [
      "[Parallel(n_jobs=1)]: Done   1 out of   1 | elapsed:    2.6s remaining:    0.0s\n"
     ]
    },
    {
     "name": "stdout",
     "output_type": "stream",
     "text": [
      "[CV] .......... n_iter=25, rank=2, score=0.372987287488, total=   2.6s\n",
      "[CV] n_iter=25, rank=2 ...............................................\n"
     ]
    },
    {
     "name": "stderr",
     "output_type": "stream",
     "text": [
      "[Parallel(n_jobs=1)]: Done   2 out of   2 | elapsed:    5.3s remaining:    0.0s\n"
     ]
    },
    {
     "name": "stdout",
     "output_type": "stream",
     "text": [
      "[CV] .......... n_iter=25, rank=2, score=0.381956056967, total=   2.5s\n",
      "[CV] n_iter=25, rank=6 ...............................................\n"
     ]
    },
    {
     "name": "stderr",
     "output_type": "stream",
     "text": [
      "[Parallel(n_jobs=1)]: Done   3 out of   3 | elapsed:    7.9s remaining:    0.0s\n"
     ]
    },
    {
     "name": "stdout",
     "output_type": "stream",
     "text": [
      "[CV] .......... n_iter=25, rank=6, score=0.334139339611, total=   5.4s\n",
      "[CV] n_iter=25, rank=6 ...............................................\n"
     ]
    },
    {
     "name": "stderr",
     "output_type": "stream",
     "text": [
      "[Parallel(n_jobs=1)]: Done   4 out of   4 | elapsed:   13.4s remaining:    0.0s\n"
     ]
    },
    {
     "name": "stdout",
     "output_type": "stream",
     "text": [
      "[CV] .......... n_iter=25, rank=6, score=0.339335563471, total=   5.4s\n",
      "[CV] n_iter=25, rank=6 ...............................................\n"
     ]
    },
    {
     "name": "stderr",
     "output_type": "stream",
     "text": [
      "[Parallel(n_jobs=1)]: Done   5 out of   5 | elapsed:   18.9s remaining:    0.0s\n"
     ]
    },
    {
     "name": "stdout",
     "output_type": "stream",
     "text": [
      "[CV] ........... n_iter=25, rank=6, score=0.33601288626, total=   5.4s\n",
      "[CV] n_iter=25, rank=10 ..............................................\n"
     ]
    },
    {
     "name": "stderr",
     "output_type": "stream",
     "text": [
      "[Parallel(n_jobs=1)]: Done   6 out of   6 | elapsed:   24.5s remaining:    0.0s\n"
     ]
    },
    {
     "name": "stdout",
     "output_type": "stream",
     "text": [
      "[CV] ......... n_iter=25, rank=10, score=0.237374504322, total=   8.3s\n",
      "[CV] n_iter=25, rank=10 ..............................................\n"
     ]
    },
    {
     "name": "stderr",
     "output_type": "stream",
     "text": [
      "[Parallel(n_jobs=1)]: Done   7 out of   7 | elapsed:   32.9s remaining:    0.0s\n"
     ]
    },
    {
     "name": "stdout",
     "output_type": "stream",
     "text": [
      "[CV] .......... n_iter=25, rank=10, score=0.24969960795, total=   8.3s\n",
      "[CV] n_iter=25, rank=10 ..............................................\n"
     ]
    },
    {
     "name": "stderr",
     "output_type": "stream",
     "text": [
      "[Parallel(n_jobs=1)]: Done   8 out of   8 | elapsed:   41.3s remaining:    0.0s\n"
     ]
    },
    {
     "name": "stdout",
     "output_type": "stream",
     "text": [
      "[CV] ......... n_iter=25, rank=10, score=0.249226512827, total=   8.4s\n",
      "[CV] n_iter=50, rank=2 ...............................................\n"
     ]
    },
    {
     "name": "stderr",
     "output_type": "stream",
     "text": [
      "[Parallel(n_jobs=1)]: Done   9 out of   9 | elapsed:   49.7s remaining:    0.0s\n"
     ]
    },
    {
     "name": "stdout",
     "output_type": "stream",
     "text": [
      "[CV] .......... n_iter=50, rank=2, score=0.376024076376, total=   4.9s\n",
      "[CV] n_iter=50, rank=2 ...............................................\n",
      "[CV] .......... n_iter=50, rank=2, score=0.376363061004, total=   4.9s\n",
      "[CV] n_iter=50, rank=2 ...............................................\n",
      "[CV] .......... n_iter=50, rank=2, score=0.382225656675, total=   4.9s\n",
      "[CV] n_iter=50, rank=6 ...............................................\n",
      "[CV] .......... n_iter=50, rank=6, score=0.334457739369, total=  10.7s\n",
      "[CV] n_iter=50, rank=6 ...............................................\n",
      "[CV] .......... n_iter=50, rank=6, score=0.342038712608, total=  10.7s\n",
      "[CV] n_iter=50, rank=6 ...............................................\n",
      "[CV] .......... n_iter=50, rank=6, score=0.335616582543, total=  10.7s\n",
      "[CV] n_iter=50, rank=10 ..............................................\n",
      "[CV] ......... n_iter=50, rank=10, score=0.224850483609, total=  16.4s\n",
      "[CV] n_iter=50, rank=10 ..............................................\n",
      "[CV] ......... n_iter=50, rank=10, score=0.239414784252, total=  16.5s\n",
      "[CV] n_iter=50, rank=10 ..............................................\n",
      "[CV] .......... n_iter=50, rank=10, score=0.24083095855, total=  16.4s\n",
      "[CV] n_iter=75, rank=2 ...............................................\n",
      "[CV] .......... n_iter=75, rank=2, score=0.377816459154, total=   7.4s\n",
      "[CV] n_iter=75, rank=2 ...............................................\n",
      "[CV] .......... n_iter=75, rank=2, score=0.381392752147, total=   7.3s\n",
      "[CV] n_iter=75, rank=2 ...............................................\n",
      "[CV] .......... n_iter=75, rank=2, score=0.382548033264, total=   7.3s\n",
      "[CV] n_iter=75, rank=6 ...............................................\n",
      "[CV] .......... n_iter=75, rank=6, score=0.333134826287, total=  16.0s\n",
      "[CV] n_iter=75, rank=6 ...............................................\n",
      "[CV] .......... n_iter=75, rank=6, score=0.341692616459, total=  16.1s\n",
      "[CV] n_iter=75, rank=6 ...............................................\n",
      "[CV] .......... n_iter=75, rank=6, score=0.338940613398, total=  16.1s\n",
      "[CV] n_iter=75, rank=10 ..............................................\n",
      "[CV] ......... n_iter=75, rank=10, score=0.219447733973, total=  24.6s\n",
      "[CV] n_iter=75, rank=10 ..............................................\n",
      "[CV] .......... n_iter=75, rank=10, score=0.23802457214, total=  25.1s\n",
      "[CV] n_iter=75, rank=10 ..............................................\n",
      "[CV] ......... n_iter=75, rank=10, score=0.238160183863, total=  24.8s\n",
      "[CV] n_iter=100, rank=2 ..............................................\n",
      "[CV] ......... n_iter=100, rank=2, score=0.377894498875, total=   9.7s\n",
      "[CV] n_iter=100, rank=2 ..............................................\n",
      "[CV] ......... n_iter=100, rank=2, score=0.380994860494, total=  10.1s\n",
      "[CV] n_iter=100, rank=2 ..............................................\n",
      "[CV] ......... n_iter=100, rank=2, score=0.382781244839, total=   9.9s\n",
      "[CV] n_iter=100, rank=6 ..............................................\n",
      "[CV] ......... n_iter=100, rank=6, score=0.333286361404, total=  23.1s\n",
      "[CV] n_iter=100, rank=6 ..............................................\n",
      "[CV] ......... n_iter=100, rank=6, score=0.341873623863, total=  21.5s\n",
      "[CV] n_iter=100, rank=6 ..............................................\n",
      "[CV] ......... n_iter=100, rank=6, score=0.340224623376, total=  21.9s\n",
      "[CV] n_iter=100, rank=10 .............................................\n",
      "[CV] ........ n_iter=100, rank=10, score=0.212480283119, total=  33.0s\n",
      "[CV] n_iter=100, rank=10 .............................................\n",
      "[CV] ........ n_iter=100, rank=10, score=0.237478424926, total=  34.7s\n",
      "[CV] n_iter=100, rank=10 .............................................\n",
      "[CV] ........ n_iter=100, rank=10, score=0.236260543746, total=  33.7s\n"
     ]
    },
    {
     "name": "stderr",
     "output_type": "stream",
     "text": [
      "[Parallel(n_jobs=1)]: Done  36 out of  36 | elapsed:  8.2min finished\n"
     ]
    },
    {
     "name": "stdout",
     "output_type": "stream",
     "text": [
      "505.154567003\n",
      "---Factorization Machine---\n",
      "---Running iteration 7 ---\n",
      "---Subsetting Original Data---\n",
      "---Spliting Test and Train Data---\n",
      "---Encoding Data---\n",
      "---Hyperparameter Tuning---\n",
      "Fitting 3 folds for each of 12 candidates, totalling 36 fits\n",
      "[CV] n_iter=25, rank=2 ...............................................\n"
     ]
    },
    {
     "name": "stderr",
     "output_type": "stream",
     "text": [
      "[Parallel(n_jobs=1)]: Using backend SequentialBackend with 1 concurrent workers.\n"
     ]
    },
    {
     "name": "stdout",
     "output_type": "stream",
     "text": [
      "[CV] .......... n_iter=25, rank=2, score=0.384068437529, total=   2.1s\n",
      "[CV] n_iter=25, rank=2 ...............................................\n"
     ]
    },
    {
     "name": "stderr",
     "output_type": "stream",
     "text": [
      "[Parallel(n_jobs=1)]: Done   1 out of   1 | elapsed:    2.2s remaining:    0.0s\n"
     ]
    },
    {
     "name": "stdout",
     "output_type": "stream",
     "text": [
      "[CV] .......... n_iter=25, rank=2, score=0.385145571429, total=   2.1s\n",
      "[CV] n_iter=25, rank=2 ...............................................\n"
     ]
    },
    {
     "name": "stderr",
     "output_type": "stream",
     "text": [
      "[Parallel(n_jobs=1)]: Done   2 out of   2 | elapsed:    4.3s remaining:    0.0s\n"
     ]
    },
    {
     "name": "stdout",
     "output_type": "stream",
     "text": [
      "[CV] .......... n_iter=25, rank=2, score=0.383895118277, total=   2.2s\n",
      "[CV] n_iter=25, rank=6 ...............................................\n"
     ]
    },
    {
     "name": "stderr",
     "output_type": "stream",
     "text": [
      "[Parallel(n_jobs=1)]: Done   3 out of   3 | elapsed:    6.6s remaining:    0.0s\n"
     ]
    },
    {
     "name": "stdout",
     "output_type": "stream",
     "text": [
      "[CV] .......... n_iter=25, rank=6, score=0.342485076448, total=   4.7s\n",
      "[CV] n_iter=25, rank=6 ...............................................\n"
     ]
    },
    {
     "name": "stderr",
     "output_type": "stream",
     "text": [
      "[Parallel(n_jobs=1)]: Done   4 out of   4 | elapsed:   11.4s remaining:    0.0s\n"
     ]
    },
    {
     "name": "stdout",
     "output_type": "stream",
     "text": [
      "[CV] .......... n_iter=25, rank=6, score=0.347256256362, total=   4.5s\n",
      "[CV] n_iter=25, rank=6 ...............................................\n"
     ]
    },
    {
     "name": "stderr",
     "output_type": "stream",
     "text": [
      "[Parallel(n_jobs=1)]: Done   5 out of   5 | elapsed:   15.9s remaining:    0.0s\n"
     ]
    },
    {
     "name": "stdout",
     "output_type": "stream",
     "text": [
      "[CV] ........... n_iter=25, rank=6, score=0.34433627978, total=   4.5s\n",
      "[CV] n_iter=25, rank=10 ..............................................\n"
     ]
    },
    {
     "name": "stderr",
     "output_type": "stream",
     "text": [
      "[Parallel(n_jobs=1)]: Done   6 out of   6 | elapsed:   20.5s remaining:    0.0s\n"
     ]
    },
    {
     "name": "stdout",
     "output_type": "stream",
     "text": [
      "[CV] ......... n_iter=25, rank=10, score=0.257587344413, total=   7.4s\n",
      "[CV] n_iter=25, rank=10 ..............................................\n"
     ]
    },
    {
     "name": "stderr",
     "output_type": "stream",
     "text": [
      "[Parallel(n_jobs=1)]: Done   7 out of   7 | elapsed:   28.0s remaining:    0.0s\n"
     ]
    },
    {
     "name": "stdout",
     "output_type": "stream",
     "text": [
      "[CV] ......... n_iter=25, rank=10, score=0.253439080535, total=   7.0s\n",
      "[CV] n_iter=25, rank=10 ..............................................\n"
     ]
    },
    {
     "name": "stderr",
     "output_type": "stream",
     "text": [
      "[Parallel(n_jobs=1)]: Done   8 out of   8 | elapsed:   35.1s remaining:    0.0s\n"
     ]
    },
    {
     "name": "stdout",
     "output_type": "stream",
     "text": [
      "[CV] ......... n_iter=25, rank=10, score=0.250493952797, total=   6.8s\n",
      "[CV] n_iter=50, rank=2 ...............................................\n"
     ]
    },
    {
     "name": "stderr",
     "output_type": "stream",
     "text": [
      "[Parallel(n_jobs=1)]: Done   9 out of   9 | elapsed:   42.0s remaining:    0.0s\n"
     ]
    },
    {
     "name": "stdout",
     "output_type": "stream",
     "text": [
      "[CV] .......... n_iter=50, rank=2, score=0.383938449004, total=   4.3s\n",
      "[CV] n_iter=50, rank=2 ...............................................\n",
      "[CV] .......... n_iter=50, rank=2, score=0.385561064433, total=   4.0s\n",
      "[CV] n_iter=50, rank=2 ...............................................\n",
      "[CV] .......... n_iter=50, rank=2, score=0.383765493684, total=   4.0s\n",
      "[CV] n_iter=50, rank=6 ...............................................\n",
      "[CV] .......... n_iter=50, rank=6, score=0.343615508753, total=   9.3s\n",
      "[CV] n_iter=50, rank=6 ...............................................\n",
      "[CV] .......... n_iter=50, rank=6, score=0.346293640796, total=   9.0s\n",
      "[CV] n_iter=50, rank=6 ...............................................\n",
      "[CV] .......... n_iter=50, rank=6, score=0.342830399279, total=   8.8s\n",
      "[CV] n_iter=50, rank=10 ..............................................\n",
      "[CV] ......... n_iter=50, rank=10, score=0.248235330044, total=  14.5s\n",
      "[CV] n_iter=50, rank=10 ..............................................\n",
      "[CV] ......... n_iter=50, rank=10, score=0.241531490906, total=  13.7s\n",
      "[CV] n_iter=50, rank=10 ..............................................\n",
      "[CV] ......... n_iter=50, rank=10, score=0.233899801028, total=  13.5s\n",
      "[CV] n_iter=75, rank=2 ...............................................\n",
      "[CV] .......... n_iter=75, rank=2, score=0.384356870609, total=   6.3s\n",
      "[CV] n_iter=75, rank=2 ...............................................\n",
      "[CV] .......... n_iter=75, rank=2, score=0.385815186007, total=   6.0s\n",
      "[CV] n_iter=75, rank=2 ...............................................\n",
      "[CV] .......... n_iter=75, rank=2, score=0.384099050812, total=   6.0s\n",
      "[CV] n_iter=75, rank=6 ...............................................\n",
      "[CV] .......... n_iter=75, rank=6, score=0.345628119058, total=  13.9s\n",
      "[CV] n_iter=75, rank=6 ...............................................\n",
      "[CV] .......... n_iter=75, rank=6, score=0.343639281436, total=  13.2s\n",
      "[CV] n_iter=75, rank=6 ...............................................\n",
      "[CV] ........... n_iter=75, rank=6, score=0.34151882084, total=  13.1s\n",
      "[CV] n_iter=75, rank=10 ..............................................\n",
      "[CV] ......... n_iter=75, rank=10, score=0.242637335864, total=  21.6s\n",
      "[CV] n_iter=75, rank=10 ..............................................\n",
      "[CV] ......... n_iter=75, rank=10, score=0.235470199258, total=  20.3s\n",
      "[CV] n_iter=75, rank=10 ..............................................\n",
      "[CV] ......... n_iter=75, rank=10, score=0.229316416386, total=  20.3s\n",
      "[CV] n_iter=100, rank=2 ..............................................\n",
      "[CV] ......... n_iter=100, rank=2, score=0.384576605139, total=   8.4s\n",
      "[CV] n_iter=100, rank=2 ..............................................\n",
      "[CV] ......... n_iter=100, rank=2, score=0.386025129648, total=   8.0s\n",
      "[CV] n_iter=100, rank=2 ..............................................\n",
      "[CV] ......... n_iter=100, rank=2, score=0.384361296326, total=   8.0s\n",
      "[CV] n_iter=100, rank=6 ..............................................\n",
      "[CV] ......... n_iter=100, rank=6, score=0.345344614333, total=  18.6s\n",
      "[CV] n_iter=100, rank=6 ..............................................\n",
      "[CV] ......... n_iter=100, rank=6, score=0.342217660351, total=  17.6s\n",
      "[CV] n_iter=100, rank=6 ..............................................\n",
      "[CV] ......... n_iter=100, rank=6, score=0.341979427348, total=  17.5s\n",
      "[CV] n_iter=100, rank=10 .............................................\n",
      "[CV] ........ n_iter=100, rank=10, score=0.239052067914, total=  28.6s\n",
      "[CV] n_iter=100, rank=10 .............................................\n",
      "[CV] ........ n_iter=100, rank=10, score=0.234849509765, total=  27.1s\n",
      "[CV] n_iter=100, rank=10 .............................................\n",
      "[CV] ........ n_iter=100, rank=10, score=0.225816065415, total=  27.4s\n"
     ]
    },
    {
     "name": "stderr",
     "output_type": "stream",
     "text": [
      "[Parallel(n_jobs=1)]: Done  36 out of  36 | elapsed:  6.8min finished\n"
     ]
    },
    {
     "name": "stdout",
     "output_type": "stream",
     "text": [
      "423.498339176\n",
      "---Factorization Machine---\n",
      "---Running iteration 8 ---\n",
      "---Subsetting Original Data---\n",
      "---Spliting Test and Train Data---\n",
      "---Encoding Data---\n",
      "---Hyperparameter Tuning---\n",
      "Fitting 3 folds for each of 12 candidates, totalling 36 fits\n",
      "[CV] n_iter=25, rank=2 ...............................................\n"
     ]
    },
    {
     "name": "stderr",
     "output_type": "stream",
     "text": [
      "[Parallel(n_jobs=1)]: Using backend SequentialBackend with 1 concurrent workers.\n"
     ]
    },
    {
     "name": "stdout",
     "output_type": "stream",
     "text": [
      "[CV] .......... n_iter=25, rank=2, score=0.385190143937, total=   1.6s\n",
      "[CV] n_iter=25, rank=2 ...............................................\n"
     ]
    },
    {
     "name": "stderr",
     "output_type": "stream",
     "text": [
      "[Parallel(n_jobs=1)]: Done   1 out of   1 | elapsed:    1.6s remaining:    0.0s\n"
     ]
    },
    {
     "name": "stdout",
     "output_type": "stream",
     "text": [
      "[CV] .......... n_iter=25, rank=2, score=0.390671433975, total=   1.5s\n",
      "[CV] n_iter=25, rank=2 ...............................................\n"
     ]
    },
    {
     "name": "stderr",
     "output_type": "stream",
     "text": [
      "[Parallel(n_jobs=1)]: Done   2 out of   2 | elapsed:    3.2s remaining:    0.0s\n"
     ]
    },
    {
     "name": "stdout",
     "output_type": "stream",
     "text": [
      "[CV] .......... n_iter=25, rank=2, score=0.387614641256, total=   1.5s\n",
      "[CV] n_iter=25, rank=6 ...............................................\n"
     ]
    },
    {
     "name": "stderr",
     "output_type": "stream",
     "text": [
      "[Parallel(n_jobs=1)]: Done   3 out of   3 | elapsed:    4.7s remaining:    0.0s\n"
     ]
    },
    {
     "name": "stdout",
     "output_type": "stream",
     "text": [
      "[CV] .......... n_iter=25, rank=6, score=0.345601899612, total=   3.4s\n",
      "[CV] n_iter=25, rank=6 ...............................................\n"
     ]
    },
    {
     "name": "stderr",
     "output_type": "stream",
     "text": [
      "[Parallel(n_jobs=1)]: Done   4 out of   4 | elapsed:    8.1s remaining:    0.0s\n"
     ]
    },
    {
     "name": "stdout",
     "output_type": "stream",
     "text": [
      "[CV] .......... n_iter=25, rank=6, score=0.350005210813, total=   3.4s\n",
      "[CV] n_iter=25, rank=6 ...............................................\n"
     ]
    },
    {
     "name": "stderr",
     "output_type": "stream",
     "text": [
      "[Parallel(n_jobs=1)]: Done   5 out of   5 | elapsed:   11.6s remaining:    0.0s\n"
     ]
    },
    {
     "name": "stdout",
     "output_type": "stream",
     "text": [
      "[CV] .......... n_iter=25, rank=6, score=0.328897331036, total=   3.3s\n",
      "[CV] n_iter=25, rank=10 ..............................................\n"
     ]
    },
    {
     "name": "stderr",
     "output_type": "stream",
     "text": [
      "[Parallel(n_jobs=1)]: Done   6 out of   6 | elapsed:   14.9s remaining:    0.0s\n"
     ]
    },
    {
     "name": "stdout",
     "output_type": "stream",
     "text": [
      "[CV] ......... n_iter=25, rank=10, score=0.244459895426, total=   5.1s\n",
      "[CV] n_iter=25, rank=10 ..............................................\n"
     ]
    },
    {
     "name": "stderr",
     "output_type": "stream",
     "text": [
      "[Parallel(n_jobs=1)]: Done   7 out of   7 | elapsed:   20.1s remaining:    0.0s\n"
     ]
    },
    {
     "name": "stdout",
     "output_type": "stream",
     "text": [
      "[CV] ......... n_iter=25, rank=10, score=0.251289502874, total=   5.2s\n",
      "[CV] n_iter=25, rank=10 ..............................................\n"
     ]
    },
    {
     "name": "stderr",
     "output_type": "stream",
     "text": [
      "[Parallel(n_jobs=1)]: Done   8 out of   8 | elapsed:   25.4s remaining:    0.0s\n"
     ]
    },
    {
     "name": "stdout",
     "output_type": "stream",
     "text": [
      "[CV] ......... n_iter=25, rank=10, score=0.239552745293, total=   5.2s\n",
      "[CV] n_iter=50, rank=2 ...............................................\n"
     ]
    },
    {
     "name": "stderr",
     "output_type": "stream",
     "text": [
      "[Parallel(n_jobs=1)]: Done   9 out of   9 | elapsed:   30.6s remaining:    0.0s\n"
     ]
    },
    {
     "name": "stdout",
     "output_type": "stream",
     "text": [
      "[CV] .......... n_iter=50, rank=2, score=0.384469967896, total=   2.9s\n",
      "[CV] n_iter=50, rank=2 ...............................................\n",
      "[CV] .......... n_iter=50, rank=2, score=0.390567983178, total=   3.0s\n",
      "[CV] n_iter=50, rank=2 ...............................................\n",
      "[CV] ........... n_iter=50, rank=2, score=0.38718798982, total=   3.0s\n",
      "[CV] n_iter=50, rank=6 ...............................................\n",
      "[CV] .......... n_iter=50, rank=6, score=0.342748651783, total=   6.5s\n",
      "[CV] n_iter=50, rank=6 ...............................................\n",
      "[CV] .......... n_iter=50, rank=6, score=0.344664218162, total=   6.5s\n",
      "[CV] n_iter=50, rank=6 ...............................................\n",
      "[CV] .......... n_iter=50, rank=6, score=0.334747865966, total=   6.7s\n",
      "[CV] n_iter=50, rank=10 ..............................................\n",
      "[CV] ......... n_iter=50, rank=10, score=0.227594473638, total=  10.2s\n",
      "[CV] n_iter=50, rank=10 ..............................................\n",
      "[CV] ......... n_iter=50, rank=10, score=0.234071552078, total=  10.2s\n",
      "[CV] n_iter=50, rank=10 ..............................................\n",
      "[CV] ......... n_iter=50, rank=10, score=0.231535180617, total=  10.2s\n",
      "[CV] n_iter=75, rank=2 ...............................................\n",
      "[CV] .......... n_iter=75, rank=2, score=0.384342665095, total=   4.4s\n",
      "[CV] n_iter=75, rank=2 ...............................................\n",
      "[CV] .......... n_iter=75, rank=2, score=0.390622224984, total=   4.5s\n",
      "[CV] n_iter=75, rank=2 ...............................................\n",
      "[CV] .......... n_iter=75, rank=2, score=0.387375103983, total=   4.5s\n",
      "[CV] n_iter=75, rank=6 ...............................................\n",
      "[CV] .......... n_iter=75, rank=6, score=0.343167162876, total=  10.0s\n",
      "[CV] n_iter=75, rank=6 ...............................................\n",
      "[CV] .......... n_iter=75, rank=6, score=0.343912359033, total=  10.0s\n",
      "[CV] n_iter=75, rank=6 ...............................................\n",
      "[CV] .......... n_iter=75, rank=6, score=0.338106568704, total=   9.9s\n",
      "[CV] n_iter=75, rank=10 ..............................................\n",
      "[CV] ......... n_iter=75, rank=10, score=0.220403435954, total=  15.0s\n",
      "[CV] n_iter=75, rank=10 ..............................................\n",
      "[CV] .......... n_iter=75, rank=10, score=0.22714366233, total=  15.2s\n",
      "[CV] n_iter=75, rank=10 ..............................................\n",
      "[CV] ......... n_iter=75, rank=10, score=0.221663162974, total=  15.5s\n",
      "[CV] n_iter=100, rank=2 ..............................................\n",
      "[CV] ......... n_iter=100, rank=2, score=0.384394644407, total=   5.8s\n",
      "[CV] n_iter=100, rank=2 ..............................................\n",
      "[CV] ......... n_iter=100, rank=2, score=0.390726459414, total=   5.8s\n",
      "[CV] n_iter=100, rank=2 ..............................................\n",
      "[CV] ......... n_iter=100, rank=2, score=0.387356595996, total=   5.9s\n",
      "[CV] n_iter=100, rank=6 ..............................................\n",
      "[CV] .......... n_iter=100, rank=6, score=0.34303140382, total=  13.1s\n",
      "[CV] n_iter=100, rank=6 ..............................................\n",
      "[CV] ......... n_iter=100, rank=6, score=0.344991649391, total=  13.1s\n",
      "[CV] n_iter=100, rank=6 ..............................................\n",
      "[CV] ......... n_iter=100, rank=6, score=0.337783163016, total=  13.1s\n",
      "[CV] n_iter=100, rank=10 .............................................\n",
      "[CV] ........ n_iter=100, rank=10, score=0.219383218354, total=  20.1s\n",
      "[CV] n_iter=100, rank=10 .............................................\n",
      "[CV] ........ n_iter=100, rank=10, score=0.224870834596, total=  20.4s\n",
      "[CV] n_iter=100, rank=10 .............................................\n",
      "[CV] ........ n_iter=100, rank=10, score=0.216197484772, total=  20.2s\n"
     ]
    },
    {
     "name": "stderr",
     "output_type": "stream",
     "text": [
      "[Parallel(n_jobs=1)]: Done  36 out of  36 | elapsed:  5.0min finished\n"
     ]
    },
    {
     "name": "stdout",
     "output_type": "stream",
     "text": [
      "300.795085192\n",
      "---Factorization Machine---\n",
      "---Running iteration 9 ---\n",
      "---Subsetting Original Data---\n",
      "---Spliting Test and Train Data---\n",
      "---Encoding Data---\n",
      "---Hyperparameter Tuning---\n",
      "Fitting 3 folds for each of 12 candidates, totalling 36 fits\n",
      "[CV] n_iter=25, rank=2 ...............................................\n"
     ]
    },
    {
     "name": "stderr",
     "output_type": "stream",
     "text": [
      "[Parallel(n_jobs=1)]: Using backend SequentialBackend with 1 concurrent workers.\n"
     ]
    },
    {
     "name": "stdout",
     "output_type": "stream",
     "text": [
      "[CV] .......... n_iter=25, rank=2, score=0.381815283878, total=   0.8s\n",
      "[CV] n_iter=25, rank=2 ...............................................\n"
     ]
    },
    {
     "name": "stderr",
     "output_type": "stream",
     "text": [
      "[Parallel(n_jobs=1)]: Done   1 out of   1 | elapsed:    0.8s remaining:    0.0s\n"
     ]
    },
    {
     "name": "stdout",
     "output_type": "stream",
     "text": [
      "[CV] ........... n_iter=25, rank=2, score=0.37979092657, total=   0.8s\n",
      "[CV] n_iter=25, rank=2 ...............................................\n"
     ]
    },
    {
     "name": "stderr",
     "output_type": "stream",
     "text": [
      "[Parallel(n_jobs=1)]: Done   2 out of   2 | elapsed:    1.6s remaining:    0.0s\n"
     ]
    },
    {
     "name": "stdout",
     "output_type": "stream",
     "text": [
      "[CV] .......... n_iter=25, rank=2, score=0.386250651145, total=   0.8s\n",
      "[CV] n_iter=25, rank=6 ...............................................\n"
     ]
    },
    {
     "name": "stderr",
     "output_type": "stream",
     "text": [
      "[Parallel(n_jobs=1)]: Done   3 out of   3 | elapsed:    2.4s remaining:    0.0s\n"
     ]
    },
    {
     "name": "stdout",
     "output_type": "stream",
     "text": [
      "[CV] ........... n_iter=25, rank=6, score=0.30012880634, total=   1.7s\n",
      "[CV] n_iter=25, rank=6 ...............................................\n"
     ]
    },
    {
     "name": "stderr",
     "output_type": "stream",
     "text": [
      "[Parallel(n_jobs=1)]: Done   4 out of   4 | elapsed:    4.2s remaining:    0.0s\n"
     ]
    },
    {
     "name": "stdout",
     "output_type": "stream",
     "text": [
      "[CV] .......... n_iter=25, rank=6, score=0.306476350052, total=   1.7s\n",
      "[CV] n_iter=25, rank=6 ...............................................\n"
     ]
    },
    {
     "name": "stderr",
     "output_type": "stream",
     "text": [
      "[Parallel(n_jobs=1)]: Done   5 out of   5 | elapsed:    5.9s remaining:    0.0s\n"
     ]
    },
    {
     "name": "stdout",
     "output_type": "stream",
     "text": [
      "[CV] .......... n_iter=25, rank=6, score=0.302609597276, total=   1.7s\n",
      "[CV] n_iter=25, rank=10 ..............................................\n"
     ]
    },
    {
     "name": "stderr",
     "output_type": "stream",
     "text": [
      "[Parallel(n_jobs=1)]: Done   6 out of   6 | elapsed:    7.7s remaining:    0.0s\n"
     ]
    },
    {
     "name": "stdout",
     "output_type": "stream",
     "text": [
      "[CV] ......... n_iter=25, rank=10, score=0.176615002525, total=   2.7s\n",
      "[CV] n_iter=25, rank=10 ..............................................\n"
     ]
    },
    {
     "name": "stderr",
     "output_type": "stream",
     "text": [
      "[Parallel(n_jobs=1)]: Done   7 out of   7 | elapsed:   10.4s remaining:    0.0s\n"
     ]
    },
    {
     "name": "stdout",
     "output_type": "stream",
     "text": [
      "[CV] ......... n_iter=25, rank=10, score=0.198553703209, total=   2.6s\n",
      "[CV] n_iter=25, rank=10 ..............................................\n"
     ]
    },
    {
     "name": "stderr",
     "output_type": "stream",
     "text": [
      "[Parallel(n_jobs=1)]: Done   8 out of   8 | elapsed:   13.1s remaining:    0.0s\n"
     ]
    },
    {
     "name": "stdout",
     "output_type": "stream",
     "text": [
      "[CV] ......... n_iter=25, rank=10, score=0.173401736084, total=   2.6s\n",
      "[CV] n_iter=50, rank=2 ...............................................\n"
     ]
    },
    {
     "name": "stderr",
     "output_type": "stream",
     "text": [
      "[Parallel(n_jobs=1)]: Done   9 out of   9 | elapsed:   15.7s remaining:    0.0s\n"
     ]
    },
    {
     "name": "stdout",
     "output_type": "stream",
     "text": [
      "[CV] ........... n_iter=50, rank=2, score=0.37954081501, total=   1.5s\n",
      "[CV] n_iter=50, rank=2 ...............................................\n",
      "[CV] .......... n_iter=50, rank=2, score=0.379618195925, total=   1.5s\n",
      "[CV] n_iter=50, rank=2 ...............................................\n",
      "[CV] .......... n_iter=50, rank=2, score=0.387121015324, total=   1.5s\n",
      "[CV] n_iter=50, rank=6 ...............................................\n",
      "[CV] .......... n_iter=50, rank=6, score=0.288097372138, total=   3.4s\n",
      "[CV] n_iter=50, rank=6 ...............................................\n",
      "[CV] .......... n_iter=50, rank=6, score=0.294310680367, total=   3.4s\n",
      "[CV] n_iter=50, rank=6 ...............................................\n",
      "[CV] .......... n_iter=50, rank=6, score=0.294519826743, total=   3.4s\n",
      "[CV] n_iter=50, rank=10 ..............................................\n",
      "[CV] ......... n_iter=50, rank=10, score=0.125232125674, total=   5.2s\n",
      "[CV] n_iter=50, rank=10 ..............................................\n",
      "[CV] ......... n_iter=50, rank=10, score=0.156939012652, total=   5.2s\n",
      "[CV] n_iter=50, rank=10 ..............................................\n",
      "[CV] ......... n_iter=50, rank=10, score=0.134456203313, total=   5.2s\n",
      "[CV] n_iter=75, rank=2 ...............................................\n",
      "[CV] ........... n_iter=75, rank=2, score=0.37453063778, total=   2.3s\n",
      "[CV] n_iter=75, rank=2 ...............................................\n",
      "[CV] .......... n_iter=75, rank=2, score=0.379644374157, total=   2.3s\n",
      "[CV] n_iter=75, rank=2 ...............................................\n",
      "[CV] .......... n_iter=75, rank=2, score=0.384866645466, total=   2.3s\n",
      "[CV] n_iter=75, rank=6 ...............................................\n",
      "[CV] ........... n_iter=75, rank=6, score=0.27974689021, total=   5.1s\n",
      "[CV] n_iter=75, rank=6 ...............................................\n",
      "[CV] .......... n_iter=75, rank=6, score=0.281065474249, total=   5.1s\n",
      "[CV] n_iter=75, rank=6 ...............................................\n",
      "[CV] .......... n_iter=75, rank=6, score=0.290842679592, total=   5.1s\n",
      "[CV] n_iter=75, rank=10 ..............................................\n",
      "[CV] ........ n_iter=75, rank=10, score=0.0992944695483, total=   7.8s\n",
      "[CV] n_iter=75, rank=10 ..............................................\n",
      "[CV] ......... n_iter=75, rank=10, score=0.124292367896, total=   7.8s\n",
      "[CV] n_iter=75, rank=10 ..............................................\n",
      "[CV] ......... n_iter=75, rank=10, score=0.120495126687, total=   7.8s\n",
      "[CV] n_iter=100, rank=2 ..............................................\n",
      "[CV] .......... n_iter=100, rank=2, score=0.37901771012, total=   3.0s\n",
      "[CV] n_iter=100, rank=2 ..............................................\n",
      "[CV] ......... n_iter=100, rank=2, score=0.379648426826, total=   3.0s\n",
      "[CV] n_iter=100, rank=2 ..............................................\n",
      "[CV] ......... n_iter=100, rank=2, score=0.384093554585, total=   3.0s\n",
      "[CV] n_iter=100, rank=6 ..............................................\n",
      "[CV] ......... n_iter=100, rank=6, score=0.274922598443, total=   6.7s\n",
      "[CV] n_iter=100, rank=6 ..............................................\n",
      "[CV] .......... n_iter=100, rank=6, score=0.27367178864, total=   6.7s\n",
      "[CV] n_iter=100, rank=6 ..............................................\n",
      "[CV] ......... n_iter=100, rank=6, score=0.290532464674, total=   6.8s\n",
      "[CV] n_iter=100, rank=10 .............................................\n",
      "[CV] ....... n_iter=100, rank=10, score=0.0833614190633, total=  10.3s\n",
      "[CV] n_iter=100, rank=10 .............................................\n",
      "[CV] ....... n_iter=100, rank=10, score=0.0997528232126, total=  10.3s\n",
      "[CV] n_iter=100, rank=10 .............................................\n",
      "[CV] ........ n_iter=100, rank=10, score=0.111918688834, total=  10.3s\n"
     ]
    },
    {
     "name": "stderr",
     "output_type": "stream",
     "text": [
      "[Parallel(n_jobs=1)]: Done  36 out of  36 | elapsed:  2.5min finished\n"
     ]
    },
    {
     "name": "stdout",
     "output_type": "stream",
     "text": [
      "153.8979702\n",
      "---Factorization Machine---\n"
     ]
    }
   ],
   "source": [
    "accuracy_matrix_user = FactorizationMachine(ratings, \"user\", quantile_list)"
   ]
  },
  {
   "cell_type": "code",
   "execution_count": 13,
   "metadata": {},
   "outputs": [
    {
     "data": {
      "text/html": [
       "<div>\n",
       "<style scoped>\n",
       "    .dataframe tbody tr th:only-of-type {\n",
       "        vertical-align: middle;\n",
       "    }\n",
       "\n",
       "    .dataframe tbody tr th {\n",
       "        vertical-align: top;\n",
       "    }\n",
       "\n",
       "    .dataframe thead th {\n",
       "        text-align: right;\n",
       "    }\n",
       "</style>\n",
       "<table border=\"1\" class=\"dataframe\">\n",
       "  <thead>\n",
       "    <tr style=\"text-align: right;\">\n",
       "      <th></th>\n",
       "      <th>Quantile</th>\n",
       "      <th>Threshold</th>\n",
       "      <th>Size</th>\n",
       "      <th>Num_Users</th>\n",
       "      <th>Num_Movies</th>\n",
       "      <th>Sparsity</th>\n",
       "      <th>OP_Iter</th>\n",
       "      <th>OP_Rank</th>\n",
       "      <th>Running Time</th>\n",
       "      <th>MAE</th>\n",
       "      <th>RMSE</th>\n",
       "      <th>Coverage</th>\n",
       "    </tr>\n",
       "  </thead>\n",
       "  <tbody>\n",
       "    <tr>\n",
       "      <th>0</th>\n",
       "      <td>0.1</td>\n",
       "      <td>27.0</td>\n",
       "      <td>2962770</td>\n",
       "      <td>5487</td>\n",
       "      <td>3702</td>\n",
       "      <td>0.05</td>\n",
       "      <td>100</td>\n",
       "      <td>2</td>\n",
       "      <td>749.441904</td>\n",
       "      <td>0.686313</td>\n",
       "      <td>0.874893</td>\n",
       "      <td>0.72</td>\n",
       "    </tr>\n",
       "    <tr>\n",
       "      <th>1</th>\n",
       "      <td>0.2</td>\n",
       "      <td>38.0</td>\n",
       "      <td>2900388</td>\n",
       "      <td>4835</td>\n",
       "      <td>3696</td>\n",
       "      <td>0.05</td>\n",
       "      <td>100</td>\n",
       "      <td>2</td>\n",
       "      <td>726.522744</td>\n",
       "      <td>0.686174</td>\n",
       "      <td>0.874300</td>\n",
       "      <td>0.68</td>\n",
       "    </tr>\n",
       "    <tr>\n",
       "      <th>2</th>\n",
       "      <td>0.3</td>\n",
       "      <td>51.0</td>\n",
       "      <td>2822913</td>\n",
       "      <td>4247</td>\n",
       "      <td>3689</td>\n",
       "      <td>0.06</td>\n",
       "      <td>100</td>\n",
       "      <td>2</td>\n",
       "      <td>695.690486</td>\n",
       "      <td>0.683980</td>\n",
       "      <td>0.871808</td>\n",
       "      <td>0.63</td>\n",
       "    </tr>\n",
       "    <tr>\n",
       "      <th>3</th>\n",
       "      <td>0.4</td>\n",
       "      <td>70.0</td>\n",
       "      <td>2712915</td>\n",
       "      <td>3631</td>\n",
       "      <td>3675</td>\n",
       "      <td>0.07</td>\n",
       "      <td>100</td>\n",
       "      <td>2</td>\n",
       "      <td>650.548518</td>\n",
       "      <td>0.684410</td>\n",
       "      <td>0.873204</td>\n",
       "      <td>0.55</td>\n",
       "    </tr>\n",
       "    <tr>\n",
       "      <th>4</th>\n",
       "      <td>0.5</td>\n",
       "      <td>96.0</td>\n",
       "      <td>2564124</td>\n",
       "      <td>3021</td>\n",
       "      <td>3671</td>\n",
       "      <td>0.08</td>\n",
       "      <td>100</td>\n",
       "      <td>2</td>\n",
       "      <td>599.391069</td>\n",
       "      <td>0.681567</td>\n",
       "      <td>0.868711</td>\n",
       "      <td>0.47</td>\n",
       "    </tr>\n",
       "    <tr>\n",
       "      <th>5</th>\n",
       "      <td>0.6</td>\n",
       "      <td>126.0</td>\n",
       "      <td>2369244</td>\n",
       "      <td>2429</td>\n",
       "      <td>3669</td>\n",
       "      <td>0.09</td>\n",
       "      <td>75</td>\n",
       "      <td>2</td>\n",
       "      <td>520.152280</td>\n",
       "      <td>0.681011</td>\n",
       "      <td>0.866332</td>\n",
       "      <td>0.41</td>\n",
       "    </tr>\n",
       "    <tr>\n",
       "      <th>6</th>\n",
       "      <td>0.7</td>\n",
       "      <td>173.0</td>\n",
       "      <td>2096814</td>\n",
       "      <td>1815</td>\n",
       "      <td>3663</td>\n",
       "      <td>0.11</td>\n",
       "      <td>100</td>\n",
       "      <td>2</td>\n",
       "      <td>440.161048</td>\n",
       "      <td>0.683118</td>\n",
       "      <td>0.868404</td>\n",
       "      <td>0.35</td>\n",
       "    </tr>\n",
       "    <tr>\n",
       "      <th>7</th>\n",
       "      <td>0.8</td>\n",
       "      <td>253.0</td>\n",
       "      <td>1721385</td>\n",
       "      <td>1215</td>\n",
       "      <td>3653</td>\n",
       "      <td>0.13</td>\n",
       "      <td>25</td>\n",
       "      <td>2</td>\n",
       "      <td>303.727144</td>\n",
       "      <td>0.679628</td>\n",
       "      <td>0.865176</td>\n",
       "      <td>0.27</td>\n",
       "    </tr>\n",
       "    <tr>\n",
       "      <th>8</th>\n",
       "      <td>0.9</td>\n",
       "      <td>400.0</td>\n",
       "      <td>1144221</td>\n",
       "      <td>605</td>\n",
       "      <td>3624</td>\n",
       "      <td>0.17</td>\n",
       "      <td>25</td>\n",
       "      <td>2</td>\n",
       "      <td>155.485739</td>\n",
       "      <td>0.683905</td>\n",
       "      <td>0.872241</td>\n",
       "      <td>0.20</td>\n",
       "    </tr>\n",
       "  </tbody>\n",
       "</table>\n",
       "</div>"
      ],
      "text/plain": [
       "   Quantile  Threshold     Size  Num_Users  Num_Movies  Sparsity  OP_Iter  \\\n",
       "0       0.1       27.0  2962770       5487        3702      0.05      100   \n",
       "1       0.2       38.0  2900388       4835        3696      0.05      100   \n",
       "2       0.3       51.0  2822913       4247        3689      0.06      100   \n",
       "3       0.4       70.0  2712915       3631        3675      0.07      100   \n",
       "4       0.5       96.0  2564124       3021        3671      0.08      100   \n",
       "5       0.6      126.0  2369244       2429        3669      0.09       75   \n",
       "6       0.7      173.0  2096814       1815        3663      0.11      100   \n",
       "7       0.8      253.0  1721385       1215        3653      0.13       25   \n",
       "8       0.9      400.0  1144221        605        3624      0.17       25   \n",
       "\n",
       "   OP_Rank  Running Time       MAE      RMSE  Coverage  \n",
       "0        2    749.441904  0.686313  0.874893      0.72  \n",
       "1        2    726.522744  0.686174  0.874300      0.68  \n",
       "2        2    695.690486  0.683980  0.871808      0.63  \n",
       "3        2    650.548518  0.684410  0.873204      0.55  \n",
       "4        2    599.391069  0.681567  0.868711      0.47  \n",
       "5        2    520.152280  0.681011  0.866332      0.41  \n",
       "6        2    440.161048  0.683118  0.868404      0.35  \n",
       "7        2    303.727144  0.679628  0.865176      0.27  \n",
       "8        2    155.485739  0.683905  0.872241      0.20  "
      ]
     },
     "execution_count": 13,
     "metadata": {},
     "output_type": "execute_result"
    }
   ],
   "source": [
    "accuracy_matrix_user"
   ]
  },
  {
   "cell_type": "code",
   "execution_count": 14,
   "metadata": {},
   "outputs": [],
   "source": [
    "#size_norm_u = normalize(accuracy_matrix_user['Size'][:,np.newaxis], axis=0).ravel()\n",
    "size_norm_u = 1-np.array(accuracy_matrix_user['Quantile'])"
   ]
  },
  {
   "cell_type": "code",
   "execution_count": 15,
   "metadata": {},
   "outputs": [],
   "source": [
    "time_u = np.array(accuracy_matrix_user['Running Time'])\n",
    "mae_u = np.array(accuracy_matrix_user['MAE'])\n",
    "rmse_u = np.array(accuracy_matrix_user['RMSE'])\n",
    "coverage_u = np.array(accuracy_matrix_user['Coverage'])"
   ]
  },
  {
   "cell_type": "markdown",
   "metadata": {},
   "source": [
    "### Subset method 2 - Subset data from less popular items to popular items"
   ]
  },
  {
   "cell_type": "code",
   "execution_count": 16,
   "metadata": {
    "collapsed": true
   },
   "outputs": [
    {
     "name": "stdout",
     "output_type": "stream",
     "text": [
      "---Running iteration 1 ---\n",
      "---Subsetting Original Data---\n",
      "---Spliting Test and Train Data---\n",
      "---Encoding Data---\n",
      "---Hyperparameter Tuning---\n",
      "Fitting 3 folds for each of 12 candidates, totalling 36 fits\n",
      "[CV] n_iter=25, rank=2 ...............................................\n"
     ]
    },
    {
     "name": "stderr",
     "output_type": "stream",
     "text": [
      "[Parallel(n_jobs=1)]: Using backend SequentialBackend with 1 concurrent workers.\n"
     ]
    },
    {
     "name": "stdout",
     "output_type": "stream",
     "text": [
      "[CV] .......... n_iter=25, rank=2, score=0.361294361769, total=   3.8s\n",
      "[CV] n_iter=25, rank=2 ...............................................\n"
     ]
    },
    {
     "name": "stderr",
     "output_type": "stream",
     "text": [
      "[Parallel(n_jobs=1)]: Done   1 out of   1 | elapsed:    3.9s remaining:    0.0s\n"
     ]
    },
    {
     "name": "stdout",
     "output_type": "stream",
     "text": [
      "[CV] .......... n_iter=25, rank=2, score=0.361372531607, total=   3.8s\n",
      "[CV] n_iter=25, rank=2 ...............................................\n"
     ]
    },
    {
     "name": "stderr",
     "output_type": "stream",
     "text": [
      "[Parallel(n_jobs=1)]: Done   2 out of   2 | elapsed:    7.8s remaining:    0.0s\n"
     ]
    },
    {
     "name": "stdout",
     "output_type": "stream",
     "text": [
      "[CV] .......... n_iter=25, rank=2, score=0.362866087129, total=   3.8s\n",
      "[CV] n_iter=25, rank=6 ...............................................\n"
     ]
    },
    {
     "name": "stderr",
     "output_type": "stream",
     "text": [
      "[Parallel(n_jobs=1)]: Done   3 out of   3 | elapsed:   11.7s remaining:    0.0s\n"
     ]
    },
    {
     "name": "stdout",
     "output_type": "stream",
     "text": [
      "[CV] .......... n_iter=25, rank=6, score=0.289246473802, total=   8.0s\n",
      "[CV] n_iter=25, rank=6 ...............................................\n"
     ]
    },
    {
     "name": "stderr",
     "output_type": "stream",
     "text": [
      "[Parallel(n_jobs=1)]: Done   4 out of   4 | elapsed:   19.8s remaining:    0.0s\n"
     ]
    },
    {
     "name": "stdout",
     "output_type": "stream",
     "text": [
      "[CV] .......... n_iter=25, rank=6, score=0.279287959748, total=   8.0s\n",
      "[CV] n_iter=25, rank=6 ...............................................\n"
     ]
    },
    {
     "name": "stderr",
     "output_type": "stream",
     "text": [
      "[Parallel(n_jobs=1)]: Done   5 out of   5 | elapsed:   27.9s remaining:    0.0s\n"
     ]
    },
    {
     "name": "stdout",
     "output_type": "stream",
     "text": [
      "[CV] .......... n_iter=25, rank=6, score=0.282780295449, total=   8.0s\n",
      "[CV] n_iter=25, rank=10 ..............................................\n"
     ]
    },
    {
     "name": "stderr",
     "output_type": "stream",
     "text": [
      "[Parallel(n_jobs=1)]: Done   6 out of   6 | elapsed:   36.0s remaining:    0.0s\n"
     ]
    },
    {
     "name": "stdout",
     "output_type": "stream",
     "text": [
      "[CV] ......... n_iter=25, rank=10, score=0.170036124146, total=  12.2s\n",
      "[CV] n_iter=25, rank=10 ..............................................\n"
     ]
    },
    {
     "name": "stderr",
     "output_type": "stream",
     "text": [
      "[Parallel(n_jobs=1)]: Done   7 out of   7 | elapsed:   48.3s remaining:    0.0s\n"
     ]
    },
    {
     "name": "stdout",
     "output_type": "stream",
     "text": [
      "[CV] ......... n_iter=25, rank=10, score=0.161725750411, total=  12.1s\n",
      "[CV] n_iter=25, rank=10 ..............................................\n"
     ]
    },
    {
     "name": "stderr",
     "output_type": "stream",
     "text": [
      "[Parallel(n_jobs=1)]: Done   8 out of   8 | elapsed:  1.0min remaining:    0.0s\n"
     ]
    },
    {
     "name": "stdout",
     "output_type": "stream",
     "text": [
      "[CV] ......... n_iter=25, rank=10, score=0.173902262144, total=  12.2s\n",
      "[CV] n_iter=50, rank=2 ...............................................\n"
     ]
    },
    {
     "name": "stderr",
     "output_type": "stream",
     "text": [
      "[Parallel(n_jobs=1)]: Done   9 out of   9 | elapsed:  1.2min remaining:    0.0s\n"
     ]
    },
    {
     "name": "stdout",
     "output_type": "stream",
     "text": [
      "[CV] .......... n_iter=50, rank=2, score=0.360662382883, total=   7.3s\n",
      "[CV] n_iter=50, rank=2 ...............................................\n",
      "[CV] .......... n_iter=50, rank=2, score=0.362010086954, total=   7.4s\n",
      "[CV] n_iter=50, rank=2 ...............................................\n",
      "[CV] .......... n_iter=50, rank=2, score=0.362560963929, total=   7.3s\n",
      "[CV] n_iter=50, rank=6 ...............................................\n",
      "[CV] .......... n_iter=50, rank=6, score=0.292668818021, total=  16.2s\n",
      "[CV] n_iter=50, rank=6 ...............................................\n",
      "[CV] .......... n_iter=50, rank=6, score=0.273338797767, total=  15.9s\n",
      "[CV] n_iter=50, rank=6 ...............................................\n",
      "[CV] .......... n_iter=50, rank=6, score=0.279390231712, total=  16.0s\n",
      "[CV] n_iter=50, rank=10 ..............................................\n",
      "[CV] ......... n_iter=50, rank=10, score=0.149091279612, total=  24.5s\n",
      "[CV] n_iter=50, rank=10 ..............................................\n",
      "[CV] .......... n_iter=50, rank=10, score=0.14100481333, total=  24.1s\n",
      "[CV] n_iter=50, rank=10 ..............................................\n",
      "[CV] ......... n_iter=50, rank=10, score=0.156907352949, total=  24.1s\n",
      "[CV] n_iter=75, rank=2 ...............................................\n",
      "[CV] .......... n_iter=75, rank=2, score=0.360878239753, total=  10.9s\n",
      "[CV] n_iter=75, rank=2 ...............................................\n",
      "[CV] .......... n_iter=75, rank=2, score=0.362166393833, total=  11.0s\n",
      "[CV] n_iter=75, rank=2 ...............................................\n",
      "[CV] .......... n_iter=75, rank=2, score=0.362660570511, total=  11.0s\n",
      "[CV] n_iter=75, rank=6 ...............................................\n",
      "[CV] .......... n_iter=75, rank=6, score=0.294369518092, total=  23.5s\n",
      "[CV] n_iter=75, rank=6 ...............................................\n",
      "[CV] .......... n_iter=75, rank=6, score=0.272433321209, total=  23.5s\n",
      "[CV] n_iter=75, rank=6 ...............................................\n",
      "[CV] .......... n_iter=75, rank=6, score=0.281265366928, total=  23.5s\n",
      "[CV] n_iter=75, rank=10 ..............................................\n",
      "[CV] ......... n_iter=75, rank=10, score=0.141329824333, total=  36.1s\n",
      "[CV] n_iter=75, rank=10 ..............................................\n",
      "[CV] ......... n_iter=75, rank=10, score=0.132835601622, total=  35.9s\n",
      "[CV] n_iter=75, rank=10 ..............................................\n",
      "[CV] ......... n_iter=75, rank=10, score=0.150751659683, total=  37.6s\n",
      "[CV] n_iter=100, rank=2 ..............................................\n",
      "[CV] ......... n_iter=100, rank=2, score=0.360813180938, total=  15.0s\n",
      "[CV] n_iter=100, rank=2 ..............................................\n",
      "[CV] ......... n_iter=100, rank=2, score=0.362327713934, total=  14.6s\n",
      "[CV] n_iter=100, rank=2 ..............................................\n",
      "[CV] ......... n_iter=100, rank=2, score=0.362792631378, total=  14.6s\n",
      "[CV] n_iter=100, rank=6 ..............................................\n",
      "[CV] ......... n_iter=100, rank=6, score=0.294165001539, total=  31.3s\n",
      "[CV] n_iter=100, rank=6 ..............................................\n",
      "[CV] .......... n_iter=100, rank=6, score=0.27337425042, total=  31.1s\n",
      "[CV] n_iter=100, rank=6 ..............................................\n",
      "[CV] ......... n_iter=100, rank=6, score=0.284207599424, total=  31.1s\n",
      "[CV] n_iter=100, rank=10 .............................................\n",
      "[CV] ........ n_iter=100, rank=10, score=0.139211424278, total=  47.9s\n",
      "[CV] n_iter=100, rank=10 .............................................\n",
      "[CV] ........ n_iter=100, rank=10, score=0.131473932987, total=  47.9s\n",
      "[CV] n_iter=100, rank=10 .............................................\n",
      "[CV] ........ n_iter=100, rank=10, score=0.149329083092, total=  47.8s\n"
     ]
    },
    {
     "name": "stderr",
     "output_type": "stream",
     "text": [
      "[Parallel(n_jobs=1)]: Done  36 out of  36 | elapsed: 11.9min finished\n"
     ]
    },
    {
     "name": "stdout",
     "output_type": "stream",
     "text": [
      "741.068608999\n",
      "---Factorization Machine---\n",
      "---Running iteration 2 ---\n",
      "---Subsetting Original Data---\n",
      "---Spliting Test and Train Data---\n",
      "---Encoding Data---\n",
      "---Hyperparameter Tuning---\n",
      "Fitting 3 folds for each of 12 candidates, totalling 36 fits\n",
      "[CV] n_iter=25, rank=2 ...............................................\n"
     ]
    },
    {
     "name": "stderr",
     "output_type": "stream",
     "text": [
      "[Parallel(n_jobs=1)]: Using backend SequentialBackend with 1 concurrent workers.\n"
     ]
    },
    {
     "name": "stdout",
     "output_type": "stream",
     "text": [
      "[CV] ........... n_iter=25, rank=2, score=0.36566584364, total=   3.8s\n",
      "[CV] n_iter=25, rank=2 ...............................................\n"
     ]
    },
    {
     "name": "stderr",
     "output_type": "stream",
     "text": [
      "[Parallel(n_jobs=1)]: Done   1 out of   1 | elapsed:    3.9s remaining:    0.0s\n"
     ]
    },
    {
     "name": "stdout",
     "output_type": "stream",
     "text": [
      "[CV] .......... n_iter=25, rank=2, score=0.366836859552, total=   3.7s\n",
      "[CV] n_iter=25, rank=2 ...............................................\n"
     ]
    },
    {
     "name": "stderr",
     "output_type": "stream",
     "text": [
      "[Parallel(n_jobs=1)]: Done   2 out of   2 | elapsed:    7.7s remaining:    0.0s\n"
     ]
    },
    {
     "name": "stdout",
     "output_type": "stream",
     "text": [
      "[CV] .......... n_iter=25, rank=2, score=0.367157009865, total=   3.7s\n",
      "[CV] n_iter=25, rank=6 ...............................................\n"
     ]
    },
    {
     "name": "stderr",
     "output_type": "stream",
     "text": [
      "[Parallel(n_jobs=1)]: Done   3 out of   3 | elapsed:   11.5s remaining:    0.0s\n"
     ]
    },
    {
     "name": "stdout",
     "output_type": "stream",
     "text": [
      "[CV] .......... n_iter=25, rank=6, score=0.291830882465, total=   7.9s\n",
      "[CV] n_iter=25, rank=6 ...............................................\n"
     ]
    },
    {
     "name": "stderr",
     "output_type": "stream",
     "text": [
      "[Parallel(n_jobs=1)]: Done   4 out of   4 | elapsed:   19.5s remaining:    0.0s\n"
     ]
    },
    {
     "name": "stdout",
     "output_type": "stream",
     "text": [
      "[CV] .......... n_iter=25, rank=6, score=0.291396002632, total=   7.9s\n",
      "[CV] n_iter=25, rank=6 ...............................................\n"
     ]
    },
    {
     "name": "stderr",
     "output_type": "stream",
     "text": [
      "[Parallel(n_jobs=1)]: Done   5 out of   5 | elapsed:   27.6s remaining:    0.0s\n"
     ]
    },
    {
     "name": "stdout",
     "output_type": "stream",
     "text": [
      "[CV] .......... n_iter=25, rank=6, score=0.292877572086, total=   7.9s\n",
      "[CV] n_iter=25, rank=10 ..............................................\n"
     ]
    },
    {
     "name": "stderr",
     "output_type": "stream",
     "text": [
      "[Parallel(n_jobs=1)]: Done   6 out of   6 | elapsed:   35.6s remaining:    0.0s\n"
     ]
    },
    {
     "name": "stdout",
     "output_type": "stream",
     "text": [
      "[CV] ......... n_iter=25, rank=10, score=0.179406809116, total=  12.2s\n",
      "[CV] n_iter=25, rank=10 ..............................................\n"
     ]
    },
    {
     "name": "stderr",
     "output_type": "stream",
     "text": [
      "[Parallel(n_jobs=1)]: Done   7 out of   7 | elapsed:   48.0s remaining:    0.0s\n"
     ]
    },
    {
     "name": "stdout",
     "output_type": "stream",
     "text": [
      "[CV] ......... n_iter=25, rank=10, score=0.168154577373, total=  12.0s\n",
      "[CV] n_iter=25, rank=10 ..............................................\n"
     ]
    },
    {
     "name": "stderr",
     "output_type": "stream",
     "text": [
      "[Parallel(n_jobs=1)]: Done   8 out of   8 | elapsed:  1.0min remaining:    0.0s\n"
     ]
    },
    {
     "name": "stdout",
     "output_type": "stream",
     "text": [
      "[CV] ......... n_iter=25, rank=10, score=0.171410325807, total=  12.0s\n",
      "[CV] n_iter=50, rank=2 ...............................................\n"
     ]
    },
    {
     "name": "stderr",
     "output_type": "stream",
     "text": [
      "[Parallel(n_jobs=1)]: Done   9 out of   9 | elapsed:  1.2min remaining:    0.0s\n"
     ]
    },
    {
     "name": "stdout",
     "output_type": "stream",
     "text": [
      "[CV] .......... n_iter=50, rank=2, score=0.364423945909, total=   7.3s\n",
      "[CV] n_iter=50, rank=2 ...............................................\n",
      "[CV] .......... n_iter=50, rank=2, score=0.366592353779, total=   7.4s\n",
      "[CV] n_iter=50, rank=2 ...............................................\n",
      "[CV] .......... n_iter=50, rank=2, score=0.366474166866, total=   7.3s\n",
      "[CV] n_iter=50, rank=6 ...............................................\n",
      "[CV] ........... n_iter=50, rank=6, score=0.28766856079, total=  15.7s\n",
      "[CV] n_iter=50, rank=6 ...............................................\n",
      "[CV] .......... n_iter=50, rank=6, score=0.289980964277, total=  15.8s\n",
      "[CV] n_iter=50, rank=6 ...............................................\n",
      "[CV] .......... n_iter=50, rank=6, score=0.288182221311, total=  15.5s\n",
      "[CV] n_iter=50, rank=10 ..............................................\n",
      "[CV] ......... n_iter=50, rank=10, score=0.157099391207, total=  23.9s\n",
      "[CV] n_iter=50, rank=10 ..............................................\n",
      "[CV] ......... n_iter=50, rank=10, score=0.147764685462, total=  23.9s\n",
      "[CV] n_iter=50, rank=10 ..............................................\n",
      "[CV] ......... n_iter=50, rank=10, score=0.148096579684, total=  23.8s\n",
      "[CV] n_iter=75, rank=2 ...............................................\n",
      "[CV] .......... n_iter=75, rank=2, score=0.364127137796, total=  10.9s\n",
      "[CV] n_iter=75, rank=2 ...............................................\n",
      "[CV] .......... n_iter=75, rank=2, score=0.366338408938, total=  10.9s\n",
      "[CV] n_iter=75, rank=2 ...............................................\n",
      "[CV] .......... n_iter=75, rank=2, score=0.366245202009, total=  11.3s\n",
      "[CV] n_iter=75, rank=6 ...............................................\n",
      "[CV] .......... n_iter=75, rank=6, score=0.287487532743, total=  24.5s\n",
      "[CV] n_iter=75, rank=6 ...............................................\n",
      "[CV] .......... n_iter=75, rank=6, score=0.287155803383, total=  23.9s\n",
      "[CV] n_iter=75, rank=6 ...............................................\n",
      "[CV] .......... n_iter=75, rank=6, score=0.286775547923, total=  23.2s\n",
      "[CV] n_iter=75, rank=10 ..............................................\n",
      "[CV] ......... n_iter=75, rank=10, score=0.148410453744, total=  35.5s\n",
      "[CV] n_iter=75, rank=10 ..............................................\n",
      "[CV] ......... n_iter=75, rank=10, score=0.135355060164, total=  35.8s\n",
      "[CV] n_iter=75, rank=10 ..............................................\n",
      "[CV] ......... n_iter=75, rank=10, score=0.140025326494, total=  35.7s\n",
      "[CV] n_iter=100, rank=2 ..............................................\n",
      "[CV] ......... n_iter=100, rank=2, score=0.363952272202, total=  14.4s\n",
      "[CV] n_iter=100, rank=2 ..............................................\n",
      "[CV] ......... n_iter=100, rank=2, score=0.366280465139, total=  14.6s\n",
      "[CV] n_iter=100, rank=2 ..............................................\n",
      "[CV] ......... n_iter=100, rank=2, score=0.366173298777, total=  14.7s\n",
      "[CV] n_iter=100, rank=6 ..............................................\n",
      "[CV] ......... n_iter=100, rank=6, score=0.287803766995, total=  30.9s\n",
      "[CV] n_iter=100, rank=6 ..............................................\n",
      "[CV] ......... n_iter=100, rank=6, score=0.285361581248, total=  30.9s\n",
      "[CV] n_iter=100, rank=6 ..............................................\n",
      "[CV] ......... n_iter=100, rank=6, score=0.285353738042, total=  31.1s\n",
      "[CV] n_iter=100, rank=10 .............................................\n",
      "[CV] ........ n_iter=100, rank=10, score=0.143266743749, total=  47.2s\n",
      "[CV] n_iter=100, rank=10 .............................................\n",
      "[CV] ........ n_iter=100, rank=10, score=0.130442289652, total=  47.5s\n",
      "[CV] n_iter=100, rank=10 .............................................\n",
      "[CV] ........ n_iter=100, rank=10, score=0.138347306508, total=  47.4s\n"
     ]
    },
    {
     "name": "stderr",
     "output_type": "stream",
     "text": [
      "[Parallel(n_jobs=1)]: Done  36 out of  36 | elapsed: 11.8min finished\n"
     ]
    },
    {
     "name": "stdout",
     "output_type": "stream",
     "text": [
      "713.31160903\n",
      "---Factorization Machine---\n",
      "---Running iteration 3 ---\n",
      "---Subsetting Original Data---\n",
      "---Spliting Test and Train Data---\n",
      "---Encoding Data---\n",
      "---Hyperparameter Tuning---\n",
      "Fitting 3 folds for each of 12 candidates, totalling 36 fits\n",
      "[CV] n_iter=25, rank=2 ...............................................\n"
     ]
    },
    {
     "name": "stderr",
     "output_type": "stream",
     "text": [
      "[Parallel(n_jobs=1)]: Using backend SequentialBackend with 1 concurrent workers.\n"
     ]
    },
    {
     "name": "stdout",
     "output_type": "stream",
     "text": [
      "[CV] .......... n_iter=25, rank=2, score=0.366574842917, total=   3.7s\n",
      "[CV] n_iter=25, rank=2 ...............................................\n"
     ]
    },
    {
     "name": "stderr",
     "output_type": "stream",
     "text": [
      "[Parallel(n_jobs=1)]: Done   1 out of   1 | elapsed:    3.8s remaining:    0.0s\n"
     ]
    },
    {
     "name": "stdout",
     "output_type": "stream",
     "text": [
      "[CV] .......... n_iter=25, rank=2, score=0.367686688991, total=   3.8s\n",
      "[CV] n_iter=25, rank=2 ...............................................\n"
     ]
    },
    {
     "name": "stderr",
     "output_type": "stream",
     "text": [
      "[Parallel(n_jobs=1)]: Done   2 out of   2 | elapsed:    7.7s remaining:    0.0s\n"
     ]
    },
    {
     "name": "stdout",
     "output_type": "stream",
     "text": [
      "[CV] .......... n_iter=25, rank=2, score=0.367869741914, total=   3.7s\n",
      "[CV] n_iter=25, rank=6 ...............................................\n"
     ]
    },
    {
     "name": "stderr",
     "output_type": "stream",
     "text": [
      "[Parallel(n_jobs=1)]: Done   3 out of   3 | elapsed:   11.4s remaining:    0.0s\n"
     ]
    },
    {
     "name": "stdout",
     "output_type": "stream",
     "text": [
      "[CV] .......... n_iter=25, rank=6, score=0.294171484652, total=   7.7s\n",
      "[CV] n_iter=25, rank=6 ...............................................\n"
     ]
    },
    {
     "name": "stderr",
     "output_type": "stream",
     "text": [
      "[Parallel(n_jobs=1)]: Done   4 out of   4 | elapsed:   19.3s remaining:    0.0s\n"
     ]
    },
    {
     "name": "stdout",
     "output_type": "stream",
     "text": [
      "[CV] ........... n_iter=25, rank=6, score=0.29736787755, total=   7.7s\n",
      "[CV] n_iter=25, rank=6 ...............................................\n"
     ]
    },
    {
     "name": "stderr",
     "output_type": "stream",
     "text": [
      "[Parallel(n_jobs=1)]: Done   5 out of   5 | elapsed:   27.1s remaining:    0.0s\n"
     ]
    },
    {
     "name": "stdout",
     "output_type": "stream",
     "text": [
      "[CV] .......... n_iter=25, rank=6, score=0.294613141181, total=   7.7s\n",
      "[CV] n_iter=25, rank=10 ..............................................\n"
     ]
    },
    {
     "name": "stderr",
     "output_type": "stream",
     "text": [
      "[Parallel(n_jobs=1)]: Done   6 out of   6 | elapsed:   35.0s remaining:    0.0s\n"
     ]
    },
    {
     "name": "stdout",
     "output_type": "stream",
     "text": [
      "[CV] ......... n_iter=25, rank=10, score=0.178951904531, total=  11.9s\n",
      "[CV] n_iter=25, rank=10 ..............................................\n"
     ]
    },
    {
     "name": "stderr",
     "output_type": "stream",
     "text": [
      "[Parallel(n_jobs=1)]: Done   7 out of   7 | elapsed:   47.0s remaining:    0.0s\n"
     ]
    },
    {
     "name": "stdout",
     "output_type": "stream",
     "text": [
      "[CV] ......... n_iter=25, rank=10, score=0.175707882622, total=  11.8s\n",
      "[CV] n_iter=25, rank=10 ..............................................\n"
     ]
    },
    {
     "name": "stderr",
     "output_type": "stream",
     "text": [
      "[Parallel(n_jobs=1)]: Done   8 out of   8 | elapsed:   58.9s remaining:    0.0s\n"
     ]
    },
    {
     "name": "stdout",
     "output_type": "stream",
     "text": [
      "[CV] ......... n_iter=25, rank=10, score=0.182614920714, total=  11.7s\n",
      "[CV] n_iter=50, rank=2 ...............................................\n"
     ]
    },
    {
     "name": "stderr",
     "output_type": "stream",
     "text": [
      "[Parallel(n_jobs=1)]: Done   9 out of   9 | elapsed:  1.2min remaining:    0.0s\n"
     ]
    },
    {
     "name": "stdout",
     "output_type": "stream",
     "text": [
      "[CV] .......... n_iter=50, rank=2, score=0.365445767508, total=   7.1s\n",
      "[CV] n_iter=50, rank=2 ...............................................\n",
      "[CV] .......... n_iter=50, rank=2, score=0.366360304532, total=   7.2s\n",
      "[CV] n_iter=50, rank=2 ...............................................\n",
      "[CV] .......... n_iter=50, rank=2, score=0.366607959567, total=   7.1s\n",
      "[CV] n_iter=50, rank=6 ...............................................\n",
      "[CV] .......... n_iter=50, rank=6, score=0.292606859784, total=  15.1s\n",
      "[CV] n_iter=50, rank=6 ...............................................\n",
      "[CV] .......... n_iter=50, rank=6, score=0.293665984111, total=  15.2s\n",
      "[CV] n_iter=50, rank=6 ...............................................\n",
      "[CV] .......... n_iter=50, rank=6, score=0.288051522183, total=  15.4s\n",
      "[CV] n_iter=50, rank=10 ..............................................\n",
      "[CV] ......... n_iter=50, rank=10, score=0.148412894121, total=  23.4s\n",
      "[CV] n_iter=50, rank=10 ..............................................\n",
      "[CV] ......... n_iter=50, rank=10, score=0.152849455701, total=  23.2s\n",
      "[CV] n_iter=50, rank=10 ..............................................\n",
      "[CV] ......... n_iter=50, rank=10, score=0.154672093804, total=  23.3s\n",
      "[CV] n_iter=75, rank=2 ...............................................\n",
      "[CV] .......... n_iter=75, rank=2, score=0.365055361546, total=  10.7s\n",
      "[CV] n_iter=75, rank=2 ...............................................\n",
      "[CV] .......... n_iter=75, rank=2, score=0.365896104174, total=  10.7s\n",
      "[CV] n_iter=75, rank=2 ...............................................\n",
      "[CV] .......... n_iter=75, rank=2, score=0.366158899179, total=  10.8s\n",
      "[CV] n_iter=75, rank=6 ...............................................\n",
      "[CV] .......... n_iter=75, rank=6, score=0.293237948347, total=  22.8s\n",
      "[CV] n_iter=75, rank=6 ...............................................\n",
      "[CV] .......... n_iter=75, rank=6, score=0.294265743546, total=  22.5s\n",
      "[CV] n_iter=75, rank=6 ...............................................\n",
      "[CV] .......... n_iter=75, rank=6, score=0.291333163051, total=  22.8s\n",
      "[CV] n_iter=75, rank=10 ..............................................\n",
      "[CV] ......... n_iter=75, rank=10, score=0.136526949956, total=  34.6s\n",
      "[CV] n_iter=75, rank=10 ..............................................\n",
      "[CV] .......... n_iter=75, rank=10, score=0.14477785387, total=  35.0s\n",
      "[CV] n_iter=75, rank=10 ..............................................\n",
      "[CV] ......... n_iter=75, rank=10, score=0.140564969305, total=  34.8s\n",
      "[CV] n_iter=100, rank=2 ..............................................\n",
      "[CV] ......... n_iter=100, rank=2, score=0.364881045925, total=  14.0s\n",
      "[CV] n_iter=100, rank=2 ..............................................\n",
      "[CV] ......... n_iter=100, rank=2, score=0.365677045379, total=  14.1s\n",
      "[CV] n_iter=100, rank=2 ..............................................\n",
      "[CV] ......... n_iter=100, rank=2, score=0.365912292006, total=  14.1s\n",
      "[CV] n_iter=100, rank=6 ..............................................\n",
      "[CV] ......... n_iter=100, rank=6, score=0.291254575319, total=  30.3s\n",
      "[CV] n_iter=100, rank=6 ..............................................\n",
      "[CV] ......... n_iter=100, rank=6, score=0.292262201466, total=  30.2s\n",
      "[CV] n_iter=100, rank=6 ..............................................\n",
      "[CV] ......... n_iter=100, rank=6, score=0.294380252563, total=  30.3s\n",
      "[CV] n_iter=100, rank=10 .............................................\n",
      "[CV] ........ n_iter=100, rank=10, score=0.131710648188, total=  46.6s\n",
      "[CV] n_iter=100, rank=10 .............................................\n",
      "[CV] ........ n_iter=100, rank=10, score=0.141757305467, total=  46.5s\n",
      "[CV] n_iter=100, rank=10 .............................................\n",
      "[CV] ........ n_iter=100, rank=10, score=0.134325515035, total=  46.6s\n"
     ]
    },
    {
     "name": "stderr",
     "output_type": "stream",
     "text": [
      "[Parallel(n_jobs=1)]: Done  36 out of  36 | elapsed: 11.5min finished\n"
     ]
    },
    {
     "name": "stdout",
     "output_type": "stream",
     "text": [
      "695.191555023\n",
      "---Factorization Machine---\n",
      "---Running iteration 4 ---\n",
      "---Subsetting Original Data---\n",
      "---Spliting Test and Train Data---\n",
      "---Encoding Data---\n",
      "---Hyperparameter Tuning---\n",
      "Fitting 3 folds for each of 12 candidates, totalling 36 fits\n",
      "[CV] n_iter=25, rank=2 ...............................................\n"
     ]
    },
    {
     "name": "stderr",
     "output_type": "stream",
     "text": [
      "[Parallel(n_jobs=1)]: Using backend SequentialBackend with 1 concurrent workers.\n"
     ]
    },
    {
     "name": "stdout",
     "output_type": "stream",
     "text": [
      "[CV] ........... n_iter=25, rank=2, score=0.36765302417, total=   3.6s\n",
      "[CV] n_iter=25, rank=2 ...............................................\n"
     ]
    },
    {
     "name": "stderr",
     "output_type": "stream",
     "text": [
      "[Parallel(n_jobs=1)]: Done   1 out of   1 | elapsed:    3.6s remaining:    0.0s\n"
     ]
    },
    {
     "name": "stdout",
     "output_type": "stream",
     "text": [
      "[CV] .......... n_iter=25, rank=2, score=0.366279947292, total=   3.5s\n",
      "[CV] n_iter=25, rank=2 ...............................................\n"
     ]
    },
    {
     "name": "stderr",
     "output_type": "stream",
     "text": [
      "[Parallel(n_jobs=1)]: Done   2 out of   2 | elapsed:    7.3s remaining:    0.0s\n"
     ]
    },
    {
     "name": "stdout",
     "output_type": "stream",
     "text": [
      "[CV] .......... n_iter=25, rank=2, score=0.367465679699, total=   3.5s\n",
      "[CV] n_iter=25, rank=6 ...............................................\n"
     ]
    },
    {
     "name": "stderr",
     "output_type": "stream",
     "text": [
      "[Parallel(n_jobs=1)]: Done   3 out of   3 | elapsed:   10.9s remaining:    0.0s\n"
     ]
    },
    {
     "name": "stdout",
     "output_type": "stream",
     "text": [
      "[CV] .......... n_iter=25, rank=6, score=0.301302060757, total=   7.5s\n",
      "[CV] n_iter=25, rank=6 ...............................................\n"
     ]
    },
    {
     "name": "stderr",
     "output_type": "stream",
     "text": [
      "[Parallel(n_jobs=1)]: Done   4 out of   4 | elapsed:   18.4s remaining:    0.0s\n"
     ]
    },
    {
     "name": "stdout",
     "output_type": "stream",
     "text": [
      "[CV] .......... n_iter=25, rank=6, score=0.300594633857, total=   7.4s\n",
      "[CV] n_iter=25, rank=6 ...............................................\n"
     ]
    },
    {
     "name": "stderr",
     "output_type": "stream",
     "text": [
      "[Parallel(n_jobs=1)]: Done   5 out of   5 | elapsed:   26.0s remaining:    0.0s\n"
     ]
    },
    {
     "name": "stdout",
     "output_type": "stream",
     "text": [
      "[CV] .......... n_iter=25, rank=6, score=0.302606268771, total=   7.5s\n",
      "[CV] n_iter=25, rank=10 ..............................................\n"
     ]
    },
    {
     "name": "stderr",
     "output_type": "stream",
     "text": [
      "[Parallel(n_jobs=1)]: Done   6 out of   6 | elapsed:   33.5s remaining:    0.0s\n"
     ]
    },
    {
     "name": "stdout",
     "output_type": "stream",
     "text": [
      "[CV] ......... n_iter=25, rank=10, score=0.198333275613, total=  11.4s\n",
      "[CV] n_iter=25, rank=10 ..............................................\n"
     ]
    },
    {
     "name": "stderr",
     "output_type": "stream",
     "text": [
      "[Parallel(n_jobs=1)]: Done   7 out of   7 | elapsed:   45.0s remaining:    0.0s\n"
     ]
    },
    {
     "name": "stdout",
     "output_type": "stream",
     "text": [
      "[CV] ......... n_iter=25, rank=10, score=0.201426452885, total=  11.4s\n",
      "[CV] n_iter=25, rank=10 ..............................................\n"
     ]
    },
    {
     "name": "stderr",
     "output_type": "stream",
     "text": [
      "[Parallel(n_jobs=1)]: Done   8 out of   8 | elapsed:   56.5s remaining:    0.0s\n"
     ]
    },
    {
     "name": "stdout",
     "output_type": "stream",
     "text": [
      "[CV] ......... n_iter=25, rank=10, score=0.190926397583, total=  11.4s\n",
      "[CV] n_iter=50, rank=2 ...............................................\n"
     ]
    },
    {
     "name": "stderr",
     "output_type": "stream",
     "text": [
      "[Parallel(n_jobs=1)]: Done   9 out of   9 | elapsed:  1.1min remaining:    0.0s\n"
     ]
    },
    {
     "name": "stdout",
     "output_type": "stream",
     "text": [
      "[CV] .......... n_iter=50, rank=2, score=0.366929302017, total=   6.9s\n",
      "[CV] n_iter=50, rank=2 ...............................................\n",
      "[CV] .......... n_iter=50, rank=2, score=0.365302484011, total=   6.9s\n",
      "[CV] n_iter=50, rank=2 ...............................................\n",
      "[CV] .......... n_iter=50, rank=2, score=0.366593584183, total=   6.9s\n",
      "[CV] n_iter=50, rank=6 ...............................................\n",
      "[CV] .......... n_iter=50, rank=6, score=0.291966316482, total=  14.7s\n",
      "[CV] n_iter=50, rank=6 ...............................................\n",
      "[CV] .......... n_iter=50, rank=6, score=0.292837106391, total=  14.7s\n",
      "[CV] n_iter=50, rank=6 ...............................................\n",
      "[CV] ........... n_iter=50, rank=6, score=0.29532012897, total=  14.7s\n",
      "[CV] n_iter=50, rank=10 ..............................................\n",
      "[CV] ......... n_iter=50, rank=10, score=0.169101474132, total=  22.9s\n",
      "[CV] n_iter=50, rank=10 ..............................................\n",
      "[CV] ......... n_iter=50, rank=10, score=0.175927895839, total=  22.8s\n",
      "[CV] n_iter=50, rank=10 ..............................................\n",
      "[CV] ......... n_iter=50, rank=10, score=0.161650589255, total=  22.5s\n",
      "[CV] n_iter=75, rank=2 ...............................................\n",
      "[CV] ........... n_iter=75, rank=2, score=0.36660725412, total=  10.3s\n",
      "[CV] n_iter=75, rank=2 ...............................................\n",
      "[CV] .......... n_iter=75, rank=2, score=0.364793309888, total=  10.3s\n",
      "[CV] n_iter=75, rank=2 ...............................................\n",
      "[CV] .......... n_iter=75, rank=2, score=0.366141171046, total=  10.1s\n",
      "[CV] n_iter=75, rank=6 ...............................................\n",
      "[CV] ........... n_iter=75, rank=6, score=0.28791253595, total=  21.9s\n",
      "[CV] n_iter=75, rank=6 ...............................................\n",
      "[CV] .......... n_iter=75, rank=6, score=0.287867609334, total=  21.9s\n",
      "[CV] n_iter=75, rank=6 ...............................................\n",
      "[CV] .......... n_iter=75, rank=6, score=0.290849728936, total=  21.9s\n",
      "[CV] n_iter=75, rank=10 ..............................................\n",
      "[CV] ......... n_iter=75, rank=10, score=0.153846382732, total=  34.0s\n",
      "[CV] n_iter=75, rank=10 ..............................................\n",
      "[CV] ......... n_iter=75, rank=10, score=0.162745741654, total=  33.7s\n",
      "[CV] n_iter=75, rank=10 ..............................................\n",
      "[CV] .......... n_iter=75, rank=10, score=0.15004496405, total=  33.7s\n",
      "[CV] n_iter=100, rank=2 ..............................................\n",
      "[CV] ......... n_iter=100, rank=2, score=0.366443521986, total=  13.6s\n",
      "[CV] n_iter=100, rank=2 ..............................................\n",
      "[CV] ......... n_iter=100, rank=2, score=0.364515667416, total=  13.4s\n",
      "[CV] n_iter=100, rank=2 ..............................................\n",
      "[CV] ......... n_iter=100, rank=2, score=0.365894296371, total=  13.5s\n",
      "[CV] n_iter=100, rank=6 ..............................................\n",
      "[CV] ......... n_iter=100, rank=6, score=0.286924755879, total=  29.3s\n",
      "[CV] n_iter=100, rank=6 ..............................................\n",
      "[CV] ......... n_iter=100, rank=6, score=0.286871750865, total=  29.2s\n",
      "[CV] n_iter=100, rank=6 ..............................................\n",
      "[CV] ......... n_iter=100, rank=6, score=0.290611976442, total=  29.1s\n",
      "[CV] n_iter=100, rank=10 .............................................\n",
      "[CV] ........ n_iter=100, rank=10, score=0.144213557627, total=  44.8s\n",
      "[CV] n_iter=100, rank=10 .............................................\n",
      "[CV] ........ n_iter=100, rank=10, score=0.149578980104, total=  44.9s\n",
      "[CV] n_iter=100, rank=10 .............................................\n",
      "[CV] ........ n_iter=100, rank=10, score=0.145741847663, total=  44.7s\n"
     ]
    },
    {
     "name": "stderr",
     "output_type": "stream",
     "text": [
      "[Parallel(n_jobs=1)]: Done  36 out of  36 | elapsed: 11.1min finished\n"
     ]
    },
    {
     "name": "stdout",
     "output_type": "stream",
     "text": [
      "670.793823957\n",
      "---Factorization Machine---\n",
      "---Running iteration 5 ---\n",
      "---Subsetting Original Data---\n",
      "---Spliting Test and Train Data---\n",
      "---Encoding Data---\n",
      "---Hyperparameter Tuning---\n",
      "Fitting 3 folds for each of 12 candidates, totalling 36 fits\n",
      "[CV] n_iter=25, rank=2 ...............................................\n"
     ]
    },
    {
     "name": "stderr",
     "output_type": "stream",
     "text": [
      "[Parallel(n_jobs=1)]: Using backend SequentialBackend with 1 concurrent workers.\n"
     ]
    },
    {
     "name": "stdout",
     "output_type": "stream",
     "text": [
      "[CV] .......... n_iter=25, rank=2, score=0.356231333383, total=   3.4s\n",
      "[CV] n_iter=25, rank=2 ...............................................\n"
     ]
    },
    {
     "name": "stderr",
     "output_type": "stream",
     "text": [
      "[Parallel(n_jobs=1)]: Done   1 out of   1 | elapsed:    3.5s remaining:    0.0s\n"
     ]
    },
    {
     "name": "stdout",
     "output_type": "stream",
     "text": [
      "[CV] .......... n_iter=25, rank=2, score=0.360951515267, total=   3.4s\n",
      "[CV] n_iter=25, rank=2 ...............................................\n"
     ]
    },
    {
     "name": "stderr",
     "output_type": "stream",
     "text": [
      "[Parallel(n_jobs=1)]: Done   2 out of   2 | elapsed:    7.0s remaining:    0.0s\n"
     ]
    },
    {
     "name": "stdout",
     "output_type": "stream",
     "text": [
      "[CV] .......... n_iter=25, rank=2, score=0.360733726817, total=   3.3s\n",
      "[CV] n_iter=25, rank=6 ...............................................\n"
     ]
    },
    {
     "name": "stderr",
     "output_type": "stream",
     "text": [
      "[Parallel(n_jobs=1)]: Done   3 out of   3 | elapsed:   10.4s remaining:    0.0s\n"
     ]
    },
    {
     "name": "stdout",
     "output_type": "stream",
     "text": [
      "[CV] .......... n_iter=25, rank=6, score=0.307141452153, total=   7.1s\n",
      "[CV] n_iter=25, rank=6 ...............................................\n"
     ]
    },
    {
     "name": "stderr",
     "output_type": "stream",
     "text": [
      "[Parallel(n_jobs=1)]: Done   4 out of   4 | elapsed:   17.6s remaining:    0.0s\n"
     ]
    },
    {
     "name": "stdout",
     "output_type": "stream",
     "text": [
      "[CV] .......... n_iter=25, rank=6, score=0.309636061735, total=   7.1s\n",
      "[CV] n_iter=25, rank=6 ...............................................\n"
     ]
    },
    {
     "name": "stderr",
     "output_type": "stream",
     "text": [
      "[Parallel(n_jobs=1)]: Done   5 out of   5 | elapsed:   24.8s remaining:    0.0s\n"
     ]
    },
    {
     "name": "stdout",
     "output_type": "stream",
     "text": [
      "[CV] .......... n_iter=25, rank=6, score=0.310602859235, total=   7.1s\n",
      "[CV] n_iter=25, rank=10 ..............................................\n"
     ]
    },
    {
     "name": "stderr",
     "output_type": "stream",
     "text": [
      "[Parallel(n_jobs=1)]: Done   6 out of   6 | elapsed:   32.0s remaining:    0.0s\n"
     ]
    },
    {
     "name": "stdout",
     "output_type": "stream",
     "text": [
      "[CV] ......... n_iter=25, rank=10, score=0.201657868385, total=  10.9s\n",
      "[CV] n_iter=25, rank=10 ..............................................\n"
     ]
    },
    {
     "name": "stderr",
     "output_type": "stream",
     "text": [
      "[Parallel(n_jobs=1)]: Done   7 out of   7 | elapsed:   43.0s remaining:    0.0s\n"
     ]
    },
    {
     "name": "stdout",
     "output_type": "stream",
     "text": [
      "[CV] ......... n_iter=25, rank=10, score=0.195808554712, total=  10.8s\n",
      "[CV] n_iter=25, rank=10 ..............................................\n"
     ]
    },
    {
     "name": "stderr",
     "output_type": "stream",
     "text": [
      "[Parallel(n_jobs=1)]: Done   8 out of   8 | elapsed:   53.9s remaining:    0.0s\n"
     ]
    },
    {
     "name": "stdout",
     "output_type": "stream",
     "text": [
      "[CV] ......... n_iter=25, rank=10, score=0.200256746426, total=  10.8s\n",
      "[CV] n_iter=50, rank=2 ...............................................\n"
     ]
    },
    {
     "name": "stderr",
     "output_type": "stream",
     "text": [
      "[Parallel(n_jobs=1)]: Done   9 out of   9 | elapsed:  1.1min remaining:    0.0s\n"
     ]
    },
    {
     "name": "stdout",
     "output_type": "stream",
     "text": [
      "[CV] .......... n_iter=50, rank=2, score=0.355000964773, total=   6.5s\n",
      "[CV] n_iter=50, rank=2 ...............................................\n",
      "[CV] .......... n_iter=50, rank=2, score=0.359997128861, total=   6.5s\n",
      "[CV] n_iter=50, rank=2 ...............................................\n",
      "[CV] .......... n_iter=50, rank=2, score=0.359785070652, total=   6.5s\n",
      "[CV] n_iter=50, rank=6 ...............................................\n",
      "[CV] .......... n_iter=50, rank=6, score=0.298476373583, total=  14.1s\n",
      "[CV] n_iter=50, rank=6 ...............................................\n",
      "[CV] .......... n_iter=50, rank=6, score=0.301403337086, total=  13.9s\n",
      "[CV] n_iter=50, rank=6 ...............................................\n",
      "[CV] .......... n_iter=50, rank=6, score=0.306688013306, total=  13.9s\n",
      "[CV] n_iter=50, rank=10 ..............................................\n",
      "[CV] ......... n_iter=50, rank=10, score=0.168606508291, total=  21.4s\n",
      "[CV] n_iter=50, rank=10 ..............................................\n",
      "[CV] ......... n_iter=50, rank=10, score=0.167146084273, total=  21.4s\n",
      "[CV] n_iter=50, rank=10 ..............................................\n",
      "[CV] .......... n_iter=50, rank=10, score=0.17386162653, total=  21.3s\n",
      "[CV] n_iter=75, rank=2 ...............................................\n",
      "[CV] .......... n_iter=75, rank=2, score=0.354364550135, total=   9.7s\n",
      "[CV] n_iter=75, rank=2 ...............................................\n",
      "[CV] .......... n_iter=75, rank=2, score=0.359545419636, total=   9.7s\n",
      "[CV] n_iter=75, rank=2 ...............................................\n",
      "[CV] .......... n_iter=75, rank=2, score=0.359263450075, total=  10.0s\n",
      "[CV] n_iter=75, rank=6 ...............................................\n",
      "[CV] .......... n_iter=75, rank=6, score=0.292073118903, total=  21.0s\n",
      "[CV] n_iter=75, rank=6 ...............................................\n",
      "[CV] .......... n_iter=75, rank=6, score=0.295812703437, total=  20.9s\n",
      "[CV] n_iter=75, rank=6 ...............................................\n",
      "[CV] .......... n_iter=75, rank=6, score=0.301748468678, total=  20.8s\n",
      "[CV] n_iter=75, rank=10 ..............................................\n",
      "[CV] ......... n_iter=75, rank=10, score=0.145161884483, total=  32.5s\n",
      "[CV] n_iter=75, rank=10 ..............................................\n",
      "[CV] ......... n_iter=75, rank=10, score=0.150840293222, total=  32.0s\n",
      "[CV] n_iter=75, rank=10 ..............................................\n",
      "[CV] ......... n_iter=75, rank=10, score=0.153926008392, total=  32.2s\n",
      "[CV] n_iter=100, rank=2 ..............................................\n",
      "[CV] ......... n_iter=100, rank=2, score=0.354006311734, total=  12.9s\n",
      "[CV] n_iter=100, rank=2 ..............................................\n",
      "[CV] ......... n_iter=100, rank=2, score=0.359261302754, total=  12.8s\n",
      "[CV] n_iter=100, rank=2 ..............................................\n",
      "[CV] .......... n_iter=100, rank=2, score=0.35898963882, total=  12.9s\n",
      "[CV] n_iter=100, rank=6 ..............................................\n",
      "[CV] ......... n_iter=100, rank=6, score=0.287289853992, total=  28.1s\n",
      "[CV] n_iter=100, rank=6 ..............................................\n",
      "[CV] ......... n_iter=100, rank=6, score=0.292240231826, total=  27.9s\n",
      "[CV] n_iter=100, rank=6 ..............................................\n",
      "[CV] ......... n_iter=100, rank=6, score=0.298387309389, total=  27.7s\n",
      "[CV] n_iter=100, rank=10 .............................................\n",
      "[CV] ......... n_iter=100, rank=10, score=0.13281580091, total=  42.5s\n",
      "[CV] n_iter=100, rank=10 .............................................\n",
      "[CV] ........ n_iter=100, rank=10, score=0.142044642833, total=  42.6s\n",
      "[CV] n_iter=100, rank=10 .............................................\n",
      "[CV] ......... n_iter=100, rank=10, score=0.14167363461, total=  42.5s\n"
     ]
    },
    {
     "name": "stderr",
     "output_type": "stream",
     "text": [
      "[Parallel(n_jobs=1)]: Done  36 out of  36 | elapsed: 10.5min finished\n"
     ]
    },
    {
     "name": "stdout",
     "output_type": "stream",
     "text": [
      "638.484929085\n",
      "---Factorization Machine---\n",
      "---Running iteration 6 ---\n",
      "---Subsetting Original Data---\n",
      "---Spliting Test and Train Data---\n",
      "---Encoding Data---\n",
      "---Hyperparameter Tuning---\n",
      "Fitting 3 folds for each of 12 candidates, totalling 36 fits\n",
      "[CV] n_iter=25, rank=2 ...............................................\n"
     ]
    },
    {
     "name": "stderr",
     "output_type": "stream",
     "text": [
      "[Parallel(n_jobs=1)]: Using backend SequentialBackend with 1 concurrent workers.\n"
     ]
    },
    {
     "name": "stdout",
     "output_type": "stream",
     "text": [
      "[CV] .......... n_iter=25, rank=2, score=0.345818974145, total=   3.0s\n",
      "[CV] n_iter=25, rank=2 ...............................................\n"
     ]
    },
    {
     "name": "stderr",
     "output_type": "stream",
     "text": [
      "[Parallel(n_jobs=1)]: Done   1 out of   1 | elapsed:    3.1s remaining:    0.0s\n"
     ]
    },
    {
     "name": "stdout",
     "output_type": "stream",
     "text": [
      "[CV] .......... n_iter=25, rank=2, score=0.346454426621, total=   3.0s\n",
      "[CV] n_iter=25, rank=2 ...............................................\n"
     ]
    },
    {
     "name": "stderr",
     "output_type": "stream",
     "text": [
      "[Parallel(n_jobs=1)]: Done   2 out of   2 | elapsed:    6.2s remaining:    0.0s\n"
     ]
    },
    {
     "name": "stdout",
     "output_type": "stream",
     "text": [
      "[CV] .......... n_iter=25, rank=2, score=0.347203703494, total=   3.0s\n",
      "[CV] n_iter=25, rank=6 ...............................................\n"
     ]
    },
    {
     "name": "stderr",
     "output_type": "stream",
     "text": [
      "[Parallel(n_jobs=1)]: Done   3 out of   3 | elapsed:    9.3s remaining:    0.0s\n"
     ]
    },
    {
     "name": "stdout",
     "output_type": "stream",
     "text": [
      "[CV] .......... n_iter=25, rank=6, score=0.294214884565, total=   6.4s\n",
      "[CV] n_iter=25, rank=6 ...............................................\n"
     ]
    },
    {
     "name": "stderr",
     "output_type": "stream",
     "text": [
      "[Parallel(n_jobs=1)]: Done   4 out of   4 | elapsed:   15.8s remaining:    0.0s\n"
     ]
    },
    {
     "name": "stdout",
     "output_type": "stream",
     "text": [
      "[CV] ........... n_iter=25, rank=6, score=0.29490013812, total=   6.4s\n",
      "[CV] n_iter=25, rank=6 ...............................................\n"
     ]
    },
    {
     "name": "stderr",
     "output_type": "stream",
     "text": [
      "[Parallel(n_jobs=1)]: Done   5 out of   5 | elapsed:   22.3s remaining:    0.0s\n"
     ]
    },
    {
     "name": "stdout",
     "output_type": "stream",
     "text": [
      "[CV] .......... n_iter=25, rank=6, score=0.304091688582, total=   6.4s\n",
      "[CV] n_iter=25, rank=10 ..............................................\n"
     ]
    },
    {
     "name": "stderr",
     "output_type": "stream",
     "text": [
      "[Parallel(n_jobs=1)]: Done   6 out of   6 | elapsed:   28.8s remaining:    0.0s\n"
     ]
    },
    {
     "name": "stdout",
     "output_type": "stream",
     "text": [
      "[CV] ......... n_iter=25, rank=10, score=0.194091947449, total=   9.9s\n",
      "[CV] n_iter=25, rank=10 ..............................................\n"
     ]
    },
    {
     "name": "stderr",
     "output_type": "stream",
     "text": [
      "[Parallel(n_jobs=1)]: Done   7 out of   7 | elapsed:   38.8s remaining:    0.0s\n"
     ]
    },
    {
     "name": "stdout",
     "output_type": "stream",
     "text": [
      "[CV] ......... n_iter=25, rank=10, score=0.195949096443, total=   9.8s\n",
      "[CV] n_iter=25, rank=10 ..............................................\n"
     ]
    },
    {
     "name": "stderr",
     "output_type": "stream",
     "text": [
      "[Parallel(n_jobs=1)]: Done   8 out of   8 | elapsed:   48.7s remaining:    0.0s\n"
     ]
    },
    {
     "name": "stdout",
     "output_type": "stream",
     "text": [
      "[CV] ......... n_iter=25, rank=10, score=0.197851643034, total=   9.8s\n",
      "[CV] n_iter=50, rank=2 ...............................................\n"
     ]
    },
    {
     "name": "stderr",
     "output_type": "stream",
     "text": [
      "[Parallel(n_jobs=1)]: Done   9 out of   9 | elapsed:   58.6s remaining:    0.0s\n"
     ]
    },
    {
     "name": "stdout",
     "output_type": "stream",
     "text": [
      "[CV] .......... n_iter=50, rank=2, score=0.344449256242, total=   6.0s\n",
      "[CV] n_iter=50, rank=2 ...............................................\n",
      "[CV] .......... n_iter=50, rank=2, score=0.345521899432, total=   5.9s\n",
      "[CV] n_iter=50, rank=2 ...............................................\n",
      "[CV] .......... n_iter=50, rank=2, score=0.345884518503, total=   5.9s\n",
      "[CV] n_iter=50, rank=6 ...............................................\n",
      "[CV] .......... n_iter=50, rank=6, score=0.293895233383, total=  12.7s\n",
      "[CV] n_iter=50, rank=6 ...............................................\n",
      "[CV] .......... n_iter=50, rank=6, score=0.287779019311, total=  12.7s\n",
      "[CV] n_iter=50, rank=6 ...............................................\n",
      "[CV] .......... n_iter=50, rank=6, score=0.294997125253, total=  12.7s\n",
      "[CV] n_iter=50, rank=10 ..............................................\n",
      "[CV] ......... n_iter=50, rank=10, score=0.162370097992, total=  19.5s\n",
      "[CV] n_iter=50, rank=10 ..............................................\n",
      "[CV] ......... n_iter=50, rank=10, score=0.162943682332, total=  19.9s\n",
      "[CV] n_iter=50, rank=10 ..............................................\n",
      "[CV] ......... n_iter=50, rank=10, score=0.163617892512, total=  19.5s\n",
      "[CV] n_iter=75, rank=2 ...............................................\n",
      "[CV] .......... n_iter=75, rank=2, score=0.343810677955, total=   8.8s\n",
      "[CV] n_iter=75, rank=2 ...............................................\n",
      "[CV] .......... n_iter=75, rank=2, score=0.344924573798, total=   8.8s\n",
      "[CV] n_iter=75, rank=2 ...............................................\n",
      "[CV] .......... n_iter=75, rank=2, score=0.345297231645, total=   8.9s\n",
      "[CV] n_iter=75, rank=6 ...............................................\n",
      "[CV] .......... n_iter=75, rank=6, score=0.291951954345, total=  19.0s\n",
      "[CV] n_iter=75, rank=6 ...............................................\n",
      "[CV] .......... n_iter=75, rank=6, score=0.281900047918, total=  19.0s\n",
      "[CV] n_iter=75, rank=6 ...............................................\n",
      "[CV] .......... n_iter=75, rank=6, score=0.287056445339, total=  19.0s\n",
      "[CV] n_iter=75, rank=10 ..............................................\n",
      "[CV] ......... n_iter=75, rank=10, score=0.142262267302, total=  29.3s\n",
      "[CV] n_iter=75, rank=10 ..............................................\n",
      "[CV] ......... n_iter=75, rank=10, score=0.139586836822, total=  29.5s\n",
      "[CV] n_iter=75, rank=10 ..............................................\n",
      "[CV] ......... n_iter=75, rank=10, score=0.142632279795, total=  29.0s\n",
      "[CV] n_iter=100, rank=2 ..............................................\n",
      "[CV] ......... n_iter=100, rank=2, score=0.343447763778, total=  11.7s\n",
      "[CV] n_iter=100, rank=2 ..............................................\n",
      "[CV] .......... n_iter=100, rank=2, score=0.34453933011, total=  11.7s\n",
      "[CV] n_iter=100, rank=2 ..............................................\n",
      "[CV] ......... n_iter=100, rank=2, score=0.344980880788, total=  11.7s\n",
      "[CV] n_iter=100, rank=6 ..............................................\n",
      "[CV] ......... n_iter=100, rank=6, score=0.289557386291, total=  25.6s\n",
      "[CV] n_iter=100, rank=6 ..............................................\n",
      "[CV] ......... n_iter=100, rank=6, score=0.277295108107, total=  25.6s\n",
      "[CV] n_iter=100, rank=6 ..............................................\n",
      "[CV] ......... n_iter=100, rank=6, score=0.281090107509, total=  25.4s\n",
      "[CV] n_iter=100, rank=10 .............................................\n",
      "[CV] ........ n_iter=100, rank=10, score=0.130980171074, total=  38.9s\n",
      "[CV] n_iter=100, rank=10 .............................................\n",
      "[CV] ........ n_iter=100, rank=10, score=0.125890730254, total=  38.7s\n",
      "[CV] n_iter=100, rank=10 .............................................\n",
      "[CV] ........ n_iter=100, rank=10, score=0.131787657172, total=  41.7s\n"
     ]
    },
    {
     "name": "stderr",
     "output_type": "stream",
     "text": [
      "[Parallel(n_jobs=1)]: Done  36 out of  36 | elapsed:  9.6min finished\n"
     ]
    },
    {
     "name": "stdout",
     "output_type": "stream",
     "text": [
      "583.903298855\n",
      "---Factorization Machine---\n",
      "---Running iteration 7 ---\n",
      "---Subsetting Original Data---\n",
      "---Spliting Test and Train Data---\n",
      "---Encoding Data---\n",
      "---Hyperparameter Tuning---\n",
      "Fitting 3 folds for each of 12 candidates, totalling 36 fits\n",
      "[CV] n_iter=25, rank=2 ...............................................\n"
     ]
    },
    {
     "name": "stderr",
     "output_type": "stream",
     "text": [
      "[Parallel(n_jobs=1)]: Using backend SequentialBackend with 1 concurrent workers.\n"
     ]
    },
    {
     "name": "stdout",
     "output_type": "stream",
     "text": [
      "[CV] .......... n_iter=25, rank=2, score=0.328932140482, total=   2.6s\n",
      "[CV] n_iter=25, rank=2 ...............................................\n"
     ]
    },
    {
     "name": "stderr",
     "output_type": "stream",
     "text": [
      "[Parallel(n_jobs=1)]: Done   1 out of   1 | elapsed:    2.7s remaining:    0.0s\n"
     ]
    },
    {
     "name": "stdout",
     "output_type": "stream",
     "text": [
      "[CV] ............ n_iter=25, rank=2, score=0.3327563324, total=   2.6s\n",
      "[CV] n_iter=25, rank=2 ...............................................\n"
     ]
    },
    {
     "name": "stderr",
     "output_type": "stream",
     "text": [
      "[Parallel(n_jobs=1)]: Done   2 out of   2 | elapsed:    5.3s remaining:    0.0s\n"
     ]
    },
    {
     "name": "stdout",
     "output_type": "stream",
     "text": [
      "[CV] .......... n_iter=25, rank=2, score=0.333439386863, total=   2.6s\n",
      "[CV] n_iter=25, rank=6 ...............................................\n"
     ]
    },
    {
     "name": "stderr",
     "output_type": "stream",
     "text": [
      "[Parallel(n_jobs=1)]: Done   3 out of   3 | elapsed:    8.0s remaining:    0.0s\n"
     ]
    },
    {
     "name": "stdout",
     "output_type": "stream",
     "text": [
      "[CV] .......... n_iter=25, rank=6, score=0.267380208723, total=   5.6s\n",
      "[CV] n_iter=25, rank=6 ...............................................\n"
     ]
    },
    {
     "name": "stderr",
     "output_type": "stream",
     "text": [
      "[Parallel(n_jobs=1)]: Done   4 out of   4 | elapsed:   13.7s remaining:    0.0s\n"
     ]
    },
    {
     "name": "stdout",
     "output_type": "stream",
     "text": [
      "[CV] .......... n_iter=25, rank=6, score=0.273726179138, total=   5.6s\n",
      "[CV] n_iter=25, rank=6 ...............................................\n"
     ]
    },
    {
     "name": "stderr",
     "output_type": "stream",
     "text": [
      "[Parallel(n_jobs=1)]: Done   5 out of   5 | elapsed:   19.3s remaining:    0.0s\n"
     ]
    },
    {
     "name": "stdout",
     "output_type": "stream",
     "text": [
      "[CV] .......... n_iter=25, rank=6, score=0.272435201811, total=   5.5s\n",
      "[CV] n_iter=25, rank=10 ..............................................\n"
     ]
    },
    {
     "name": "stderr",
     "output_type": "stream",
     "text": [
      "[Parallel(n_jobs=1)]: Done   6 out of   6 | elapsed:   24.9s remaining:    0.0s\n"
     ]
    },
    {
     "name": "stdout",
     "output_type": "stream",
     "text": [
      "[CV] ......... n_iter=25, rank=10, score=0.175788251209, total=   8.4s\n",
      "[CV] n_iter=25, rank=10 ..............................................\n"
     ]
    },
    {
     "name": "stderr",
     "output_type": "stream",
     "text": [
      "[Parallel(n_jobs=1)]: Done   7 out of   7 | elapsed:   33.5s remaining:    0.0s\n"
     ]
    },
    {
     "name": "stdout",
     "output_type": "stream",
     "text": [
      "[CV] ......... n_iter=25, rank=10, score=0.175161177692, total=   8.5s\n",
      "[CV] n_iter=25, rank=10 ..............................................\n"
     ]
    },
    {
     "name": "stderr",
     "output_type": "stream",
     "text": [
      "[Parallel(n_jobs=1)]: Done   8 out of   8 | elapsed:   42.1s remaining:    0.0s\n"
     ]
    },
    {
     "name": "stdout",
     "output_type": "stream",
     "text": [
      "[CV] ......... n_iter=25, rank=10, score=0.172799979914, total=   8.9s\n",
      "[CV] n_iter=50, rank=2 ...............................................\n"
     ]
    },
    {
     "name": "stderr",
     "output_type": "stream",
     "text": [
      "[Parallel(n_jobs=1)]: Done   9 out of   9 | elapsed:   51.1s remaining:    0.0s\n"
     ]
    },
    {
     "name": "stdout",
     "output_type": "stream",
     "text": [
      "[CV] .......... n_iter=50, rank=2, score=0.327884686257, total=   5.1s\n",
      "[CV] n_iter=50, rank=2 ...............................................\n",
      "[CV] ........... n_iter=50, rank=2, score=0.33137952118, total=   5.1s\n",
      "[CV] n_iter=50, rank=2 ...............................................\n",
      "[CV] .......... n_iter=50, rank=2, score=0.332321125463, total=   5.8s\n",
      "[CV] n_iter=50, rank=6 ...............................................\n",
      "[CV] .......... n_iter=50, rank=6, score=0.266117263454, total=  11.3s\n",
      "[CV] n_iter=50, rank=6 ...............................................\n",
      "[CV] ............ n_iter=50, rank=6, score=0.2665789096, total=  10.9s\n",
      "[CV] n_iter=50, rank=6 ...............................................\n",
      "[CV] .......... n_iter=50, rank=6, score=0.264377326793, total=  11.0s\n",
      "[CV] n_iter=50, rank=10 ..............................................\n",
      "[CV] ......... n_iter=50, rank=10, score=0.142719003097, total=  16.8s\n",
      "[CV] n_iter=50, rank=10 ..............................................\n",
      "[CV] ......... n_iter=50, rank=10, score=0.141280657524, total=  16.7s\n",
      "[CV] n_iter=50, rank=10 ..............................................\n",
      "[CV] ......... n_iter=50, rank=10, score=0.135481919348, total=  16.8s\n",
      "[CV] n_iter=75, rank=2 ...............................................\n",
      "[CV] .......... n_iter=75, rank=2, score=0.327125593548, total=   7.6s\n",
      "[CV] n_iter=75, rank=2 ...............................................\n",
      "[CV] .......... n_iter=75, rank=2, score=0.330755674934, total=   7.6s\n",
      "[CV] n_iter=75, rank=2 ...............................................\n",
      "[CV] .......... n_iter=75, rank=2, score=0.331763064605, total=   7.6s\n",
      "[CV] n_iter=75, rank=6 ...............................................\n",
      "[CV] .......... n_iter=75, rank=6, score=0.264399121422, total=  16.4s\n",
      "[CV] n_iter=75, rank=6 ...............................................\n",
      "[CV] .......... n_iter=75, rank=6, score=0.258017349797, total=  16.3s\n",
      "[CV] n_iter=75, rank=6 ...............................................\n",
      "[CV] .......... n_iter=75, rank=6, score=0.260895667071, total=  16.5s\n",
      "[CV] n_iter=75, rank=10 ..............................................\n",
      "[CV] ......... n_iter=75, rank=10, score=0.117382800922, total=  25.4s\n",
      "[CV] n_iter=75, rank=10 ..............................................\n",
      "[CV] ......... n_iter=75, rank=10, score=0.119915709288, total=  25.1s\n",
      "[CV] n_iter=75, rank=10 ..............................................\n",
      "[CV] ......... n_iter=75, rank=10, score=0.109952269005, total=  25.2s\n",
      "[CV] n_iter=100, rank=2 ..............................................\n",
      "[CV] ......... n_iter=100, rank=2, score=0.326583828868, total=  10.0s\n",
      "[CV] n_iter=100, rank=2 ..............................................\n",
      "[CV] ......... n_iter=100, rank=2, score=0.330399227078, total=  10.3s\n",
      "[CV] n_iter=100, rank=2 ..............................................\n",
      "[CV] ......... n_iter=100, rank=2, score=0.331453255726, total=  10.0s\n",
      "[CV] n_iter=100, rank=6 ..............................................\n",
      "[CV] ......... n_iter=100, rank=6, score=0.259976286099, total=  22.1s\n",
      "[CV] n_iter=100, rank=6 ..............................................\n",
      "[CV] ......... n_iter=100, rank=6, score=0.251886038491, total=  21.8s\n",
      "[CV] n_iter=100, rank=6 ..............................................\n",
      "[CV] ......... n_iter=100, rank=6, score=0.257652058057, total=  21.8s\n",
      "[CV] n_iter=100, rank=10 .............................................\n",
      "[CV] ........ n_iter=100, rank=10, score=0.100958563254, total=  33.4s\n",
      "[CV] n_iter=100, rank=10 .............................................\n",
      "[CV] ........ n_iter=100, rank=10, score=0.102740123004, total=  33.4s\n",
      "[CV] n_iter=100, rank=10 .............................................\n",
      "[CV] ....... n_iter=100, rank=10, score=0.0913780076132, total=  33.5s\n"
     ]
    },
    {
     "name": "stderr",
     "output_type": "stream",
     "text": [
      "[Parallel(n_jobs=1)]: Done  36 out of  36 | elapsed:  8.3min finished\n"
     ]
    },
    {
     "name": "stdout",
     "output_type": "stream",
     "text": [
      "501.926968098\n",
      "---Factorization Machine---\n",
      "---Running iteration 8 ---\n",
      "---Subsetting Original Data---\n",
      "---Spliting Test and Train Data---\n",
      "---Encoding Data---\n",
      "---Hyperparameter Tuning---\n",
      "Fitting 3 folds for each of 12 candidates, totalling 36 fits\n",
      "[CV] n_iter=25, rank=2 ...............................................\n"
     ]
    },
    {
     "name": "stderr",
     "output_type": "stream",
     "text": [
      "[Parallel(n_jobs=1)]: Using backend SequentialBackend with 1 concurrent workers.\n"
     ]
    },
    {
     "name": "stdout",
     "output_type": "stream",
     "text": [
      "[CV] .......... n_iter=25, rank=2, score=0.302413020814, total=   1.9s\n",
      "[CV] n_iter=25, rank=2 ...............................................\n"
     ]
    },
    {
     "name": "stderr",
     "output_type": "stream",
     "text": [
      "[Parallel(n_jobs=1)]: Done   1 out of   1 | elapsed:    2.0s remaining:    0.0s\n"
     ]
    },
    {
     "name": "stdout",
     "output_type": "stream",
     "text": [
      "[CV] .......... n_iter=25, rank=2, score=0.299509882153, total=   2.0s\n",
      "[CV] n_iter=25, rank=2 ...............................................\n"
     ]
    },
    {
     "name": "stderr",
     "output_type": "stream",
     "text": [
      "[Parallel(n_jobs=1)]: Done   2 out of   2 | elapsed:    4.0s remaining:    0.0s\n"
     ]
    },
    {
     "name": "stdout",
     "output_type": "stream",
     "text": [
      "[CV] .......... n_iter=25, rank=2, score=0.301408014629, total=   1.9s\n",
      "[CV] n_iter=25, rank=6 ...............................................\n"
     ]
    },
    {
     "name": "stderr",
     "output_type": "stream",
     "text": [
      "[Parallel(n_jobs=1)]: Done   3 out of   3 | elapsed:    6.0s remaining:    0.0s\n"
     ]
    },
    {
     "name": "stdout",
     "output_type": "stream",
     "text": [
      "[CV] .......... n_iter=25, rank=6, score=0.219388442369, total=   4.2s\n",
      "[CV] n_iter=25, rank=6 ...............................................\n"
     ]
    },
    {
     "name": "stderr",
     "output_type": "stream",
     "text": [
      "[Parallel(n_jobs=1)]: Done   4 out of   4 | elapsed:   10.2s remaining:    0.0s\n"
     ]
    },
    {
     "name": "stdout",
     "output_type": "stream",
     "text": [
      "[CV] .......... n_iter=25, rank=6, score=0.223722304547, total=   4.3s\n",
      "[CV] n_iter=25, rank=6 ...............................................\n"
     ]
    },
    {
     "name": "stderr",
     "output_type": "stream",
     "text": [
      "[Parallel(n_jobs=1)]: Done   5 out of   5 | elapsed:   14.6s remaining:    0.0s\n"
     ]
    },
    {
     "name": "stdout",
     "output_type": "stream",
     "text": [
      "[CV] .......... n_iter=25, rank=6, score=0.229165533892, total=   4.3s\n",
      "[CV] n_iter=25, rank=10 ..............................................\n"
     ]
    },
    {
     "name": "stderr",
     "output_type": "stream",
     "text": [
      "[Parallel(n_jobs=1)]: Done   6 out of   6 | elapsed:   19.0s remaining:    0.0s\n"
     ]
    },
    {
     "name": "stdout",
     "output_type": "stream",
     "text": [
      "[CV] ........ n_iter=25, rank=10, score=0.0970023004149, total=   6.7s\n",
      "[CV] n_iter=25, rank=10 ..............................................\n"
     ]
    },
    {
     "name": "stderr",
     "output_type": "stream",
     "text": [
      "[Parallel(n_jobs=1)]: Done   7 out of   7 | elapsed:   25.7s remaining:    0.0s\n"
     ]
    },
    {
     "name": "stdout",
     "output_type": "stream",
     "text": [
      "[CV] ......... n_iter=25, rank=10, score=0.117999449255, total=   6.6s\n",
      "[CV] n_iter=25, rank=10 ..............................................\n"
     ]
    },
    {
     "name": "stderr",
     "output_type": "stream",
     "text": [
      "[Parallel(n_jobs=1)]: Done   8 out of   8 | elapsed:   32.4s remaining:    0.0s\n"
     ]
    },
    {
     "name": "stdout",
     "output_type": "stream",
     "text": [
      "[CV] ......... n_iter=25, rank=10, score=0.114498721848, total=   6.4s\n",
      "[CV] n_iter=50, rank=2 ...............................................\n"
     ]
    },
    {
     "name": "stderr",
     "output_type": "stream",
     "text": [
      "[Parallel(n_jobs=1)]: Done   9 out of   9 | elapsed:   38.9s remaining:    0.0s\n"
     ]
    },
    {
     "name": "stdout",
     "output_type": "stream",
     "text": [
      "[CV] .......... n_iter=50, rank=2, score=0.302430397364, total=   3.7s\n",
      "[CV] n_iter=50, rank=2 ...............................................\n",
      "[CV] ........... n_iter=50, rank=2, score=0.29845046224, total=   3.8s\n",
      "[CV] n_iter=50, rank=2 ...............................................\n",
      "[CV] .......... n_iter=50, rank=2, score=0.302128628562, total=   3.7s\n",
      "[CV] n_iter=50, rank=6 ...............................................\n",
      "[CV] .......... n_iter=50, rank=6, score=0.202740674761, total=   8.6s\n",
      "[CV] n_iter=50, rank=6 ...............................................\n",
      "[CV] .......... n_iter=50, rank=6, score=0.211991221504, total=   8.5s\n",
      "[CV] n_iter=50, rank=6 ...............................................\n",
      "[CV] .......... n_iter=50, rank=6, score=0.218108492508, total=   8.5s\n",
      "[CV] n_iter=50, rank=10 ..............................................\n",
      "[CV] ........ n_iter=50, rank=10, score=0.0620353918198, total=  13.2s\n",
      "[CV] n_iter=50, rank=10 ..............................................\n",
      "[CV] ........ n_iter=50, rank=10, score=0.0714201257607, total=  13.5s\n",
      "[CV] n_iter=50, rank=10 ..............................................\n",
      "[CV] ........ n_iter=50, rank=10, score=0.0779482402681, total=  14.0s\n",
      "[CV] n_iter=75, rank=2 ...............................................\n",
      "[CV] .......... n_iter=75, rank=2, score=0.301408539166, total=   5.5s\n",
      "[CV] n_iter=75, rank=2 ...............................................\n",
      "[CV] .......... n_iter=75, rank=2, score=0.297296434122, total=   5.6s\n",
      "[CV] n_iter=75, rank=2 ...............................................\n",
      "[CV] ........... n_iter=75, rank=2, score=0.30086162341, total=   5.5s\n",
      "[CV] n_iter=75, rank=6 ...............................................\n",
      "[CV] .......... n_iter=75, rank=6, score=0.193802203322, total=  12.8s\n",
      "[CV] n_iter=75, rank=6 ...............................................\n",
      "[CV] .......... n_iter=75, rank=6, score=0.199696379307, total=  12.8s\n",
      "[CV] n_iter=75, rank=6 ...............................................\n",
      "[CV] .......... n_iter=75, rank=6, score=0.208363469408, total=  12.7s\n",
      "[CV] n_iter=75, rank=10 ..............................................\n",
      "[CV] ........ n_iter=75, rank=10, score=0.0350061562703, total=  19.7s\n",
      "[CV] n_iter=75, rank=10 ..............................................\n",
      "[CV] ........ n_iter=75, rank=10, score=0.0442080014811, total=  19.9s\n",
      "[CV] n_iter=75, rank=10 ..............................................\n",
      "[CV] ........ n_iter=75, rank=10, score=0.0448392004545, total=  19.8s\n",
      "[CV] n_iter=100, rank=2 ..............................................\n",
      "[CV] ......... n_iter=100, rank=2, score=0.300794440723, total=   7.4s\n",
      "[CV] n_iter=100, rank=2 ..............................................\n",
      "[CV] ......... n_iter=100, rank=2, score=0.296633643754, total=   7.4s\n",
      "[CV] n_iter=100, rank=2 ..............................................\n",
      "[CV] ......... n_iter=100, rank=2, score=0.300220387534, total=   7.6s\n",
      "[CV] n_iter=100, rank=6 ..............................................\n",
      "[CV] ......... n_iter=100, rank=6, score=0.185909806967, total=  17.0s\n",
      "[CV] n_iter=100, rank=6 ..............................................\n",
      "[CV] ......... n_iter=100, rank=6, score=0.193223317698, total=  16.7s\n",
      "[CV] n_iter=100, rank=6 ..............................................\n",
      "[CV] ......... n_iter=100, rank=6, score=0.202472350981, total=  17.0s\n",
      "[CV] n_iter=100, rank=10 .............................................\n",
      "[CV] ....... n_iter=100, rank=10, score=0.0147667010558, total=  26.4s\n",
      "[CV] n_iter=100, rank=10 .............................................\n",
      "[CV] ....... n_iter=100, rank=10, score=0.0247722873404, total=  26.2s\n",
      "[CV] n_iter=100, rank=10 .............................................\n",
      "[CV] ....... n_iter=100, rank=10, score=0.0189444310821, total=  26.5s\n"
     ]
    },
    {
     "name": "stderr",
     "output_type": "stream",
     "text": [
      "[Parallel(n_jobs=1)]: Done  36 out of  36 | elapsed:  6.4min finished\n"
     ]
    },
    {
     "name": "stdout",
     "output_type": "stream",
     "text": [
      "388.560770035\n",
      "---Factorization Machine---\n",
      "---Running iteration 9 ---\n",
      "---Subsetting Original Data---\n",
      "---Spliting Test and Train Data---\n",
      "---Encoding Data---\n",
      "---Hyperparameter Tuning---\n",
      "Fitting 3 folds for each of 12 candidates, totalling 36 fits\n",
      "[CV] n_iter=25, rank=2 ...............................................\n"
     ]
    },
    {
     "name": "stderr",
     "output_type": "stream",
     "text": [
      "[Parallel(n_jobs=1)]: Using backend SequentialBackend with 1 concurrent workers.\n"
     ]
    },
    {
     "name": "stdout",
     "output_type": "stream",
     "text": [
      "[CV] .......... n_iter=25, rank=2, score=0.243994688157, total=   1.0s\n",
      "[CV] n_iter=25, rank=2 ...............................................\n"
     ]
    },
    {
     "name": "stderr",
     "output_type": "stream",
     "text": [
      "[Parallel(n_jobs=1)]: Done   1 out of   1 | elapsed:    1.1s remaining:    0.0s\n"
     ]
    },
    {
     "name": "stdout",
     "output_type": "stream",
     "text": [
      "[CV] .......... n_iter=25, rank=2, score=0.244893883422, total=   1.0s\n",
      "[CV] n_iter=25, rank=2 ...............................................\n"
     ]
    },
    {
     "name": "stderr",
     "output_type": "stream",
     "text": [
      "[Parallel(n_jobs=1)]: Done   2 out of   2 | elapsed:    2.1s remaining:    0.0s\n"
     ]
    },
    {
     "name": "stdout",
     "output_type": "stream",
     "text": [
      "[CV] ........... n_iter=25, rank=2, score=0.22925600755, total=   1.0s\n",
      "[CV] n_iter=25, rank=6 ...............................................\n"
     ]
    },
    {
     "name": "stderr",
     "output_type": "stream",
     "text": [
      "[Parallel(n_jobs=1)]: Done   3 out of   3 | elapsed:    3.2s remaining:    0.0s\n"
     ]
    },
    {
     "name": "stdout",
     "output_type": "stream",
     "text": [
      "[CV] .......... n_iter=25, rank=6, score=0.129799345568, total=   2.3s\n",
      "[CV] n_iter=25, rank=6 ...............................................\n"
     ]
    },
    {
     "name": "stderr",
     "output_type": "stream",
     "text": [
      "[Parallel(n_jobs=1)]: Done   4 out of   4 | elapsed:    5.5s remaining:    0.0s\n"
     ]
    },
    {
     "name": "stdout",
     "output_type": "stream",
     "text": [
      "[CV] .......... n_iter=25, rank=6, score=0.121723097475, total=   2.3s\n",
      "[CV] n_iter=25, rank=6 ...............................................\n"
     ]
    },
    {
     "name": "stderr",
     "output_type": "stream",
     "text": [
      "[Parallel(n_jobs=1)]: Done   5 out of   5 | elapsed:    7.8s remaining:    0.0s\n"
     ]
    },
    {
     "name": "stdout",
     "output_type": "stream",
     "text": [
      "[CV] .......... n_iter=25, rank=6, score=0.102142757565, total=   2.2s\n",
      "[CV] n_iter=25, rank=10 ..............................................\n"
     ]
    },
    {
     "name": "stderr",
     "output_type": "stream",
     "text": [
      "[Parallel(n_jobs=1)]: Done   6 out of   6 | elapsed:   10.1s remaining:    0.0s\n"
     ]
    },
    {
     "name": "stdout",
     "output_type": "stream",
     "text": [
      "[CV] ....... n_iter=25, rank=10, score=-0.0447528995137, total=   3.5s\n",
      "[CV] n_iter=25, rank=10 ..............................................\n"
     ]
    },
    {
     "name": "stderr",
     "output_type": "stream",
     "text": [
      "[Parallel(n_jobs=1)]: Done   7 out of   7 | elapsed:   13.6s remaining:    0.0s\n"
     ]
    },
    {
     "name": "stdout",
     "output_type": "stream",
     "text": [
      "[CV] ....... n_iter=25, rank=10, score=-0.0419857046391, total=   3.5s\n",
      "[CV] n_iter=25, rank=10 ..............................................\n"
     ]
    },
    {
     "name": "stderr",
     "output_type": "stream",
     "text": [
      "[Parallel(n_jobs=1)]: Done   8 out of   8 | elapsed:   17.1s remaining:    0.0s\n"
     ]
    },
    {
     "name": "stdout",
     "output_type": "stream",
     "text": [
      "[CV] ....... n_iter=25, rank=10, score=-0.0751335425411, total=   3.5s\n",
      "[CV] n_iter=50, rank=2 ...............................................\n"
     ]
    },
    {
     "name": "stderr",
     "output_type": "stream",
     "text": [
      "[Parallel(n_jobs=1)]: Done   9 out of   9 | elapsed:   20.6s remaining:    0.0s\n"
     ]
    },
    {
     "name": "stdout",
     "output_type": "stream",
     "text": [
      "[CV] .......... n_iter=50, rank=2, score=0.237198388781, total=   2.0s\n",
      "[CV] n_iter=50, rank=2 ...............................................\n",
      "[CV] .......... n_iter=50, rank=2, score=0.246107652147, total=   2.0s\n",
      "[CV] n_iter=50, rank=2 ...............................................\n",
      "[CV] .......... n_iter=50, rank=2, score=0.237540151856, total=   2.0s\n",
      "[CV] n_iter=50, rank=6 ...............................................\n",
      "[CV] ......... n_iter=50, rank=6, score=0.0996858779671, total=   4.4s\n",
      "[CV] n_iter=50, rank=6 ...............................................\n",
      "[CV] .......... n_iter=50, rank=6, score=0.110769890241, total=   4.4s\n",
      "[CV] n_iter=50, rank=6 ...............................................\n",
      "[CV] ......... n_iter=50, rank=6, score=0.0599410407235, total=   4.4s\n",
      "[CV] n_iter=50, rank=10 ..............................................\n",
      "[CV] ........ n_iter=50, rank=10, score=-0.130739725426, total=   7.2s\n",
      "[CV] n_iter=50, rank=10 ..............................................\n",
      "[CV] ........ n_iter=50, rank=10, score=-0.119855111185, total=   7.1s\n",
      "[CV] n_iter=50, rank=10 ..............................................\n",
      "[CV] ........ n_iter=50, rank=10, score=-0.168210403849, total=   6.9s\n",
      "[CV] n_iter=75, rank=2 ...............................................\n",
      "[CV] .......... n_iter=75, rank=2, score=0.233191316897, total=   3.1s\n",
      "[CV] n_iter=75, rank=2 ...............................................\n",
      "[CV] .......... n_iter=75, rank=2, score=0.242954444545, total=   3.0s\n",
      "[CV] n_iter=75, rank=2 ...............................................\n",
      "[CV] .......... n_iter=75, rank=2, score=0.235249573967, total=   3.1s\n",
      "[CV] n_iter=75, rank=6 ...............................................\n",
      "[CV] ......... n_iter=75, rank=6, score=0.0772620768887, total=   6.7s\n",
      "[CV] n_iter=75, rank=6 ...............................................\n",
      "[CV] ........... n_iter=75, rank=6, score=0.08995360745, total=   6.7s\n",
      "[CV] n_iter=75, rank=6 ...............................................\n",
      "[CV] ......... n_iter=75, rank=6, score=0.0343798078371, total=   6.6s\n",
      "[CV] n_iter=75, rank=10 ..............................................\n",
      "[CV] ........ n_iter=75, rank=10, score=-0.194147372025, total=  10.3s\n",
      "[CV] n_iter=75, rank=10 ..............................................\n",
      "[CV] ........ n_iter=75, rank=10, score=-0.171306160637, total=  10.1s\n",
      "[CV] n_iter=75, rank=10 ..............................................\n",
      "[CV] ........ n_iter=75, rank=10, score=-0.229729536105, total=  10.1s\n",
      "[CV] n_iter=100, rank=2 ..............................................\n",
      "[CV] ......... n_iter=100, rank=2, score=0.230579071654, total=   3.9s\n",
      "[CV] n_iter=100, rank=2 ..............................................\n",
      "[CV] ......... n_iter=100, rank=2, score=0.241084574369, total=   4.1s\n",
      "[CV] n_iter=100, rank=2 ..............................................\n",
      "[CV] ......... n_iter=100, rank=2, score=0.231657107594, total=   4.0s\n",
      "[CV] n_iter=100, rank=6 ..............................................\n",
      "[CV] ........ n_iter=100, rank=6, score=0.0597456533806, total=   8.7s\n",
      "[CV] n_iter=100, rank=6 ..............................................\n",
      "[CV] ........ n_iter=100, rank=6, score=0.0729561067679, total=   8.9s\n",
      "[CV] n_iter=100, rank=6 ..............................................\n",
      "[CV] ........ n_iter=100, rank=6, score=0.0178303267983, total=   8.8s\n",
      "[CV] n_iter=100, rank=10 .............................................\n",
      "[CV] ....... n_iter=100, rank=10, score=-0.240776115898, total=  13.6s\n",
      "[CV] n_iter=100, rank=10 .............................................\n",
      "[CV] ....... n_iter=100, rank=10, score=-0.209725828238, total=  13.5s\n",
      "[CV] n_iter=100, rank=10 .............................................\n",
      "[CV] ....... n_iter=100, rank=10, score=-0.276441301316, total=  14.0s\n"
     ]
    },
    {
     "name": "stderr",
     "output_type": "stream",
     "text": [
      "[Parallel(n_jobs=1)]: Done  36 out of  36 | elapsed:  3.4min finished\n"
     ]
    },
    {
     "name": "stdout",
     "output_type": "stream",
     "text": [
      "205.252352953\n",
      "---Factorization Machine---\n"
     ]
    }
   ],
   "source": [
    "accuracy_matrix_movie = FactorizationMachine(ratings, \"movie\", quantile_list)"
   ]
  },
  {
   "cell_type": "code",
   "execution_count": 17,
   "metadata": {},
   "outputs": [
    {
     "data": {
      "text/html": [
       "<div>\n",
       "<style scoped>\n",
       "    .dataframe tbody tr th:only-of-type {\n",
       "        vertical-align: middle;\n",
       "    }\n",
       "\n",
       "    .dataframe tbody tr th {\n",
       "        vertical-align: top;\n",
       "    }\n",
       "\n",
       "    .dataframe thead th {\n",
       "        text-align: right;\n",
       "    }\n",
       "</style>\n",
       "<table border=\"1\" class=\"dataframe\">\n",
       "  <thead>\n",
       "    <tr style=\"text-align: right;\">\n",
       "      <th></th>\n",
       "      <th>Quantile</th>\n",
       "      <th>Threshold</th>\n",
       "      <th>Size</th>\n",
       "      <th>Num_Users</th>\n",
       "      <th>Num_Movies</th>\n",
       "      <th>Sparsity</th>\n",
       "      <th>OP_Iter</th>\n",
       "      <th>OP_Rank</th>\n",
       "      <th>Running Time</th>\n",
       "      <th>MAE</th>\n",
       "      <th>RMSE</th>\n",
       "      <th>Coverage</th>\n",
       "    </tr>\n",
       "  </thead>\n",
       "  <tbody>\n",
       "    <tr>\n",
       "      <th>0</th>\n",
       "      <td>0.1</td>\n",
       "      <td>7.0</td>\n",
       "      <td>2997762</td>\n",
       "      <td>6040</td>\n",
       "      <td>3350</td>\n",
       "      <td>0.05</td>\n",
       "      <td>100</td>\n",
       "      <td>2</td>\n",
       "      <td>768.387588</td>\n",
       "      <td>0.684769</td>\n",
       "      <td>0.873540</td>\n",
       "      <td>0.76</td>\n",
       "    </tr>\n",
       "    <tr>\n",
       "      <th>1</th>\n",
       "      <td>0.2</td>\n",
       "      <td>23.0</td>\n",
       "      <td>2982309</td>\n",
       "      <td>6040</td>\n",
       "      <td>2976</td>\n",
       "      <td>0.06</td>\n",
       "      <td>25</td>\n",
       "      <td>2</td>\n",
       "      <td>720.118070</td>\n",
       "      <td>0.687614</td>\n",
       "      <td>0.876081</td>\n",
       "      <td>0.80</td>\n",
       "    </tr>\n",
       "    <tr>\n",
       "      <th>2</th>\n",
       "      <td>0.3</td>\n",
       "      <td>44.0</td>\n",
       "      <td>2945409</td>\n",
       "      <td>6040</td>\n",
       "      <td>2599</td>\n",
       "      <td>0.06</td>\n",
       "      <td>25</td>\n",
       "      <td>2</td>\n",
       "      <td>702.040619</td>\n",
       "      <td>0.684270</td>\n",
       "      <td>0.870966</td>\n",
       "      <td>0.85</td>\n",
       "    </tr>\n",
       "    <tr>\n",
       "      <th>3</th>\n",
       "      <td>0.4</td>\n",
       "      <td>74.0</td>\n",
       "      <td>2882481</td>\n",
       "      <td>6040</td>\n",
       "      <td>2234</td>\n",
       "      <td>0.07</td>\n",
       "      <td>25</td>\n",
       "      <td>2</td>\n",
       "      <td>677.310914</td>\n",
       "      <td>0.685198</td>\n",
       "      <td>0.873336</td>\n",
       "      <td>0.91</td>\n",
       "    </tr>\n",
       "    <tr>\n",
       "      <th>4</th>\n",
       "      <td>0.5</td>\n",
       "      <td>123.5</td>\n",
       "      <td>2771667</td>\n",
       "      <td>6040</td>\n",
       "      <td>1853</td>\n",
       "      <td>0.08</td>\n",
       "      <td>25</td>\n",
       "      <td>2</td>\n",
       "      <td>644.487662</td>\n",
       "      <td>0.684515</td>\n",
       "      <td>0.873163</td>\n",
       "      <td>0.95</td>\n",
       "    </tr>\n",
       "    <tr>\n",
       "      <th>5</th>\n",
       "      <td>0.6</td>\n",
       "      <td>188.0</td>\n",
       "      <td>2601477</td>\n",
       "      <td>6040</td>\n",
       "      <td>1485</td>\n",
       "      <td>0.10</td>\n",
       "      <td>25</td>\n",
       "      <td>2</td>\n",
       "      <td>589.564688</td>\n",
       "      <td>0.680416</td>\n",
       "      <td>0.867377</td>\n",
       "      <td>0.98</td>\n",
       "    </tr>\n",
       "    <tr>\n",
       "      <th>6</th>\n",
       "      <td>0.7</td>\n",
       "      <td>280.0</td>\n",
       "      <td>2344821</td>\n",
       "      <td>6040</td>\n",
       "      <td>1113</td>\n",
       "      <td>0.12</td>\n",
       "      <td>25</td>\n",
       "      <td>2</td>\n",
       "      <td>506.800628</td>\n",
       "      <td>0.676116</td>\n",
       "      <td>0.864399</td>\n",
       "      <td>0.99</td>\n",
       "    </tr>\n",
       "    <tr>\n",
       "      <th>7</th>\n",
       "      <td>0.8</td>\n",
       "      <td>429.0</td>\n",
       "      <td>1957905</td>\n",
       "      <td>6040</td>\n",
       "      <td>743</td>\n",
       "      <td>0.15</td>\n",
       "      <td>25</td>\n",
       "      <td>2</td>\n",
       "      <td>392.263612</td>\n",
       "      <td>0.675736</td>\n",
       "      <td>0.864208</td>\n",
       "      <td>1.00</td>\n",
       "    </tr>\n",
       "    <tr>\n",
       "      <th>8</th>\n",
       "      <td>0.9</td>\n",
       "      <td>729.5</td>\n",
       "      <td>1333902</td>\n",
       "      <td>6039</td>\n",
       "      <td>371</td>\n",
       "      <td>0.20</td>\n",
       "      <td>50</td>\n",
       "      <td>2</td>\n",
       "      <td>209.287818</td>\n",
       "      <td>0.677351</td>\n",
       "      <td>0.870083</td>\n",
       "      <td>1.00</td>\n",
       "    </tr>\n",
       "  </tbody>\n",
       "</table>\n",
       "</div>"
      ],
      "text/plain": [
       "   Quantile  Threshold     Size  Num_Users  Num_Movies  Sparsity  OP_Iter  \\\n",
       "0       0.1        7.0  2997762       6040        3350      0.05      100   \n",
       "1       0.2       23.0  2982309       6040        2976      0.06       25   \n",
       "2       0.3       44.0  2945409       6040        2599      0.06       25   \n",
       "3       0.4       74.0  2882481       6040        2234      0.07       25   \n",
       "4       0.5      123.5  2771667       6040        1853      0.08       25   \n",
       "5       0.6      188.0  2601477       6040        1485      0.10       25   \n",
       "6       0.7      280.0  2344821       6040        1113      0.12       25   \n",
       "7       0.8      429.0  1957905       6040         743      0.15       25   \n",
       "8       0.9      729.5  1333902       6039         371      0.20       50   \n",
       "\n",
       "   OP_Rank  Running Time       MAE      RMSE  Coverage  \n",
       "0        2    768.387588  0.684769  0.873540      0.76  \n",
       "1        2    720.118070  0.687614  0.876081      0.80  \n",
       "2        2    702.040619  0.684270  0.870966      0.85  \n",
       "3        2    677.310914  0.685198  0.873336      0.91  \n",
       "4        2    644.487662  0.684515  0.873163      0.95  \n",
       "5        2    589.564688  0.680416  0.867377      0.98  \n",
       "6        2    506.800628  0.676116  0.864399      0.99  \n",
       "7        2    392.263612  0.675736  0.864208      1.00  \n",
       "8        2    209.287818  0.677351  0.870083      1.00  "
      ]
     },
     "execution_count": 17,
     "metadata": {},
     "output_type": "execute_result"
    }
   ],
   "source": [
    "accuracy_matrix_movie"
   ]
  },
  {
   "cell_type": "code",
   "execution_count": 18,
   "metadata": {},
   "outputs": [],
   "source": [
    "#size_norm_m = normalize(accuracy_matrix_movie['Size'][:,np.newaxis], axis=0).ravel()\n",
    "size_norm_m = 1-np.array(accuracy_matrix_movie['Quantile'])"
   ]
  },
  {
   "cell_type": "code",
   "execution_count": 19,
   "metadata": {},
   "outputs": [],
   "source": [
    "time_m = np.array(accuracy_matrix_movie['Running Time'])\n",
    "mae_m = np.array(accuracy_matrix_movie['MAE'])\n",
    "rmse_m = np.array(accuracy_matrix_movie['RMSE'])\n",
    "coverage_m = np.array(accuracy_matrix_movie['Coverage'])"
   ]
  },
  {
   "cell_type": "markdown",
   "metadata": {},
   "source": [
    "### Subset method 3 - Subset data in both user and item directions"
   ]
  },
  {
   "cell_type": "code",
   "execution_count": 20,
   "metadata": {
    "collapsed": true
   },
   "outputs": [
    {
     "name": "stdout",
     "output_type": "stream",
     "text": [
      "---Running iteration 1 ---\n",
      "---Subsetting Original Data---\n",
      "---Spliting Test and Train Data---\n",
      "---Encoding Data---\n",
      "---Hyperparameter Tuning---\n",
      "Fitting 3 folds for each of 12 candidates, totalling 36 fits\n",
      "[CV] n_iter=25, rank=2 ...............................................\n"
     ]
    },
    {
     "name": "stderr",
     "output_type": "stream",
     "text": [
      "[Parallel(n_jobs=1)]: Using backend SequentialBackend with 1 concurrent workers.\n"
     ]
    },
    {
     "name": "stdout",
     "output_type": "stream",
     "text": [
      "[CV] .......... n_iter=25, rank=2, score=0.369030623102, total=   3.7s\n",
      "[CV] n_iter=25, rank=2 ...............................................\n"
     ]
    },
    {
     "name": "stderr",
     "output_type": "stream",
     "text": [
      "[Parallel(n_jobs=1)]: Done   1 out of   1 | elapsed:    3.8s remaining:    0.0s\n"
     ]
    },
    {
     "name": "stdout",
     "output_type": "stream",
     "text": [
      "[CV] .......... n_iter=25, rank=2, score=0.361824647538, total=   3.7s\n",
      "[CV] n_iter=25, rank=2 ...............................................\n"
     ]
    },
    {
     "name": "stderr",
     "output_type": "stream",
     "text": [
      "[Parallel(n_jobs=1)]: Done   2 out of   2 | elapsed:    7.6s remaining:    0.0s\n"
     ]
    },
    {
     "name": "stdout",
     "output_type": "stream",
     "text": [
      "[CV] .......... n_iter=25, rank=2, score=0.360033036455, total=   3.9s\n",
      "[CV] n_iter=25, rank=6 ...............................................\n"
     ]
    },
    {
     "name": "stderr",
     "output_type": "stream",
     "text": [
      "[Parallel(n_jobs=1)]: Done   3 out of   3 | elapsed:   11.6s remaining:    0.0s\n"
     ]
    },
    {
     "name": "stdout",
     "output_type": "stream",
     "text": [
      "[CV] .......... n_iter=25, rank=6, score=0.298063103699, total=   7.8s\n",
      "[CV] n_iter=25, rank=6 ...............................................\n"
     ]
    },
    {
     "name": "stderr",
     "output_type": "stream",
     "text": [
      "[Parallel(n_jobs=1)]: Done   4 out of   4 | elapsed:   19.6s remaining:    0.0s\n"
     ]
    },
    {
     "name": "stdout",
     "output_type": "stream",
     "text": [
      "[CV] .............. n_iter=25, rank=6, score=0.28743268, total=   7.8s\n",
      "[CV] n_iter=25, rank=6 ...............................................\n"
     ]
    },
    {
     "name": "stderr",
     "output_type": "stream",
     "text": [
      "[Parallel(n_jobs=1)]: Done   5 out of   5 | elapsed:   27.5s remaining:    0.0s\n"
     ]
    },
    {
     "name": "stdout",
     "output_type": "stream",
     "text": [
      "[CV] .......... n_iter=25, rank=6, score=0.280286054227, total=   7.9s\n",
      "[CV] n_iter=25, rank=10 ..............................................\n"
     ]
    },
    {
     "name": "stderr",
     "output_type": "stream",
     "text": [
      "[Parallel(n_jobs=1)]: Done   6 out of   6 | elapsed:   35.5s remaining:    0.0s\n"
     ]
    },
    {
     "name": "stdout",
     "output_type": "stream",
     "text": [
      "[CV] ......... n_iter=25, rank=10, score=0.171643790837, total=  12.3s\n",
      "[CV] n_iter=25, rank=10 ..............................................\n"
     ]
    },
    {
     "name": "stderr",
     "output_type": "stream",
     "text": [
      "[Parallel(n_jobs=1)]: Done   7 out of   7 | elapsed:   47.9s remaining:    0.0s\n"
     ]
    },
    {
     "name": "stdout",
     "output_type": "stream",
     "text": [
      "[CV] ......... n_iter=25, rank=10, score=0.177090622856, total=  11.9s\n",
      "[CV] n_iter=25, rank=10 ..............................................\n"
     ]
    },
    {
     "name": "stderr",
     "output_type": "stream",
     "text": [
      "[Parallel(n_jobs=1)]: Done   8 out of   8 | elapsed:   60.0s remaining:    0.0s\n"
     ]
    },
    {
     "name": "stdout",
     "output_type": "stream",
     "text": [
      "[CV] ......... n_iter=25, rank=10, score=0.164521317658, total=  11.9s\n",
      "[CV] n_iter=50, rank=2 ...............................................\n"
     ]
    },
    {
     "name": "stderr",
     "output_type": "stream",
     "text": [
      "[Parallel(n_jobs=1)]: Done   9 out of   9 | elapsed:  1.2min remaining:    0.0s\n"
     ]
    },
    {
     "name": "stdout",
     "output_type": "stream",
     "text": [
      "[CV] .......... n_iter=50, rank=2, score=0.368649266817, total=   7.2s\n",
      "[CV] n_iter=50, rank=2 ...............................................\n",
      "[CV] .......... n_iter=50, rank=2, score=0.362663440027, total=   7.3s\n",
      "[CV] n_iter=50, rank=2 ...............................................\n",
      "[CV] .......... n_iter=50, rank=2, score=0.360395560558, total=   7.3s\n",
      "[CV] n_iter=50, rank=6 ...............................................\n",
      "[CV] .......... n_iter=50, rank=6, score=0.300566071284, total=  15.4s\n",
      "[CV] n_iter=50, rank=6 ...............................................\n",
      "[CV] ............ n_iter=50, rank=6, score=0.2919690071, total=  15.4s\n",
      "[CV] n_iter=50, rank=6 ...............................................\n",
      "[CV] .......... n_iter=50, rank=6, score=0.279826530777, total=  15.4s\n",
      "[CV] n_iter=50, rank=10 ..............................................\n",
      "[CV] ......... n_iter=50, rank=10, score=0.151508405563, total=  23.6s\n",
      "[CV] n_iter=50, rank=10 ..............................................\n",
      "[CV] ......... n_iter=50, rank=10, score=0.156335413958, total=  23.7s\n",
      "[CV] n_iter=50, rank=10 ..............................................\n",
      "[CV] ......... n_iter=50, rank=10, score=0.135512931184, total=  23.6s\n",
      "[CV] n_iter=75, rank=2 ...............................................\n",
      "[CV] .......... n_iter=75, rank=2, score=0.368779429852, total=  10.8s\n",
      "[CV] n_iter=75, rank=2 ...............................................\n",
      "[CV] ........... n_iter=75, rank=2, score=0.36330324228, total=  10.8s\n",
      "[CV] n_iter=75, rank=2 ...............................................\n",
      "[CV] .......... n_iter=75, rank=2, score=0.360916179019, total=  10.7s\n",
      "[CV] n_iter=75, rank=6 ...............................................\n",
      "[CV] .......... n_iter=75, rank=6, score=0.302331045697, total=  23.0s\n",
      "[CV] n_iter=75, rank=6 ...............................................\n",
      "[CV] .......... n_iter=75, rank=6, score=0.292874546253, total=  23.0s\n",
      "[CV] n_iter=75, rank=6 ...............................................\n",
      "[CV] .......... n_iter=75, rank=6, score=0.280672946721, total=  23.2s\n",
      "[CV] n_iter=75, rank=10 ..............................................\n",
      "[CV] ......... n_iter=75, rank=10, score=0.145308167454, total=  35.2s\n",
      "[CV] n_iter=75, rank=10 ..............................................\n",
      "[CV] ......... n_iter=75, rank=10, score=0.151021015274, total=  35.4s\n",
      "[CV] n_iter=75, rank=10 ..............................................\n",
      "[CV] ......... n_iter=75, rank=10, score=0.126651386349, total=  35.4s\n",
      "[CV] n_iter=100, rank=2 ..............................................\n",
      "[CV] ......... n_iter=100, rank=2, score=0.368860666348, total=  14.3s\n",
      "[CV] n_iter=100, rank=2 ..............................................\n",
      "[CV] .......... n_iter=100, rank=2, score=0.36370878856, total=  14.3s\n",
      "[CV] n_iter=100, rank=2 ..............................................\n",
      "[CV] ......... n_iter=100, rank=2, score=0.361203630567, total=  14.3s\n",
      "[CV] n_iter=100, rank=6 ..............................................\n",
      "[CV] ......... n_iter=100, rank=6, score=0.303775899493, total=  30.6s\n",
      "[CV] n_iter=100, rank=6 ..............................................\n",
      "[CV] ......... n_iter=100, rank=6, score=0.293264354669, total=  30.6s\n",
      "[CV] n_iter=100, rank=6 ..............................................\n",
      "[CV] ......... n_iter=100, rank=6, score=0.282948471945, total=  30.7s\n",
      "[CV] n_iter=100, rank=10 .............................................\n",
      "[CV] ........ n_iter=100, rank=10, score=0.142430143728, total=  47.0s\n",
      "[CV] n_iter=100, rank=10 .............................................\n",
      "[CV] ........ n_iter=100, rank=10, score=0.150554164767, total=  47.1s\n",
      "[CV] n_iter=100, rank=10 .............................................\n",
      "[CV] ........ n_iter=100, rank=10, score=0.125738461718, total=  47.8s\n"
     ]
    },
    {
     "name": "stderr",
     "output_type": "stream",
     "text": [
      "[Parallel(n_jobs=1)]: Done  36 out of  36 | elapsed: 11.6min finished\n"
     ]
    },
    {
     "name": "stdout",
     "output_type": "stream",
     "text": [
      "724.951406002\n",
      "---Factorization Machine---\n",
      "---Running iteration 2 ---\n",
      "---Subsetting Original Data---\n",
      "---Spliting Test and Train Data---\n",
      "---Encoding Data---\n",
      "---Hyperparameter Tuning---\n",
      "Fitting 3 folds for each of 12 candidates, totalling 36 fits\n",
      "[CV] n_iter=25, rank=2 ...............................................\n"
     ]
    },
    {
     "name": "stderr",
     "output_type": "stream",
     "text": [
      "[Parallel(n_jobs=1)]: Using backend SequentialBackend with 1 concurrent workers.\n"
     ]
    },
    {
     "name": "stdout",
     "output_type": "stream",
     "text": [
      "[CV] .......... n_iter=25, rank=2, score=0.373500570529, total=   3.5s\n",
      "[CV] n_iter=25, rank=2 ...............................................\n"
     ]
    },
    {
     "name": "stderr",
     "output_type": "stream",
     "text": [
      "[Parallel(n_jobs=1)]: Done   1 out of   1 | elapsed:    3.6s remaining:    0.0s\n"
     ]
    },
    {
     "name": "stdout",
     "output_type": "stream",
     "text": [
      "[CV] ........... n_iter=25, rank=2, score=0.37503458821, total=   3.5s\n",
      "[CV] n_iter=25, rank=2 ...............................................\n"
     ]
    },
    {
     "name": "stderr",
     "output_type": "stream",
     "text": [
      "[Parallel(n_jobs=1)]: Done   2 out of   2 | elapsed:    7.2s remaining:    0.0s\n"
     ]
    },
    {
     "name": "stdout",
     "output_type": "stream",
     "text": [
      "[CV] .......... n_iter=25, rank=2, score=0.372917113169, total=   3.6s\n",
      "[CV] n_iter=25, rank=6 ...............................................\n"
     ]
    },
    {
     "name": "stderr",
     "output_type": "stream",
     "text": [
      "[Parallel(n_jobs=1)]: Done   3 out of   3 | elapsed:   10.9s remaining:    0.0s\n"
     ]
    },
    {
     "name": "stdout",
     "output_type": "stream",
     "text": [
      "[CV] .......... n_iter=25, rank=6, score=0.293061065847, total=   7.5s\n",
      "[CV] n_iter=25, rank=6 ...............................................\n"
     ]
    },
    {
     "name": "stderr",
     "output_type": "stream",
     "text": [
      "[Parallel(n_jobs=1)]: Done   4 out of   4 | elapsed:   18.5s remaining:    0.0s\n"
     ]
    },
    {
     "name": "stdout",
     "output_type": "stream",
     "text": [
      "[CV] .......... n_iter=25, rank=6, score=0.302145481513, total=   7.5s\n",
      "[CV] n_iter=25, rank=6 ...............................................\n"
     ]
    },
    {
     "name": "stderr",
     "output_type": "stream",
     "text": [
      "[Parallel(n_jobs=1)]: Done   5 out of   5 | elapsed:   26.1s remaining:    0.0s\n"
     ]
    },
    {
     "name": "stdout",
     "output_type": "stream",
     "text": [
      "[CV] ........... n_iter=25, rank=6, score=0.29242107433, total=   7.5s\n",
      "[CV] n_iter=25, rank=10 ..............................................\n"
     ]
    },
    {
     "name": "stderr",
     "output_type": "stream",
     "text": [
      "[Parallel(n_jobs=1)]: Done   6 out of   6 | elapsed:   33.7s remaining:    0.0s\n"
     ]
    },
    {
     "name": "stdout",
     "output_type": "stream",
     "text": [
      "[CV] ......... n_iter=25, rank=10, score=0.186287546412, total=  11.7s\n",
      "[CV] n_iter=25, rank=10 ..............................................\n"
     ]
    },
    {
     "name": "stderr",
     "output_type": "stream",
     "text": [
      "[Parallel(n_jobs=1)]: Done   7 out of   7 | elapsed:   45.6s remaining:    0.0s\n"
     ]
    },
    {
     "name": "stdout",
     "output_type": "stream",
     "text": [
      "[CV] ......... n_iter=25, rank=10, score=0.193821051378, total=  11.5s\n",
      "[CV] n_iter=25, rank=10 ..............................................\n"
     ]
    },
    {
     "name": "stderr",
     "output_type": "stream",
     "text": [
      "[Parallel(n_jobs=1)]: Done   8 out of   8 | elapsed:   57.2s remaining:    0.0s\n"
     ]
    },
    {
     "name": "stdout",
     "output_type": "stream",
     "text": [
      "[CV] ......... n_iter=25, rank=10, score=0.185284330077, total=  11.4s\n",
      "[CV] n_iter=50, rank=2 ...............................................\n"
     ]
    },
    {
     "name": "stderr",
     "output_type": "stream",
     "text": [
      "[Parallel(n_jobs=1)]: Done   9 out of   9 | elapsed:  1.1min remaining:    0.0s\n"
     ]
    },
    {
     "name": "stdout",
     "output_type": "stream",
     "text": [
      "[CV] .......... n_iter=50, rank=2, score=0.373206786131, total=   6.9s\n",
      "[CV] n_iter=50, rank=2 ...............................................\n",
      "[CV] .......... n_iter=50, rank=2, score=0.374841585751, total=   6.9s\n",
      "[CV] n_iter=50, rank=2 ...............................................\n",
      "[CV] .......... n_iter=50, rank=2, score=0.372251209014, total=   6.9s\n",
      "[CV] n_iter=50, rank=6 ...............................................\n",
      "[CV] .......... n_iter=50, rank=6, score=0.313216859072, total=  14.7s\n",
      "[CV] n_iter=50, rank=6 ...............................................\n",
      "[CV] .......... n_iter=50, rank=6, score=0.309013710536, total=  14.8s\n",
      "[CV] n_iter=50, rank=6 ...............................................\n",
      "[CV] .......... n_iter=50, rank=6, score=0.297887249219, total=  14.7s\n",
      "[CV] n_iter=50, rank=10 ..............................................\n",
      "[CV] ......... n_iter=50, rank=10, score=0.176679390894, total=  22.6s\n",
      "[CV] n_iter=50, rank=10 ..............................................\n",
      "[CV] ......... n_iter=50, rank=10, score=0.180189699503, total=  22.5s\n",
      "[CV] n_iter=50, rank=10 ..............................................\n",
      "[CV] ......... n_iter=50, rank=10, score=0.175586605475, total=  22.6s\n",
      "[CV] n_iter=75, rank=2 ...............................................\n",
      "[CV] .......... n_iter=75, rank=2, score=0.373214612401, total=  10.3s\n",
      "[CV] n_iter=75, rank=2 ...............................................\n",
      "[CV] .......... n_iter=75, rank=2, score=0.374874232681, total=  10.5s\n",
      "[CV] n_iter=75, rank=2 ...............................................\n",
      "[CV] .......... n_iter=75, rank=2, score=0.372356642733, total=  10.6s\n",
      "[CV] n_iter=75, rank=6 ...............................................\n",
      "[CV] .......... n_iter=75, rank=6, score=0.315419327521, total=  22.1s\n",
      "[CV] n_iter=75, rank=6 ...............................................\n",
      "[CV] ........... n_iter=75, rank=6, score=0.30784704475, total=  22.2s\n",
      "[CV] n_iter=75, rank=6 ...............................................\n",
      "[CV] .......... n_iter=75, rank=6, score=0.304395112962, total=  22.1s\n",
      "[CV] n_iter=75, rank=10 ..............................................\n",
      "[CV] ......... n_iter=75, rank=10, score=0.172662723638, total=  33.8s\n",
      "[CV] n_iter=75, rank=10 ..............................................\n",
      "[CV] ......... n_iter=75, rank=10, score=0.172111165777, total=  33.7s\n",
      "[CV] n_iter=75, rank=10 ..............................................\n",
      "[CV] ......... n_iter=75, rank=10, score=0.170664935075, total=  34.0s\n",
      "[CV] n_iter=100, rank=2 ..............................................\n",
      "[CV] ......... n_iter=100, rank=2, score=0.373270011231, total=  13.7s\n",
      "[CV] n_iter=100, rank=2 ..............................................\n",
      "[CV] .......... n_iter=100, rank=2, score=0.37493679253, total=  13.7s\n",
      "[CV] n_iter=100, rank=2 ..............................................\n",
      "[CV] ......... n_iter=100, rank=2, score=0.372620860534, total=  13.7s\n",
      "[CV] n_iter=100, rank=6 ..............................................\n",
      "[CV] ......... n_iter=100, rank=6, score=0.315603989293, total=  29.4s\n",
      "[CV] n_iter=100, rank=6 ..............................................\n",
      "[CV] ......... n_iter=100, rank=6, score=0.306178229314, total=  29.7s\n",
      "[CV] n_iter=100, rank=6 ..............................................\n",
      "[CV] ......... n_iter=100, rank=6, score=0.308765008884, total=  29.3s\n",
      "[CV] n_iter=100, rank=10 .............................................\n",
      "[CV] ........ n_iter=100, rank=10, score=0.171783240871, total=  45.2s\n",
      "[CV] n_iter=100, rank=10 .............................................\n",
      "[CV] ........ n_iter=100, rank=10, score=0.164506686333, total=  45.1s\n",
      "[CV] n_iter=100, rank=10 .............................................\n",
      "[CV] ........ n_iter=100, rank=10, score=0.165979382329, total=  45.0s\n"
     ]
    },
    {
     "name": "stderr",
     "output_type": "stream",
     "text": [
      "[Parallel(n_jobs=1)]: Done  36 out of  36 | elapsed: 11.1min finished\n"
     ]
    },
    {
     "name": "stdout",
     "output_type": "stream",
     "text": [
      "675.13270402\n",
      "---Factorization Machine---\n",
      "---Running iteration 3 ---\n",
      "---Subsetting Original Data---\n",
      "---Spliting Test and Train Data---\n",
      "---Encoding Data---\n",
      "---Hyperparameter Tuning---\n",
      "Fitting 3 folds for each of 12 candidates, totalling 36 fits\n",
      "[CV] n_iter=25, rank=2 ...............................................\n"
     ]
    },
    {
     "name": "stderr",
     "output_type": "stream",
     "text": [
      "[Parallel(n_jobs=1)]: Using backend SequentialBackend with 1 concurrent workers.\n"
     ]
    },
    {
     "name": "stdout",
     "output_type": "stream",
     "text": [
      "[CV] .......... n_iter=25, rank=2, score=0.377586855215, total=   3.4s\n",
      "[CV] n_iter=25, rank=2 ...............................................\n"
     ]
    },
    {
     "name": "stderr",
     "output_type": "stream",
     "text": [
      "[Parallel(n_jobs=1)]: Done   1 out of   1 | elapsed:    3.5s remaining:    0.0s\n"
     ]
    },
    {
     "name": "stdout",
     "output_type": "stream",
     "text": [
      "[CV] .......... n_iter=25, rank=2, score=0.379443713524, total=   3.3s\n",
      "[CV] n_iter=25, rank=2 ...............................................\n"
     ]
    },
    {
     "name": "stderr",
     "output_type": "stream",
     "text": [
      "[Parallel(n_jobs=1)]: Done   2 out of   2 | elapsed:    6.9s remaining:    0.0s\n"
     ]
    },
    {
     "name": "stdout",
     "output_type": "stream",
     "text": [
      "[CV] .......... n_iter=25, rank=2, score=0.379667297293, total=   3.3s\n",
      "[CV] n_iter=25, rank=6 ...............................................\n"
     ]
    },
    {
     "name": "stderr",
     "output_type": "stream",
     "text": [
      "[Parallel(n_jobs=1)]: Done   3 out of   3 | elapsed:   10.4s remaining:    0.0s\n"
     ]
    },
    {
     "name": "stdout",
     "output_type": "stream",
     "text": [
      "[CV] .......... n_iter=25, rank=6, score=0.321731969173, total=   7.1s\n",
      "[CV] n_iter=25, rank=6 ...............................................\n"
     ]
    },
    {
     "name": "stderr",
     "output_type": "stream",
     "text": [
      "[Parallel(n_jobs=1)]: Done   4 out of   4 | elapsed:   17.6s remaining:    0.0s\n"
     ]
    },
    {
     "name": "stdout",
     "output_type": "stream",
     "text": [
      "[CV] ............. n_iter=25, rank=6, score=0.332117353, total=   7.3s\n",
      "[CV] n_iter=25, rank=6 ...............................................\n"
     ]
    },
    {
     "name": "stderr",
     "output_type": "stream",
     "text": [
      "[Parallel(n_jobs=1)]: Done   5 out of   5 | elapsed:   25.0s remaining:    0.0s\n"
     ]
    },
    {
     "name": "stdout",
     "output_type": "stream",
     "text": [
      "[CV] .......... n_iter=25, rank=6, score=0.332959782673, total=   7.4s\n",
      "[CV] n_iter=25, rank=10 ..............................................\n"
     ]
    },
    {
     "name": "stderr",
     "output_type": "stream",
     "text": [
      "[Parallel(n_jobs=1)]: Done   6 out of   6 | elapsed:   32.5s remaining:    0.0s\n"
     ]
    },
    {
     "name": "stdout",
     "output_type": "stream",
     "text": [
      "[CV] ......... n_iter=25, rank=10, score=0.227965710255, total=  11.1s\n",
      "[CV] n_iter=25, rank=10 ..............................................\n"
     ]
    },
    {
     "name": "stderr",
     "output_type": "stream",
     "text": [
      "[Parallel(n_jobs=1)]: Done   7 out of   7 | elapsed:   43.7s remaining:    0.0s\n"
     ]
    },
    {
     "name": "stdout",
     "output_type": "stream",
     "text": [
      "[CV] ......... n_iter=25, rank=10, score=0.225766489999, total=  11.4s\n",
      "[CV] n_iter=25, rank=10 ..............................................\n"
     ]
    },
    {
     "name": "stderr",
     "output_type": "stream",
     "text": [
      "[Parallel(n_jobs=1)]: Done   8 out of   8 | elapsed:   55.2s remaining:    0.0s\n"
     ]
    },
    {
     "name": "stdout",
     "output_type": "stream",
     "text": [
      "[CV] ......... n_iter=25, rank=10, score=0.223207044699, total=  11.2s\n",
      "[CV] n_iter=50, rank=2 ...............................................\n"
     ]
    },
    {
     "name": "stderr",
     "output_type": "stream",
     "text": [
      "[Parallel(n_jobs=1)]: Done   9 out of   9 | elapsed:  1.1min remaining:    0.0s\n"
     ]
    },
    {
     "name": "stdout",
     "output_type": "stream",
     "text": [
      "[CV] .......... n_iter=50, rank=2, score=0.377354089185, total=   6.6s\n",
      "[CV] n_iter=50, rank=2 ...............................................\n",
      "[CV] .......... n_iter=50, rank=2, score=0.379207342317, total=   6.5s\n",
      "[CV] n_iter=50, rank=2 ...............................................\n",
      "[CV] .......... n_iter=50, rank=2, score=0.379708427608, total=   6.7s\n",
      "[CV] n_iter=50, rank=6 ...............................................\n",
      "[CV] .......... n_iter=50, rank=6, score=0.321874746958, total=  14.5s\n",
      "[CV] n_iter=50, rank=6 ...............................................\n",
      "[CV] .......... n_iter=50, rank=6, score=0.340792147688, total=  14.9s\n",
      "[CV] n_iter=50, rank=6 ...............................................\n",
      "[CV] .......... n_iter=50, rank=6, score=0.330655816006, total=  14.5s\n",
      "[CV] n_iter=50, rank=10 ..............................................\n",
      "[CV] ......... n_iter=50, rank=10, score=0.204666369757, total=  22.3s\n",
      "[CV] n_iter=50, rank=10 ..............................................\n",
      "[CV] ......... n_iter=50, rank=10, score=0.213395456239, total=  22.5s\n",
      "[CV] n_iter=50, rank=10 ..............................................\n",
      "[CV] ......... n_iter=50, rank=10, score=0.202291327065, total=  22.3s\n",
      "[CV] n_iter=75, rank=2 ...............................................\n",
      "[CV] .......... n_iter=75, rank=2, score=0.377283041509, total=   9.8s\n",
      "[CV] n_iter=75, rank=2 ...............................................\n",
      "[CV] .......... n_iter=75, rank=2, score=0.379143428701, total=  10.0s\n",
      "[CV] n_iter=75, rank=2 ...............................................\n",
      "[CV] .......... n_iter=75, rank=2, score=0.379683586216, total=   9.9s\n",
      "[CV] n_iter=75, rank=6 ...............................................\n",
      "[CV] ........... n_iter=75, rank=6, score=0.32197527199, total=  21.8s\n",
      "[CV] n_iter=75, rank=6 ...............................................\n",
      "[CV] .......... n_iter=75, rank=6, score=0.340493464697, total=  21.9s\n",
      "[CV] n_iter=75, rank=6 ...............................................\n",
      "[CV] .......... n_iter=75, rank=6, score=0.330376367757, total=  21.9s\n",
      "[CV] n_iter=75, rank=10 ..............................................\n",
      "[CV] ......... n_iter=75, rank=10, score=0.194147291193, total=  33.0s\n",
      "[CV] n_iter=75, rank=10 ..............................................\n",
      "[CV] ......... n_iter=75, rank=10, score=0.208185484216, total=  33.3s\n",
      "[CV] n_iter=75, rank=10 ..............................................\n",
      "[CV] ......... n_iter=75, rank=10, score=0.194025971079, total=  33.1s\n",
      "[CV] n_iter=100, rank=2 ..............................................\n",
      "[CV] ......... n_iter=100, rank=2, score=0.377270644753, total=  13.1s\n",
      "[CV] n_iter=100, rank=2 ..............................................\n",
      "[CV] ......... n_iter=100, rank=2, score=0.379132902653, total=  13.2s\n",
      "[CV] n_iter=100, rank=2 ..............................................\n",
      "[CV] ......... n_iter=100, rank=2, score=0.379683769485, total=  13.4s\n",
      "[CV] n_iter=100, rank=6 ..............................................\n",
      "[CV] ......... n_iter=100, rank=6, score=0.323351882384, total=  28.3s\n",
      "[CV] n_iter=100, rank=6 ..............................................\n",
      "[CV] ......... n_iter=100, rank=6, score=0.339676569569, total=  29.0s\n",
      "[CV] n_iter=100, rank=6 ..............................................\n",
      "[CV] ......... n_iter=100, rank=6, score=0.330100545755, total=  28.6s\n",
      "[CV] n_iter=100, rank=10 .............................................\n",
      "[CV] ........ n_iter=100, rank=10, score=0.193703823662, total=  44.7s\n",
      "[CV] n_iter=100, rank=10 .............................................\n",
      "[CV] ........ n_iter=100, rank=10, score=0.206674467985, total=  44.5s\n",
      "[CV] n_iter=100, rank=10 .............................................\n",
      "[CV] ........ n_iter=100, rank=10, score=0.191745069122, total=  44.6s\n"
     ]
    },
    {
     "name": "stderr",
     "output_type": "stream",
     "text": [
      "[Parallel(n_jobs=1)]: Done  36 out of  36 | elapsed: 10.9min finished\n"
     ]
    },
    {
     "name": "stdout",
     "output_type": "stream",
     "text": [
      "660.660757065\n",
      "---Factorization Machine---\n",
      "---Running iteration 4 ---\n",
      "---Subsetting Original Data---\n",
      "---Spliting Test and Train Data---\n",
      "---Encoding Data---\n",
      "---Hyperparameter Tuning---\n",
      "Fitting 3 folds for each of 12 candidates, totalling 36 fits\n",
      "[CV] n_iter=25, rank=2 ...............................................\n"
     ]
    },
    {
     "name": "stderr",
     "output_type": "stream",
     "text": [
      "[Parallel(n_jobs=1)]: Using backend SequentialBackend with 1 concurrent workers.\n"
     ]
    },
    {
     "name": "stdout",
     "output_type": "stream",
     "text": [
      "[CV] .......... n_iter=25, rank=2, score=0.379109268633, total=   3.1s\n",
      "[CV] n_iter=25, rank=2 ...............................................\n"
     ]
    },
    {
     "name": "stderr",
     "output_type": "stream",
     "text": [
      "[Parallel(n_jobs=1)]: Done   1 out of   1 | elapsed:    3.2s remaining:    0.0s\n"
     ]
    },
    {
     "name": "stdout",
     "output_type": "stream",
     "text": [
      "[CV] .......... n_iter=25, rank=2, score=0.377873911807, total=   3.0s\n",
      "[CV] n_iter=25, rank=2 ...............................................\n"
     ]
    },
    {
     "name": "stderr",
     "output_type": "stream",
     "text": [
      "[Parallel(n_jobs=1)]: Done   2 out of   2 | elapsed:    6.3s remaining:    0.0s\n"
     ]
    },
    {
     "name": "stdout",
     "output_type": "stream",
     "text": [
      "[CV] .......... n_iter=25, rank=2, score=0.378621891981, total=   3.0s\n",
      "[CV] n_iter=25, rank=6 ...............................................\n"
     ]
    },
    {
     "name": "stderr",
     "output_type": "stream",
     "text": [
      "[Parallel(n_jobs=1)]: Done   3 out of   3 | elapsed:    9.4s remaining:    0.0s\n"
     ]
    },
    {
     "name": "stdout",
     "output_type": "stream",
     "text": [
      "[CV] .......... n_iter=25, rank=6, score=0.353594580023, total=   6.7s\n",
      "[CV] n_iter=25, rank=6 ...............................................\n"
     ]
    },
    {
     "name": "stderr",
     "output_type": "stream",
     "text": [
      "[Parallel(n_jobs=1)]: Done   4 out of   4 | elapsed:   16.2s remaining:    0.0s\n"
     ]
    },
    {
     "name": "stdout",
     "output_type": "stream",
     "text": [
      "[CV] .......... n_iter=25, rank=6, score=0.348046305231, total=   6.7s\n",
      "[CV] n_iter=25, rank=6 ...............................................\n"
     ]
    },
    {
     "name": "stderr",
     "output_type": "stream",
     "text": [
      "[Parallel(n_jobs=1)]: Done   5 out of   5 | elapsed:   23.0s remaining:    0.0s\n"
     ]
    },
    {
     "name": "stdout",
     "output_type": "stream",
     "text": [
      "[CV] .......... n_iter=25, rank=6, score=0.346987129043, total=   6.7s\n",
      "[CV] n_iter=25, rank=10 ..............................................\n"
     ]
    },
    {
     "name": "stderr",
     "output_type": "stream",
     "text": [
      "[Parallel(n_jobs=1)]: Done   6 out of   6 | elapsed:   29.8s remaining:    0.0s\n"
     ]
    },
    {
     "name": "stdout",
     "output_type": "stream",
     "text": [
      "[CV] ......... n_iter=25, rank=10, score=0.252562333914, total=  10.3s\n",
      "[CV] n_iter=25, rank=10 ..............................................\n"
     ]
    },
    {
     "name": "stderr",
     "output_type": "stream",
     "text": [
      "[Parallel(n_jobs=1)]: Done   7 out of   7 | elapsed:   40.2s remaining:    0.0s\n"
     ]
    },
    {
     "name": "stdout",
     "output_type": "stream",
     "text": [
      "[CV] ......... n_iter=25, rank=10, score=0.253839515184, total=  10.4s\n",
      "[CV] n_iter=25, rank=10 ..............................................\n"
     ]
    },
    {
     "name": "stderr",
     "output_type": "stream",
     "text": [
      "[Parallel(n_jobs=1)]: Done   8 out of   8 | elapsed:   50.7s remaining:    0.0s\n"
     ]
    },
    {
     "name": "stdout",
     "output_type": "stream",
     "text": [
      "[CV] ......... n_iter=25, rank=10, score=0.258614877931, total=  10.2s\n",
      "[CV] n_iter=50, rank=2 ...............................................\n"
     ]
    },
    {
     "name": "stderr",
     "output_type": "stream",
     "text": [
      "[Parallel(n_jobs=1)]: Done   9 out of   9 | elapsed:  1.0min remaining:    0.0s\n"
     ]
    },
    {
     "name": "stdout",
     "output_type": "stream",
     "text": [
      "[CV] .......... n_iter=50, rank=2, score=0.380371426604, total=   5.9s\n",
      "[CV] n_iter=50, rank=2 ...............................................\n",
      "[CV] .......... n_iter=50, rank=2, score=0.377373019693, total=   6.0s\n",
      "[CV] n_iter=50, rank=2 ...............................................\n",
      "[CV] .......... n_iter=50, rank=2, score=0.378430105338, total=   6.0s\n",
      "[CV] n_iter=50, rank=6 ...............................................\n",
      "[CV] .......... n_iter=50, rank=6, score=0.355438456134, total=  12.9s\n",
      "[CV] n_iter=50, rank=6 ...............................................\n",
      "[CV] .......... n_iter=50, rank=6, score=0.350481697581, total=  13.3s\n",
      "[CV] n_iter=50, rank=6 ...............................................\n",
      "[CV] .......... n_iter=50, rank=6, score=0.344864834771, total=  13.2s\n",
      "[CV] n_iter=50, rank=10 ..............................................\n",
      "[CV] ......... n_iter=50, rank=10, score=0.244057825306, total=  20.0s\n",
      "[CV] n_iter=50, rank=10 ..............................................\n",
      "[CV] ......... n_iter=50, rank=10, score=0.237705450347, total=  20.5s\n",
      "[CV] n_iter=50, rank=10 ..............................................\n",
      "[CV] ......... n_iter=50, rank=10, score=0.247211694262, total=  20.5s\n",
      "[CV] n_iter=75, rank=2 ...............................................\n",
      "[CV] .......... n_iter=75, rank=2, score=0.380298536025, total=   8.8s\n",
      "[CV] n_iter=75, rank=2 ...............................................\n",
      "[CV] .......... n_iter=75, rank=2, score=0.377113171936, total=   9.0s\n",
      "[CV] n_iter=75, rank=2 ...............................................\n",
      "[CV] .......... n_iter=75, rank=2, score=0.378314395941, total=   8.8s\n",
      "[CV] n_iter=75, rank=6 ...............................................\n",
      "[CV] .......... n_iter=75, rank=6, score=0.355529792093, total=  19.6s\n",
      "[CV] n_iter=75, rank=6 ...............................................\n",
      "[CV] .......... n_iter=75, rank=6, score=0.350248350011, total=  19.9s\n",
      "[CV] n_iter=75, rank=6 ...............................................\n",
      "[CV] .......... n_iter=75, rank=6, score=0.344013879634, total=  19.7s\n",
      "[CV] n_iter=75, rank=10 ..............................................\n",
      "[CV] ......... n_iter=75, rank=10, score=0.245388712518, total=  29.9s\n",
      "[CV] n_iter=75, rank=10 ..............................................\n",
      "[CV] ......... n_iter=75, rank=10, score=0.231017643514, total=  30.7s\n",
      "[CV] n_iter=75, rank=10 ..............................................\n",
      "[CV] ......... n_iter=75, rank=10, score=0.239691207225, total=  30.4s\n",
      "[CV] n_iter=100, rank=2 ..............................................\n",
      "[CV] ......... n_iter=100, rank=2, score=0.380276768631, total=  11.8s\n",
      "[CV] n_iter=100, rank=2 ..............................................\n",
      "[CV] ......... n_iter=100, rank=2, score=0.376947332348, total=  11.8s\n",
      "[CV] n_iter=100, rank=2 ..............................................\n",
      "[CV] ......... n_iter=100, rank=2, score=0.378251935814, total=  12.0s\n",
      "[CV] n_iter=100, rank=6 ..............................................\n",
      "[CV] ......... n_iter=100, rank=6, score=0.355389224089, total=  26.1s\n",
      "[CV] n_iter=100, rank=6 ..............................................\n",
      "[CV] ......... n_iter=100, rank=6, score=0.350455887804, total=  26.2s\n",
      "[CV] n_iter=100, rank=6 ..............................................\n",
      "[CV] ......... n_iter=100, rank=6, score=0.344620582788, total=  26.2s\n",
      "[CV] n_iter=100, rank=10 .............................................\n",
      "[CV] ........ n_iter=100, rank=10, score=0.247002265406, total=  40.5s\n",
      "[CV] n_iter=100, rank=10 .............................................\n",
      "[CV] ........ n_iter=100, rank=10, score=0.227433812265, total=  42.1s\n",
      "[CV] n_iter=100, rank=10 .............................................\n",
      "[CV] ........ n_iter=100, rank=10, score=0.235261576696, total=  40.6s\n"
     ]
    },
    {
     "name": "stderr",
     "output_type": "stream",
     "text": [
      "[Parallel(n_jobs=1)]: Done  36 out of  36 | elapsed:  9.9min finished\n"
     ]
    },
    {
     "name": "stdout",
     "output_type": "stream",
     "text": [
      "606.873418093\n",
      "---Factorization Machine---\n",
      "---Running iteration 5 ---\n",
      "---Subsetting Original Data---\n",
      "---Spliting Test and Train Data---\n",
      "---Encoding Data---\n",
      "---Hyperparameter Tuning---\n",
      "Fitting 3 folds for each of 12 candidates, totalling 36 fits\n",
      "[CV] n_iter=25, rank=2 ...............................................\n"
     ]
    },
    {
     "name": "stderr",
     "output_type": "stream",
     "text": [
      "[Parallel(n_jobs=1)]: Using backend SequentialBackend with 1 concurrent workers.\n"
     ]
    },
    {
     "name": "stdout",
     "output_type": "stream",
     "text": [
      "[CV] .......... n_iter=25, rank=2, score=0.372463589994, total=   2.6s\n",
      "[CV] n_iter=25, rank=2 ...............................................\n"
     ]
    },
    {
     "name": "stderr",
     "output_type": "stream",
     "text": [
      "[Parallel(n_jobs=1)]: Done   1 out of   1 | elapsed:    2.6s remaining:    0.0s\n"
     ]
    },
    {
     "name": "stdout",
     "output_type": "stream",
     "text": [
      "[CV] .......... n_iter=25, rank=2, score=0.380744562166, total=   2.5s\n",
      "[CV] n_iter=25, rank=2 ...............................................\n"
     ]
    },
    {
     "name": "stderr",
     "output_type": "stream",
     "text": [
      "[Parallel(n_jobs=1)]: Done   2 out of   2 | elapsed:    5.2s remaining:    0.0s\n"
     ]
    },
    {
     "name": "stdout",
     "output_type": "stream",
     "text": [
      "[CV] .......... n_iter=25, rank=2, score=0.375220518448, total=   2.6s\n",
      "[CV] n_iter=25, rank=6 ...............................................\n"
     ]
    },
    {
     "name": "stderr",
     "output_type": "stream",
     "text": [
      "[Parallel(n_jobs=1)]: Done   3 out of   3 | elapsed:    7.9s remaining:    0.0s\n"
     ]
    },
    {
     "name": "stdout",
     "output_type": "stream",
     "text": [
      "[CV] .......... n_iter=25, rank=6, score=0.355525378904, total=   5.5s\n",
      "[CV] n_iter=25, rank=6 ...............................................\n"
     ]
    },
    {
     "name": "stderr",
     "output_type": "stream",
     "text": [
      "[Parallel(n_jobs=1)]: Done   4 out of   4 | elapsed:   13.4s remaining:    0.0s\n"
     ]
    },
    {
     "name": "stdout",
     "output_type": "stream",
     "text": [
      "[CV] .......... n_iter=25, rank=6, score=0.365950954328, total=   5.5s\n",
      "[CV] n_iter=25, rank=6 ...............................................\n"
     ]
    },
    {
     "name": "stderr",
     "output_type": "stream",
     "text": [
      "[Parallel(n_jobs=1)]: Done   5 out of   5 | elapsed:   19.0s remaining:    0.0s\n"
     ]
    },
    {
     "name": "stdout",
     "output_type": "stream",
     "text": [
      "[CV] .......... n_iter=25, rank=6, score=0.356423522776, total=   5.4s\n",
      "[CV] n_iter=25, rank=10 ..............................................\n"
     ]
    },
    {
     "name": "stderr",
     "output_type": "stream",
     "text": [
      "[Parallel(n_jobs=1)]: Done   6 out of   6 | elapsed:   24.4s remaining:    0.0s\n"
     ]
    },
    {
     "name": "stdout",
     "output_type": "stream",
     "text": [
      "[CV] ......... n_iter=25, rank=10, score=0.281718593136, total=   8.4s\n",
      "[CV] n_iter=25, rank=10 ..............................................\n"
     ]
    },
    {
     "name": "stderr",
     "output_type": "stream",
     "text": [
      "[Parallel(n_jobs=1)]: Done   7 out of   7 | elapsed:   32.9s remaining:    0.0s\n"
     ]
    },
    {
     "name": "stdout",
     "output_type": "stream",
     "text": [
      "[CV] ......... n_iter=25, rank=10, score=0.292565512988, total=   8.3s\n",
      "[CV] n_iter=25, rank=10 ..............................................\n"
     ]
    },
    {
     "name": "stderr",
     "output_type": "stream",
     "text": [
      "[Parallel(n_jobs=1)]: Done   8 out of   8 | elapsed:   41.3s remaining:    0.0s\n"
     ]
    },
    {
     "name": "stdout",
     "output_type": "stream",
     "text": [
      "[CV] ......... n_iter=25, rank=10, score=0.279986232254, total=   8.6s\n",
      "[CV] n_iter=50, rank=2 ...............................................\n"
     ]
    },
    {
     "name": "stderr",
     "output_type": "stream",
     "text": [
      "[Parallel(n_jobs=1)]: Done   9 out of   9 | elapsed:   50.0s remaining:    0.0s\n"
     ]
    },
    {
     "name": "stdout",
     "output_type": "stream",
     "text": [
      "[CV] .......... n_iter=50, rank=2, score=0.372389607298, total=   5.1s\n",
      "[CV] n_iter=50, rank=2 ...............................................\n",
      "[CV] .......... n_iter=50, rank=2, score=0.380692786756, total=   5.0s\n",
      "[CV] n_iter=50, rank=2 ...............................................\n",
      "[CV] .......... n_iter=50, rank=2, score=0.375204122496, total=   5.0s\n",
      "[CV] n_iter=50, rank=6 ...............................................\n",
      "[CV] .......... n_iter=50, rank=6, score=0.357022871895, total=  10.8s\n",
      "[CV] n_iter=50, rank=6 ...............................................\n",
      "[CV] .......... n_iter=50, rank=6, score=0.365690913886, total=  10.6s\n",
      "[CV] n_iter=50, rank=6 ...............................................\n",
      "[CV] .......... n_iter=50, rank=6, score=0.358007725608, total=  10.7s\n",
      "[CV] n_iter=50, rank=10 ..............................................\n",
      "[CV] ......... n_iter=50, rank=10, score=0.266994233974, total=  16.6s\n",
      "[CV] n_iter=50, rank=10 ..............................................\n",
      "[CV] .......... n_iter=50, rank=10, score=0.28116645406, total=  16.9s\n",
      "[CV] n_iter=50, rank=10 ..............................................\n",
      "[CV] ......... n_iter=50, rank=10, score=0.269470822287, total=  17.1s\n",
      "[CV] n_iter=75, rank=2 ...............................................\n",
      "[CV] .......... n_iter=75, rank=2, score=0.372368619255, total=   7.5s\n",
      "[CV] n_iter=75, rank=2 ...............................................\n",
      "[CV] .......... n_iter=75, rank=2, score=0.380671009544, total=   7.4s\n",
      "[CV] n_iter=75, rank=2 ...............................................\n",
      "[CV] ........... n_iter=75, rank=2, score=0.37519143838, total=   7.4s\n",
      "[CV] n_iter=75, rank=6 ...............................................\n",
      "[CV] .......... n_iter=75, rank=6, score=0.356936577059, total=  16.0s\n",
      "[CV] n_iter=75, rank=6 ...............................................\n",
      "[CV] .......... n_iter=75, rank=6, score=0.366150222164, total=  16.0s\n",
      "[CV] n_iter=75, rank=6 ...............................................\n",
      "[CV] .......... n_iter=75, rank=6, score=0.359008010402, total=  15.9s\n",
      "[CV] n_iter=75, rank=10 ..............................................\n",
      "[CV] ......... n_iter=75, rank=10, score=0.262035615101, total=  24.7s\n",
      "[CV] n_iter=75, rank=10 ..............................................\n",
      "[CV] ......... n_iter=75, rank=10, score=0.277009688534, total=  24.5s\n",
      "[CV] n_iter=75, rank=10 ..............................................\n",
      "[CV] ......... n_iter=75, rank=10, score=0.266198714222, total=  24.6s\n",
      "[CV] n_iter=100, rank=2 ..............................................\n",
      "[CV] .......... n_iter=100, rank=2, score=0.37236336989, total=   9.8s\n",
      "[CV] n_iter=100, rank=2 ..............................................\n",
      "[CV] ......... n_iter=100, rank=2, score=0.380665477753, total=   9.9s\n",
      "[CV] n_iter=100, rank=2 ..............................................\n",
      "[CV] ......... n_iter=100, rank=2, score=0.375191101258, total=   9.8s\n",
      "[CV] n_iter=100, rank=6 ..............................................\n",
      "[CV] ......... n_iter=100, rank=6, score=0.356698653874, total=  21.4s\n",
      "[CV] n_iter=100, rank=6 ..............................................\n",
      "[CV] ......... n_iter=100, rank=6, score=0.366396603338, total=  21.1s\n",
      "[CV] n_iter=100, rank=6 ..............................................\n",
      "[CV] ......... n_iter=100, rank=6, score=0.359512324916, total=  21.3s\n",
      "[CV] n_iter=100, rank=10 .............................................\n",
      "[CV] ........ n_iter=100, rank=10, score=0.259872650165, total=  32.7s\n",
      "[CV] n_iter=100, rank=10 .............................................\n",
      "[CV] ......... n_iter=100, rank=10, score=0.27462300958, total=  33.0s\n",
      "[CV] n_iter=100, rank=10 .............................................\n",
      "[CV] ........ n_iter=100, rank=10, score=0.264273985704, total=  32.4s\n"
     ]
    },
    {
     "name": "stderr",
     "output_type": "stream",
     "text": [
      "[Parallel(n_jobs=1)]: Done  36 out of  36 | elapsed:  8.1min finished\n"
     ]
    },
    {
     "name": "stdout",
     "output_type": "stream",
     "text": [
      "490.471540928\n",
      "---Factorization Machine---\n",
      "---Running iteration 6 ---\n",
      "---Subsetting Original Data---\n",
      "---Spliting Test and Train Data---\n",
      "---Encoding Data---\n",
      "---Hyperparameter Tuning---\n",
      "Fitting 3 folds for each of 12 candidates, totalling 36 fits\n",
      "[CV] n_iter=25, rank=2 ...............................................\n"
     ]
    },
    {
     "name": "stderr",
     "output_type": "stream",
     "text": [
      "[Parallel(n_jobs=1)]: Using backend SequentialBackend with 1 concurrent workers.\n"
     ]
    },
    {
     "name": "stdout",
     "output_type": "stream",
     "text": [
      "[CV] .......... n_iter=25, rank=2, score=0.362919427232, total=   2.0s\n",
      "[CV] n_iter=25, rank=2 ...............................................\n"
     ]
    },
    {
     "name": "stderr",
     "output_type": "stream",
     "text": [
      "[Parallel(n_jobs=1)]: Done   1 out of   1 | elapsed:    2.0s remaining:    0.0s\n"
     ]
    },
    {
     "name": "stdout",
     "output_type": "stream",
     "text": [
      "[CV] .......... n_iter=25, rank=2, score=0.369309239995, total=   2.0s\n",
      "[CV] n_iter=25, rank=2 ...............................................\n"
     ]
    },
    {
     "name": "stderr",
     "output_type": "stream",
     "text": [
      "[Parallel(n_jobs=1)]: Done   2 out of   2 | elapsed:    4.1s remaining:    0.0s\n"
     ]
    },
    {
     "name": "stdout",
     "output_type": "stream",
     "text": [
      "[CV] .......... n_iter=25, rank=2, score=0.369186370913, total=   2.0s\n",
      "[CV] n_iter=25, rank=6 ...............................................\n"
     ]
    },
    {
     "name": "stderr",
     "output_type": "stream",
     "text": [
      "[Parallel(n_jobs=1)]: Done   3 out of   3 | elapsed:    6.1s remaining:    0.0s\n"
     ]
    },
    {
     "name": "stdout",
     "output_type": "stream",
     "text": [
      "[CV] .......... n_iter=25, rank=6, score=0.364182027191, total=   4.5s\n",
      "[CV] n_iter=25, rank=6 ...............................................\n"
     ]
    },
    {
     "name": "stderr",
     "output_type": "stream",
     "text": [
      "[Parallel(n_jobs=1)]: Done   4 out of   4 | elapsed:   10.6s remaining:    0.0s\n"
     ]
    },
    {
     "name": "stdout",
     "output_type": "stream",
     "text": [
      "[CV] .......... n_iter=25, rank=6, score=0.366140452779, total=   4.4s\n",
      "[CV] n_iter=25, rank=6 ...............................................\n"
     ]
    },
    {
     "name": "stderr",
     "output_type": "stream",
     "text": [
      "[Parallel(n_jobs=1)]: Done   5 out of   5 | elapsed:   15.0s remaining:    0.0s\n"
     ]
    },
    {
     "name": "stdout",
     "output_type": "stream",
     "text": [
      "[CV] ........... n_iter=25, rank=6, score=0.36601973798, total=   4.5s\n",
      "[CV] n_iter=25, rank=10 ..............................................\n"
     ]
    },
    {
     "name": "stderr",
     "output_type": "stream",
     "text": [
      "[Parallel(n_jobs=1)]: Done   6 out of   6 | elapsed:   19.5s remaining:    0.0s\n"
     ]
    },
    {
     "name": "stdout",
     "output_type": "stream",
     "text": [
      "[CV] .......... n_iter=25, rank=10, score=0.28920602661, total=   6.8s\n",
      "[CV] n_iter=25, rank=10 ..............................................\n"
     ]
    },
    {
     "name": "stderr",
     "output_type": "stream",
     "text": [
      "[Parallel(n_jobs=1)]: Done   7 out of   7 | elapsed:   26.4s remaining:    0.0s\n"
     ]
    },
    {
     "name": "stdout",
     "output_type": "stream",
     "text": [
      "[CV] ......... n_iter=25, rank=10, score=0.302848303828, total=   6.9s\n",
      "[CV] n_iter=25, rank=10 ..............................................\n"
     ]
    },
    {
     "name": "stderr",
     "output_type": "stream",
     "text": [
      "[Parallel(n_jobs=1)]: Done   8 out of   8 | elapsed:   33.4s remaining:    0.0s\n"
     ]
    },
    {
     "name": "stdout",
     "output_type": "stream",
     "text": [
      "[CV] ......... n_iter=25, rank=10, score=0.298704726067, total=   6.8s\n",
      "[CV] n_iter=50, rank=2 ...............................................\n"
     ]
    },
    {
     "name": "stderr",
     "output_type": "stream",
     "text": [
      "[Parallel(n_jobs=1)]: Done   9 out of   9 | elapsed:   40.3s remaining:    0.0s\n"
     ]
    },
    {
     "name": "stdout",
     "output_type": "stream",
     "text": [
      "[CV] .......... n_iter=50, rank=2, score=0.368941222759, total=   3.8s\n",
      "[CV] n_iter=50, rank=2 ...............................................\n",
      "[CV] .......... n_iter=50, rank=2, score=0.369643930071, total=   3.8s\n",
      "[CV] n_iter=50, rank=2 ...............................................\n",
      "[CV] .......... n_iter=50, rank=2, score=0.370985473839, total=   3.8s\n",
      "[CV] n_iter=50, rank=6 ...............................................\n",
      "[CV] .......... n_iter=50, rank=6, score=0.364653409096, total=   8.7s\n",
      "[CV] n_iter=50, rank=6 ...............................................\n",
      "[CV] .......... n_iter=50, rank=6, score=0.365486060507, total=   8.8s\n",
      "[CV] n_iter=50, rank=6 ...............................................\n",
      "[CV] .......... n_iter=50, rank=6, score=0.366745991304, total=   8.5s\n",
      "[CV] n_iter=50, rank=10 ..............................................\n",
      "[CV] ......... n_iter=50, rank=10, score=0.274508945893, total=  13.5s\n",
      "[CV] n_iter=50, rank=10 ..............................................\n",
      "[CV] ......... n_iter=50, rank=10, score=0.295560661529, total=  13.1s\n",
      "[CV] n_iter=50, rank=10 ..............................................\n",
      "[CV] ......... n_iter=50, rank=10, score=0.293672714028, total=  12.9s\n",
      "[CV] n_iter=75, rank=2 ...............................................\n",
      "[CV] ........... n_iter=75, rank=2, score=0.36891185353, total=   5.7s\n",
      "[CV] n_iter=75, rank=2 ...............................................\n",
      "[CV] .......... n_iter=75, rank=2, score=0.369644423492, total=   5.7s\n",
      "[CV] n_iter=75, rank=2 ...............................................\n",
      "[CV] .......... n_iter=75, rank=2, score=0.370969092222, total=   5.6s\n",
      "[CV] n_iter=75, rank=6 ...............................................\n",
      "[CV] ........... n_iter=75, rank=6, score=0.36436508285, total=  13.1s\n",
      "[CV] n_iter=75, rank=6 ...............................................\n",
      "[CV] ........... n_iter=75, rank=6, score=0.36514956976, total=  12.5s\n",
      "[CV] n_iter=75, rank=6 ...............................................\n",
      "[CV] .......... n_iter=75, rank=6, score=0.366466092087, total=  12.5s\n",
      "[CV] n_iter=75, rank=10 ..............................................\n",
      "[CV] ......... n_iter=75, rank=10, score=0.268041128216, total=  20.2s\n",
      "[CV] n_iter=75, rank=10 ..............................................\n",
      "[CV] ......... n_iter=75, rank=10, score=0.290494345794, total=  20.5s\n",
      "[CV] n_iter=75, rank=10 ..............................................\n",
      "[CV] ......... n_iter=75, rank=10, score=0.287126087172, total=  19.5s\n",
      "[CV] n_iter=100, rank=2 ..............................................\n",
      "[CV] .......... n_iter=100, rank=2, score=0.36890564219, total=   7.5s\n",
      "[CV] n_iter=100, rank=2 ..............................................\n",
      "[CV] ......... n_iter=100, rank=2, score=0.369645909672, total=   7.5s\n",
      "[CV] n_iter=100, rank=2 ..............................................\n",
      "[CV] ......... n_iter=100, rank=2, score=0.370962972558, total=   7.5s\n",
      "[CV] n_iter=100, rank=6 ..............................................\n",
      "[CV] ......... n_iter=100, rank=6, score=0.364230086972, total=  16.7s\n",
      "[CV] n_iter=100, rank=6 ..............................................\n",
      "[CV] ......... n_iter=100, rank=6, score=0.365053094666, total=  16.8s\n",
      "[CV] n_iter=100, rank=6 ..............................................\n",
      "[CV] ......... n_iter=100, rank=6, score=0.366350372937, total=  16.7s\n",
      "[CV] n_iter=100, rank=10 .............................................\n",
      "[CV] ........ n_iter=100, rank=10, score=0.265659687164, total=  26.8s\n",
      "[CV] n_iter=100, rank=10 .............................................\n",
      "[CV] ........ n_iter=100, rank=10, score=0.285907421591, total=  25.7s\n",
      "[CV] n_iter=100, rank=10 .............................................\n",
      "[CV] ........ n_iter=100, rank=10, score=0.282696494289, total=  26.5s\n"
     ]
    },
    {
     "name": "stderr",
     "output_type": "stream",
     "text": [
      "[Parallel(n_jobs=1)]: Done  36 out of  36 | elapsed:  6.4min finished\n"
     ]
    },
    {
     "name": "stdout",
     "output_type": "stream",
     "text": [
      "393.667182922\n",
      "---Factorization Machine---\n",
      "---Running iteration 7 ---\n",
      "---Subsetting Original Data---\n",
      "---Spliting Test and Train Data---\n",
      "---Encoding Data---\n",
      "---Hyperparameter Tuning---\n",
      "Fitting 3 folds for each of 12 candidates, totalling 36 fits\n",
      "[CV] n_iter=25, rank=2 ...............................................\n"
     ]
    },
    {
     "name": "stderr",
     "output_type": "stream",
     "text": [
      "[Parallel(n_jobs=1)]: Using backend SequentialBackend with 1 concurrent workers.\n"
     ]
    },
    {
     "name": "stdout",
     "output_type": "stream",
     "text": [
      "[CV] .......... n_iter=25, rank=2, score=0.363589538092, total=   1.4s\n",
      "[CV] n_iter=25, rank=2 ...............................................\n"
     ]
    },
    {
     "name": "stderr",
     "output_type": "stream",
     "text": [
      "[Parallel(n_jobs=1)]: Done   1 out of   1 | elapsed:    1.4s remaining:    0.0s\n"
     ]
    },
    {
     "name": "stdout",
     "output_type": "stream",
     "text": [
      "[CV] .......... n_iter=25, rank=2, score=0.359719354181, total=   1.3s\n",
      "[CV] n_iter=25, rank=2 ...............................................\n"
     ]
    },
    {
     "name": "stderr",
     "output_type": "stream",
     "text": [
      "[Parallel(n_jobs=1)]: Done   2 out of   2 | elapsed:    2.8s remaining:    0.0s\n"
     ]
    },
    {
     "name": "stdout",
     "output_type": "stream",
     "text": [
      "[CV] .......... n_iter=25, rank=2, score=0.361744804666, total=   1.3s\n",
      "[CV] n_iter=25, rank=6 ...............................................\n"
     ]
    },
    {
     "name": "stderr",
     "output_type": "stream",
     "text": [
      "[Parallel(n_jobs=1)]: Done   3 out of   3 | elapsed:    4.2s remaining:    0.0s\n"
     ]
    },
    {
     "name": "stdout",
     "output_type": "stream",
     "text": [
      "[CV] ........... n_iter=25, rank=6, score=0.36569679457, total=   2.9s\n",
      "[CV] n_iter=25, rank=6 ...............................................\n"
     ]
    },
    {
     "name": "stderr",
     "output_type": "stream",
     "text": [
      "[Parallel(n_jobs=1)]: Done   4 out of   4 | elapsed:    7.1s remaining:    0.0s\n"
     ]
    },
    {
     "name": "stdout",
     "output_type": "stream",
     "text": [
      "[CV] ........... n_iter=25, rank=6, score=0.36169508431, total=   2.9s\n",
      "[CV] n_iter=25, rank=6 ...............................................\n"
     ]
    },
    {
     "name": "stderr",
     "output_type": "stream",
     "text": [
      "[Parallel(n_jobs=1)]: Done   5 out of   5 | elapsed:   10.0s remaining:    0.0s\n"
     ]
    },
    {
     "name": "stdout",
     "output_type": "stream",
     "text": [
      "[CV] .......... n_iter=25, rank=6, score=0.358092232907, total=   2.9s\n",
      "[CV] n_iter=25, rank=10 ..............................................\n"
     ]
    },
    {
     "name": "stderr",
     "output_type": "stream",
     "text": [
      "[Parallel(n_jobs=1)]: Done   6 out of   6 | elapsed:   13.0s remaining:    0.0s\n"
     ]
    },
    {
     "name": "stdout",
     "output_type": "stream",
     "text": [
      "[CV] .......... n_iter=25, rank=10, score=0.31568942636, total=   4.5s\n",
      "[CV] n_iter=25, rank=10 ..............................................\n"
     ]
    },
    {
     "name": "stderr",
     "output_type": "stream",
     "text": [
      "[Parallel(n_jobs=1)]: Done   7 out of   7 | elapsed:   17.5s remaining:    0.0s\n"
     ]
    },
    {
     "name": "stdout",
     "output_type": "stream",
     "text": [
      "[CV] ......... n_iter=25, rank=10, score=0.308631711723, total=   4.4s\n",
      "[CV] n_iter=25, rank=10 ..............................................\n"
     ]
    },
    {
     "name": "stderr",
     "output_type": "stream",
     "text": [
      "[Parallel(n_jobs=1)]: Done   8 out of   8 | elapsed:   22.0s remaining:    0.0s\n"
     ]
    },
    {
     "name": "stdout",
     "output_type": "stream",
     "text": [
      "[CV] ......... n_iter=25, rank=10, score=0.315594266614, total=   4.4s\n",
      "[CV] n_iter=50, rank=2 ...............................................\n"
     ]
    },
    {
     "name": "stderr",
     "output_type": "stream",
     "text": [
      "[Parallel(n_jobs=1)]: Done   9 out of   9 | elapsed:   26.4s remaining:    0.0s\n"
     ]
    },
    {
     "name": "stdout",
     "output_type": "stream",
     "text": [
      "[CV] .......... n_iter=50, rank=2, score=0.363582542089, total=   2.6s\n",
      "[CV] n_iter=50, rank=2 ...............................................\n",
      "[CV] ........... n_iter=50, rank=2, score=0.35966342147, total=   2.5s\n",
      "[CV] n_iter=50, rank=2 ...............................................\n",
      "[CV] .......... n_iter=50, rank=2, score=0.361780912506, total=   2.5s\n",
      "[CV] n_iter=50, rank=6 ...............................................\n",
      "[CV] .......... n_iter=50, rank=6, score=0.365620435305, total=   5.7s\n",
      "[CV] n_iter=50, rank=6 ...............................................\n",
      "[CV] .......... n_iter=50, rank=6, score=0.361558813771, total=   5.7s\n",
      "[CV] n_iter=50, rank=6 ...............................................\n",
      "[CV] .......... n_iter=50, rank=6, score=0.362903871224, total=   5.7s\n",
      "[CV] n_iter=50, rank=10 ..............................................\n",
      "[CV] ......... n_iter=50, rank=10, score=0.314425319795, total=   8.6s\n",
      "[CV] n_iter=50, rank=10 ..............................................\n",
      "[CV] ......... n_iter=50, rank=10, score=0.306353133107, total=   9.4s\n",
      "[CV] n_iter=50, rank=10 ..............................................\n",
      "[CV] ......... n_iter=50, rank=10, score=0.315876614883, total=   8.7s\n",
      "[CV] n_iter=75, rank=2 ...............................................\n",
      "[CV] .......... n_iter=75, rank=2, score=0.363577800886, total=   3.8s\n",
      "[CV] n_iter=75, rank=2 ...............................................\n",
      "[CV] .......... n_iter=75, rank=2, score=0.359659443925, total=   3.7s\n",
      "[CV] n_iter=75, rank=2 ...............................................\n",
      "[CV] .......... n_iter=75, rank=2, score=0.361774658292, total=   3.7s\n",
      "[CV] n_iter=75, rank=6 ...............................................\n",
      "[CV] .......... n_iter=75, rank=6, score=0.365332912665, total=   8.5s\n",
      "[CV] n_iter=75, rank=6 ...............................................\n",
      "[CV] .......... n_iter=75, rank=6, score=0.361478427986, total=   8.7s\n",
      "[CV] n_iter=75, rank=6 ...............................................\n",
      "[CV] ........... n_iter=75, rank=6, score=0.36415835049, total=   8.8s\n",
      "[CV] n_iter=75, rank=10 ..............................................\n",
      "[CV] ......... n_iter=75, rank=10, score=0.313664718498, total=  13.0s\n",
      "[CV] n_iter=75, rank=10 ..............................................\n",
      "[CV] ......... n_iter=75, rank=10, score=0.303756610798, total=  13.2s\n",
      "[CV] n_iter=75, rank=10 ..............................................\n",
      "[CV] ........... n_iter=75, rank=10, score=0.3151570538, total=  12.9s\n",
      "[CV] n_iter=100, rank=2 ..............................................\n",
      "[CV] ......... n_iter=100, rank=2, score=0.363578521094, total=   5.1s\n",
      "[CV] n_iter=100, rank=2 ..............................................\n",
      "[CV] ......... n_iter=100, rank=2, score=0.359661188237, total=   5.1s\n",
      "[CV] n_iter=100, rank=2 ..............................................\n",
      "[CV] ......... n_iter=100, rank=2, score=0.361773465274, total=   5.1s\n",
      "[CV] n_iter=100, rank=6 ..............................................\n",
      "[CV] ........... n_iter=100, rank=6, score=0.3656467166, total=  12.1s\n",
      "[CV] n_iter=100, rank=6 ..............................................\n",
      "[CV] ......... n_iter=100, rank=6, score=0.361482039479, total=  11.3s\n",
      "[CV] n_iter=100, rank=6 ..............................................\n",
      "[CV] ......... n_iter=100, rank=6, score=0.364443683856, total=  11.2s\n",
      "[CV] n_iter=100, rank=10 .............................................\n",
      "[CV] ........ n_iter=100, rank=10, score=0.311946555538, total=  17.2s\n",
      "[CV] n_iter=100, rank=10 .............................................\n",
      "[CV] ........ n_iter=100, rank=10, score=0.300988775466, total=  17.5s\n",
      "[CV] n_iter=100, rank=10 .............................................\n",
      "[CV] ........ n_iter=100, rank=10, score=0.312638111311, total=  17.3s\n"
     ]
    },
    {
     "name": "stderr",
     "output_type": "stream",
     "text": [
      "[Parallel(n_jobs=1)]: Done  36 out of  36 | elapsed:  4.3min finished\n"
     ]
    },
    {
     "name": "stdout",
     "output_type": "stream",
     "text": [
      "279.174984932\n",
      "---Factorization Machine---\n",
      "---Running iteration 8 ---\n",
      "---Subsetting Original Data---\n",
      "---Spliting Test and Train Data---\n",
      "---Encoding Data---\n",
      "---Hyperparameter Tuning---\n",
      "Fitting 3 folds for each of 12 candidates, totalling 36 fits\n",
      "[CV] n_iter=25, rank=2 ...............................................\n"
     ]
    },
    {
     "name": "stderr",
     "output_type": "stream",
     "text": [
      "[Parallel(n_jobs=1)]: Using backend SequentialBackend with 1 concurrent workers.\n"
     ]
    },
    {
     "name": "stdout",
     "output_type": "stream",
     "text": [
      "[CV] .......... n_iter=25, rank=2, score=0.344036698922, total=   0.7s\n",
      "[CV] n_iter=25, rank=2 ...............................................\n"
     ]
    },
    {
     "name": "stderr",
     "output_type": "stream",
     "text": [
      "[Parallel(n_jobs=1)]: Done   1 out of   1 | elapsed:    0.7s remaining:    0.0s\n"
     ]
    },
    {
     "name": "stdout",
     "output_type": "stream",
     "text": [
      "[CV] ........... n_iter=25, rank=2, score=0.35614846159, total=   0.7s\n",
      "[CV] n_iter=25, rank=2 ...............................................\n"
     ]
    },
    {
     "name": "stderr",
     "output_type": "stream",
     "text": [
      "[Parallel(n_jobs=1)]: Done   2 out of   2 | elapsed:    1.4s remaining:    0.0s\n"
     ]
    },
    {
     "name": "stdout",
     "output_type": "stream",
     "text": [
      "[CV] .......... n_iter=25, rank=2, score=0.359123245825, total=   0.7s\n",
      "[CV] n_iter=25, rank=6 ...............................................\n"
     ]
    },
    {
     "name": "stderr",
     "output_type": "stream",
     "text": [
      "[Parallel(n_jobs=1)]: Done   3 out of   3 | elapsed:    2.1s remaining:    0.0s\n"
     ]
    },
    {
     "name": "stdout",
     "output_type": "stream",
     "text": [
      "[CV] .......... n_iter=25, rank=6, score=0.350034460091, total=   1.5s\n",
      "[CV] n_iter=25, rank=6 ...............................................\n"
     ]
    },
    {
     "name": "stderr",
     "output_type": "stream",
     "text": [
      "[Parallel(n_jobs=1)]: Done   4 out of   4 | elapsed:    3.6s remaining:    0.0s\n"
     ]
    },
    {
     "name": "stdout",
     "output_type": "stream",
     "text": [
      "[CV] .......... n_iter=25, rank=6, score=0.360293148238, total=   1.5s\n",
      "[CV] n_iter=25, rank=6 ...............................................\n"
     ]
    },
    {
     "name": "stderr",
     "output_type": "stream",
     "text": [
      "[Parallel(n_jobs=1)]: Done   5 out of   5 | elapsed:    5.1s remaining:    0.0s\n"
     ]
    },
    {
     "name": "stdout",
     "output_type": "stream",
     "text": [
      "[CV] .......... n_iter=25, rank=6, score=0.362327052773, total=   1.4s\n",
      "[CV] n_iter=25, rank=10 ..............................................\n"
     ]
    },
    {
     "name": "stderr",
     "output_type": "stream",
     "text": [
      "[Parallel(n_jobs=1)]: Done   6 out of   6 | elapsed:    6.6s remaining:    0.0s\n"
     ]
    },
    {
     "name": "stdout",
     "output_type": "stream",
     "text": [
      "[CV] ......... n_iter=25, rank=10, score=0.289850641554, total=   2.2s\n",
      "[CV] n_iter=25, rank=10 ..............................................\n"
     ]
    },
    {
     "name": "stderr",
     "output_type": "stream",
     "text": [
      "[Parallel(n_jobs=1)]: Done   7 out of   7 | elapsed:    8.8s remaining:    0.0s\n"
     ]
    },
    {
     "name": "stdout",
     "output_type": "stream",
     "text": [
      "[CV] ......... n_iter=25, rank=10, score=0.309296267864, total=   2.2s\n",
      "[CV] n_iter=25, rank=10 ..............................................\n"
     ]
    },
    {
     "name": "stderr",
     "output_type": "stream",
     "text": [
      "[Parallel(n_jobs=1)]: Done   8 out of   8 | elapsed:   11.0s remaining:    0.0s\n"
     ]
    },
    {
     "name": "stdout",
     "output_type": "stream",
     "text": [
      "[CV] ......... n_iter=25, rank=10, score=0.308933766327, total=   2.2s\n",
      "[CV] n_iter=50, rank=2 ...............................................\n"
     ]
    },
    {
     "name": "stderr",
     "output_type": "stream",
     "text": [
      "[Parallel(n_jobs=1)]: Done   9 out of   9 | elapsed:   13.2s remaining:    0.0s\n"
     ]
    },
    {
     "name": "stdout",
     "output_type": "stream",
     "text": [
      "[CV] .......... n_iter=50, rank=2, score=0.343896221958, total=   1.3s\n",
      "[CV] n_iter=50, rank=2 ...............................................\n",
      "[CV] .......... n_iter=50, rank=2, score=0.356203742952, total=   1.3s\n",
      "[CV] n_iter=50, rank=2 ...............................................\n",
      "[CV] .......... n_iter=50, rank=2, score=0.359171923351, total=   1.3s\n",
      "[CV] n_iter=50, rank=6 ...............................................\n",
      "[CV] .......... n_iter=50, rank=6, score=0.350889417037, total=   2.9s\n",
      "[CV] n_iter=50, rank=6 ...............................................\n",
      "[CV] .......... n_iter=50, rank=6, score=0.360450016023, total=   2.8s\n",
      "[CV] n_iter=50, rank=6 ...............................................\n",
      "[CV] .......... n_iter=50, rank=6, score=0.363978686809, total=   2.8s\n",
      "[CV] n_iter=50, rank=10 ..............................................\n",
      "[CV] ......... n_iter=50, rank=10, score=0.286812759958, total=   4.3s\n",
      "[CV] n_iter=50, rank=10 ..............................................\n",
      "[CV] ......... n_iter=50, rank=10, score=0.303669778279, total=   4.4s\n",
      "[CV] n_iter=50, rank=10 ..............................................\n",
      "[CV] ......... n_iter=50, rank=10, score=0.305989720016, total=   4.4s\n",
      "[CV] n_iter=75, rank=2 ...............................................\n",
      "[CV] .......... n_iter=75, rank=2, score=0.343896158561, total=   1.9s\n",
      "[CV] n_iter=75, rank=2 ...............................................\n",
      "[CV] ........... n_iter=75, rank=2, score=0.35620699584, total=   1.9s\n",
      "[CV] n_iter=75, rank=2 ...............................................\n",
      "[CV] .......... n_iter=75, rank=2, score=0.359174551365, total=   1.9s\n",
      "[CV] n_iter=75, rank=6 ...............................................\n",
      "[CV] .......... n_iter=75, rank=6, score=0.351021783563, total=   4.2s\n",
      "[CV] n_iter=75, rank=6 ...............................................\n",
      "[CV] .......... n_iter=75, rank=6, score=0.360200749847, total=   4.2s\n",
      "[CV] n_iter=75, rank=6 ...............................................\n",
      "[CV] .......... n_iter=75, rank=6, score=0.364263110273, total=   4.2s\n",
      "[CV] n_iter=75, rank=10 ..............................................\n",
      "[CV] .......... n_iter=75, rank=10, score=0.28331706928, total=   6.3s\n",
      "[CV] n_iter=75, rank=10 ..............................................\n",
      "[CV] ......... n_iter=75, rank=10, score=0.299015058768, total=   6.3s\n",
      "[CV] n_iter=75, rank=10 ..............................................\n",
      "[CV] ......... n_iter=75, rank=10, score=0.300337252351, total=   6.4s\n",
      "[CV] n_iter=100, rank=2 ..............................................\n",
      "[CV] ......... n_iter=100, rank=2, score=0.343902232617, total=   2.5s\n",
      "[CV] n_iter=100, rank=2 ..............................................\n",
      "[CV] ......... n_iter=100, rank=2, score=0.356211114494, total=   2.5s\n",
      "[CV] n_iter=100, rank=2 ..............................................\n",
      "[CV] ......... n_iter=100, rank=2, score=0.359178828934, total=   2.5s\n",
      "[CV] n_iter=100, rank=6 ..............................................\n",
      "[CV] ......... n_iter=100, rank=6, score=0.351073968794, total=   5.7s\n",
      "[CV] n_iter=100, rank=6 ..............................................\n",
      "[CV] ......... n_iter=100, rank=6, score=0.360148335908, total=   5.6s\n",
      "[CV] n_iter=100, rank=6 ..............................................\n",
      "[CV] ......... n_iter=100, rank=6, score=0.364333655913, total=   5.7s\n",
      "[CV] n_iter=100, rank=10 .............................................\n",
      "[CV] ........ n_iter=100, rank=10, score=0.278340708135, total=   8.5s\n",
      "[CV] n_iter=100, rank=10 .............................................\n",
      "[CV] ........ n_iter=100, rank=10, score=0.295467809096, total=   8.5s\n",
      "[CV] n_iter=100, rank=10 .............................................\n",
      "[CV] ........ n_iter=100, rank=10, score=0.296444963899, total=   8.5s\n"
     ]
    },
    {
     "name": "stderr",
     "output_type": "stream",
     "text": [
      "[Parallel(n_jobs=1)]: Done  36 out of  36 | elapsed:  2.1min finished\n"
     ]
    },
    {
     "name": "stdout",
     "output_type": "stream",
     "text": [
      "137.450973034\n",
      "---Factorization Machine---\n",
      "---Running iteration 9 ---\n",
      "---Subsetting Original Data---\n",
      "---Spliting Test and Train Data---\n",
      "---Encoding Data---\n",
      "---Hyperparameter Tuning---\n",
      "Fitting 3 folds for each of 12 candidates, totalling 36 fits\n",
      "[CV] n_iter=25, rank=2 ...............................................\n"
     ]
    },
    {
     "name": "stderr",
     "output_type": "stream",
     "text": [
      "[Parallel(n_jobs=1)]: Using backend SequentialBackend with 1 concurrent workers.\n"
     ]
    },
    {
     "name": "stdout",
     "output_type": "stream",
     "text": [
      "[CV] .......... n_iter=25, rank=2, score=0.320433500496, total=   0.2s\n",
      "[CV] n_iter=25, rank=2 ...............................................\n",
      "[CV] .......... n_iter=25, rank=2, score=0.325339964135, total=   0.2s\n",
      "[CV] n_iter=25, rank=2 ...............................................\n"
     ]
    },
    {
     "name": "stderr",
     "output_type": "stream",
     "text": [
      "[Parallel(n_jobs=1)]: Done   1 out of   1 | elapsed:    0.2s remaining:    0.0s\n",
      "[Parallel(n_jobs=1)]: Done   2 out of   2 | elapsed:    0.4s remaining:    0.0s\n"
     ]
    },
    {
     "name": "stdout",
     "output_type": "stream",
     "text": [
      "[CV] .......... n_iter=25, rank=2, score=0.311854637649, total=   0.2s\n",
      "[CV] n_iter=25, rank=6 ...............................................\n"
     ]
    },
    {
     "name": "stderr",
     "output_type": "stream",
     "text": [
      "[Parallel(n_jobs=1)]: Done   3 out of   3 | elapsed:    0.6s remaining:    0.0s\n"
     ]
    },
    {
     "name": "stdout",
     "output_type": "stream",
     "text": [
      "[CV] .......... n_iter=25, rank=6, score=0.293128608503, total=   0.4s\n",
      "[CV] n_iter=25, rank=6 ...............................................\n"
     ]
    },
    {
     "name": "stderr",
     "output_type": "stream",
     "text": [
      "[Parallel(n_jobs=1)]: Done   4 out of   4 | elapsed:    1.0s remaining:    0.0s\n"
     ]
    },
    {
     "name": "stdout",
     "output_type": "stream",
     "text": [
      "[CV] .......... n_iter=25, rank=6, score=0.311954650475, total=   0.4s\n",
      "[CV] n_iter=25, rank=6 ...............................................\n"
     ]
    },
    {
     "name": "stderr",
     "output_type": "stream",
     "text": [
      "[Parallel(n_jobs=1)]: Done   5 out of   5 | elapsed:    1.5s remaining:    0.0s\n"
     ]
    },
    {
     "name": "stdout",
     "output_type": "stream",
     "text": [
      "[CV] .......... n_iter=25, rank=6, score=0.289407091569, total=   0.4s\n",
      "[CV] n_iter=25, rank=10 ..............................................\n"
     ]
    },
    {
     "name": "stderr",
     "output_type": "stream",
     "text": [
      "[Parallel(n_jobs=1)]: Done   6 out of   6 | elapsed:    1.9s remaining:    0.0s\n"
     ]
    },
    {
     "name": "stdout",
     "output_type": "stream",
     "text": [
      "[CV] ......... n_iter=25, rank=10, score=0.200059333943, total=   0.6s\n",
      "[CV] n_iter=25, rank=10 ..............................................\n"
     ]
    },
    {
     "name": "stderr",
     "output_type": "stream",
     "text": [
      "[Parallel(n_jobs=1)]: Done   7 out of   7 | elapsed:    2.6s remaining:    0.0s\n"
     ]
    },
    {
     "name": "stdout",
     "output_type": "stream",
     "text": [
      "[CV] ......... n_iter=25, rank=10, score=0.210333672339, total=   0.6s\n",
      "[CV] n_iter=25, rank=10 ..............................................\n"
     ]
    },
    {
     "name": "stderr",
     "output_type": "stream",
     "text": [
      "[Parallel(n_jobs=1)]: Done   8 out of   8 | elapsed:    3.2s remaining:    0.0s\n"
     ]
    },
    {
     "name": "stdout",
     "output_type": "stream",
     "text": [
      "[CV] ......... n_iter=25, rank=10, score=0.175948889397, total=   0.6s\n",
      "[CV] n_iter=50, rank=2 ...............................................\n"
     ]
    },
    {
     "name": "stderr",
     "output_type": "stream",
     "text": [
      "[Parallel(n_jobs=1)]: Done   9 out of   9 | elapsed:    3.9s remaining:    0.0s\n"
     ]
    },
    {
     "name": "stdout",
     "output_type": "stream",
     "text": [
      "[CV] ........... n_iter=50, rank=2, score=0.32419558731, total=   0.4s\n",
      "[CV] n_iter=50, rank=2 ...............................................\n",
      "[CV] .......... n_iter=50, rank=2, score=0.325900855926, total=   0.4s\n",
      "[CV] n_iter=50, rank=2 ...............................................\n",
      "[CV] .......... n_iter=50, rank=2, score=0.314162657051, total=   0.4s\n",
      "[CV] n_iter=50, rank=6 ...............................................\n",
      "[CV] .......... n_iter=50, rank=6, score=0.292027075101, total=   0.8s\n",
      "[CV] n_iter=50, rank=6 ...............................................\n",
      "[CV] .......... n_iter=50, rank=6, score=0.310224328749, total=   0.8s\n",
      "[CV] n_iter=50, rank=6 ...............................................\n",
      "[CV] .......... n_iter=50, rank=6, score=0.286089551696, total=   0.8s\n",
      "[CV] n_iter=50, rank=10 ..............................................\n",
      "[CV] ......... n_iter=50, rank=10, score=0.178421529643, total=   1.3s\n",
      "[CV] n_iter=50, rank=10 ..............................................\n",
      "[CV] ......... n_iter=50, rank=10, score=0.194242066112, total=   1.3s\n",
      "[CV] n_iter=50, rank=10 ..............................................\n",
      "[CV] ......... n_iter=50, rank=10, score=0.173338447694, total=   1.3s\n",
      "[CV] n_iter=75, rank=2 ...............................................\n",
      "[CV] .......... n_iter=75, rank=2, score=0.324396531793, total=   0.6s\n",
      "[CV] n_iter=75, rank=2 ...............................................\n",
      "[CV] ............ n_iter=75, rank=2, score=0.3263994307, total=   0.6s\n",
      "[CV] n_iter=75, rank=2 ...............................................\n",
      "[CV] .......... n_iter=75, rank=2, score=0.316728261952, total=   0.6s\n",
      "[CV] n_iter=75, rank=6 ...............................................\n",
      "[CV] .......... n_iter=75, rank=6, score=0.288589688304, total=   1.3s\n",
      "[CV] n_iter=75, rank=6 ...............................................\n",
      "[CV] ............ n_iter=75, rank=6, score=0.3103734232, total=   1.3s\n",
      "[CV] n_iter=75, rank=6 ...............................................\n",
      "[CV] ............ n_iter=75, rank=6, score=0.2851069026, total=   1.3s\n",
      "[CV] n_iter=75, rank=10 ..............................................\n",
      "[CV] ......... n_iter=75, rank=10, score=0.163382804317, total=   1.9s\n",
      "[CV] n_iter=75, rank=10 ..............................................\n",
      "[CV] ......... n_iter=75, rank=10, score=0.180729856012, total=   1.9s\n",
      "[CV] n_iter=75, rank=10 ..............................................\n",
      "[CV] ......... n_iter=75, rank=10, score=0.165921011601, total=   2.0s\n",
      "[CV] n_iter=100, rank=2 ..............................................\n",
      "[CV] ......... n_iter=100, rank=2, score=0.324418985925, total=   0.8s\n",
      "[CV] n_iter=100, rank=2 ..............................................\n",
      "[CV] ......... n_iter=100, rank=2, score=0.326739649285, total=   0.8s\n",
      "[CV] n_iter=100, rank=2 ..............................................\n",
      "[CV] ......... n_iter=100, rank=2, score=0.316878983994, total=   0.7s\n",
      "[CV] n_iter=100, rank=6 ..............................................\n",
      "[CV] .......... n_iter=100, rank=6, score=0.28705951558, total=   1.6s\n",
      "[CV] n_iter=100, rank=6 ..............................................\n",
      "[CV] ......... n_iter=100, rank=6, score=0.310795799254, total=   1.6s\n",
      "[CV] n_iter=100, rank=6 ..............................................\n",
      "[CV] .......... n_iter=100, rank=6, score=0.28354851286, total=   1.6s\n",
      "[CV] n_iter=100, rank=10 .............................................\n",
      "[CV] ........ n_iter=100, rank=10, score=0.151197430422, total=   2.5s\n",
      "[CV] n_iter=100, rank=10 .............................................\n",
      "[CV] ........ n_iter=100, rank=10, score=0.167700226051, total=   2.5s\n",
      "[CV] n_iter=100, rank=10 .............................................\n",
      "[CV] ........ n_iter=100, rank=10, score=0.159165366624, total=   2.5s\n"
     ]
    },
    {
     "name": "stderr",
     "output_type": "stream",
     "text": [
      "[Parallel(n_jobs=1)]: Done  36 out of  36 | elapsed:   37.7s finished\n"
     ]
    },
    {
     "name": "stdout",
     "output_type": "stream",
     "text": [
      "38.9504699707\n",
      "---Factorization Machine---\n"
     ]
    }
   ],
   "source": [
    "accuracy_matrix_both = FactorizationMachine(ratings, \"both\", quantile_list)"
   ]
  },
  {
   "cell_type": "code",
   "execution_count": 21,
   "metadata": {},
   "outputs": [
    {
     "data": {
      "text/html": [
       "<div>\n",
       "<style scoped>\n",
       "    .dataframe tbody tr th:only-of-type {\n",
       "        vertical-align: middle;\n",
       "    }\n",
       "\n",
       "    .dataframe tbody tr th {\n",
       "        vertical-align: top;\n",
       "    }\n",
       "\n",
       "    .dataframe thead th {\n",
       "        text-align: right;\n",
       "    }\n",
       "</style>\n",
       "<table border=\"1\" class=\"dataframe\">\n",
       "  <thead>\n",
       "    <tr style=\"text-align: right;\">\n",
       "      <th></th>\n",
       "      <th>Quantile</th>\n",
       "      <th>Threshold</th>\n",
       "      <th>Size</th>\n",
       "      <th>Num_Users</th>\n",
       "      <th>Num_Movies</th>\n",
       "      <th>Sparsity</th>\n",
       "      <th>OP_Iter</th>\n",
       "      <th>OP_Rank</th>\n",
       "      <th>Running Time</th>\n",
       "      <th>MAE</th>\n",
       "      <th>RMSE</th>\n",
       "      <th>Coverage</th>\n",
       "    </tr>\n",
       "  </thead>\n",
       "  <tbody>\n",
       "    <tr>\n",
       "      <th>0</th>\n",
       "      <td>0.1</td>\n",
       "      <td>(27.0,7.0)</td>\n",
       "      <td>2959941</td>\n",
       "      <td>5487</td>\n",
       "      <td>3348</td>\n",
       "      <td>0.05</td>\n",
       "      <td>100</td>\n",
       "      <td>2</td>\n",
       "      <td>751.785283</td>\n",
       "      <td>0.684303</td>\n",
       "      <td>0.871027</td>\n",
       "      <td>0.74</td>\n",
       "    </tr>\n",
       "    <tr>\n",
       "      <th>1</th>\n",
       "      <td>0.2</td>\n",
       "      <td>(38.0,23.0)</td>\n",
       "      <td>2881815</td>\n",
       "      <td>4835</td>\n",
       "      <td>2963</td>\n",
       "      <td>0.07</td>\n",
       "      <td>25</td>\n",
       "      <td>2</td>\n",
       "      <td>681.845055</td>\n",
       "      <td>0.685014</td>\n",
       "      <td>0.872640</td>\n",
       "      <td>0.75</td>\n",
       "    </tr>\n",
       "    <tr>\n",
       "      <th>2</th>\n",
       "      <td>0.3</td>\n",
       "      <td>(51.0,43.0)</td>\n",
       "      <td>2768640</td>\n",
       "      <td>4247</td>\n",
       "      <td>2585</td>\n",
       "      <td>0.08</td>\n",
       "      <td>25</td>\n",
       "      <td>2</td>\n",
       "      <td>667.002248</td>\n",
       "      <td>0.680866</td>\n",
       "      <td>0.866233</td>\n",
       "      <td>0.75</td>\n",
       "    </tr>\n",
       "    <tr>\n",
       "      <th>3</th>\n",
       "      <td>0.4</td>\n",
       "      <td>(70.0,72.0)</td>\n",
       "      <td>2598993</td>\n",
       "      <td>3631</td>\n",
       "      <td>2212</td>\n",
       "      <td>0.11</td>\n",
       "      <td>50</td>\n",
       "      <td>2</td>\n",
       "      <td>617.855748</td>\n",
       "      <td>0.676170</td>\n",
       "      <td>0.859887</td>\n",
       "      <td>0.73</td>\n",
       "    </tr>\n",
       "    <tr>\n",
       "      <th>4</th>\n",
       "      <td>0.5</td>\n",
       "      <td>(96.0,113.0)</td>\n",
       "      <td>2354460</td>\n",
       "      <td>3021</td>\n",
       "      <td>1840</td>\n",
       "      <td>0.14</td>\n",
       "      <td>25</td>\n",
       "      <td>2</td>\n",
       "      <td>495.333612</td>\n",
       "      <td>0.674331</td>\n",
       "      <td>0.858769</td>\n",
       "      <td>0.71</td>\n",
       "    </tr>\n",
       "    <tr>\n",
       "      <th>5</th>\n",
       "      <td>0.6</td>\n",
       "      <td>(126.0,162.0)</td>\n",
       "      <td>2023995</td>\n",
       "      <td>2429</td>\n",
       "      <td>1474</td>\n",
       "      <td>0.19</td>\n",
       "      <td>50</td>\n",
       "      <td>2</td>\n",
       "      <td>401.292872</td>\n",
       "      <td>0.671939</td>\n",
       "      <td>0.855438</td>\n",
       "      <td>0.68</td>\n",
       "    </tr>\n",
       "    <tr>\n",
       "      <th>6</th>\n",
       "      <td>0.7</td>\n",
       "      <td>(173.0,216.0)</td>\n",
       "      <td>1579386</td>\n",
       "      <td>1815</td>\n",
       "      <td>1100</td>\n",
       "      <td>0.26</td>\n",
       "      <td>100</td>\n",
       "      <td>6</td>\n",
       "      <td>301.180441</td>\n",
       "      <td>0.651822</td>\n",
       "      <td>0.834315</td>\n",
       "      <td>0.81</td>\n",
       "    </tr>\n",
       "    <tr>\n",
       "      <th>7</th>\n",
       "      <td>0.8</td>\n",
       "      <td>(253.0,269.0)</td>\n",
       "      <td>1032597</td>\n",
       "      <td>1215</td>\n",
       "      <td>735</td>\n",
       "      <td>0.39</td>\n",
       "      <td>100</td>\n",
       "      <td>6</td>\n",
       "      <td>148.646864</td>\n",
       "      <td>0.650656</td>\n",
       "      <td>0.832465</td>\n",
       "      <td>0.81</td>\n",
       "    </tr>\n",
       "    <tr>\n",
       "      <th>8</th>\n",
       "      <td>0.9</td>\n",
       "      <td>(400.0,277.7)</td>\n",
       "      <td>398454</td>\n",
       "      <td>605</td>\n",
       "      <td>363</td>\n",
       "      <td>0.60</td>\n",
       "      <td>100</td>\n",
       "      <td>2</td>\n",
       "      <td>40.159568</td>\n",
       "      <td>0.665593</td>\n",
       "      <td>0.849393</td>\n",
       "      <td>0.73</td>\n",
       "    </tr>\n",
       "  </tbody>\n",
       "</table>\n",
       "</div>"
      ],
      "text/plain": [
       "   Quantile      Threshold     Size  Num_Users  Num_Movies  Sparsity  OP_Iter  \\\n",
       "0       0.1     (27.0,7.0)  2959941       5487        3348      0.05      100   \n",
       "1       0.2    (38.0,23.0)  2881815       4835        2963      0.07       25   \n",
       "2       0.3    (51.0,43.0)  2768640       4247        2585      0.08       25   \n",
       "3       0.4    (70.0,72.0)  2598993       3631        2212      0.11       50   \n",
       "4       0.5   (96.0,113.0)  2354460       3021        1840      0.14       25   \n",
       "5       0.6  (126.0,162.0)  2023995       2429        1474      0.19       50   \n",
       "6       0.7  (173.0,216.0)  1579386       1815        1100      0.26      100   \n",
       "7       0.8  (253.0,269.0)  1032597       1215         735      0.39      100   \n",
       "8       0.9  (400.0,277.7)   398454        605         363      0.60      100   \n",
       "\n",
       "   OP_Rank  Running Time       MAE      RMSE  Coverage  \n",
       "0        2    751.785283  0.684303  0.871027      0.74  \n",
       "1        2    681.845055  0.685014  0.872640      0.75  \n",
       "2        2    667.002248  0.680866  0.866233      0.75  \n",
       "3        2    617.855748  0.676170  0.859887      0.73  \n",
       "4        2    495.333612  0.674331  0.858769      0.71  \n",
       "5        2    401.292872  0.671939  0.855438      0.68  \n",
       "6        6    301.180441  0.651822  0.834315      0.81  \n",
       "7        6    148.646864  0.650656  0.832465      0.81  \n",
       "8        2     40.159568  0.665593  0.849393      0.73  "
      ]
     },
     "execution_count": 21,
     "metadata": {},
     "output_type": "execute_result"
    }
   ],
   "source": [
    "accuracy_matrix_both"
   ]
  },
  {
   "cell_type": "code",
   "execution_count": 22,
   "metadata": {},
   "outputs": [],
   "source": [
    "#size_norm_b = normalize(accuracy_matrix_both['Size'][:,np.newaxis], axis=0).ravel()\n",
    "size_norm_b = 1-np.array(accuracy_matrix_both['Quantile'])"
   ]
  },
  {
   "cell_type": "code",
   "execution_count": 23,
   "metadata": {},
   "outputs": [],
   "source": [
    "time_b = np.array(accuracy_matrix_both['Running Time'])\n",
    "mae_b = np.array(accuracy_matrix_both['MAE'])\n",
    "rmse_b = np.array(accuracy_matrix_both['RMSE'])\n",
    "coverage_b = np.array(accuracy_matrix_both['Coverage'])"
   ]
  },
  {
   "cell_type": "markdown",
   "metadata": {},
   "source": [
    "### Benchmark model - Collaborative Filtering Using k-Nearest Neighbors (kNN) "
   ]
  },
  {
   "cell_type": "code",
   "execution_count": 24,
   "metadata": {},
   "outputs": [],
   "source": [
    "KNNdata = Dataset.load_builtin('ml-1m')"
   ]
  },
  {
   "cell_type": "code",
   "execution_count": 25,
   "metadata": {},
   "outputs": [],
   "source": [
    "algo = KNNBasic()"
   ]
  },
  {
   "cell_type": "code",
   "execution_count": 26,
   "metadata": {},
   "outputs": [
    {
     "name": "stdout",
     "output_type": "stream",
     "text": [
      "Computing the msd similarity matrix...\n",
      "Done computing similarity matrix.\n",
      "Computing the msd similarity matrix...\n",
      "Done computing similarity matrix.\n",
      "Computing the msd similarity matrix...\n",
      "Done computing similarity matrix.\n",
      "Evaluating MAE, RMSE of algorithm KNNBasic on 3 split(s).\n",
      "\n",
      "                  Fold 1  Fold 2  Fold 3  Mean    Std     \n",
      "MAE (testset)     0.7358  0.7344  0.7333  0.7345  0.0010  \n",
      "RMSE (testset)    0.9324  0.9307  0.9291  0.9308  0.0013  \n",
      "Fit time          20.23   20.68   20.37   20.43   0.19    \n",
      "Test time         176.34  174.45  175.97  175.58  0.82    \n"
     ]
    },
    {
     "data": {
      "text/plain": [
       "{u'fit_time': (20.229735136032104, 20.681273937225342, 20.368288040161133),\n",
       " u'test_mae': array([0.73575109, 0.73442419, 0.73332891]),\n",
       " u'test_rmse': array([0.93244167, 0.9307044 , 0.92913824]),\n",
       " u'test_time': (176.33770990371704, 174.4471950531006, 175.96823501586914)}"
      ]
     },
     "execution_count": 26,
     "metadata": {},
     "output_type": "execute_result"
    }
   ],
   "source": [
    "cross_validate(algo, KNNdata, measures = ['MAE','RMSE'], cv = 3, verbose = True)"
   ]
  },
  {
   "cell_type": "markdown",
   "metadata": {},
   "source": [
    "### Evaluation"
   ]
  },
  {
   "cell_type": "code",
   "execution_count": 27,
   "metadata": {},
   "outputs": [
    {
     "data": {
      "image/png": "[encoded data removed]",
      "text/plain": [
       "<Figure size 432x288 with 1 Axes>"
      ]
     },
     "metadata": {
      "needs_background": "light"
     },
     "output_type": "display_data"
    }
   ],
   "source": [
    "create_plot(size_norm_u, size_norm_m, size_norm_b, time_u, time_m, time_b, \"Running Time\")"
   ]
  },
  {
   "cell_type": "code",
   "execution_count": 28,
   "metadata": {},
   "outputs": [
    {
     "data": {
      "image/png": "[encoded data removed]",
      "text/plain": [
       "<Figure size 432x288 with 1 Axes>"
      ]
     },
     "metadata": {
      "needs_background": "light"
     },
     "output_type": "display_data"
    }
   ],
   "source": [
    "create_plot(size_norm_u, size_norm_m, size_norm_b, mae_u, mae_m, mae_b, \"Mean Average Error\")"
   ]
  },
  {
   "cell_type": "code",
   "execution_count": 29,
   "metadata": {},
   "outputs": [
    {
     "data": {
      "image/png": "[encoded data removed]",
      "text/plain": [
       "<Figure size 432x288 with 1 Axes>"
      ]
     },
     "metadata": {
      "needs_background": "light"
     },
     "output_type": "display_data"
    }
   ],
   "source": [
    "create_plot(size_norm_u, size_norm_m, size_norm_b, rmse_u, rmse_m, rmse_b, \"Root Mean Square Error\")"
   ]
  },
  {
   "cell_type": "code",
   "execution_count": 30,
   "metadata": {},
   "outputs": [
    {
     "data": {
      "image/png": "[encoded data removed]",
      "text/plain": [
       "<Figure size 432x288 with 1 Axes>"
      ]
     },
     "metadata": {
      "needs_background": "light"
     },
     "output_type": "display_data"
    }
   ],
   "source": [
    "create_plot(size_norm_u, size_norm_m, size_norm_b, coverage_u, coverage_m, coverage_b, \"Coverage\")"
   ]
  },
  {
   "cell_type": "code",
   "execution_count": null,
   "metadata": {},
   "outputs": [],
   "source": []
  }
 ],
 "metadata": {
  "kernelspec": {
   "display_name": "Python 2",
   "language": "python",
   "name": "python2"
  },
  "language_info": {
   "codemirror_mode": {
    "name": "ipython",
    "version": 2
   },
   "file_extension": ".py",
   "mimetype": "text/x-python",
   "name": "python",
   "nbconvert_exporter": "python",
   "pygments_lexer": "ipython2",
   "version": "2.7.15"
  }
 },
 "nbformat": 4,
 "nbformat_minor": 2
}
