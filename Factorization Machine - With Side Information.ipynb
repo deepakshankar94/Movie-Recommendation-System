{
 "cells": [
  {
   "cell_type": "markdown",
   "metadata": {},
   "source": [
    "### Load Library"
   ]
  },
  {
   "cell_type": "code",
   "execution_count": 1,
   "metadata": {},
   "outputs": [],
   "source": [
    "#Load library\n",
    "import numpy as np\n",
    "import pandas as pd\n",
    "import scipy.sparse as sparse\n",
    "import time\n",
    "from math import sqrt\n",
    "import random\n",
    "import matplotlib as matplt\n",
    "import matplotlib.pyplot as plt\n",
    "import seaborn as sns\n",
    "\n",
    "from sklearn.feature_extraction import DictVectorizer\n",
    "from sklearn.model_selection import train_test_split, GridSearchCV\n",
    "from sklearn.preprocessing import OneHotEncoder, LabelBinarizer, normalize\n",
    "from fastFM import als\n",
    "from sklearn.metrics import mean_absolute_error, mean_squared_error\n",
    "\n",
    "from surprise import KNNBasic\n",
    "from surprise import Dataset\n",
    "from surprise.model_selection import cross_validate"
   ]
  },
  {
   "cell_type": "markdown",
   "metadata": {},
   "source": [
    "### Load Data"
   ]
  },
  {
   "cell_type": "code",
   "execution_count": 2,
   "metadata": {},
   "outputs": [],
   "source": [
    "#Load data\n",
    "path = \"/Users/yh3093/Desktop/Personalization/Final Project/Data/\"\n",
    "\n",
    "#Ratings\n",
    "ratings = pd.read_csv(path+'ratings.dat', sep='::', header=None, engine='python')\n",
    "ratings.columns = ['userId','movieId','rating','timestamp']\n",
    "ratings = ratings.drop('timestamp', axis=1)\n",
    "\n",
    "#Movies\n",
    "movies = pd.read_csv(path+'movies.dat', sep='::', header=None, engine='python')\n",
    "movies.columns = ['movieId','Title','Genres']\n",
    "\n",
    "#Users\n",
    "users = pd.read_csv(path+'users.dat', sep='::', header=None, engine='python')\n",
    "users.columns = ['userId','Gender','Age','Occupation','Zip-code']\n",
    "users = users.drop('Zip-code', axis=1)"
   ]
  },
  {
   "cell_type": "markdown",
   "metadata": {},
   "source": [
    "### Data Quality"
   ]
  },
  {
   "cell_type": "code",
   "execution_count": 3,
   "metadata": {},
   "outputs": [
    {
     "name": "stdout",
     "output_type": "stream",
     "text": [
      "Duplicated rows in ratings file: 0\n",
      "Number of users: 6040\n",
      "Number of movies: 3706\n",
      "Sparsity: 4.468%\n"
     ]
    }
   ],
   "source": [
    "#Data quality\n",
    "print('Duplicated rows in ratings file: ' + str(ratings.duplicated().sum()))\n",
    "\n",
    "n_users = ratings.userId.unique().shape[0]\n",
    "n_movies = ratings.movieId.unique().shape[0]\n",
    "\n",
    "print('Number of users: {}'.format(n_users))\n",
    "print('Number of movies: {}'.format(n_movies))\n",
    "print('Sparsity: {:4.3f}%'.format(float(ratings.shape[0]) / float(n_users*n_movies) * 100))"
   ]
  },
  {
   "cell_type": "markdown",
   "metadata": {},
   "source": [
    "### Data Preprocessing"
   ]
  },
  {
   "cell_type": "code",
   "execution_count": 4,
   "metadata": {},
   "outputs": [],
   "source": [
    "movies.Genres = movies.Genres.str.split('|')"
   ]
  },
  {
   "cell_type": "code",
   "execution_count": 5,
   "metadata": {},
   "outputs": [],
   "source": [
    "def expand_df(df, lst_cols, fill_value=''):\n",
    "    # make sure `lst_cols` is a list\n",
    "    if lst_cols and not isinstance(lst_cols, list):\n",
    "        lst_cols = [lst_cols]\n",
    "    # all columns except `lst_cols`\n",
    "    idx_cols = df.columns.difference(lst_cols)\n",
    "\n",
    "    # calculate lengths of lists\n",
    "    lens = df[lst_cols[0]].str.len()\n",
    "\n",
    "    if (lens > 0).all():\n",
    "        # ALL lists in cells aren't empty\n",
    "        return pd.DataFrame({\n",
    "            col:np.repeat(df[col].values, lens)\n",
    "            for col in idx_cols\n",
    "        }).assign(**{col:np.concatenate(df[col].values) for col in lst_cols}) \\\n",
    "          .loc[:, df.columns]\n",
    "    else:\n",
    "        # at least one list in cells is empty\n",
    "        return pd.DataFrame({\n",
    "            col:np.repeat(df[col].values, lens)\n",
    "            for col in idx_cols\n",
    "        }).assign(**{col:np.concatenate(df[col].values) for col in lst_cols}) \\\n",
    "          .append(df.loc[lens==0, idx_cols]).fillna(fill_value) \\\n",
    "          .loc[:, df.columns]"
   ]
  },
  {
   "cell_type": "code",
   "execution_count": 6,
   "metadata": {},
   "outputs": [
    {
     "data": {
      "text/plain": [
       "(1000209, 3)"
      ]
     },
     "execution_count": 6,
     "metadata": {},
     "output_type": "execute_result"
    }
   ],
   "source": [
    "ratings.shape"
   ]
  },
  {
   "cell_type": "code",
   "execution_count": 7,
   "metadata": {},
   "outputs": [],
   "source": [
    "movies = expand_df(movies, ['Genres'])\n",
    "movies = movies.drop('Title', axis=1)"
   ]
  },
  {
   "cell_type": "code",
   "execution_count": 8,
   "metadata": {},
   "outputs": [],
   "source": [
    "ratings = pd.merge(ratings, users, on=\"userId\")"
   ]
  },
  {
   "cell_type": "code",
   "execution_count": 9,
   "metadata": {},
   "outputs": [],
   "source": [
    "ratings_ffm = ratings.merge(movies, left_on='movieId', right_on='movieId', how='inner')"
   ]
  },
  {
   "cell_type": "code",
   "execution_count": 10,
   "metadata": {},
   "outputs": [],
   "source": [
    "df_dummy = pd.get_dummies(ratings_ffm['Genres'])"
   ]
  },
  {
   "cell_type": "code",
   "execution_count": 11,
   "metadata": {},
   "outputs": [],
   "source": [
    "df_new = pd.concat([ratings_ffm, df_dummy], axis=1)"
   ]
  },
  {
   "cell_type": "code",
   "execution_count": 12,
   "metadata": {},
   "outputs": [
    {
     "name": "stdout",
     "output_type": "stream",
     "text": [
      "(1000209, 24)\n"
     ]
    }
   ],
   "source": [
    "df_final = df_new.groupby([\"userId\", \"movieId\", \"rating\", \"Gender\", \"Age\", \"Occupation\"])[df_new.columns.values[7:]].sum().reset_index()\n",
    "print(df_final.shape)"
   ]
  },
  {
   "cell_type": "markdown",
   "metadata": {},
   "source": [
    "### Functions used in training factorization machine"
   ]
  },
  {
   "cell_type": "code",
   "execution_count": 13,
   "metadata": {},
   "outputs": [],
   "source": [
    "#subset data\n",
    "def subsetdata(data, by, subset_quantile):\n",
    "    filter_standard = data.groupby([by]).size().reset_index(name='counts').counts.quantile(subset_quantile)\n",
    "    subset_data = data.groupby(by).filter(lambda x: len(x) >= filter_standard)\n",
    "    \n",
    "    return filter_standard, subset_data"
   ]
  },
  {
   "cell_type": "code",
   "execution_count": 14,
   "metadata": {},
   "outputs": [],
   "source": [
    "#split train and test data\n",
    "def split_testtrain(ratings, fraction):\n",
    "    #Transform data in matrix format\n",
    "    colnames = ratings.columns.values\n",
    "    new_colnames = ['1_user', '2_movie', '0_rating', '3_gender', '4_age', '5_occupation', \n",
    "                    '6_Action', '7_Adventure', '8_Animation', \"9_Children's\", '10_Comedy',\n",
    "                    '11_Crime', '12_Documentary', '13_Drama', '14_Fantasy', '15_Film-Noir', \n",
    "                    '16_horror', '17_Musical', '18_Mystery', '19_Romance', '20_Sci-Fi', \n",
    "                    '21_Thriller', '22_War', '23_Western']\n",
    "    ratings = ratings.rename(index=str, columns=dict(zip(colnames, new_colnames)))\n",
    "    \n",
    "    ratings_df = ratings.to_dict(orient=\"records\")\n",
    "    \n",
    "    dv = DictVectorizer()\n",
    "    ratings_mat = dv.fit_transform(ratings_df).toarray()\n",
    "    \n",
    "    #Split data\n",
    "    x_train, x_test, y_train, y_test = train_test_split(ratings_mat[:,1:], ratings_mat[:,:1], test_size=fraction)\n",
    "    \n",
    "    return x_train, x_test, y_train.T[0], y_test.T[0]"
   ]
  },
  {
   "cell_type": "code",
   "execution_count": 15,
   "metadata": {},
   "outputs": [],
   "source": [
    "#One hot encoding\n",
    "def OneHotEncoding(train,test):\n",
    "    encoder = OneHotEncoder(handle_unknown='ignore').fit(train)\n",
    "    train = encoder.transform(train)\n",
    "    test = encoder.transform(test)\n",
    "    return train, test"
   ]
  },
  {
   "cell_type": "code",
   "execution_count": 16,
   "metadata": {},
   "outputs": [],
   "source": [
    "#Gridsearch for the optimal parameter\n",
    "def param_selection(X, y, n_folds):\n",
    "    start = time.time()\n",
    "    grid_param = {  \n",
    "    'n_iter' : np.arange(0,120,25)[1:],\n",
    "    'rank' :  np.arange(2,12,4),\n",
    "    }\n",
    "    grid_search = GridSearchCV(als.FMRegression(l2_reg_w=0.1,l2_reg_V=0.1), cv=n_folds, param_grid=grid_param, verbose=10)\n",
    "    grid_search.fit(X, y)\n",
    "    grid_search.best_params_\n",
    "    print(time.time()-start)\n",
    "    return grid_search.best_params_"
   ]
  },
  {
   "cell_type": "code",
   "execution_count": 17,
   "metadata": {},
   "outputs": [],
   "source": [
    "def rec_coverage(x_test, y_test, prediction, rec_num):\n",
    "    ratings = pd.DataFrame()\n",
    "    ratings['user'] = x_test[:,0]\n",
    "    ratings['movie'] = x_test[:,1]\n",
    "    ratings['rating'] = y_test\n",
    "    \n",
    "    pred = ratings.copy()\n",
    "    pred['rating'] = prediction\n",
    "    \n",
    "    rating_table = pd.pivot_table(ratings, index='user', columns = 'movie', values = 'rating')\n",
    "    pred_table = pd.pivot_table(pred, index='user', columns = 'movie', values = 'rating')\n",
    "    \n",
    "    rec_movies = []\n",
    "    rec = pred_table - rating_table\n",
    "    for user in rec.index:\n",
    "            rec_item = pred_table.loc[user,:].sort_values(ascending = False).head(rec_num).index.tolist()\n",
    "            rec_movies += rec_item\n",
    "    n_rec = len(set(rec_movies))\n",
    "    n_movies = pred_table.shape[1]\n",
    "    coverage = round(float(n_rec)/n_movies,2)\n",
    "    \n",
    "    return coverage"
   ]
  },
  {
   "cell_type": "code",
   "execution_count": 18,
   "metadata": {},
   "outputs": [],
   "source": [
    "def create_plot(x1, x2, x3, y1, y2, y3, kind):\n",
    "    pal = sns.color_palette(\"Set2\")\n",
    "    \n",
    "    matplt.figure.Figure(figsize=(5000,5000))\n",
    "    plt.plot(x1, y1, c=pal[0], label=\"Filter-User\", linewidth=3)\n",
    "    plt.plot(x2, y2, c=pal[1], label=\"Filter-Movie\", linewidth=3)\n",
    "    plt.plot(x3, y3, c=pal[2], label=\"Filter-Both\", linewidth=3)\n",
    "    plt.legend(loc='best', fontsize=12)\n",
    "    plt.xticks(fontsize=12);\n",
    "    plt.yticks(fontsize=12);\n",
    "    plt.xlabel(\"Sampled Data Size\", fontsize=14);\n",
    "    plt.ylabel(kind, fontsize=14);\n",
    "    plt.title(kind, loc='center', fontsize=16);\n",
    "    plt.show()"
   ]
  },
  {
   "cell_type": "markdown",
   "metadata": {},
   "source": [
    "### Factorization Machine"
   ]
  },
  {
   "cell_type": "code",
   "execution_count": 19,
   "metadata": {},
   "outputs": [],
   "source": [
    "def FieldFactorizationMachine(ratings, subset_by, subset_quantile, op_iter, op_rank):\n",
    "    #Map value\n",
    "    gender_dict = {\"F\": 0, \"M\": 1}\n",
    "    ratings = ratings.replace({\"Gender\": gender_dict})\n",
    "    \n",
    "    #Initialize output\n",
    "    final_output = pd.DataFrame()\n",
    "    result_dict = []\n",
    "    n_iteration = 1 \n",
    "    last_RMSE = 100\n",
    "    threshold = 0\n",
    "    \n",
    "    for quantile in subset_quantile:\n",
    "        print(\"---Running iteration \" + str(n_iteration) + \" ---\")\n",
    "        print(\"---Subsetting Original Data---\")\n",
    "        \n",
    "        #subset original data\n",
    "        if subset_by == \"user\":\n",
    "            filter_standard, subset_ratings = subsetdata(ratings, \"userId\", quantile)\n",
    "        elif subset_by == \"movie\":\n",
    "            filter_standard, subset_ratings = subsetdata(ratings, \"movieId\", quantile)\n",
    "        else:\n",
    "            f1, subset_u = subsetdata(ratings, \"userId\", quantile)\n",
    "            f2, subset_ratings = subsetdata(subset_u, \"movieId\", quantile)\n",
    "            filter_standard = \"(\"+str(f1)+\",\"+str(f2)+\")\"\n",
    "        \n",
    "        n_users = subset_ratings.userId.unique().shape[0]\n",
    "        n_movies = subset_ratings.movieId.unique().shape[0]\n",
    "        n_size = subset_ratings.shape[0]*subset_ratings.shape[1]\n",
    "        \n",
    "        sparsity = round(float(subset_ratings.shape[0]) / float(n_users*n_movies),2)\n",
    "        \n",
    "        print(\"---Spliting Test and Train Data---\")\n",
    "        #split test and train data\n",
    "        xtrain, xtest, ytrain, ytest = split_testtrain(subset_ratings, 0.2)\n",
    "\n",
    "        print(\"---Encoding Data---\")\n",
    "        #encode data\n",
    "        xtrain_enc, xtest_enc = OneHotEncoding(xtrain, xtest)\n",
    "        \n",
    "       \n",
    "        start = time.time()\n",
    "        print(\"---Factorization Machine---\")\n",
    "        #Factorization machine\n",
    "        fm = als.FMRegression(n_iter=op_iter, rank=op_rank, l2_reg_w=0.1, l2_reg_V=0.1)\n",
    "        fm.fit(xtrain_enc, ytrain)\n",
    "        predictions = fm.predict(xtest_enc)\n",
    "        spent_time = time.time() - start\n",
    "        #Evaluation metrics\n",
    "        rmse = sqrt(mean_squared_error(ytest,predictions))\n",
    "        mae = mean_absolute_error(ytest,predictions)\n",
    "        coverage = rec_coverage(xtest, ytest, predictions, 10)\n",
    "        \n",
    "        if rmse < last_RMSE:\n",
    "            last_RMSE = rmse\n",
    "            threshold = filter_standard\n",
    "            out = pd.DataFrame()\n",
    "            out['user'] = xtest[:,0]\n",
    "            out['movie'] = xtest[:,1]\n",
    "            out['rating'] = ytest\n",
    "            out['prediction'] = predictions\n",
    "            \n",
    "            final_output = out.copy()\n",
    "        \n",
    "        result_dict.append([quantile, filter_standard, n_size, n_users, n_movies, sparsity, op_iter, op_rank, spent_time, mae, rmse, coverage])\n",
    "        n_iteration += 1\n",
    "    \n",
    "    results = pd.DataFrame(result_dict)\n",
    "    results.columns = [\"Quantile\", \"Threshold\", \"Size\", \"Num_Users\", \"Num_Movies\", \"Sparsity\", \"OP_Iter\", \"OP_Rank\", \"Running Time\", \"MAE\", \"RMSE\", \"Coverage\"]\n",
    "    \n",
    "    final_output.to_csv(\"FFM_Output_\"+subset_by+\"_\"+str(threshold)+\".csv\", sep=',', encoding='utf-8', index=False)\n",
    "    \n",
    "    return results"
   ]
  },
  {
   "cell_type": "code",
   "execution_count": 20,
   "metadata": {},
   "outputs": [],
   "source": [
    "quantile_list = np.arange(0.1,1,0.1)"
   ]
  },
  {
   "cell_type": "markdown",
   "metadata": {},
   "source": [
    "### Subset method 1 - Subset data from less prolific users to prolific users"
   ]
  },
  {
   "cell_type": "code",
   "execution_count": 21,
   "metadata": {
    "collapsed": true
   },
   "outputs": [
    {
     "name": "stdout",
     "output_type": "stream",
     "text": [
      "---Running iteration 1 ---\n",
      "---Subsetting Original Data---\n",
      "---Spliting Test and Train Data---\n",
      "---Encoding Data---\n",
      "---Factorization Machine---\n",
      "---Running iteration 2 ---\n",
      "---Subsetting Original Data---\n",
      "---Spliting Test and Train Data---\n",
      "---Encoding Data---\n",
      "---Factorization Machine---\n",
      "---Running iteration 3 ---\n",
      "---Subsetting Original Data---\n",
      "---Spliting Test and Train Data---\n",
      "---Encoding Data---\n",
      "---Factorization Machine---\n",
      "---Running iteration 4 ---\n",
      "---Subsetting Original Data---\n",
      "---Spliting Test and Train Data---\n",
      "---Encoding Data---\n",
      "---Factorization Machine---\n",
      "---Running iteration 5 ---\n",
      "---Subsetting Original Data---\n",
      "---Spliting Test and Train Data---\n",
      "---Encoding Data---\n",
      "---Factorization Machine---\n",
      "---Running iteration 6 ---\n",
      "---Subsetting Original Data---\n",
      "---Spliting Test and Train Data---\n",
      "---Encoding Data---\n",
      "---Factorization Machine---\n",
      "---Running iteration 7 ---\n",
      "---Subsetting Original Data---\n",
      "---Spliting Test and Train Data---\n",
      "---Encoding Data---\n",
      "---Factorization Machine---\n",
      "---Running iteration 8 ---\n",
      "---Subsetting Original Data---\n",
      "---Spliting Test and Train Data---\n",
      "---Encoding Data---\n",
      "---Factorization Machine---\n",
      "---Running iteration 9 ---\n",
      "---Subsetting Original Data---\n",
      "---Spliting Test and Train Data---\n",
      "---Encoding Data---\n",
      "---Factorization Machine---\n"
     ]
    }
   ],
   "source": [
    "accuracy_matrix_user = FieldFactorizationMachine(df_final, \"user\", quantile_list, 100, 2)"
   ]
  },
  {
   "cell_type": "code",
   "execution_count": 22,
   "metadata": {},
   "outputs": [
    {
     "data": {
      "text/html": [
       "<div>\n",
       "<style scoped>\n",
       "    .dataframe tbody tr th:only-of-type {\n",
       "        vertical-align: middle;\n",
       "    }\n",
       "\n",
       "    .dataframe tbody tr th {\n",
       "        vertical-align: top;\n",
       "    }\n",
       "\n",
       "    .dataframe thead th {\n",
       "        text-align: right;\n",
       "    }\n",
       "</style>\n",
       "<table border=\"1\" class=\"dataframe\">\n",
       "  <thead>\n",
       "    <tr style=\"text-align: right;\">\n",
       "      <th></th>\n",
       "      <th>Quantile</th>\n",
       "      <th>Threshold</th>\n",
       "      <th>Size</th>\n",
       "      <th>Num_Users</th>\n",
       "      <th>Num_Movies</th>\n",
       "      <th>Sparsity</th>\n",
       "      <th>OP_Iter</th>\n",
       "      <th>OP_Rank</th>\n",
       "      <th>Running Time</th>\n",
       "      <th>MAE</th>\n",
       "      <th>RMSE</th>\n",
       "      <th>Coverage</th>\n",
       "    </tr>\n",
       "  </thead>\n",
       "  <tbody>\n",
       "    <tr>\n",
       "      <th>0</th>\n",
       "      <td>0.1</td>\n",
       "      <td>27.0</td>\n",
       "      <td>23702160</td>\n",
       "      <td>5487</td>\n",
       "      <td>3702</td>\n",
       "      <td>0.05</td>\n",
       "      <td>100</td>\n",
       "      <td>2</td>\n",
       "      <td>139.628221</td>\n",
       "      <td>0.688364</td>\n",
       "      <td>0.877603</td>\n",
       "      <td>1.0</td>\n",
       "    </tr>\n",
       "    <tr>\n",
       "      <th>1</th>\n",
       "      <td>0.2</td>\n",
       "      <td>38.0</td>\n",
       "      <td>23203104</td>\n",
       "      <td>4835</td>\n",
       "      <td>3696</td>\n",
       "      <td>0.05</td>\n",
       "      <td>100</td>\n",
       "      <td>2</td>\n",
       "      <td>136.748012</td>\n",
       "      <td>0.684637</td>\n",
       "      <td>0.872970</td>\n",
       "      <td>1.0</td>\n",
       "    </tr>\n",
       "    <tr>\n",
       "      <th>2</th>\n",
       "      <td>0.3</td>\n",
       "      <td>51.0</td>\n",
       "      <td>22583304</td>\n",
       "      <td>4247</td>\n",
       "      <td>3689</td>\n",
       "      <td>0.06</td>\n",
       "      <td>100</td>\n",
       "      <td>2</td>\n",
       "      <td>133.654470</td>\n",
       "      <td>0.684583</td>\n",
       "      <td>0.871929</td>\n",
       "      <td>1.0</td>\n",
       "    </tr>\n",
       "    <tr>\n",
       "      <th>3</th>\n",
       "      <td>0.4</td>\n",
       "      <td>70.0</td>\n",
       "      <td>21703320</td>\n",
       "      <td>3631</td>\n",
       "      <td>3675</td>\n",
       "      <td>0.07</td>\n",
       "      <td>100</td>\n",
       "      <td>2</td>\n",
       "      <td>123.384483</td>\n",
       "      <td>0.683063</td>\n",
       "      <td>0.870505</td>\n",
       "      <td>1.0</td>\n",
       "    </tr>\n",
       "    <tr>\n",
       "      <th>4</th>\n",
       "      <td>0.5</td>\n",
       "      <td>96.0</td>\n",
       "      <td>20512992</td>\n",
       "      <td>3021</td>\n",
       "      <td>3671</td>\n",
       "      <td>0.08</td>\n",
       "      <td>100</td>\n",
       "      <td>2</td>\n",
       "      <td>118.129110</td>\n",
       "      <td>0.681535</td>\n",
       "      <td>0.867517</td>\n",
       "      <td>1.0</td>\n",
       "    </tr>\n",
       "    <tr>\n",
       "      <th>5</th>\n",
       "      <td>0.6</td>\n",
       "      <td>126.0</td>\n",
       "      <td>18953952</td>\n",
       "      <td>2429</td>\n",
       "      <td>3669</td>\n",
       "      <td>0.09</td>\n",
       "      <td>100</td>\n",
       "      <td>2</td>\n",
       "      <td>104.969195</td>\n",
       "      <td>0.678930</td>\n",
       "      <td>0.864937</td>\n",
       "      <td>1.0</td>\n",
       "    </tr>\n",
       "    <tr>\n",
       "      <th>6</th>\n",
       "      <td>0.7</td>\n",
       "      <td>173.0</td>\n",
       "      <td>16774512</td>\n",
       "      <td>1815</td>\n",
       "      <td>3663</td>\n",
       "      <td>0.11</td>\n",
       "      <td>100</td>\n",
       "      <td>2</td>\n",
       "      <td>91.671748</td>\n",
       "      <td>0.678836</td>\n",
       "      <td>0.864744</td>\n",
       "      <td>1.0</td>\n",
       "    </tr>\n",
       "    <tr>\n",
       "      <th>7</th>\n",
       "      <td>0.8</td>\n",
       "      <td>253.0</td>\n",
       "      <td>13771080</td>\n",
       "      <td>1215</td>\n",
       "      <td>3653</td>\n",
       "      <td>0.13</td>\n",
       "      <td>100</td>\n",
       "      <td>2</td>\n",
       "      <td>72.089246</td>\n",
       "      <td>0.677348</td>\n",
       "      <td>0.863175</td>\n",
       "      <td>1.0</td>\n",
       "    </tr>\n",
       "    <tr>\n",
       "      <th>8</th>\n",
       "      <td>0.9</td>\n",
       "      <td>400.0</td>\n",
       "      <td>9153768</td>\n",
       "      <td>605</td>\n",
       "      <td>3624</td>\n",
       "      <td>0.17</td>\n",
       "      <td>100</td>\n",
       "      <td>2</td>\n",
       "      <td>43.558324</td>\n",
       "      <td>0.682891</td>\n",
       "      <td>0.871443</td>\n",
       "      <td>1.0</td>\n",
       "    </tr>\n",
       "  </tbody>\n",
       "</table>\n",
       "</div>"
      ],
      "text/plain": [
       "   Quantile  Threshold      Size  Num_Users  Num_Movies  Sparsity  OP_Iter  \\\n",
       "0       0.1       27.0  23702160       5487        3702      0.05      100   \n",
       "1       0.2       38.0  23203104       4835        3696      0.05      100   \n",
       "2       0.3       51.0  22583304       4247        3689      0.06      100   \n",
       "3       0.4       70.0  21703320       3631        3675      0.07      100   \n",
       "4       0.5       96.0  20512992       3021        3671      0.08      100   \n",
       "5       0.6      126.0  18953952       2429        3669      0.09      100   \n",
       "6       0.7      173.0  16774512       1815        3663      0.11      100   \n",
       "7       0.8      253.0  13771080       1215        3653      0.13      100   \n",
       "8       0.9      400.0   9153768        605        3624      0.17      100   \n",
       "\n",
       "   OP_Rank  Running Time       MAE      RMSE  Coverage  \n",
       "0        2    139.628221  0.688364  0.877603       1.0  \n",
       "1        2    136.748012  0.684637  0.872970       1.0  \n",
       "2        2    133.654470  0.684583  0.871929       1.0  \n",
       "3        2    123.384483  0.683063  0.870505       1.0  \n",
       "4        2    118.129110  0.681535  0.867517       1.0  \n",
       "5        2    104.969195  0.678930  0.864937       1.0  \n",
       "6        2     91.671748  0.678836  0.864744       1.0  \n",
       "7        2     72.089246  0.677348  0.863175       1.0  \n",
       "8        2     43.558324  0.682891  0.871443       1.0  "
      ]
     },
     "execution_count": 22,
     "metadata": {},
     "output_type": "execute_result"
    }
   ],
   "source": [
    "accuracy_matrix_user"
   ]
  },
  {
   "cell_type": "code",
   "execution_count": 23,
   "metadata": {},
   "outputs": [],
   "source": [
    "#size_norm_u = normalize(accuracy_matrix_user['Size'][:,np.newaxis], axis=0).ravel()\n",
    "size_norm_u = 1-np.array(accuracy_matrix_user['Quantile'])"
   ]
  },
  {
   "cell_type": "code",
   "execution_count": 24,
   "metadata": {},
   "outputs": [],
   "source": [
    "time_u = np.array(accuracy_matrix_user['Running Time'])\n",
    "mae_u = np.array(accuracy_matrix_user['MAE'])\n",
    "rmse_u = np.array(accuracy_matrix_user['RMSE'])\n",
    "coverage_u = np.array(accuracy_matrix_user['Coverage'])"
   ]
  },
  {
   "cell_type": "markdown",
   "metadata": {},
   "source": [
    "### Subset method 2 - Subset data from less popular items to popular items"
   ]
  },
  {
   "cell_type": "code",
   "execution_count": 25,
   "metadata": {
    "collapsed": true
   },
   "outputs": [
    {
     "name": "stdout",
     "output_type": "stream",
     "text": [
      "---Running iteration 1 ---\n",
      "---Subsetting Original Data---\n",
      "---Spliting Test and Train Data---\n",
      "---Encoding Data---\n",
      "---Factorization Machine---\n",
      "---Running iteration 2 ---\n",
      "---Subsetting Original Data---\n",
      "---Spliting Test and Train Data---\n",
      "---Encoding Data---\n",
      "---Factorization Machine---\n",
      "---Running iteration 3 ---\n",
      "---Subsetting Original Data---\n",
      "---Spliting Test and Train Data---\n",
      "---Encoding Data---\n",
      "---Factorization Machine---\n",
      "---Running iteration 4 ---\n",
      "---Subsetting Original Data---\n",
      "---Spliting Test and Train Data---\n",
      "---Encoding Data---\n",
      "---Factorization Machine---\n",
      "---Running iteration 5 ---\n",
      "---Subsetting Original Data---\n",
      "---Spliting Test and Train Data---\n",
      "---Encoding Data---\n",
      "---Factorization Machine---\n",
      "---Running iteration 6 ---\n",
      "---Subsetting Original Data---\n",
      "---Spliting Test and Train Data---\n",
      "---Encoding Data---\n",
      "---Factorization Machine---\n",
      "---Running iteration 7 ---\n",
      "---Subsetting Original Data---\n",
      "---Spliting Test and Train Data---\n",
      "---Encoding Data---\n",
      "---Factorization Machine---\n",
      "---Running iteration 8 ---\n",
      "---Subsetting Original Data---\n",
      "---Spliting Test and Train Data---\n",
      "---Encoding Data---\n",
      "---Factorization Machine---\n",
      "---Running iteration 9 ---\n",
      "---Subsetting Original Data---\n",
      "---Spliting Test and Train Data---\n",
      "---Encoding Data---\n",
      "---Factorization Machine---\n"
     ]
    }
   ],
   "source": [
    "accuracy_matrix_movie = FieldFactorizationMachine(ratings, \"movie\", quantile_list, 25, 2)"
   ]
  },
  {
   "cell_type": "code",
   "execution_count": 26,
   "metadata": {},
   "outputs": [
    {
     "data": {
      "text/html": [
       "<div>\n",
       "<style scoped>\n",
       "    .dataframe tbody tr th:only-of-type {\n",
       "        vertical-align: middle;\n",
       "    }\n",
       "\n",
       "    .dataframe tbody tr th {\n",
       "        vertical-align: top;\n",
       "    }\n",
       "\n",
       "    .dataframe thead th {\n",
       "        text-align: right;\n",
       "    }\n",
       "</style>\n",
       "<table border=\"1\" class=\"dataframe\">\n",
       "  <thead>\n",
       "    <tr style=\"text-align: right;\">\n",
       "      <th></th>\n",
       "      <th>Quantile</th>\n",
       "      <th>Threshold</th>\n",
       "      <th>Size</th>\n",
       "      <th>Num_Users</th>\n",
       "      <th>Num_Movies</th>\n",
       "      <th>Sparsity</th>\n",
       "      <th>OP_Iter</th>\n",
       "      <th>OP_Rank</th>\n",
       "      <th>Running Time</th>\n",
       "      <th>MAE</th>\n",
       "      <th>RMSE</th>\n",
       "      <th>Coverage</th>\n",
       "    </tr>\n",
       "  </thead>\n",
       "  <tbody>\n",
       "    <tr>\n",
       "      <th>0</th>\n",
       "      <td>0.1</td>\n",
       "      <td>7.0</td>\n",
       "      <td>5995524</td>\n",
       "      <td>6040</td>\n",
       "      <td>3350</td>\n",
       "      <td>0.05</td>\n",
       "      <td>25</td>\n",
       "      <td>2</td>\n",
       "      <td>12.236929</td>\n",
       "      <td>0.689428</td>\n",
       "      <td>0.879453</td>\n",
       "      <td>0.76</td>\n",
       "    </tr>\n",
       "    <tr>\n",
       "      <th>1</th>\n",
       "      <td>0.2</td>\n",
       "      <td>23.0</td>\n",
       "      <td>5964618</td>\n",
       "      <td>6040</td>\n",
       "      <td>2976</td>\n",
       "      <td>0.06</td>\n",
       "      <td>25</td>\n",
       "      <td>2</td>\n",
       "      <td>12.064855</td>\n",
       "      <td>0.687384</td>\n",
       "      <td>0.875639</td>\n",
       "      <td>0.81</td>\n",
       "    </tr>\n",
       "    <tr>\n",
       "      <th>2</th>\n",
       "      <td>0.3</td>\n",
       "      <td>44.0</td>\n",
       "      <td>5890818</td>\n",
       "      <td>6040</td>\n",
       "      <td>2599</td>\n",
       "      <td>0.06</td>\n",
       "      <td>25</td>\n",
       "      <td>2</td>\n",
       "      <td>11.978348</td>\n",
       "      <td>0.682721</td>\n",
       "      <td>0.869367</td>\n",
       "      <td>0.86</td>\n",
       "    </tr>\n",
       "    <tr>\n",
       "      <th>3</th>\n",
       "      <td>0.4</td>\n",
       "      <td>74.0</td>\n",
       "      <td>5764962</td>\n",
       "      <td>6040</td>\n",
       "      <td>2234</td>\n",
       "      <td>0.07</td>\n",
       "      <td>25</td>\n",
       "      <td>2</td>\n",
       "      <td>11.581689</td>\n",
       "      <td>0.688576</td>\n",
       "      <td>0.877720</td>\n",
       "      <td>0.91</td>\n",
       "    </tr>\n",
       "    <tr>\n",
       "      <th>4</th>\n",
       "      <td>0.5</td>\n",
       "      <td>123.5</td>\n",
       "      <td>5543334</td>\n",
       "      <td>6040</td>\n",
       "      <td>1853</td>\n",
       "      <td>0.08</td>\n",
       "      <td>25</td>\n",
       "      <td>2</td>\n",
       "      <td>10.961639</td>\n",
       "      <td>0.680661</td>\n",
       "      <td>0.867589</td>\n",
       "      <td>0.95</td>\n",
       "    </tr>\n",
       "    <tr>\n",
       "      <th>5</th>\n",
       "      <td>0.6</td>\n",
       "      <td>188.0</td>\n",
       "      <td>5202954</td>\n",
       "      <td>6040</td>\n",
       "      <td>1485</td>\n",
       "      <td>0.10</td>\n",
       "      <td>25</td>\n",
       "      <td>2</td>\n",
       "      <td>10.100358</td>\n",
       "      <td>0.680511</td>\n",
       "      <td>0.867270</td>\n",
       "      <td>0.98</td>\n",
       "    </tr>\n",
       "    <tr>\n",
       "      <th>6</th>\n",
       "      <td>0.7</td>\n",
       "      <td>280.0</td>\n",
       "      <td>4689642</td>\n",
       "      <td>6040</td>\n",
       "      <td>1113</td>\n",
       "      <td>0.12</td>\n",
       "      <td>25</td>\n",
       "      <td>2</td>\n",
       "      <td>8.670737</td>\n",
       "      <td>0.678078</td>\n",
       "      <td>0.864230</td>\n",
       "      <td>0.99</td>\n",
       "    </tr>\n",
       "    <tr>\n",
       "      <th>7</th>\n",
       "      <td>0.8</td>\n",
       "      <td>429.0</td>\n",
       "      <td>3915810</td>\n",
       "      <td>6040</td>\n",
       "      <td>743</td>\n",
       "      <td>0.15</td>\n",
       "      <td>25</td>\n",
       "      <td>2</td>\n",
       "      <td>6.848009</td>\n",
       "      <td>0.675242</td>\n",
       "      <td>0.862520</td>\n",
       "      <td>1.00</td>\n",
       "    </tr>\n",
       "    <tr>\n",
       "      <th>8</th>\n",
       "      <td>0.9</td>\n",
       "      <td>729.5</td>\n",
       "      <td>2667804</td>\n",
       "      <td>6039</td>\n",
       "      <td>371</td>\n",
       "      <td>0.20</td>\n",
       "      <td>25</td>\n",
       "      <td>2</td>\n",
       "      <td>4.067644</td>\n",
       "      <td>0.671836</td>\n",
       "      <td>0.864080</td>\n",
       "      <td>1.00</td>\n",
       "    </tr>\n",
       "  </tbody>\n",
       "</table>\n",
       "</div>"
      ],
      "text/plain": [
       "   Quantile  Threshold     Size  Num_Users  Num_Movies  Sparsity  OP_Iter  \\\n",
       "0       0.1        7.0  5995524       6040        3350      0.05       25   \n",
       "1       0.2       23.0  5964618       6040        2976      0.06       25   \n",
       "2       0.3       44.0  5890818       6040        2599      0.06       25   \n",
       "3       0.4       74.0  5764962       6040        2234      0.07       25   \n",
       "4       0.5      123.5  5543334       6040        1853      0.08       25   \n",
       "5       0.6      188.0  5202954       6040        1485      0.10       25   \n",
       "6       0.7      280.0  4689642       6040        1113      0.12       25   \n",
       "7       0.8      429.0  3915810       6040         743      0.15       25   \n",
       "8       0.9      729.5  2667804       6039         371      0.20       25   \n",
       "\n",
       "   OP_Rank  Running Time       MAE      RMSE  Coverage  \n",
       "0        2     12.236929  0.689428  0.879453      0.76  \n",
       "1        2     12.064855  0.687384  0.875639      0.81  \n",
       "2        2     11.978348  0.682721  0.869367      0.86  \n",
       "3        2     11.581689  0.688576  0.877720      0.91  \n",
       "4        2     10.961639  0.680661  0.867589      0.95  \n",
       "5        2     10.100358  0.680511  0.867270      0.98  \n",
       "6        2      8.670737  0.678078  0.864230      0.99  \n",
       "7        2      6.848009  0.675242  0.862520      1.00  \n",
       "8        2      4.067644  0.671836  0.864080      1.00  "
      ]
     },
     "execution_count": 26,
     "metadata": {},
     "output_type": "execute_result"
    }
   ],
   "source": [
    "accuracy_matrix_movie"
   ]
  },
  {
   "cell_type": "code",
   "execution_count": 27,
   "metadata": {},
   "outputs": [],
   "source": [
    "#size_norm_m = normalize(accuracy_matrix_movie['Size'][:,np.newaxis], axis=0).ravel()\n",
    "size_norm_m = 1-np.array(accuracy_matrix_movie['Quantile'])"
   ]
  },
  {
   "cell_type": "code",
   "execution_count": 28,
   "metadata": {},
   "outputs": [],
   "source": [
    "time_m = np.array(accuracy_matrix_movie['Running Time'])\n",
    "mae_m = np.array(accuracy_matrix_movie['MAE'])\n",
    "rmse_m = np.array(accuracy_matrix_movie['RMSE'])\n",
    "coverage_m = np.array(accuracy_matrix_movie['Coverage'])"
   ]
  },
  {
   "cell_type": "markdown",
   "metadata": {},
   "source": [
    "### Subset method 3 - Subset data in both user and item directions"
   ]
  },
  {
   "cell_type": "code",
   "execution_count": 29,
   "metadata": {
    "collapsed": true
   },
   "outputs": [
    {
     "name": "stdout",
     "output_type": "stream",
     "text": [
      "---Running iteration 1 ---\n",
      "---Subsetting Original Data---\n",
      "---Spliting Test and Train Data---\n",
      "---Encoding Data---\n",
      "---Factorization Machine---\n",
      "---Running iteration 2 ---\n",
      "---Subsetting Original Data---\n",
      "---Spliting Test and Train Data---\n",
      "---Encoding Data---\n",
      "---Factorization Machine---\n",
      "---Running iteration 3 ---\n",
      "---Subsetting Original Data---\n",
      "---Spliting Test and Train Data---\n",
      "---Encoding Data---\n",
      "---Factorization Machine---\n",
      "---Running iteration 4 ---\n",
      "---Subsetting Original Data---\n",
      "---Spliting Test and Train Data---\n",
      "---Encoding Data---\n",
      "---Factorization Machine---\n",
      "---Running iteration 5 ---\n",
      "---Subsetting Original Data---\n",
      "---Spliting Test and Train Data---\n",
      "---Encoding Data---\n",
      "---Factorization Machine---\n",
      "---Running iteration 6 ---\n",
      "---Subsetting Original Data---\n",
      "---Spliting Test and Train Data---\n",
      "---Encoding Data---\n",
      "---Factorization Machine---\n",
      "---Running iteration 7 ---\n",
      "---Subsetting Original Data---\n",
      "---Spliting Test and Train Data---\n",
      "---Encoding Data---\n",
      "---Factorization Machine---\n",
      "---Running iteration 8 ---\n",
      "---Subsetting Original Data---\n",
      "---Spliting Test and Train Data---\n",
      "---Encoding Data---\n",
      "---Factorization Machine---\n",
      "---Running iteration 9 ---\n",
      "---Subsetting Original Data---\n",
      "---Spliting Test and Train Data---\n",
      "---Encoding Data---\n",
      "---Factorization Machine---\n"
     ]
    }
   ],
   "source": [
    "accuracy_matrix_both = FieldFactorizationMachine(ratings, \"both\", quantile_list, 25, 2)"
   ]
  },
  {
   "cell_type": "code",
   "execution_count": 30,
   "metadata": {},
   "outputs": [
    {
     "data": {
      "text/html": [
       "<div>\n",
       "<style scoped>\n",
       "    .dataframe tbody tr th:only-of-type {\n",
       "        vertical-align: middle;\n",
       "    }\n",
       "\n",
       "    .dataframe tbody tr th {\n",
       "        vertical-align: top;\n",
       "    }\n",
       "\n",
       "    .dataframe thead th {\n",
       "        text-align: right;\n",
       "    }\n",
       "</style>\n",
       "<table border=\"1\" class=\"dataframe\">\n",
       "  <thead>\n",
       "    <tr style=\"text-align: right;\">\n",
       "      <th></th>\n",
       "      <th>Quantile</th>\n",
       "      <th>Threshold</th>\n",
       "      <th>Size</th>\n",
       "      <th>Num_Users</th>\n",
       "      <th>Num_Movies</th>\n",
       "      <th>Sparsity</th>\n",
       "      <th>OP_Iter</th>\n",
       "      <th>OP_Rank</th>\n",
       "      <th>Running Time</th>\n",
       "      <th>MAE</th>\n",
       "      <th>RMSE</th>\n",
       "      <th>Coverage</th>\n",
       "    </tr>\n",
       "  </thead>\n",
       "  <tbody>\n",
       "    <tr>\n",
       "      <th>0</th>\n",
       "      <td>0.1</td>\n",
       "      <td>(27.0,7.0)</td>\n",
       "      <td>5919882</td>\n",
       "      <td>5487</td>\n",
       "      <td>3348</td>\n",
       "      <td>0.05</td>\n",
       "      <td>25</td>\n",
       "      <td>2</td>\n",
       "      <td>12.085570</td>\n",
       "      <td>0.686526</td>\n",
       "      <td>0.875199</td>\n",
       "      <td>0.74</td>\n",
       "    </tr>\n",
       "    <tr>\n",
       "      <th>1</th>\n",
       "      <td>0.2</td>\n",
       "      <td>(38.0,23.0)</td>\n",
       "      <td>5763630</td>\n",
       "      <td>4835</td>\n",
       "      <td>2963</td>\n",
       "      <td>0.07</td>\n",
       "      <td>25</td>\n",
       "      <td>2</td>\n",
       "      <td>11.629324</td>\n",
       "      <td>0.685757</td>\n",
       "      <td>0.874986</td>\n",
       "      <td>0.76</td>\n",
       "    </tr>\n",
       "    <tr>\n",
       "      <th>2</th>\n",
       "      <td>0.3</td>\n",
       "      <td>(51.0,43.0)</td>\n",
       "      <td>5537280</td>\n",
       "      <td>4247</td>\n",
       "      <td>2585</td>\n",
       "      <td>0.08</td>\n",
       "      <td>25</td>\n",
       "      <td>2</td>\n",
       "      <td>11.345448</td>\n",
       "      <td>0.681329</td>\n",
       "      <td>0.867298</td>\n",
       "      <td>0.74</td>\n",
       "    </tr>\n",
       "    <tr>\n",
       "      <th>3</th>\n",
       "      <td>0.4</td>\n",
       "      <td>(70.0,72.0)</td>\n",
       "      <td>5197986</td>\n",
       "      <td>3631</td>\n",
       "      <td>2212</td>\n",
       "      <td>0.11</td>\n",
       "      <td>25</td>\n",
       "      <td>2</td>\n",
       "      <td>10.200026</td>\n",
       "      <td>0.677989</td>\n",
       "      <td>0.863064</td>\n",
       "      <td>0.72</td>\n",
       "    </tr>\n",
       "    <tr>\n",
       "      <th>4</th>\n",
       "      <td>0.5</td>\n",
       "      <td>(96.0,113.0)</td>\n",
       "      <td>4708920</td>\n",
       "      <td>3021</td>\n",
       "      <td>1840</td>\n",
       "      <td>0.14</td>\n",
       "      <td>25</td>\n",
       "      <td>2</td>\n",
       "      <td>8.790803</td>\n",
       "      <td>0.675202</td>\n",
       "      <td>0.858805</td>\n",
       "      <td>0.70</td>\n",
       "    </tr>\n",
       "    <tr>\n",
       "      <th>5</th>\n",
       "      <td>0.6</td>\n",
       "      <td>(126.0,162.0)</td>\n",
       "      <td>4047990</td>\n",
       "      <td>2429</td>\n",
       "      <td>1474</td>\n",
       "      <td>0.19</td>\n",
       "      <td>25</td>\n",
       "      <td>2</td>\n",
       "      <td>6.965707</td>\n",
       "      <td>0.671542</td>\n",
       "      <td>0.854479</td>\n",
       "      <td>0.69</td>\n",
       "    </tr>\n",
       "    <tr>\n",
       "      <th>6</th>\n",
       "      <td>0.7</td>\n",
       "      <td>(173.0,216.0)</td>\n",
       "      <td>3158772</td>\n",
       "      <td>1815</td>\n",
       "      <td>1100</td>\n",
       "      <td>0.26</td>\n",
       "      <td>25</td>\n",
       "      <td>2</td>\n",
       "      <td>5.232996</td>\n",
       "      <td>0.669198</td>\n",
       "      <td>0.852353</td>\n",
       "      <td>0.68</td>\n",
       "    </tr>\n",
       "    <tr>\n",
       "      <th>7</th>\n",
       "      <td>0.8</td>\n",
       "      <td>(253.0,269.0)</td>\n",
       "      <td>2065194</td>\n",
       "      <td>1215</td>\n",
       "      <td>735</td>\n",
       "      <td>0.39</td>\n",
       "      <td>25</td>\n",
       "      <td>2</td>\n",
       "      <td>2.718169</td>\n",
       "      <td>0.662767</td>\n",
       "      <td>0.845434</td>\n",
       "      <td>0.67</td>\n",
       "    </tr>\n",
       "    <tr>\n",
       "      <th>8</th>\n",
       "      <td>0.9</td>\n",
       "      <td>(400.0,277.7)</td>\n",
       "      <td>796908</td>\n",
       "      <td>605</td>\n",
       "      <td>363</td>\n",
       "      <td>0.60</td>\n",
       "      <td>25</td>\n",
       "      <td>2</td>\n",
       "      <td>0.705772</td>\n",
       "      <td>0.669238</td>\n",
       "      <td>0.854438</td>\n",
       "      <td>0.74</td>\n",
       "    </tr>\n",
       "  </tbody>\n",
       "</table>\n",
       "</div>"
      ],
      "text/plain": [
       "   Quantile      Threshold     Size  Num_Users  Num_Movies  Sparsity  OP_Iter  \\\n",
       "0       0.1     (27.0,7.0)  5919882       5487        3348      0.05       25   \n",
       "1       0.2    (38.0,23.0)  5763630       4835        2963      0.07       25   \n",
       "2       0.3    (51.0,43.0)  5537280       4247        2585      0.08       25   \n",
       "3       0.4    (70.0,72.0)  5197986       3631        2212      0.11       25   \n",
       "4       0.5   (96.0,113.0)  4708920       3021        1840      0.14       25   \n",
       "5       0.6  (126.0,162.0)  4047990       2429        1474      0.19       25   \n",
       "6       0.7  (173.0,216.0)  3158772       1815        1100      0.26       25   \n",
       "7       0.8  (253.0,269.0)  2065194       1215         735      0.39       25   \n",
       "8       0.9  (400.0,277.7)   796908        605         363      0.60       25   \n",
       "\n",
       "   OP_Rank  Running Time       MAE      RMSE  Coverage  \n",
       "0        2     12.085570  0.686526  0.875199      0.74  \n",
       "1        2     11.629324  0.685757  0.874986      0.76  \n",
       "2        2     11.345448  0.681329  0.867298      0.74  \n",
       "3        2     10.200026  0.677989  0.863064      0.72  \n",
       "4        2      8.790803  0.675202  0.858805      0.70  \n",
       "5        2      6.965707  0.671542  0.854479      0.69  \n",
       "6        2      5.232996  0.669198  0.852353      0.68  \n",
       "7        2      2.718169  0.662767  0.845434      0.67  \n",
       "8        2      0.705772  0.669238  0.854438      0.74  "
      ]
     },
     "execution_count": 30,
     "metadata": {},
     "output_type": "execute_result"
    }
   ],
   "source": [
    "accuracy_matrix_both"
   ]
  },
  {
   "cell_type": "code",
   "execution_count": 31,
   "metadata": {},
   "outputs": [],
   "source": [
    "#size_norm_b = normalize(accuracy_matrix_both['Size'][:,np.newaxis], axis=0).ravel()\n",
    "size_norm_b = 1-np.array(accuracy_matrix_both['Quantile'])"
   ]
  },
  {
   "cell_type": "code",
   "execution_count": 32,
   "metadata": {},
   "outputs": [],
   "source": [
    "time_b = np.array(accuracy_matrix_both['Running Time'])\n",
    "mae_b = np.array(accuracy_matrix_both['MAE'])\n",
    "rmse_b = np.array(accuracy_matrix_both['RMSE'])\n",
    "coverage_b = np.array(accuracy_matrix_both['Coverage'])"
   ]
  },
  {
   "cell_type": "markdown",
   "metadata": {},
   "source": [
    "### Benchmark model - Collaborative Filtering Using k-Nearest Neighbors (kNN)"
   ]
  },
  {
   "cell_type": "code",
   "execution_count": 33,
   "metadata": {},
   "outputs": [],
   "source": [
    "KNNdata = Dataset.load_builtin('ml-1m')"
   ]
  },
  {
   "cell_type": "code",
   "execution_count": 34,
   "metadata": {},
   "outputs": [],
   "source": [
    "algo = KNNBasic()"
   ]
  },
  {
   "cell_type": "code",
   "execution_count": 35,
   "metadata": {},
   "outputs": [
    {
     "name": "stdout",
     "output_type": "stream",
     "text": [
      "Computing the msd similarity matrix...\n",
      "Done computing similarity matrix.\n",
      "Computing the msd similarity matrix...\n",
      "Done computing similarity matrix.\n",
      "Computing the msd similarity matrix...\n",
      "Done computing similarity matrix.\n",
      "Evaluating MAE, RMSE of algorithm KNNBasic on 3 split(s).\n",
      "\n",
      "                  Fold 1  Fold 2  Fold 3  Mean    Std     \n",
      "MAE (testset)     0.7346  0.7345  0.7350  0.7347  0.0002  \n",
      "RMSE (testset)    0.9308  0.9305  0.9316  0.9310  0.0005  \n",
      "Fit time          20.23   20.40   20.40   20.34   0.08    \n",
      "Test time         174.60  174.35  175.87  174.94  0.67    \n"
     ]
    },
    {
     "data": {
      "text/plain": [
       "{u'fit_time': (20.229088068008423, 20.403265953063965, 20.395066022872925),\n",
       " u'test_mae': array([0.73456873, 0.73451269, 0.73497883]),\n",
       " u'test_rmse': array([0.93081227, 0.93049399, 0.93158856]),\n",
       " u'test_time': (174.5968120098114, 174.34506511688232, 175.87204694747925)}"
      ]
     },
     "execution_count": 35,
     "metadata": {},
     "output_type": "execute_result"
    }
   ],
   "source": [
    "cross_validate(algo, KNNdata, measures = ['MAE','RMSE'], cv = 3, verbose = True)"
   ]
  },
  {
   "cell_type": "markdown",
   "metadata": {},
   "source": [
    "### Evaluation"
   ]
  },
  {
   "cell_type": "code",
   "execution_count": 36,
   "metadata": {},
   "outputs": [
    {
     "data": {
      "image/png": "[encoded data removed]",
      "text/plain": [
       "<Figure size 432x288 with 1 Axes>"
      ]
     },
     "metadata": {
      "needs_background": "light"
     },
     "output_type": "display_data"
    }
   ],
   "source": [
    "create_plot(size_norm_u, size_norm_m, size_norm_b, time_u, time_m, time_b, \"Running Time\")"
   ]
  },
  {
   "cell_type": "code",
   "execution_count": 37,
   "metadata": {},
   "outputs": [
    {
     "data": {
      "image/png": "[encoded data removed]",
      "text/plain": [
       "<Figure size 432x288 with 1 Axes>"
      ]
     },
     "metadata": {
      "needs_background": "light"
     },
     "output_type": "display_data"
    }
   ],
   "source": [
    "create_plot(size_norm_u, size_norm_m, size_norm_b, mae_u, mae_m, mae_b, \"Mean Average Error\")"
   ]
  },
  {
   "cell_type": "code",
   "execution_count": 38,
   "metadata": {},
   "outputs": [
    {
     "data": {
      "image/png": "[encoded data removed]",
      "text/plain": [
       "<Figure size 432x288 with 1 Axes>"
      ]
     },
     "metadata": {
      "needs_background": "light"
     },
     "output_type": "display_data"
    }
   ],
   "source": [
    "create_plot(size_norm_u, size_norm_m, size_norm_b, rmse_u, rmse_m, rmse_b, \"Root Mean Square Error\")"
   ]
  },
  {
   "cell_type": "code",
   "execution_count": 39,
   "metadata": {},
   "outputs": [
    {
     "data": {
      "image/png": "[encoded data removed]",
      "text/plain": [
       "<Figure size 432x288 with 1 Axes>"
      ]
     },
     "metadata": {
      "needs_background": "light"
     },
     "output_type": "display_data"
    }
   ],
   "source": [
    "create_plot(size_norm_u, size_norm_m, size_norm_b, coverage_u, coverage_m, coverage_b, \"Coverage\")"
   ]
  }
 ],
 "metadata": {
  "kernelspec": {
   "display_name": "Python 2",
   "language": "python",
   "name": "python2"
  },
  "language_info": {
   "codemirror_mode": {
    "name": "ipython",
    "version": 2
   },
   "file_extension": ".py",
   "mimetype": "text/x-python",
   "name": "python",
   "nbconvert_exporter": "python",
   "pygments_lexer": "ipython2",
   "version": "2.7.15"
  }
 },
 "nbformat": 4,
 "nbformat_minor": 2
}
