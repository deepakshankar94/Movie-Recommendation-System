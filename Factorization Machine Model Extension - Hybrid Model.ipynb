{
 "cells": [
  {
   "cell_type": "code",
   "execution_count": 42,
   "metadata": {},
   "outputs": [],
   "source": [
    "import pandas as pd\n",
    "import numpy as np\n",
    "from math import sqrt\n",
    "from sklearn.metrics import mean_squared_error"
   ]
  },
  {
   "cell_type": "code",
   "execution_count": 5,
   "metadata": {},
   "outputs": [],
   "source": [
    "#Factorization Machine\n",
    "#Load data\n",
    "path = \"/Users/yh3093/Desktop/Personalization/Final Project/Output/\"\n",
    "\n",
    "fm_user = pd.read_csv(path+'FM_Output_user_253.0.csv')\n",
    "fm_movie = pd.read_csv(path+'FM_Output_movie_429.0.csv')\n",
    "fm_both = pd.read_csv(path+'FM_Output_both_(253.0,269.0).csv')"
   ]
  },
  {
   "cell_type": "code",
   "execution_count": 9,
   "metadata": {},
   "outputs": [],
   "source": [
    "#Field-Aware Factorization Machine\n",
    "#Load data\n",
    "ffm_user = pd.read_csv(path+'FFM_Output_user_253.0.csv')\n",
    "ffm_movie = pd.read_csv(path+'FFM_Output_movie_429.0.csv')\n",
    "ffm_both = pd.read_csv(path+'FFM_Output_both_(253.0,269.0).csv')"
   ]
  },
  {
   "cell_type": "code",
   "execution_count": 38,
   "metadata": {},
   "outputs": [],
   "source": [
    "#prediction from each model\n",
    "fm_user_pred = fm_user['prediction'].tolist()\n",
    "fm_movie_pred = fm_movie['prediction'].tolist()\n",
    "fm_both_pred = fm_both['prediction'].tolist()\n",
    "\n",
    "ffm_user_pred = ffm_user['prediction'].tolist()\n",
    "ffm_movie_pred = ffm_movie['prediction'].tolist()\n",
    "ffm_both_pred = ffm_both['prediction'].tolist()"
   ]
  },
  {
   "cell_type": "code",
   "execution_count": 47,
   "metadata": {},
   "outputs": [
    {
     "data": {
      "text/plain": [
       "[0.865, 0.864, 0.832]"
      ]
     },
     "execution_count": 47,
     "metadata": {},
     "output_type": "execute_result"
    }
   ],
   "source": [
    "fm_RMSE = [round(sqrt(mean_squared_error(fm_user['rating'] , fm_user['prediction'])),3) , round(sqrt(mean_squared_error(fm_movie['rating'], fm_movie['prediction'])),3) , round(sqrt(mean_squared_error(fm_both['rating'], fm_both['prediction'])),3)]\n",
    "fm_RMSE"
   ]
  },
  {
   "cell_type": "code",
   "execution_count": 48,
   "metadata": {},
   "outputs": [
    {
     "data": {
      "text/plain": [
       "[0.863, 0.863, 0.845]"
      ]
     },
     "execution_count": 48,
     "metadata": {},
     "output_type": "execute_result"
    }
   ],
   "source": [
    "ffm_RMSE = [round(sqrt(mean_squared_error(ffm_user['rating'] , ffm_user['prediction'])),3) , round(sqrt(mean_squared_error(ffm_movie['rating'], ffm_movie['prediction'])),3) , round(sqrt(mean_squared_error(ffm_both['rating'], ffm_both['prediction'])),3)]\n",
    "ffm_RMSE"
   ]
  },
  {
   "cell_type": "code",
   "execution_count": 49,
   "metadata": {},
   "outputs": [],
   "source": [
    "def compute_weight(fm_rmse, ffm_rmse):\n",
    "    fm_weight = (1/fm_rmse)/(1/fm_rmse + 1/ffm_rmse)\n",
    "    ffm_weight = (1/ffm_rmse)/(1/fm_rmse + 1/ffm_rmse)\n",
    "    return fm_weight, ffm_weight"
   ]
  },
  {
   "cell_type": "code",
   "execution_count": 50,
   "metadata": {},
   "outputs": [],
   "source": [
    "fm_user_weight , ffm_user_weight = compute_weight(fm_RMSE[0], ffm_RMSE[0])"
   ]
  },
  {
   "cell_type": "code",
   "execution_count": 53,
   "metadata": {},
   "outputs": [],
   "source": [
    "fm_movie_weight , ffm_movie_weight = compute_weight(fm_RMSE[1], ffm_RMSE[1])"
   ]
  },
  {
   "cell_type": "code",
   "execution_count": 54,
   "metadata": {},
   "outputs": [],
   "source": [
    "fm_both_weight , ffm_both_weight = compute_weight(fm_RMSE[2], ffm_RMSE[2])"
   ]
  },
  {
   "cell_type": "code",
   "execution_count": 69,
   "metadata": {},
   "outputs": [],
   "source": [
    "weighted_fm_user = map(lambda x: x * fm_user_weight, fm_user_pred)\n",
    "weighted_fm_movie = map(lambda x: x * fm_movie_weight, fm_movie_pred)\n",
    "weighted_fm_both  = map(lambda x: x * fm_both_weight, fm_both_pred)"
   ]
  },
  {
   "cell_type": "code",
   "execution_count": 70,
   "metadata": {},
   "outputs": [],
   "source": [
    "weighted_ffm_user = map(lambda x: x * ffm_user_weight, ffm_user_pred)\n",
    "weighted_ffm_movie = map(lambda x: x * ffm_movie_weight, ffm_movie_pred)\n",
    "weighted_ffm_both  = map(lambda x: x * ffm_both_weight, ffm_both_pred)"
   ]
  },
  {
   "cell_type": "code",
   "execution_count": 74,
   "metadata": {},
   "outputs": [],
   "source": [
    "user_pred = [weighted_fm_user, weighted_ffm_user]\n",
    "user_pred_weightedavg = [(x+y) for x,y in zip(*user_pred)]"
   ]
  },
  {
   "cell_type": "code",
   "execution_count": 75,
   "metadata": {},
   "outputs": [],
   "source": [
    "movie_pred = [weighted_fm_movie, weighted_ffm_movie]\n",
    "movie_pred_weightedavg = [(x+y) for x,y in zip(*movie_pred)]"
   ]
  },
  {
   "cell_type": "code",
   "execution_count": 76,
   "metadata": {},
   "outputs": [],
   "source": [
    "both_pred = [weighted_fm_both, weighted_ffm_both]\n",
    "both_pred_weightedavg = [(x+y) for x,y in zip(*both_pred)]"
   ]
  },
  {
   "cell_type": "code",
   "execution_count": 77,
   "metadata": {},
   "outputs": [
    {
     "data": {
      "text/plain": [
       "[1.001, 0.962, 0.94]"
      ]
     },
     "execution_count": 77,
     "metadata": {},
     "output_type": "execute_result"
    }
   ],
   "source": [
    "fm_RMSE_hyper = [round(sqrt(mean_squared_error(fm_user['rating'] , user_pred_weightedavg)),3) , round(sqrt(mean_squared_error(fm_movie['rating'], movie_pred_weightedavg)),3) , round(sqrt(mean_squared_error(fm_both['rating'], both_pred_weightedavg)),3)]\n",
    "fm_RMSE_hyper"
   ]
  },
  {
   "cell_type": "code",
   "execution_count": null,
   "metadata": {},
   "outputs": [],
   "source": []
  }
 ],
 "metadata": {
  "kernelspec": {
   "display_name": "Python 2",
   "language": "python",
   "name": "python2"
  },
  "language_info": {
   "codemirror_mode": {
    "name": "ipython",
    "version": 2
   },
   "file_extension": ".py",
   "mimetype": "text/x-python",
   "name": "python",
   "nbconvert_exporter": "python",
   "pygments_lexer": "ipython2",
   "version": "2.7.15"
  }
 },
 "nbformat": 4,
 "nbformat_minor": 2
}
